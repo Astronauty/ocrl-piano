{
 "cells": [
  {
   "cell_type": "code",
   "execution_count": 1,
   "metadata": {},
   "outputs": [
    {
     "name": "stderr",
     "output_type": "stream",
     "text": [
      "\u001b[32m\u001b[1m  Activating\u001b[22m\u001b[39m project at `~/Conan/piano project/ocrl-piano/Julia_fmincon_tests`\n",
      "\u001b[32m\u001b[1m  No Changes\u001b[22m\u001b[39m to `~/Conan/piano project/ocrl-piano/Julia_fmincon_tests/Project.toml`\n",
      "\u001b[32m\u001b[1m  No Changes\u001b[22m\u001b[39m to `~/Conan/piano project/ocrl-piano/Julia_fmincon_tests/Manifest.toml`\n"
     ]
    }
   ],
   "source": [
    "import Pkg\n",
    "Pkg.activate(@__DIR__)\n",
    "Pkg.resolve()\n",
    "Pkg.instantiate()\n",
    "import FiniteDiff\n",
    "import ForwardDiff as FD\n",
    "import Convex as cvx \n",
    "import ECOS\n",
    "import MuJoCo\n",
    "using LinearAlgebra\n",
    "# using Plots\n",
    "using Random\n",
    "using JLD2\n",
    "using Test\n",
    "using StaticArrays\n",
    "using Printf\n",
    "using MuJoCo\n",
    "using Distributions"
   ]
  },
  {
   "cell_type": "code",
   "execution_count": 2,
   "metadata": {},
   "outputs": [
    {
     "data": {
      "text/plain": [
       "fmincon (generic function with 1 method)"
      ]
     },
     "metadata": {},
     "output_type": "display_data"
    }
   ],
   "source": [
    "# include fmincon for ipopt\n",
    "include(joinpath(@__DIR__, \"utils\",\"fmincon.jl\"))"
   ]
  },
  {
   "cell_type": "code",
   "execution_count": 24,
   "metadata": {},
   "outputs": [
    {
     "data": {
      "text/plain": [
       "MuJoCo Data object"
      ]
     },
     "metadata": {},
     "output_type": "display_data"
    }
   ],
   "source": [
    "# import piano model\n",
    "model = load_model(\"piano_with_one_shadow_hand_small/scene.xml\")\n",
    "# model = load_model(\"piano_with_one_shadow_hand_simplified/scene.xml\")\n",
    "data = init_data(model)"
   ]
  },
  {
   "cell_type": "markdown",
   "metadata": {},
   "source": [
    "Model info"
   ]
  },
  {
   "cell_type": "code",
   "execution_count": 25,
   "metadata": {},
   "outputs": [
    {
     "name": "stdout",
     "output_type": "stream",
     "text": [
      "number of geoms: 79\n",
      "number of controls: 7\n",
      "number of states: 46\n",
      "Simulation timestep: 0.01\n",
      "Positions of joints: [0.0; 0.0; 0.0; 0.0; 0.0; 0.0; 0.0; 0.0; 0.0; 0.0; 0.0; 0.0; 0.0; 0.0; 0.0; 0.0; 0.0; 0.0; 0.0; 0.0; 0.0; 0.0; 0.0;;]\n",
      "Cartesion position of joints: [0.0 0.0 0.0; -0.127 0.0 0.02; 0.0 -0.094 0.01125; -0.03 -0.08224999999999999 0.026000000000000002; 0.0 -0.07050000000000001 0.01125; 0.0 -0.047 0.01125; -0.03 -0.03474999999999999 0.026000000000000002; 0.0 -0.023499999999999993 0.01125; -0.03 -0.011249999999999996 0.026000000000000002; 0.0 0.0 0.01125; 0.0 0.023499999999999993 0.01125; -0.03 0.035750000000000004 0.026000000000000002; 0.0 0.047000000000000014 0.01125; -0.03 0.05925 0.026000000000000002; 0.0 0.07050000000000001 0.01125; -0.03 0.08275 0.026000000000000002; 0.0 0.094 0.01125; 0.3938251578954367 0.14997497683550026 0.13062742818321735; 0.29337550270087137 0.15000084946805123 0.12910710828129915; 0.3072543776776233 0.15000002300031276 0.1299999783510228; 0.21900000000000003 0.15 0.12000000000000001; 0.17092568615014175 0.14735063215565455 0.12002261927474529; 0.18699000000000002 0.15 0.12000000000000001; 0.15299000000000001 0.176 0.12000000000000001; 0.15299000000000001 0.119 0.12000000000000001; 0.17599 0.17099999999999999 0.12000000000000001; 0.17699 0.124 0.12000000000000001; 0.1209770568796659 0.14462555482952272 0.11775570934409173; 0.11499000000000001 0.13899999999999998 0.1285; 0.11499000000000001 0.152 0.1165; 0.07099000000000001 0.121 0.1165; 0.08299000000000001 0.1235 0.11900000000000001; 0.15199000000000001 0.1185 0.11150000000000002; 0.14899 0.13749999999999998 0.10500000000000001; 0.06399000000000002 0.13899999999999998 0.12000000000000001; 0.14399 0.18 0.12000000000000001; 0.05767588551297593 0.11700801594394228 0.12028383334511583; 0.057990000000000014 0.11699999999999999 0.12000000000000001; 0.03510934665656868 0.11699878953269993 0.12000976175282389; 0.03299000000000001 0.11699999999999999 0.12000000000000001; 0.001478590055129481 0.11700271974070468 0.11996780716716976; 0.0004900000000000147 0.11699999999999999 0.12000000000000001; -0.02965647531732039 0.11702398434946391 0.12042073257364415; -0.02965647531732039 0.11702398434946391 0.12042073257364415; 0.053675885512975925 0.13900801594394227 0.12028383334511583; 0.05399000000000001 0.13899999999999998 0.12000000000000001; 0.031109346656568677 0.13899878953269992 0.12000976175282389; 0.02899000000000001 0.13899999999999998 0.12000000000000001; -0.0025214099448705226 0.1390027197407047 0.11996780716716976; -0.003509999999999989 0.13899999999999998 0.12000000000000001; -0.0336564753173204 0.13902398434946392 0.12042073257364415; -0.0336564753173204 0.13902398434946392 0.12042073257364415; 0.05767588551297593 0.1610080159439423 0.12028383334511583; 0.057990000000000014 0.161 0.12000000000000001; 0.03510934665656868 0.16099878953269994 0.12000976175282389; 0.03299000000000001 0.161 0.12000000000000001; 0.001478590055129481 0.1610027197407047 0.11996780716716976; 0.0004900000000000147 0.161 0.12000000000000001; -0.02965647531732039 0.16102398434946394 0.12042073257364415; -0.02965647531732039 0.16102398434946394 0.12042073257364415; 0.09580022547522016 0.18052225157929006 0.12066233573254898; 0.09928000000000001 0.181 0.12000000000000001; 0.06617588551297592 0.18300801594394228 0.12028383334511583; 0.06649000000000001 0.183 0.12000000000000001; 0.043609346656568675 0.18299878953269993 0.12000976175282389; 0.041490000000000006 0.183 0.12000000000000001; 0.009978590055129475 0.1830027197407047 0.11996780716716976; 0.008990000000000008 0.183 0.12000000000000001; -0.021156475317320397 0.18302398434946393 0.12042073257364415; -0.021156475317320397 0.18302398434946393 0.12042073257364415; 0.12399000000000002 0.11599999999999999 0.11142; 0.11216597491798719 0.1041850233798636 0.11139396871537276; 0.10984784801797724 0.10185788073457978 0.11142; 0.09711991123415675 0.0891299733957016 0.11142; 0.0863198310645951 0.07822414039365372 0.11137493022147131; 0.08863462004494309 0.08064470183644948 0.11142; 0.0759066832611226 0.06791679449757129 0.11142; 0.061233595125650964 0.0521088087060526 0.11142082545097531; 0.061233595125650964 0.0521088087060526 0.11142082545097531]\n",
      "Size of Cartesion position of joints: (79, 3)\n",
      "model \n"
     ]
    }
   ],
   "source": [
    "println(\"number of geoms: \",model.ngeom)\n",
    "println(\"number of controls: \",model.nu)\n",
    "println(\"number of states: \",model.nv+model.nq)\n",
    "forward!(model, data)\n",
    "println(\"Simulation timestep: \", model.opt.timestep)\n",
    "println(\"Positions of joints: \", data.qpos)\n",
    "println(\"Cartesion position of joints: \", data.geom_xpos)\n",
    "println(\"Size of Cartesion position of joints: \", size(data.geom_xpos))\n",
    "println(\"model \")\n",
    "finger_geom_indices = [42,50,58,68,77]\n",
    "\"\"\"\n",
    "index finger:\n",
    "    name:\n",
    "        rh_shadow_hand//unnamed_geom_25\n",
    "        rh_shadow_hand//unnamed_geom_26\n",
    "    index:\n",
    "        42\n",
    "        43\n",
    "    range:\n",
    "        x:\n",
    "        y:-0.6-0.5\n",
    "        z:0-0.3\n",
    "\n",
    "middle finger:\n",
    "    name:\n",
    "        rh_shadow_hand//unnamed_geom_33\n",
    "        rh_shadow_hand//unnamed_geom_34\n",
    "    index:\n",
    "        50\n",
    "        51\n",
    "ring finger:\n",
    "    name:\n",
    "        rh_shadow_hand//unnamed_geom_41\n",
    "        rh_shadow_hand//unnamed_geom_42\n",
    "    index:\n",
    "        58\n",
    "        59\n",
    "pinky finger:\n",
    "    name:\n",
    "        rh_shadow_hand//unnamed_geom_51\n",
    "        rh_shadow_hand//unnamed_geom_52\n",
    "    index:\n",
    "        68\n",
    "        69\n",
    "thumb:\n",
    "    name:\n",
    "        rh_shadow_hand//unnamed_geom_60\n",
    "        rh_shadow_hand//unnamed_geom_61\n",
    "    index:\n",
    "        77\n",
    "        78\n",
    "\"\"\";"
   ]
  },
  {
   "cell_type": "markdown",
   "metadata": {},
   "source": [
    "Visualize target finger position"
   ]
  },
  {
   "cell_type": "code",
   "execution_count": 26,
   "metadata": {},
   "outputs": [],
   "source": [
    "# control indices:\n",
    "# 1: wrist left right\n",
    "# 2: wrist up down\n",
    "# 8, 9, 10: index finger joints\n",
    "# 21: whole hand left right \n",
    "# 22: whole hand front back"
   ]
  },
  {
   "cell_type": "code",
   "execution_count": 27,
   "metadata": {},
   "outputs": [
    {
     "name": "stdout",
     "output_type": "stream",
     "text": [
      "[-0.0003039697527948987, -0.0016775113564068205, -0.0003039697527948987, -0.0003039697527948987, -0.0016775113564068205, -0.0003039697527948987, -0.0016775113564068205, -0.0003039697527948987, -0.0003039697527948987, -0.0016775113564068205, -0.0003039697527948987, -0.0016775113564068205, -0.0003039697527948987, -0.0016775113564068205, -0.0003039697527948987, -0.008912216587082428, -4.2341315644610154e-5, -0.042233680988673, 0.004593844064341336, 0.0034952271077786437, 0.0017690537583294683, 0.00045559012633187955, 0.00010943869295629263, -0.03039697527948987, -0.16775113564068206, -0.03039697527948987, -0.03039697527948987, -0.16775113564068206, -0.03039697527948987, -0.16775113564068206, -0.03039697527948987, -0.03039697527948987, -0.16775113564068206, -0.03039697527948987, -0.16775113564068206, -0.03039697527948987, -0.16775113564068206, -0.03039697527948987, -0.8912216587082428, -0.004234131564461016, -4.2233680988673, 0.45938440643413353, 0.34952271077786434, 0.17690537583294683, 0.045559012633187956, 0.010943869295629263]\n",
      "[-0.0003039697527948987, -0.0016775113564068205, -0.0003039697527948987, -0.0003039697527948987, -0.0016775113564068205, -0.0003039697527948987, -0.0016775113564068205, -0.0003039697527948987, -0.0003039697527948987, -0.0016775113564068205, -0.0003039697527948987, -0.0016775113564068205, -0.0003039697527948987, -0.0016775113564068205, -0.0003039697527948987, -0.008912216587082428, -4.2341315644610154e-5, -0.042233680988673, 0.004593844064341336, 0.0034952271077786437, 0.0017690537583294683, 0.00045559012633187955, 0.00010943869295629263, -0.03039697527948987, -0.16775113564068206, -0.03039697527948987, -0.03039697527948987, -0.16775113564068206, -0.03039697527948987, -0.16775113564068206, -0.03039697527948987, -0.03039697527948987, -0.16775113564068206, -0.03039697527948987, -0.16775113564068206, -0.03039697527948987, -0.16775113564068206, -0.03039697527948987, -0.8912216587082428, -0.004234131564461016, -4.2233680988673, 0.45938440643413353, 0.34952271077786434, 0.17690537583294683, 0.045559012633187956, 0.010943869295629263]\n",
      "[-0.0003643259550005862, -0.0019786808738172885, -0.0003643259550005862, -0.0003643259550005862, -0.0019786808738172885, -0.0003643259550005862, -0.0019786808738172885, -0.0003643259550005862, -0.0003643259550005862, -0.0019786808738172885, -0.0003643259550005862, -0.0019786808738172885, -0.0003643259550005862, -0.0019786808738172885, -0.0003643259550005862, -0.017909626592815697, -4.108229025474759e-5, -0.06966340849108182, 0.011292435442439859, 0.012460547516176701, 0.0036336967070962527, 0.0009355041108723868, 0.0002203153036356457, -0.006035620220568749, -0.03011695174104681, -0.006035620220568749, -0.006035620220568749, -0.03011695174104681, -0.006035620220568749, -0.03011695174104681, -0.006035620220568749, -0.006035620220568749, -0.03011695174104681, -0.006035620220568749, -0.03011695174104681, -0.006035620220568749, -0.03011695174104681, -0.006035620220568749, -0.8997410005733271, 0.00012590253898625645, -2.742972750240882, 0.6698591378098523, 0.8965320408398058, 0.18646429487667845, 0.047991398454050725, 0.011087661067935305]\n",
      "hi[-0.0012466581411464117, 0.11286566424045526, 0.11805737869264848]\n",
      "1[-0.000683613825228746, 0.11619213768243708, 0.11919202905345551]\n",
      "2[-0.0012466581411464117, 0.11286566424045526, 0.11805737869264848]\n",
      "3[-0.0009361096391210921, 0.10733931608863695, 0.11056232330310412]\n",
      "4[0.0007654954736946076, 0.10033087521165429, 0.1003205554317549]\n",
      "5[0.003924675968185168, 0.09264139132049934, 0.08966018029532188]\n",
      "6[0.008114057451186126, 0.08496893574071968, 0.0799116181523558]\n",
      "7[0.012735561737940135, 0.0777845063340253, 0.07166184271638659]\n",
      "8[0.015521118288327883, 0.07379734595256814, 0.06732048017964869]\n",
      "9[0.018438187875704955, 0.06966825244264882, 0.0637614303978074]\n",
      "10[0.020387503436758176, 0.06792281371546852, 0.06188573037632842]\n",
      "11[0.021882661971661194, 0.06736877002709929, 0.06054691328362541]\n",
      "12[0.02302707158096999, 0.06744325986046945, 0.059472484945168]\n",
      "13[0.02479187437847743, 0.06729515607737666, 0.05771259044228784]\n",
      "14[0.025544341457594773, 0.06743838618269841, 0.05713709818059537]\n",
      "15[0.025787674847542623, 0.06770386222408578, 0.05716847837676127]\n",
      "16[0.02580791691501555, 0.06801722013432575, 0.057467561996434435]\n",
      "17[0.025753960064723913, 0.06832992756219188, 0.05784101362310661]\n",
      "18[0.025693883793721027, 0.06861498393881238, 0.05819025250444368]\n",
      "19[0.025651974607684803, 0.06886107659657639, 0.05847450248362232]\n",
      " __  __            _        _____       _ _ \n",
      "|  \\/  |          | |      / ____|     (_) |\n",
      "| \\  / |_   _     | | ___ | |     ___   _| |\n",
      "| |\\/| | | | |_   | |/ _ \\| |    / _ \\ | | |\n",
      "| |  | | |_| | |__| | (_) | |___| (_) || | |\n",
      "|_|  |_|\\__,_|\\____/ \\___/ \\_____\\___(_) |_|\n",
      "                                      _/ |  \n",
      "                                     |__/   \n",
      "\n",
      "Press \"F1\" to show the help message.\n"
     ]
    }
   ],
   "source": [
    "reset!(model, data)\n",
    "nx = model.nq + model.nv + model.na # State vector dimension\n",
    "\n",
    "states = zeros(nx, 19)\n",
    "states_geom = zeros(3, 19)\n",
    "U = zeros(model.nu)\n",
    "U[4] = 0.664\n",
    "U[5] = 1.1\n",
    "U[2] = 0.21\n",
    "# U[1] = -0.234\n",
    "record_t_3 = zeros(nx)\n",
    "data = init_data(model)\n",
    "step!(model, data)\n",
    "println(get_physics_state(model, data))\n",
    "data = init_data(model)\n",
    "step!(model, data)\n",
    "println(get_physics_state(model, data))\n",
    "\n",
    "step!(model, data)\n",
    "println(get_physics_state(model, data))\n",
    "\n",
    "states[:,1] = get_physics_state(model, data)\n",
    "states_geom[:,1] = data.geom_xpos[finger_geom_indices[1],:]\n",
    "for t in 1:18\n",
    "    # println(t,data.geom_xpos[finger_geom_indices[1],:])\n",
    "    data.ctrl .= U\n",
    "    step!(model, data)\n",
    "    \n",
    "    states[:,t+1] = get_physics_state(model, data)\n",
    "    states_geom[:,t+1] = data.geom_xpos[finger_geom_indices[1],:]\n",
    "end\n",
    "# println(data.geom_xpos[finger_geom_indices[1],:])\n",
    "reset!(model, data)\n",
    "\n",
    "data.ctrl .= U\n",
    "data.qpos .= states[:,1][1:model.nq]\n",
    "data.qvel .= states[:,1][model.nq+1:end]\n",
    "forward!(model, data)\n",
    "# println(\"hi\")\n",
    "println(\"hi\",data.geom_xpos[finger_geom_indices[1],:])\n",
    "for t in 1:19\n",
    "    println(t,states_geom[:,t])\n",
    "end\n",
    "init_visualiser()\n",
    "visualise!(model, data, trajectories = [states])"
   ]
  },
  {
   "cell_type": "markdown",
   "metadata": {},
   "source": [
    "## Test DIRCOL: moving index finger left right"
   ]
  },
  {
   "cell_type": "code",
   "execution_count": 28,
   "metadata": {},
   "outputs": [
    {
     "data": {
      "text/plain": [
       "0"
      ]
     },
     "metadata": {},
     "output_type": "display_data"
    }
   ],
   "source": [
    "global mj_access_count = 0"
   ]
  },
  {
   "cell_type": "code",
   "execution_count": 40,
   "metadata": {},
   "outputs": [
    {
     "data": {
      "text/plain": [
       "create_idx (generic function with 1 method)"
      ]
     },
     "metadata": {},
     "output_type": "display_data"
    }
   ],
   "source": [
    "function wrapped_mj_step(model, data, x, uk, forward)\n",
    "    # given the current model and data. set the state and control to the model and perform a forward step\n",
    "    # data.ctrl .= zeros(model.nu)\n",
    "    global mj_access_count += 1\n",
    "    if typeof(x) == Vector{Float64}\n",
    "        # set control \n",
    "        data.ctrl[:] .= uk\n",
    "        # set state\n",
    "        # data.qpos .= x[1:model.nq]\n",
    "        # data.qvel .= x[(model.nq + 1):end]\n",
    "        data.qpos .= x[1:model.nq]\n",
    "        data.qvel .= x[model.nq+1:end]\n",
    "    else\n",
    "        # if using diff types, we need to convert the dual numbers to floats\n",
    "        converted_x = ForwardDiff.value.(x)\n",
    "        # set control\n",
    "        data.ctrl[:] .= ForwardDiff.value.(uk)\n",
    "\n",
    "        # set state\n",
    "        data.qpos .= converted_x[1:model.nq]\n",
    "        data.qvel .= converted_x[(model.nq + 1):end]\n",
    "    end\n",
    "    \n",
    "    # take discrete dynamics step \n",
    "    if forward\n",
    "        forward!(model,data)\n",
    "    else\n",
    "        step!(model, data) \n",
    "    end\n",
    "\n",
    "    # return updated state k + 1\n",
    "    # xkp1 = zeros(model.nq + model.nv) \n",
    "    # xkp1 .= get_physics_state(model, data)\n",
    "    # finger_coordinates = data.geom_xpos[finger_geom_indices,:]\n",
    "    \n",
    "    return data.geom_xpos[finger_geom_indices[1],:], get_physics_state(model, data)\n",
    "end\n",
    "\n",
    "function robohand_cost(params::NamedTuple, Z::Vector)::Real\n",
    "    # TODO: implement cost function\n",
    "    idx, N, xg, xic = params.idx, params.N, params.xg, params.xic\n",
    "    model = params.model\n",
    "    data = init_data(model)\n",
    "    step!(model, data)\n",
    "    Q, R, R_d, Q_reg = params.Q, params.R, params.R_d, params.Q_reg\n",
    "\n",
    "    # stage cost\n",
    "    cost = 0.0\n",
    "    xi = Z[idx.x[1]]\n",
    "    ui = Z[idx.u[1]]\n",
    "\n",
    "    finger_geom_xpos, _ = wrapped_mj_step(model, data, xi, ui, true)\n",
    "    cost += 0.5*(finger_geom_xpos-xg)'*Q*(finger_geom_xpos-xg)+0.5*ui'*R*ui\n",
    "\n",
    "    for i = 2:(N-1)\n",
    "        xi = Z[idx.x[i]]\n",
    "        ui = Z[idx.u[i]]\n",
    "        ui_1 = Z[idx.u[i-1]]\n",
    "        finger_geom_xpos, _ = wrapped_mj_step(model, data, xi, ui, true)\n",
    "        # @show xi-xg\n",
    "        # actual cost\n",
    "        cost += 0.5*(finger_geom_xpos-xg)'*Q*(finger_geom_xpos-xg)+0.5*ui'*R*ui#+0.5*(ui-ui_1)'*R_d*(ui-ui_1)\n",
    "        # regularizer\n",
    "        cost += 0.5*(xi-xic)'*Q_reg*(xi-xic)\n",
    "    end\n",
    "\n",
    "    # # terminal cost \n",
    "    # xf = Z[idx.x[N]]\n",
    "    # # cost += 0.5*(xf[94:96]-xg[94:96])'*Qf*(xf[94:96]-xg[94:96])\n",
    "    # finger_geom_xpos, _ = wrapped_mj_step(model, data, xf, 0, false)\n",
    "    # cost += 0.5*(finger_geom_xpos-xg)'*Qf*(finger_geom_xpos-xg)\n",
    "\n",
    "    return cost\n",
    "end\n",
    "function robohand_dynamics_constraints(params::NamedTuple, Z::Vector)::Vector\n",
    "    idx, N, dt = params.idx, params.N, params.dt\n",
    "    model = params.model\n",
    "    data = init_data(model)\n",
    "    step!(model, data)\n",
    "    # create c in a ForwardDiff friendly way (check HW0)\n",
    "    c = zeros(eltype(Z), idx.nc)\n",
    "    \n",
    "    for i = 1:(N-1)\n",
    "        xi = Z[idx.x[i]]\n",
    "        ui = Z[idx.u[i]] \n",
    "        xip1 = Z[idx.x[i+1]]\n",
    "        \n",
    "        _,  xip1_mujoco = wrapped_mj_step(model, data, xi, ui, false)\n",
    "\n",
    "        c[idx.c[i]] = xip1_mujoco - xip1\n",
    "    end\n",
    "    # println(typeof(c))\n",
    "    return c \n",
    "end\n",
    "\n",
    "function robohand_equality_constraints(params::NamedTuple, Z::Vector)::Vector\n",
    "    # TODO: implement equality constraints\n",
    "    # return zeros(eltype(Z), 0)\n",
    "    N, idx, xic, xg = params.N, params.idx, params.xic, params.xg \n",
    "    model = params.model\n",
    "    \n",
    "    # initial_pose_index,_ = wrapped_mj_step(model, data, Z[idx.x[1]], Z[idx.u[1]], true)\n",
    "    terminal_pose_index,_ = wrapped_mj_step(model, data, Z[idx.x[N-1]], Z[idx.u[N-1]] , true)\n",
    "    \n",
    "\n",
    "    con_1 =  Z[idx.x[1]] - xic\n",
    "    \n",
    "    con_2 =  terminal_pose_index - xg\n",
    "    # con_2[3] = con_2[3] - 0.5\n",
    "\n",
    "    return [con_1; con_2; robohand_dynamics_constraints(params, Z)]\n",
    "    # return zeros(eltype(Z), 0)\n",
    "end\n",
    "function robohand_inequality_constraints(params::NamedTuple, Z::Vector)::Vector\n",
    "    # TODO: implement inequality constraints\n",
    "    # println(Z)\n",
    "    # return zeros(eltype(Z), 0)\n",
    "    N, idx, xic, xg = params.N, params.idx, params.xic, params.xg \n",
    "    model = params.model\n",
    "    \n",
    "    # # initial_pose_index,_ = wrapped_mj_step(model, data, Z[idx.x[1]], Z[idx.u[1]], true)\n",
    "    terminal_pose_index,_ = wrapped_mj_step(model, data, Z[idx.x[N-1]], Z[idx.u[N-1]] , true)\n",
    "    \n",
    "\n",
    "    # con_1 =  Z[idx.x[1]] - xic\n",
    "    \n",
    "    cart_z_end =  terminal_pose_index \n",
    "\n",
    "    # return [con_1; con_2; robohand_dynamics_constraints(params, Z)]\n",
    "    # return zeros(eltype(Z), 0)\n",
    "    return cart_z_end\n",
    "end\n",
    "function create_idx(nx,nu,N)\n",
    "    # This function creates some useful indexing tools for Z \n",
    "    # x_i = Z[idx.x[i]]\n",
    "    # u_i = Z[idx.u[i]]\n",
    "    \n",
    "    # Feel free to use/not use anything here.\n",
    "    \n",
    "    \n",
    "    # our Z vector is [x0, u0, x1, u1, …, xN]\n",
    "    nz = (N-1) * nu + N * nx # length of Z \n",
    "    x = [(i - 1) * (nx + nu) .+ (1 : nx) for i = 1:N]\n",
    "    u = [(i - 1) * (nx + nu) .+ ((nx + 1):(nx + nu)) for i = 1:(N - 1)]\n",
    "    \n",
    "    # constraint indexing for the (N-1) dynamics constraints when stacked up\n",
    "    c = [(i - 1) * (nx) .+ (1 : nx) for i = 1:(N - 1)]\n",
    "    nc = (N - 1) * nx # (N-1)*nx \n",
    "    \n",
    "    return (nx=nx,nu=nu,N=N,nz=nz,nc=nc,x= x,u = u,c = c)\n",
    "end"
   ]
  },
  {
   "cell_type": "code",
   "execution_count": 41,
   "metadata": {},
   "outputs": [
    {
     "data": {
      "text/plain": [
       "solve_finger_moving (generic function with 1 method)"
      ]
     },
     "metadata": {},
     "output_type": "display_data"
    }
   ],
   "source": [
    "global mj_access_count = 0\n",
    "function solve_finger_moving(;verbose=true)\n",
    "    # instantiate model and data\n",
    "    model = load_model(\"piano_with_one_shadow_hand_small/scene.xml\")\n",
    "    # model = load_model(\"piano_with_one_shadow_hand_simplified/scene.xml\")\n",
    "\n",
    "    data = init_data(model)\n",
    "\n",
    "    # reset the model and data\n",
    "    reset!(model, data)\n",
    "\n",
    "    # initiate time and time steps\n",
    "    dt = 0.01\n",
    "    tf = 0.1\n",
    "    t_vec = 0:dt:tf\n",
    "    N = length(t_vec)\n",
    "\n",
    "    # LQR cost\n",
    "    # Q size of full states\n",
    "    # Q = diagm(ones(model.nq + model.nv))\n",
    "    # R = 0.1*diagm(ones(model.nu))\n",
    "    # Qf = 10*diagm(ones(model.nq + model.nv))\n",
    "\n",
    "    # Q = 100*diagm(ones(3))\n",
    "    Q = 10*diagm([5,5,10])\n",
    "    Q_reg = 0.1*diagm(ones(model.nq + model.nv))\n",
    "    R = 1*diagm(ones(model.nu))\n",
    "    # udifference regularizer\n",
    "    R_d = 10*diagm(ones(model.nu))\n",
    "\n",
    "    idx = create_idx(model.nq + model.nv, model.nu, N)\n",
    "    # initial and goal states\n",
    "    step!(model, data)\n",
    "    xic = get_physics_state(model, data)\n",
    "    xic_geom = data.geom_xpos[finger_geom_indices[1],:]\n",
    "    U_ref = zeros(model.nu)\n",
    "    U_ref[4] = 0.664\n",
    "    U_ref[5] = 1.1\n",
    "    U_ref[2] = 0.21\n",
    "    for t in 1:N-1\n",
    "        data.ctrl .= U_ref\n",
    "        step!(model, data)\n",
    "    end\n",
    "    # initial and goal state\n",
    "    xg_physics = get_physics_state(model, data)\n",
    "    xg = data.geom_xpos[finger_geom_indices[1],:]\n",
    "    # reset the model and data\n",
    "    reset!(model, data)\n",
    "    params = (Q = Q, R = R, R_d = R_d, xic = xic, xg = xg, dt = dt, N = N, idx = idx, model=model, Q_reg=Q_reg)\n",
    "\n",
    "    # primal bounds\n",
    "    x_l = -1 * Inf * ones(idx.nz)\n",
    "    x_u = Inf*ones(idx.nz)\n",
    "    for i = 1:N\n",
    "        for j = 1:model.nq\n",
    "            # hands\n",
    "            x_l[idx.x[i][j]] = model.jnt_range[j,1]\n",
    "            x_u[idx.x[i][j]] = model.jnt_range[j,2]\n",
    "        end\n",
    "    end\n",
    "    for i = 1:(N-1)\n",
    "        for j = 1:model.nu\n",
    "            x_l[idx.u[i][j]] = model.actuator_ctrlrange[j,1]\n",
    "            x_u[idx.u[i][j]] = model.actuator_ctrlrange[j,2]\n",
    "        end\n",
    "        # for j in [2,5,4]\n",
    "        #     x_l[idx.u[i][j]] = 0\n",
    "        #     x_u[idx.u[i][j]] = model.actuator_ctrlrange[j,2]\n",
    "        # end\n",
    "    end\n",
    "    \n",
    "\n",
    "    # inequality constraints\n",
    "    c_l = xg .- 0.005\n",
    "    c_u = xg .+ 0.005\n",
    "    # c_l = zeros(0)\n",
    "    # c_u = zeros(0)\n",
    "    # c_l = -0.01*ones(idx.nx+3+idx.nx*(N-1))\n",
    "    # c_u = 0.01*ones(idx.nx+3+idx.nx*(N-1))\n",
    "    # initial guess \n",
    "    z0 = randn(idx.nz)\n",
    "    z0[idx.x[1]] .= xic\n",
    "    for i = 2:N\n",
    "        # z0[idx.x[i]] .= xic + ((xg_physics-xic)/(N))*(i)\n",
    "        z0[idx.x[i]] .= xic\n",
    "        # z0[idx.x[i]] .= xg_physics\n",
    "        # for j = 1:model.nq\n",
    "        #     z0[idx.x[i][j]] = rand(Uniform(model.jnt_range[j,1],model.jnt_range[j,2]))\n",
    "        # end\n",
    "    end\n",
    "    println(length(robohand_inequality_constraints(params,z0)))\n",
    "    println(length(c_u))\n",
    "    for i = 1:N-1\n",
    "        for j = 1:model.nu\n",
    "            z0[idx.u[i][j]] = rand(Uniform(model.actuator_ctrlrange[j,1],model.actuator_ctrlrange[j,2]))\n",
    "        end\n",
    "        # for j in [2,5,4]\n",
    "        #     z0[idx.u[i][j]] = rand(Uniform(model.actuator_ctrlrange[j,1],model.actuator_ctrlrange[j,2]))\n",
    "        # end\n",
    "    end\n",
    "    # diff type\n",
    "    # diff_type = :auto \n",
    "    diff_type = :finite\n",
    "    \n",
    "    \n",
    "    Z = fmincon(robohand_cost,robohand_equality_constraints,robohand_inequality_constraints,\n",
    "                x_l,x_u,c_l,c_u,z0,params, diff_type;\n",
    "                tol = 1e-4, c_tol = 1e-4, max_iters = 500, verbose = verbose)\n",
    "    \n",
    "    # pull the X and U solutions out of Z \n",
    "    X = [Z[idx.x[i]] for i = 1:N]\n",
    "    U = [Z[idx.u[i]] for i = 1:(N-1)]\n",
    "    return X, U, t_vec, params\n",
    "end"
   ]
  },
  {
   "cell_type": "code",
   "execution_count": 42,
   "metadata": {},
   "outputs": [
    {
     "name": "stdout",
     "output_type": "stream",
     "text": [
      "3\n",
      "3\n",
      "---------checking dimensions of everything----------\n",
      "---------all dimensions good------------------------\n",
      "---------diff type set to :finite (FiniteDiff.jl)---\n",
      "---------testing objective gradient-----------------\n",
      "---------testing constraint Jacobian----------------\n",
      "---------successfully compiled both derivatives-----\n",
      "---------IPOPT beginning solve----------------------\n",
      "This is Ipopt version 3.14.4, running with linear solver MUMPS 5.4.1.\n",
      "\n",
      "Number of nonzeros in equality constraint Jacobian...:   293184\n",
      "Number of nonzeros in inequality constraint Jacobian.:     1728\n",
      "Number of nonzeros in Lagrangian Hessian.............:        0\n",
      "\n",
      "Total number of variables............................:      576\n",
      "                     variables with only lower bounds:        0\n",
      "                variables with lower and upper bounds:      323\n",
      "                     variables with only upper bounds:        0\n",
      "Total number of equality constraints.................:      509\n",
      "Total number of inequality constraints...............:        3\n",
      "        inequality constraints with only lower bounds:        0\n",
      "   inequality constraints with lower and upper bounds:        3\n",
      "        inequality constraints with only upper bounds:        0\n",
      "\n",
      "iter    objective    inf_pr   inf_du lg(mu)  ||d||  lg(rg) alpha_du alpha_pr  ls\n",
      "   0  2.2708610e+01 1.38e+01 2.99e+00   0.0 0.00e+00    -  0.00e+00 0.00e+00   0\n",
      "   1  2.2704177e+01 1.38e+01 3.74e+01  -6.6 3.98e+01    -  7.69e-03 2.00e-04h  1\n",
      "   2r 2.2704177e+01 1.38e+01 9.99e+02   1.1 0.00e+00    -  0.00e+00 2.50e-07R  4\n",
      "   3r 2.1587578e+01 1.37e+01 9.99e+02   1.9 6.86e+03    -  1.04e-03 1.75e-04f  1\n",
      "   4r 1.7253793e+01 1.36e+01 9.97e+02   2.1 3.46e+03    -  1.25e-02 1.48e-03f  1\n",
      "   5r 1.4708859e+01 1.28e+01 9.88e+02  -5.0 7.09e+02    -  6.30e-03 9.60e-03f  1\n",
      "   6r 1.5812214e+01 1.18e+01 9.77e+02   1.3 1.19e+02    -  4.89e-02 1.08e-02f  1\n",
      "   7  1.6206532e+01 1.16e+01 5.92e+01   1.4 3.88e+02    -  6.24e-03 5.92e-03f  1\n",
      "   8  1.6210448e+01 1.16e+01 3.24e+04   0.6 4.46e+01    -  2.90e-02 5.95e-05h  1\n",
      "   9r 1.6210448e+01 1.16e+01 1.00e+03   1.1 0.00e+00    -  0.00e+00 2.98e-07R  2\n",
      "iter    objective    inf_pr   inf_du lg(mu)  ||d||  lg(rg) alpha_du alpha_pr  ls\n",
      "  10r 1.4835478e+01 1.02e+01 9.97e+02   2.3 6.42e+03    -  1.45e-03 1.69e-03f  1\n",
      "  11  1.4862061e+01 1.02e+01 3.88e+04   0.3 4.45e+01    -  7.41e-02 6.22e-04h  1\n",
      "  12r 1.4862061e+01 1.02e+01 9.99e+02   1.0 0.00e+00    -  0.00e+00 3.89e-07R  5\n",
      "  13r 1.9660900e+01 7.59e+00 1.00e+03   0.7 9.94e+02    -  1.94e-02 2.84e-03f  1\n",
      "  14  1.9661757e+01 7.59e+00 2.06e+03  -0.6 3.66e+01    -  4.26e-02 3.17e-05h  1\n",
      "  15r 1.9661757e+01 7.59e+00 1.00e+03   0.9 0.00e+00    -  0.00e+00 1.59e-07R  2\n",
      "  16r 2.1946192e+01 6.67e+00 1.02e+03   1.0 8.76e+02    -  3.13e-02 1.04e-03f  1\n",
      "  17  2.1946963e+01 6.67e+00 2.52e+03  -0.6 3.63e+01    -  3.90e-02 2.31e-05h  1\n",
      "  18r 2.1946963e+01 6.67e+00 1.00e+03   0.8 0.00e+00    -  0.00e+00 1.15e-07R  2\n",
      "  19r 2.7298859e+01 4.91e+00 1.00e+03   0.9 8.49e+02    -  2.89e-02 2.10e-03f  1\n",
      "iter    objective    inf_pr   inf_du lg(mu)  ||d||  lg(rg) alpha_du alpha_pr  ls\n",
      "  20  2.7299803e+01 4.91e+00 8.57e+02  -1.1 4.13e+01    -  2.36e-02 3.19e-05h  1\n",
      "  21r 2.7299803e+01 4.91e+00 9.99e+02   0.7 0.00e+00    -  0.00e+00 1.60e-07R  2\n",
      "  22r 2.9226364e+01 4.31e+00 9.96e+02   0.5 8.34e+02    -  1.69e-02 7.27e-04f  1\n",
      "  23r 2.9226364e+01 4.31e+00 9.99e+02   0.6 0.00e+00    -  0.00e+00 3.49e-07R  5\n",
      "  24r 3.1283899e+01 3.76e+00 9.96e+02   0.7 7.93e+02    -  1.50e-02 7.35e-04f  1\n",
      "  25  3.8189058e+01 3.74e+00 1.29e+02   1.4 2.65e+02    -  1.86e-02 7.19e-03f  1\n",
      "  26  3.8207972e+01 3.74e+00 2.09e+05   1.5 1.04e+02    -  7.52e-02 7.25e-05h  1\n",
      "  27r 3.8207972e+01 3.74e+00 9.99e+02   1.5 0.00e+00    -  0.00e+00 3.62e-07R  2\n",
      "  28r 5.1782745e+01 2.11e+00 9.38e+02   1.9 2.89e+02    -  1.07e-01 1.26e-02f  1\n",
      "  29  5.1722411e+01 2.11e+00 8.36e+01  -0.3 3.45e+01    -  8.40e-02 1.94e-03h  1\n",
      "iter    objective    inf_pr   inf_du lg(mu)  ||d||  lg(rg) alpha_du alpha_pr  ls\n",
      "  30  5.1722081e+01 2.11e+00 3.17e+06   0.2 4.40e+01    -  6.92e-01 1.94e-05h  1\n",
      "  31r 5.1722081e+01 2.11e+00 9.41e+02   2.1 0.00e+00    -  0.00e+00 9.71e-08R  2\n",
      "  32r 5.2468364e+01 4.81e-01 8.98e+02   0.6 3.64e+01    -  1.00e+00 5.92e-02f  1\n",
      "  33  5.2430963e+01 4.81e-01 3.44e+02  -0.3 3.42e+01    -  9.10e-02 5.19e-04h  1\n",
      "  34r 5.2430963e+01 4.81e-01 9.96e+02   0.3 0.00e+00    -  0.00e+00 3.25e-07R  5\n",
      "  35r 5.2699244e+01 4.30e-01 9.95e+02   1.0 1.19e+02    -  1.50e-01 4.01e-03f  1\n",
      "  36  5.2683886e+01 4.30e-01 8.90e+02  -0.3 3.35e+01    -  1.00e-01 2.21e-04h  1\n",
      "  37r 5.2683886e+01 4.30e-01 9.96e+02   0.2 0.00e+00    -  0.00e+00 2.77e-07R  4\n",
      "  38r 5.3509684e+01 4.35e-01 9.85e+02   0.9 9.10e+00    -  2.51e-01 1.40e-02f  1\n",
      "  39r 5.6050389e+01 4.51e-01 6.91e+02   0.7 2.06e+00    -  1.00e+00 2.92e-01f  1\n",
      "iter    objective    inf_pr   inf_du lg(mu)  ||d||  lg(rg) alpha_du alpha_pr  ls\n",
      "  40r 5.5574004e+01 4.53e-01 1.46e+02  -0.0 7.40e-01    -  1.00e+00 7.95e-01f  1\n",
      "  41r 5.6706103e+01 4.55e-01 1.56e+02  -0.3 5.20e-01    -  1.00e+00 6.32e-01f  1\n",
      "  42r 5.9124830e+01 2.07e+00 2.16e+01  -0.7 4.73e-01    -  1.00e+00 9.52e-01f  1\n",
      "  43r 6.1571492e+01 4.63e-01 2.71e+01  -1.2 5.60e-01    -  1.00e+00 9.35e-01f  1\n",
      "  44r 6.9127589e+01 1.28e+00 1.48e+02  -1.2 4.08e+00    -  9.99e-01 4.45e-01f  1\n",
      "  45r 7.6279466e+01 2.60e+00 4.65e+00  -0.9 2.13e+00    -  1.00e+00 1.00e+00f  1\n",
      "  46r 7.8066453e+01 7.61e-01 1.93e+00  -1.0 1.23e+00    -  1.00e+00 1.00e+00f  1\n",
      "  47r 7.5032700e+01 1.73e+00 4.14e+01  -1.7 6.35e-01    -  7.04e-01 9.99e-01f  1\n",
      "  48r 7.2215899e+01 4.75e-01 1.42e+00  -2.0 6.54e-01    -  1.00e+00 1.00e+00f  1\n",
      "  49r 7.0754604e+01 2.04e+00 1.46e+00  -2.3 1.72e+00    -  9.79e-01 1.00e+00f  1\n",
      "iter    objective    inf_pr   inf_du lg(mu)  ||d||  lg(rg) alpha_du alpha_pr  ls\n",
      "  50r 7.0233808e+01 3.32e+00 2.23e-01  -2.1 1.06e+00    -  1.00e+00 1.00e+00f  1\n",
      "  51r 7.1533084e+01 4.73e-01 4.50e-01  -2.2 3.06e-01    -  1.00e+00 1.00e+00h  1\n",
      "  52r 6.9870259e+01 9.96e-01 5.95e-01  -2.7 2.65e-01    -  9.87e-01 1.00e+00f  1\n",
      "  53r 6.9327288e+01 1.75e+00 2.33e-01  -3.3 2.36e-01    -  1.00e+00 1.00e+00h  1\n",
      "  54r 6.8844823e+01 4.71e-01 9.61e-02  -3.0 2.61e-01    -  1.00e+00 1.00e+00h  1\n",
      "  55r 6.7050220e+01 2.80e+00 3.02e-01  -3.2 4.12e-01    -  9.81e-01 1.00e+00h  1\n",
      "  56r 6.7451591e+01 4.70e-01 6.90e-02  -3.3 2.35e-01    -  1.00e+00 1.00e+00h  1\n",
      "  57r 6.7488803e+01 4.69e-01 1.63e-02  -4.2 2.50e-01    -  9.98e-01 1.00e+00h  1\n",
      "  58r 6.7192138e+01 4.69e-01 5.73e-03  -5.3 1.77e-01    -  9.99e-01 1.00e+00h  1\n",
      "  59r 6.7137071e+01 6.16e-01 2.34e+00  -5.3 4.29e-01    -  1.00e+00 5.00e-01h  2\n",
      "iter    objective    inf_pr   inf_du lg(mu)  ||d||  lg(rg) alpha_du alpha_pr  ls\n",
      "  60r 6.6793120e+01 4.69e-01 5.81e+08  -6.0 1.51e-01    -  1.00e+00 1.00e+00h  1\n",
      "  61r 6.6770651e+01 4.69e-01 5.70e+08  -5.1 5.76e+02    -  1.00e+00 2.24e-05f  1\n",
      "  62r 6.6738634e+01 4.69e-01 4.96e+08  -3.1 4.63e-01    -  9.94e-01 9.65e-02f  1\n",
      "  63r 6.6672377e+01 4.69e-01 3.99e+08  -3.8 3.72e-01    -  7.17e-01 1.41e-01f  1\n",
      "  64r 6.6681060e+01 4.69e-01 2.59e+08  -2.9 3.48e-01    -  1.00e+00 2.63e-01f  1\n",
      "  65r 6.6663864e+01 4.69e-01 1.78e+08  -4.0 9.27e+00    -  1.00e+00 6.84e-03f  1\n",
      "  66r 6.6653820e+01 4.69e-01 1.17e+08  -4.6 8.55e-01    -  1.00e+00 1.36e-01f  1\n",
      "  67r 6.6731904e+01 4.69e-01 4.53e+07  -2.9 1.91e-01    -  1.00e+00 5.92e-01f  1\n",
      "  68r 6.6780865e+01 4.69e-01 2.33e+07  -3.5 7.15e-02    -  1.00e+00 1.00e+00f  1\n",
      "  69r 6.6780490e+01 4.69e-01 9.14e+05  -3.4 4.87e-03    -  1.00e+00 1.00e+00h  1\n",
      "iter    objective    inf_pr   inf_du lg(mu)  ||d||  lg(rg) alpha_du alpha_pr  ls\n",
      "  70r 6.6777349e+01 4.69e-01 7.00e+04  -4.9 7.56e-03    -  1.00e+00 9.97e-01f  1\n",
      "  71r 6.6774903e+01 4.69e-01 2.39e+04  -6.4 1.58e-03    -  1.00e+00 1.00e+00h  1\n",
      "  72r 6.6774359e+01 4.69e-01 4.20e+02  -7.2 3.06e-04    -  1.00e+00 1.00e+00h  1\n",
      "\n",
      "Number of Iterations....: 72\n",
      "\n",
      "                                   (scaled)                 (unscaled)\n",
      "Objective...............:   6.6774139109892133e+01    6.6774139109892133e+01\n",
      "Dual infeasibility......:   2.3382813030487730e+00    2.3382813030487730e+00\n",
      "Constraint violation....:   4.6916333140785421e-01    4.6916333140785421e-01\n",
      "Variable bound violation:   9.9999999886568179e-09    9.9999999886568179e-09\n",
      "Complementarity.........:   3.8027240762391121e-04    3.8027240762391121e-04\n",
      "Overall NLP error.......:   4.6916333140785421e-01    2.3382813030487730e+00\n",
      "\n",
      "\n",
      "Number of objective function evaluations             = 111\n",
      "Number of objective gradient evaluations             = 36\n",
      "Number of equality constraint evaluations            = 111\n",
      "Number of inequality constraint evaluations          = 111\n",
      "Number of equality constraint Jacobian evaluations   = 85\n",
      "Number of inequality constraint Jacobian evaluations = 85\n",
      "Number of Lagrangian Hessian evaluations             = 0\n",
      "Total seconds in IPOPT                               = 48.767\n",
      "\n",
      "EXIT: Converged to a point of local infeasibility. Problem may be infeasible.\n"
     ]
    },
    {
     "data": {
      "text/plain": [
       "([[-9.999999937956678e-9, -9.99999998865666e-9, -9.999999937956475e-9, -9.999999937956475e-9, -9.999999988656702e-9, -9.999999937956963e-9, -9.99999998865667e-9, -9.99999993795668e-9, -9.999999937956736e-9, -9.999999988656677e-9  …  -0.1677511356406592, -0.030396975279470693, -0.8912216587082428, -0.004234131564460933, -4.2233680988673, 0.45938440643413353, 0.34952271077786434, 0.17690537583294683, 0.045559012633187956, 0.010943869295629263], [-9.999999922536117e-9, -9.999999986466253e-9, -9.999999922536127e-9, -9.999999922536129e-9, -9.999999986466283e-9, -9.999999922536366e-9, -9.999999986466253e-9, -9.999999922536094e-9, -9.999999922536294e-9, -9.999999986466318e-9  …  -0.07132391188360339, -0.011787502808075688, -0.897441185740233, -0.03383704547014992, -4.227014724239041, -0.4079287643955744, 0.5337019779350688, 7.145427897342712, 4.969495806282514, 5.3422559559241956], [-9.999999916567291e-9, -9.999999985559142e-9, -9.999999916567288e-9, -9.999999916567296e-9, -9.999999985559096e-9, -9.999999916568233e-9, -9.999999985559142e-9, -9.999999916568137e-9, -9.999999916567933e-9, -9.999999985559185e-9  …  -0.03996790649903858, -0.006431859775540728, -0.8958780698018517, -0.05834842571300238, -4.202333287690952, -0.8852297050542189, 0.60815223365287, 3.7407727170794494, 6.819837463372454, 6.645878095332159], [-9.999999914666491e-9, -9.999999985234555e-9, -9.999999914666487e-9, -9.999999914666488e-9, -9.999999985234633e-9, -9.999999914667001e-9, -9.99999998523454e-9, -9.999999914666624e-9, -9.999999914667e-9, -9.999999985234466e-9  …  -0.029771625456552188, -0.004890552664186559, -0.8915980717968411, -0.07892695901478156, -4.353004647452924, -1.0269657593851107, 0.7255825266035753, 2.0644138903474913, 1.8661559080254855, 1.4767767935510474], [-9.999999914072971e-9, -9.999999985115497e-9, -9.999999914072971e-9, -9.999999914072971e-9, -9.999999985115479e-9, -9.999999914072976e-9, -9.999999985115572e-9, -9.999999914073487e-9, -9.999999914072958e-9, -9.999999985115486e-9  …  -0.026456019853856583, -0.00444697799083256, -0.8809383337702879, -0.09484650785422871, -4.469253119700056, -0.10959599092046635, 0.6046896653274807, -0.5720363852483098, 14.226830897396049, 14.403633684733542], [-9.999999913791612e-9, -9.999999985043979e-9, -9.999999913791594e-9, -9.999999913791607e-9, -9.999999985043883e-9, -9.999999913791629e-9, -9.999999985043938e-9, -9.999999913791609e-9, -9.99999991379161e-9, -9.999999985043882e-9  …  -0.02537785807537617, -0.004319321088698088, -0.8640503073135762, -0.10753524417629597, -4.495413369593549, 0.17479923035640743, 0.8170981954613541, 11.94155964055885, 2.5219399389648665, 2.908835622889228], [-9.999999913321832e-9, -9.999999984918421e-9, -9.999999913321835e-9, -9.999999913321828e-9, -9.99999998491842e-9, -9.999999913321847e-9, -9.999999984918411e-9, -9.999999913321818e-9, -9.999999913321858e-9, -9.99999998491841e-9  …  -0.0250272636435262, -0.004282582545516532, -0.840936657180693, -0.11709458842043433, -4.38187788798982, 1.2683272726549206, 0.8180246177988414, 16.23790472790501, 2.0568426609441555, 2.2107865007271283], [-9.999999911803196e-9, -9.999999984552435e-9, -9.999999911803239e-9, -9.999999911803239e-9, -9.999999984552434e-9, -9.999999911803237e-9, -9.999999984552422e-9, -9.999999911803133e-9, -9.999999911803335e-9, -9.999999984552439e-9  …  -0.024913258040407713, -0.004272009493424632, -0.814268736755624, -0.12839274517006577, -4.168687258652008, 0.48239366192108607, 0.5770142804355237, 4.769120996553984, 4.6806246347226725, 4.0470858087350745], [-9.999999906129695e-9, -9.99999998331861e-9, -9.999999906129703e-9, -9.999999906129708e-9, -9.999999983318613e-9, -9.9999999061297e-9, -9.999999983318568e-9, -9.999999906129456e-9, -9.999999906130193e-9, -9.999999983318621e-9  …  -0.02487618582795982, -0.004268966582293475, -0.7826726885039104, -0.1388394386910481, -3.7441513332365144, -0.5907318674741439, 0.6008123594460869, 1.1300756941698142, 2.2387703891547694, 1.6386032530219699], [-9.999999879118032e-9, -9.999999977893729e-9, -9.999999879118032e-9, -9.999999879118032e-9, -9.999999977893729e-9, -9.999999879118032e-9, -9.999999977893729e-9, -9.999999879118032e-9, -9.999999879118032e-9, -9.999999977893729e-9  …  -0.024864130409071688, -0.004268090561546648, -0.7471842814238533, -0.14646109200147467, -3.204129948294827, -0.9068103492781042, 0.5760871670815286, -0.3135941699554101, 1.3575098645911112, 1.0417514765814526], [-9.997627879767296e-9, -9.997627801448577e-9, -9.997627879767296e-9, -9.997627879767296e-9, -9.997627801448577e-9, -9.997627879767296e-9, -9.997627801448577e-9, -9.997627879767296e-9, -9.997627879767296e-9, -9.997627801448577e-9  …  -0.024860208694999796, -0.00426783703485675, -0.6830844486518077, -0.09554482778788816, -2.456929487580213, 1.1318377403928013, 0.39755529009780305, 7.013427236434712, 1.122824213860186, 1.3047103292726645]], [[-0.2509315507984038, -0.11102211935945287, 0.04757827781921467, 0.6019826318832807, 0.7915684631260083, -0.25417279289575245, -0.049737023465483636], [-0.29416663490761086, -0.1759584535115752, 0.05187874533313774, 0.08915140405997198, 0.8280379399765332, -0.2541137717818722, -0.04971998032514557], [-0.3680323613622025, -0.17006930087656993, 0.07491892600520648, 0.09405746074796553, 0.1400567274344362, -0.2541000015581568, -0.049700115953898276], [-0.41601382334809267, -0.006022255930801055, 0.0686349770689566, 0.09832923113794637, 2.3382813012713983, -0.25411270947405024, -0.04967668733772564], [-0.4569428255583374, -0.009576721740665881, 0.09073612117810978, 1.099357535873333, 0.3793580997845702, -0.25389967542031994, -0.04964123700838378], [-0.4800039367385286, 0.10494360901193578, 0.082569757392124, 1.2447855920911197, 0.8423984356287064, -0.2542971097225263, -0.049561251483728225], [-0.5080942629020021, -0.15988563709228856, 0.061316497840587035, 0.18111287277598417, 1.1280440885898584, -0.2539639465911394, -0.04947899991901617], [-0.511837292422494, -0.21138246363402968, 0.07720415733783614, 0.2946196164304775, 0.77220313020487, -0.2531859450213381, -0.04927647335999207], [-0.5103319168680739, -0.1622014661695, 0.08093762490657853, 0.35464931904907254, 0.8352713223874916, -0.2511341768880142, -0.04821050891025753], [-0.47795610393148047, 0.1890192214199835, 0.06670755497513527, 1.1418878002352495, 0.9896922949524355, -0.2153075850484242, 0.03411507247530444]], 0.0:0.01:0.1, (Q = [50 0 0; 0 50 0; 0 0 100], R = [1.0 0.0 … 0.0 0.0; 0.0 1.0 … 0.0 0.0; … ; 0.0 0.0 … 1.0 0.0; 0.0 0.0 … 0.0 1.0], R_d = [10.0 0.0 … 0.0 0.0; 0.0 10.0 … 0.0 0.0; … ; 0.0 0.0 … 10.0 0.0; 0.0 0.0 … 0.0 10.0], xic = [-0.0003039697527948987, -0.0016775113564068205, -0.0003039697527948987, -0.0003039697527948987, -0.0016775113564068205, -0.0003039697527948987, -0.0016775113564068205, -0.0003039697527948987, -0.0003039697527948987, -0.0016775113564068205  …  -0.16775113564068206, -0.03039697527948987, -0.8912216587082428, -0.004234131564461016, -4.2233680988673, 0.45938440643413353, 0.34952271077786434, 0.17690537583294683, 0.045559012633187956, 0.010943869295629263], xg = [0.021389395629296117, 0.07322066929852089, 0.06170635191405924], dt = 0.01, N = 11, idx = (nx = 46, nu = 7, N = 11, nz = 576, nc = 460, x = UnitRange{Int64}[1:46, 54:99, 107:152, 160:205, 213:258, 266:311, 319:364, 372:417, 425:470, 478:523, 531:576], u = UnitRange{Int64}[47:53, 100:106, 153:159, 206:212, 259:265, 312:318, 365:371, 418:424, 471:477, 524:530], c = UnitRange{Int64}[1:46, 47:92, 93:138, 139:184, 185:230, 231:276, 277:322, 323:368, 369:414, 415:460]), model = MuJoCo Model, Q_reg = [0.1 0.0 … 0.0 0.0; 0.0 0.1 … 0.0 0.0; … ; 0.0 0.0 … 0.1 0.0; 0.0 0.0 … 0.0 0.1]))"
      ]
     },
     "metadata": {},
     "output_type": "display_data"
    }
   ],
   "source": [
    "X, U, t_vec, params = solve_finger_moving(verbose=true)"
   ]
  },
  {
   "cell_type": "code",
   "execution_count": 43,
   "metadata": {},
   "outputs": [
    {
     "data": {
      "text/plain": [
       "1042603"
      ]
     },
     "metadata": {},
     "output_type": "display_data"
    }
   ],
   "source": [
    "mj_access_count "
   ]
  },
  {
   "cell_type": "code",
   "execution_count": 44,
   "metadata": {},
   "outputs": [
    {
     "data": {
      "text/plain": [
       "11-element Vector{Vector{Float64}}:\n",
       " [-9.999999937956678e-9, -9.99999998865666e-9, -9.999999937956475e-9, -9.999999937956475e-9, -9.999999988656702e-9, -9.999999937956963e-9, -9.99999998865667e-9, -9.99999993795668e-9, -9.999999937956736e-9, -9.999999988656677e-9  …  -0.1677511356406592, -0.030396975279470693, -0.8912216587082428, -0.004234131564460933, -4.2233680988673, 0.45938440643413353, 0.34952271077786434, 0.17690537583294683, 0.045559012633187956, 0.010943869295629263]\n",
       " [-9.999999922536117e-9, -9.999999986466253e-9, -9.999999922536127e-9, -9.999999922536129e-9, -9.999999986466283e-9, -9.999999922536366e-9, -9.999999986466253e-9, -9.999999922536094e-9, -9.999999922536294e-9, -9.999999986466318e-9  …  -0.07132391188360339, -0.011787502808075688, -0.897441185740233, -0.03383704547014992, -4.227014724239041, -0.4079287643955744, 0.5337019779350688, 7.145427897342712, 4.969495806282514, 5.3422559559241956]\n",
       " [-9.999999916567291e-9, -9.999999985559142e-9, -9.999999916567288e-9, -9.999999916567296e-9, -9.999999985559096e-9, -9.999999916568233e-9, -9.999999985559142e-9, -9.999999916568137e-9, -9.999999916567933e-9, -9.999999985559185e-9  …  -0.03996790649903858, -0.006431859775540728, -0.8958780698018517, -0.05834842571300238, -4.202333287690952, -0.8852297050542189, 0.60815223365287, 3.7407727170794494, 6.819837463372454, 6.645878095332159]\n",
       " [-9.999999914666491e-9, -9.999999985234555e-9, -9.999999914666487e-9, -9.999999914666488e-9, -9.999999985234633e-9, -9.999999914667001e-9, -9.99999998523454e-9, -9.999999914666624e-9, -9.999999914667e-9, -9.999999985234466e-9  …  -0.029771625456552188, -0.004890552664186559, -0.8915980717968411, -0.07892695901478156, -4.353004647452924, -1.0269657593851107, 0.7255825266035753, 2.0644138903474913, 1.8661559080254855, 1.4767767935510474]\n",
       " [-9.999999914072971e-9, -9.999999985115497e-9, -9.999999914072971e-9, -9.999999914072971e-9, -9.999999985115479e-9, -9.999999914072976e-9, -9.999999985115572e-9, -9.999999914073487e-9, -9.999999914072958e-9, -9.999999985115486e-9  …  -0.026456019853856583, -0.00444697799083256, -0.8809383337702879, -0.09484650785422871, -4.469253119700056, -0.10959599092046635, 0.6046896653274807, -0.5720363852483098, 14.226830897396049, 14.403633684733542]\n",
       " [-9.999999913791612e-9, -9.999999985043979e-9, -9.999999913791594e-9, -9.999999913791607e-9, -9.999999985043883e-9, -9.999999913791629e-9, -9.999999985043938e-9, -9.999999913791609e-9, -9.99999991379161e-9, -9.999999985043882e-9  …  -0.02537785807537617, -0.004319321088698088, -0.8640503073135762, -0.10753524417629597, -4.495413369593549, 0.17479923035640743, 0.8170981954613541, 11.94155964055885, 2.5219399389648665, 2.908835622889228]\n",
       " [-9.999999913321832e-9, -9.999999984918421e-9, -9.999999913321835e-9, -9.999999913321828e-9, -9.99999998491842e-9, -9.999999913321847e-9, -9.999999984918411e-9, -9.999999913321818e-9, -9.999999913321858e-9, -9.99999998491841e-9  …  -0.0250272636435262, -0.004282582545516532, -0.840936657180693, -0.11709458842043433, -4.38187788798982, 1.2683272726549206, 0.8180246177988414, 16.23790472790501, 2.0568426609441555, 2.2107865007271283]\n",
       " [-9.999999911803196e-9, -9.999999984552435e-9, -9.999999911803239e-9, -9.999999911803239e-9, -9.999999984552434e-9, -9.999999911803237e-9, -9.999999984552422e-9, -9.999999911803133e-9, -9.999999911803335e-9, -9.999999984552439e-9  …  -0.024913258040407713, -0.004272009493424632, -0.814268736755624, -0.12839274517006577, -4.168687258652008, 0.48239366192108607, 0.5770142804355237, 4.769120996553984, 4.6806246347226725, 4.0470858087350745]\n",
       " [-9.999999906129695e-9, -9.99999998331861e-9, -9.999999906129703e-9, -9.999999906129708e-9, -9.999999983318613e-9, -9.9999999061297e-9, -9.999999983318568e-9, -9.999999906129456e-9, -9.999999906130193e-9, -9.999999983318621e-9  …  -0.02487618582795982, -0.004268966582293475, -0.7826726885039104, -0.1388394386910481, -3.7441513332365144, -0.5907318674741439, 0.6008123594460869, 1.1300756941698142, 2.2387703891547694, 1.6386032530219699]\n",
       " [-9.999999879118032e-9, -9.999999977893729e-9, -9.999999879118032e-9, -9.999999879118032e-9, -9.999999977893729e-9, -9.999999879118032e-9, -9.999999977893729e-9, -9.999999879118032e-9, -9.999999879118032e-9, -9.999999977893729e-9  …  -0.024864130409071688, -0.004268090561546648, -0.7471842814238533, -0.14646109200147467, -3.204129948294827, -0.9068103492781042, 0.5760871670815286, -0.3135941699554101, 1.3575098645911112, 1.0417514765814526]\n",
       " [-9.997627879767296e-9, -9.997627801448577e-9, -9.997627879767296e-9, -9.997627879767296e-9, -9.997627801448577e-9, -9.997627879767296e-9, -9.997627801448577e-9, -9.997627879767296e-9, -9.997627879767296e-9, -9.997627801448577e-9  …  -0.024860208694999796, -0.00426783703485675, -0.6830844486518077, -0.09554482778788816, -2.456929487580213, 1.1318377403928013, 0.39755529009780305, 7.013427236434712, 1.122824213860186, 1.3047103292726645]"
      ]
     },
     "metadata": {},
     "output_type": "display_data"
    }
   ],
   "source": [
    "X"
   ]
  },
  {
   "cell_type": "code",
   "execution_count": 45,
   "metadata": {},
   "outputs": [
    {
     "data": {
      "text/plain": [
       "10-element Vector{Vector{Float64}}:\n",
       " [-0.2509315507984038, -0.11102211935945287, 0.04757827781921467, 0.6019826318832807, 0.7915684631260083, -0.25417279289575245, -0.049737023465483636]\n",
       " [-0.29416663490761086, -0.1759584535115752, 0.05187874533313774, 0.08915140405997198, 0.8280379399765332, -0.2541137717818722, -0.04971998032514557]\n",
       " [-0.3680323613622025, -0.17006930087656993, 0.07491892600520648, 0.09405746074796553, 0.1400567274344362, -0.2541000015581568, -0.049700115953898276]\n",
       " [-0.41601382334809267, -0.006022255930801055, 0.0686349770689566, 0.09832923113794637, 2.3382813012713983, -0.25411270947405024, -0.04967668733772564]\n",
       " [-0.4569428255583374, -0.009576721740665881, 0.09073612117810978, 1.099357535873333, 0.3793580997845702, -0.25389967542031994, -0.04964123700838378]\n",
       " [-0.4800039367385286, 0.10494360901193578, 0.082569757392124, 1.2447855920911197, 0.8423984356287064, -0.2542971097225263, -0.049561251483728225]\n",
       " [-0.5080942629020021, -0.15988563709228856, 0.061316497840587035, 0.18111287277598417, 1.1280440885898584, -0.2539639465911394, -0.04947899991901617]\n",
       " [-0.511837292422494, -0.21138246363402968, 0.07720415733783614, 0.2946196164304775, 0.77220313020487, -0.2531859450213381, -0.04927647335999207]\n",
       " [-0.5103319168680739, -0.1622014661695, 0.08093762490657853, 0.35464931904907254, 0.8352713223874916, -0.2511341768880142, -0.04821050891025753]\n",
       " [-0.47795610393148047, 0.1890192214199835, 0.06670755497513527, 1.1418878002352495, 0.9896922949524355, -0.2153075850484242, 0.03411507247530444]"
      ]
     },
     "metadata": {},
     "output_type": "display_data"
    }
   ],
   "source": [
    "U\n",
    "# U2[4] = 0.664\n",
    "# U2[5] = 1.1\n",
    "# U2[2] = 0.21"
   ]
  },
  {
   "cell_type": "code",
   "execution_count": 50,
   "metadata": {},
   "outputs": [
    {
     "name": "stdout",
     "output_type": "stream",
     "text": [
      "end using controls:[0.0217944769230808, 0.10353061528511291, 0.09256974938848739]\n",
      "[0.025395381454867045, 0.07193963679211916, 0.056461397004888794]\n",
      "0.031146274674716676\n",
      "[0.0, 0.0, 0.0]\n",
      "[0.0004900000000000147, 0.11699999999999999, 0.12000000000000001]\n",
      "[-0.00039745522853294746, 0.11618415701496942, 0.11305629845488538]\n",
      "[0.0004147145284350614, 0.11277704589079526, 0.102973328879172]\n",
      "[0.0030054994381000857, 0.10707991862841891, 0.09221868253682486]\n",
      "[0.006791496182904927, 0.09991124975829715, 0.08221422542634418]\n",
      "[0.011162703930066919, 0.0921847080746731, 0.07363110262822647]\n",
      "[0.015600942053661448, 0.08457642963920377, 0.06664445126841494]\n",
      "[0.020412581984727694, 0.07794182133290084, 0.060768332182999533]\n",
      "[0.023402564163286798, 0.07417287845560569, 0.058091885765530954]\n",
      "[0.025395381454867045, 0.07193963679211916, 0.056461397004888794]\n"
     ]
    }
   ],
   "source": [
    "# instantiate model and data\n",
    "# model = load_model(\"piano_with_one_shadow_hand_simplified/scene.xml\")\n",
    "model = load_model(\"piano_with_one_shadow_hand_small/scene.xml\")\n",
    "data = init_data(model)\n",
    "\n",
    "# reset the model and data j in [2,5,4]\n",
    "        #     z0[idx.u[i][j]] = rand(Uniform(model.actuator_ctrlrange[j,1],model.actuator_ctrlrange[j,2]))\n",
    "        # end\n",
    "dt = 0.01\n",
    "tf = 0.1\n",
    "t_vec = 0:dt:tf\n",
    "N = length(t_vec)\n",
    "states = zeros(nx, N)\n",
    "ctrl_states = zeros(model.nu, N)\n",
    "reset!(model, data)\n",
    "step!(model, data)\n",
    "states[:,1] = get_physics_state(model, data)\n",
    "for t in 1:N-1\n",
    "    data.ctrl .= U[t][:]\n",
    "    step!(model, data)\n",
    "    states[:,t+1] = get_physics_state(model, data)\n",
    "end\n",
    "println(\"end using controls:\",data.geom_xpos[finger_geom_indices[1],:])\n",
    "states3 = zeros(nx, N)\n",
    "for t in 1:N\n",
    "    states3[:,t] = X[t][:]\n",
    "end\n",
    "\n",
    "reset!(model, data)\n",
    "data.ctrl .=0\n",
    "data.qpos .= states3[1:model.nq,N]\n",
    "data.qvel .= states3[model.nq+1:end,N]\n",
    "forward!(model, data)\n",
    "final_cart_fmincon = data.geom_xpos[finger_geom_indices[1],:]\n",
    "reset!(model, data)\n",
    "nx = model.nq + model.nv + model.na # State vector dimension\n",
    "\n",
    "states2 = zeros(nx, N)\n",
    "states2[:,1] = get_physics_state(model, data)\n",
    "states2_coord = zeros(3,N)\n",
    "states2_coord[:,1] = data.geom_xpos[finger_geom_indices[1],:]\n",
    "U2 = zeros(model.nu)\n",
    "U2[4] = 0.664\n",
    "U2[5] = 1.1\n",
    "U2[2] = 0.21\n",
    "for t in 1:N-1\n",
    "    data.ctrl .= U2\n",
    "    step!(model, data)\n",
    "    states2[:,t+1] = get_physics_state(model, data)\n",
    "    states2_coord[:,t+1] = data.geom_xpos[finger_geom_indices[1],:]\n",
    "end\n",
    "println(data.geom_xpos[finger_geom_indices[1],:])\n",
    "println(norm((final_cart_fmincon-data.geom_xpos[finger_geom_indices[1],:]),2))\n",
    "for t in 1:N\n",
    "    println(states2_coord[:,t])\n",
    "end"
   ]
  },
  {
   "cell_type": "code",
   "execution_count": 47,
   "metadata": {},
   "outputs": [
    {
     "name": "stdout",
     "output_type": "stream",
     "text": [
      " __  __            _        _____       _ _ \n",
      "|  \\/  |          | |      / ____|     (_) |\n",
      "| \\  / |_   _     | | ___ | |     ___   _| |\n",
      "| |\\/| | | | |_   | |/ _ \\| |    / _ \\ | | |\n",
      "| |  | | |_| | |__| | (_) | |___| (_) || | |\n",
      "|_|  |_|\\__,_|\\____/ \\___/ \\_____\\___(_) |_|\n",
      "                                      _/ |  \n",
      "                                     |__/   \n",
      "\n",
      "Press \"F1\" to show the help message.\n"
     ]
    }
   ],
   "source": [
    "init_visualiser()\n",
    "visualise!(model, data, trajectories = [states, states2])"
   ]
  },
  {
   "cell_type": "code",
   "execution_count": 38,
   "metadata": {},
   "outputs": [
    {
     "name": "stdout",
     "output_type": "stream",
     "text": [
      " __  __            _        _____       _ _ \n",
      "|  \\/  |          | |      / ____|     (_) |\n",
      "| \\  / |_   _     | | ___ | |     ___   _| |\n",
      "| |\\/| | | | |_   | |/ _ \\| |    / _ \\ | | |\n",
      "| |  | | |_| | |__| | (_) | |___| (_) || | |\n",
      "|_|  |_|\\__,_|\\____/ \\___/ \\_____\\___(_) |_|\n",
      "                                      _/ |  \n",
      "                                     |__/   \n",
      "\n",
      "Press \"F1\" to show the help message.\n"
     ]
    }
   ],
   "source": [
    "init_visualiser()\n",
    "visualise!(model, data, trajectories = [states2])"
   ]
  },
  {
   "cell_type": "code",
   "execution_count": 48,
   "metadata": {},
   "outputs": [
    {
     "name": "stdout",
     "output_type": "stream",
     "text": [
      " __  __            _        _____       _ _ \n",
      "|  \\/  |          | |      / ____|     (_) |\n",
      "| \\  / |_   _     | | ___ | |     ___   _| |\n",
      "| |\\/| | | | |_   | |/ _ \\| |    / _ \\ | | |\n",
      "| |  | | |_| | |__| | (_) | |___| (_) || | |\n",
      "|_|  |_|\\__,_|\\____/ \\___/ \\_____\\___(_) |_|\n",
      "                                      _/ |  \n",
      "                                     |__/   \n",
      "\n",
      "Press \"F1\" to show the help message.\n"
     ]
    }
   ],
   "source": [
    "init_visualiser()\n",
    "visualise!(model, data, trajectories = [states3])"
   ]
  },
  {
   "cell_type": "code",
   "execution_count": null,
   "metadata": {},
   "outputs": [],
   "source": []
  }
 ],
 "metadata": {
  "kernelspec": {
   "display_name": "Julia 1.10.2",
   "language": "julia",
   "name": "julia-1.10"
  },
  "language_info": {
   "file_extension": ".jl",
   "mimetype": "application/julia",
   "name": "julia",
   "version": "1.10.2"
  }
 },
 "nbformat": 4,
 "nbformat_minor": 4
}
