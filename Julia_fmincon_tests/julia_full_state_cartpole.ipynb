{
 "cells": [
  {
   "cell_type": "code",
   "execution_count": 2,
   "metadata": {},
   "outputs": [
    {
     "name": "stderr",
     "output_type": "stream",
     "text": [
      "\u001b[32m\u001b[1m  Activating\u001b[22m\u001b[39m project at `d:\\CMU\\2024_Spring_Course\\OCRL\\ocrl-piano\\Julia_fmincon_tests`\n",
      "\u001b[32m\u001b[1m  No Changes\u001b[22m\u001b[39m to `D:\\CMU\\2024_Spring_Course\\OCRL\\ocrl-piano\\Julia_fmincon_tests\\Project.toml`\n",
      "\u001b[32m\u001b[1m    Updating\u001b[22m\u001b[39m `D:\\CMU\\2024_Spring_Course\\OCRL\\ocrl-piano\\Julia_fmincon_tests\\Manifest.toml`\n",
      "  \u001b[90m[d360d2e6] \u001b[39m\u001b[91m- ChainRulesCore v1.23.0\u001b[39m\n",
      "  \u001b[90m[9e997f8a] \u001b[39m\u001b[91m- ChangesOfVariables v0.1.8\u001b[39m\n"
     ]
    }
   ],
   "source": [
    "import Pkg\n",
    "Pkg.activate(@__DIR__)\n",
    "Pkg.resolve()\n",
    "Pkg.instantiate()\n",
    "\n",
    "import FiniteDiff\n",
    "import ForwardDiff as FD\n",
    "import Convex as cvx \n",
    "import ECOS\n",
    "import MuJoCo\n",
    "using LinearAlgebra\n",
    "using Plots\n",
    "using Random\n",
    "using JLD2\n",
    "using Test\n",
    "using StaticArrays\n",
    "using Printf\n",
    "using MuJoCo"
   ]
  },
  {
   "cell_type": "code",
   "execution_count": 3,
   "metadata": {},
   "outputs": [
    {
     "data": {
      "text/plain": [
       "fmincon (generic function with 1 method)"
      ]
     },
     "execution_count": 3,
     "metadata": {},
     "output_type": "execute_result"
    }
   ],
   "source": [
    "# include fmincon for ipopt\n",
    "include(joinpath(@__DIR__, \"utils\",\"fmincon.jl\"))"
   ]
  },
  {
   "cell_type": "code",
   "execution_count": 4,
   "metadata": {},
   "outputs": [],
   "source": [
    "\"\"\"\n",
    "x = fmincon(cost,equality_constraint,inequality_constraint,x_l,x_u,c_l,c_u,x0,params,diff_type)\n",
    "\n",
    "This function uses IPOPT to minimize an objective function \n",
    "\n",
    "`cost(params, x)` \n",
    "\n",
    "With the following three constraints: \n",
    "\n",
    "`equality_constraint(params, x) = 0`\n",
    "`c_l <= inequality_constraint(params, x) <= c_u` \n",
    "`x_l <= x <= x_u` \n",
    "\n",
    "Note that the constraint functions should return vectors. \n",
    "\n",
    "Problem specific parameters should be loaded into params::NamedTuple (things like \n",
    "cost weights, dynamics parameters, etc.). \n",
    "\n",
    "args:\n",
    "    cost::Function                    - objective function to be minimzed (returns scalar)\n",
    "    equality_constraint::Function     - c_eq(params, x) == 0 \n",
    "    inequality_constraint::Function   - c_l <= c_ineq(params, x) <= c_u \n",
    "    x_l::Vector                       - x_l <= x <= x_u \n",
    "    x_u::Vector                       - x_l <= x <= x_u \n",
    "    c_l::Vector                       - c_l <= c_ineq(params, x) <= x_u \n",
    "    c_u::Vector                       - c_l <= c_ineq(params, x) <= x_u \n",
    "    x0::Vector                        - initial guess \n",
    "    params::NamedTuple                - problem parameters for use in costs/constraints \n",
    "    diff_type::Symbol                 - :auto for ForwardDiff, :finite for FiniteDiff \n",
    "    verbose::Bool                     - true for IPOPT output, false for nothing \n",
    "\n",
    "optional args:\n",
    "    tol                               - optimality tolerance \n",
    "    c_tol                             - constraint violation tolerance \n",
    "    max_iters                         - max iterations \n",
    "    verbose                           - verbosity of IPOPT \n",
    "\n",
    "outputs:\n",
    "    x::Vector                         - solution \n",
    "\n",
    "You should try and use :auto for your `diff_type` first, and only use :finite if you \n",
    "absolutely cannot get ForwardDiff to work. \n",
    "\n",
    "This function will run a few basic checks before sending the problem off to IPOPT to \n",
    "solve. The outputs of these checks will be reported as the following:\n",
    "\n",
    "---------checking dimensions of everything----------\n",
    "---------all dimensions good------------------------\n",
    "---------diff type set to :auto (ForwardDiff.jl)----\n",
    "---------testing objective gradient-----------------\n",
    "---------testing constraint Jacobian----------------\n",
    "---------successfully compiled both derivatives-----\n",
    "---------IPOPT beginning solve----------------------\n",
    "\n",
    "If you're getting stuck during the testing of one of the derivatives, try switching \n",
    "to FiniteDiff.jl by setting diff_type = :finite. \n",
    "\"\"\";"
   ]
  },
  {
   "cell_type": "code",
   "execution_count": 5,
   "metadata": {},
   "outputs": [
    {
     "data": {
      "text/plain": [
       "MuJoCo Data object"
      ]
     },
     "execution_count": 5,
     "metadata": {},
     "output_type": "execute_result"
    }
   ],
   "source": [
    "# import piano model\n",
    "model = load_model(\"cartpole.xml\")\n",
    "data = init_data(model)"
   ]
  },
  {
   "cell_type": "code",
   "execution_count": 6,
   "metadata": {},
   "outputs": [
    {
     "name": "stdout",
     "output_type": "stream",
     "text": [
      "Initial position: [0.0; 0.0;;]\n",
      "Initial velocity: [0.0; 0.0;;]\n",
      "model states:[0.0, 0.0, 0.0, 0.0]\n"
     ]
    }
   ],
   "source": [
    "\n",
    "step!(model, data)\n",
    "\n",
    "println(\"Initial position: \", data.qpos)\n",
    "println(\"Initial velocity: \", data.qvel)\n",
    "println(\"model states:\",get_physics_state(model, data))"
   ]
  },
  {
   "cell_type": "markdown",
   "metadata": {},
   "source": [
    "## Test DIRCOL: moving index finger left right"
   ]
  },
  {
   "cell_type": "code",
   "execution_count": 7,
   "metadata": {},
   "outputs": [
    {
     "data": {
      "text/plain": [
       "create_idx (generic function with 1 method)"
      ]
     },
     "execution_count": 7,
     "metadata": {},
     "output_type": "execute_result"
    }
   ],
   "source": [
    "function wrapped_mj_step(model, data, x, uk)    \n",
    "    # given the current model and data. set the state and control to the model and perform a forward step\n",
    "    if typeof(x) == Vector{Float64}\n",
    "        # set control \n",
    "        data.ctrl[:] .= uk\n",
    "        # set state\n",
    "        data.qpos .= x[1:model.nq]\n",
    "        data.qvel .= x[(model.nq + 1):end]\n",
    "    else\n",
    "        # if using diff types, we need to convert the dual numbers to floats\n",
    "        converted_uk = ForwardDiff.value.(uk)\n",
    "        converted_x = ForwardDiff.value.(x)\n",
    "        # set control\n",
    "        data.ctrl[:] .= converted_uk\n",
    "\n",
    "        # set state\n",
    "        data.qpos .= converted_x[1:model.nq]\n",
    "        data.qvel .= converted_x[(model.nq + 1):end]\n",
    "    end\n",
    "    \n",
    "    # take discrete dynamics step \n",
    "    step!(model, data) \n",
    "\n",
    "    # return updated state k + 1\n",
    "    xkp1 = zeros(model.nq + model.nv) \n",
    "    xkp1 .= get_physics_state(model, data)\n",
    "    \n",
    "    return xkp1\n",
    "end\n",
    "\n",
    "function cartpole_cost(params::NamedTuple, Z::Vector)::Real\n",
    "    # TODO: implement cost function\n",
    "    idx, N, xg = params.idx, params.N, params.xg\n",
    "    Q, R, Qf = params.Q, params.R, params.Qf\n",
    "\n",
    "    J = 0 \n",
    "    for i = 1:(N-1)\n",
    "        xi = Z[idx.x[i]]\n",
    "        ui = Z[idx.u[i]]\n",
    "        J += 0.5*(xi-xg)'*Q*(xi-xg)+0.5*ui'*R*ui\n",
    "    end\n",
    "    \n",
    "    # dont forget terminal cost \n",
    "    xt = Z[idx.x[N]]\n",
    "    J += 0.5*(xt-xg)'*Q*(xt-xg)\n",
    "    return J \n",
    "end\n",
    "function cartpole_dynamics_constraints(params::NamedTuple, Z::Vector)::Vector\n",
    "    idx, N, dt = params.idx, params.N, params.dt\n",
    "    model = params.model\n",
    "    data = init_data(model)\n",
    "    # create c in a ForwardDiff friendly way (check HW0)\n",
    "    c = zeros(eltype(Z), idx.nc)\n",
    "    \n",
    "    for i = 1:(N-1)\n",
    "        xi = Z[idx.x[i]]\n",
    "        ui = Z[idx.u[i]] \n",
    "        xip1 = Z[idx.x[i+1]]\n",
    "        \n",
    "        # TODO: hermite simpson \n",
    "        # println(\"xi: \", xi[1:5])\n",
    "        # print(\"ui: \", typeof(ui))\n",
    "        xip1_mujoco = wrapped_mj_step(model, data, xi, ui)\n",
    "        c[idx.c[i]] = xip1_mujoco - xip1\n",
    "    end\n",
    "    # println(typeof(c))\n",
    "    return c \n",
    "end\n",
    "\n",
    "function cartpole_equality_constraints(params::NamedTuple, Z::Vector)::Vector\n",
    "    # TODO: implement equality constraints\n",
    "    # return zeros(eltype(Z), 0)\n",
    "    N, idx, xic, xg = params.N, params.idx, params.xic, params.xg \n",
    "\n",
    "    con_1 = Z[idx.x[1]] - xic\n",
    "    con_2 = Z[idx.x[N]] - xg\n",
    "\n",
    "    return [con_1; con_2; cartpole_dynamics_constraints(params, Z)]\n",
    "end\n",
    "function cartpole_inequality_constraints(params::NamedTuple, Z::Vector)::Vector\n",
    "    # TODO: implement inequality constraints\n",
    "    # println(Z)\n",
    "    return zeros(eltype(Z), 0)\n",
    "    # return inequality_constraints\n",
    "end\n",
    "function create_idx(nx,nu,N)\n",
    "    # This function creates some useful indexing tools for Z \n",
    "    # x_i = Z[idx.x[i]]\n",
    "    # u_i = Z[idx.u[i]]\n",
    "    \n",
    "    # Feel free to use/not use anything here.\n",
    "    \n",
    "    \n",
    "    # our Z vector is [x0, u0, x1, u1, …, xN]\n",
    "    nz = (N-1) * nu + N * nx # length of Z \n",
    "    x = [(i - 1) * (nx + nu) .+ (1 : nx) for i = 1:N]\n",
    "    u = [(i - 1) * (nx + nu) .+ ((nx + 1):(nx + nu)) for i = 1:(N - 1)]\n",
    "    \n",
    "    # constraint indexing for the (N-1) dynamics constraints when stacked up\n",
    "    c = [(i - 1) * (nx) .+ (1 : nx) for i = 1:(N - 1)]\n",
    "    nc = (N - 1) * nx # (N-1)*nx \n",
    "    \n",
    "    return (nx=nx,nu=nu,N=N,nz=nz,nc=nc,x= x,u = u,c = c)\n",
    "end"
   ]
  },
  {
   "cell_type": "code",
   "execution_count": 8,
   "metadata": {},
   "outputs": [
    {
     "data": {
      "text/plain": [
       "cartpole_solve_moving (generic function with 1 method)"
      ]
     },
     "execution_count": 8,
     "metadata": {},
     "output_type": "execute_result"
    }
   ],
   "source": [
    "\n",
    "function cartpole_solve_moving(;verbose=true)\n",
    "    # instantiate model and data\n",
    "    model = load_model(\"cartpole.xml\")\n",
    "    data = init_data(model)\n",
    "\n",
    "    # reset the model and data\n",
    "    reset!(model, data)\n",
    "    \n",
    "    # initiate time and time steps\n",
    "    dt = 0.1\n",
    "    tf = 1.0 \n",
    "    t_vec = 0:dt:tf \n",
    "    N = length(t_vec)\n",
    "\n",
    "    # LQR cost\n",
    "    # Q size of full states\n",
    "    # Q = diagm(ones(model.nq + model.nv))\n",
    "    # R = 0.1*diagm(ones(model.nu))\n",
    "    # Qf = 10*diagm(ones(model.nq + model.nv))\n",
    "\n",
    "\n",
    "    # Q size only 3 because we track one finger cartesian coordinates\n",
    "    Q = 1*diagm(ones(model.nq + model.nv))\n",
    "    R = 0.1*diagm(ones(model.nu))\n",
    "    Qf = 100*diagm(ones(model.nq + model.nv))\n",
    "\n",
    "    # indexing \n",
    "    idx = create_idx(model.nq + model.nv, model.nu, N)\n",
    "\n",
    "    # initial and goal state\n",
    "    xic = [0, pi, 0.1, 0]\n",
    "    xg = [0, 0, 0, 0]\n",
    "    \n",
    "    params = (Q = Q, R = R, Qf = Qf, xic = xic, xg = xg, dt = dt, N = N, idx = idx, model=model, data=data)\n",
    "\n",
    "\n",
    "    # primal bounds\n",
    "    x_l = -1 * Inf * ones(idx.nz)\n",
    "    x_u = Inf*ones(idx.nz)\n",
    "    \n",
    "    x_l = -1*Inf*ones(idx.nz)\n",
    "    x_u = Inf*ones(idx.nz)\n",
    "    for i = 1:(N-1)\n",
    "        x_l[idx.u[i]] .= -1.0\n",
    "        x_u[idx.u[i]] .= 1.0\n",
    "    end\n",
    "    # inequality constraints\n",
    "    # c_l = -1 * Inf * ones(3*(idx.N-1))\n",
    "    # c_u = Inf * ones(3*(idx.N-1))\n",
    "    c_l = zeros(0)\n",
    "    c_u = zeros(0)\n",
    "    # initial guess \n",
    "    z0 = 0.1*randn(idx.nz)\n",
    "\n",
    "    # choose diff type (try :auto, then use :finite if :auto doesn't work)\n",
    "    diff_type = :auto \n",
    "    # diff_type = :finite\n",
    "    \n",
    "    \n",
    "    Z = fmincon(cartpole_cost,cartpole_equality_constraints,cartpole_inequality_constraints,\n",
    "                x_l,x_u,c_l,c_u,z0,params, diff_type;\n",
    "                tol = 1e-6, c_tol = 1e-6, max_iters = 10_000, verbose = verbose)\n",
    "    \n",
    "    # pull the X and U solutions out of Z \n",
    "    X = [Z[idx.x[i]] for i = 1:N]\n",
    "    U = [Z[idx.u[i]] for i = 1:(N-1)]\n",
    "    return X, U, t_vec, params\n",
    "end"
   ]
  },
  {
   "cell_type": "code",
   "execution_count": 9,
   "metadata": {},
   "outputs": [
    {
     "name": "stdout",
     "output_type": "stream",
     "text": [
      "---------checking dimensions of everything----------\n",
      "---------all dimensions good------------------------\n",
      "---------diff type set to :auto (ForwardDiff.jl)----\n",
      "---------testing objective gradient-----------------\n",
      "---------testing constraint Jacobian----------------\n",
      "---------successfully compiled both derivatives-----\n",
      "---------IPOPT beginning solve----------------------\n",
      "\n",
      "******************************************************************************\n",
      "This program contains Ipopt, a library for large-scale nonlinear optimization.\n",
      " Ipopt is released as open source code under the Eclipse Public License (EPL).\n",
      "         For more information visit https://github.com/coin-or/Ipopt\n",
      "******************************************************************************\n",
      "\n",
      "This is Ipopt version 3.14.4, running with linear solver MUMPS 5.4.1.\n",
      "\n",
      "Number of nonzeros in equality constraint Jacobian...:     2592\n",
      "Number of nonzeros in inequality constraint Jacobian.:        0\n",
      "Number of nonzeros in Lagrangian Hessian.............:        0\n",
      "\n",
      "Total number of variables............................:       54\n",
      "                     variables with only lower bounds:        0\n",
      "                variables with lower and upper bounds:       10\n",
      "                     variables with only upper bounds:        0\n",
      "Total number of equality constraints.................:       48\n",
      "Total number of inequality constraints...............:        0\n",
      "        inequality constraints with only lower bounds:        0\n",
      "   inequality constraints with lower and upper bounds:        0\n",
      "        inequality constraints with only upper bounds:        0\n",
      "\n",
      "iter    objective    inf_pr   inf_du lg(mu)  ||d||  lg(rg) alpha_du alpha_pr  ls\n",
      "   0  2.3302521e-01 3.10e+00 2.63e-01   0.0 0.00e+00    -  0.00e+00 0.00e+00   0\n",
      "   1  5.1358048e+00 3.10e+00 6.03e-03  -1.9 3.10e+00    -  9.98e-01 1.00e+00h  1\n",
      "   2  1.0088316e+01 3.10e+00 1.35e-02  -3.7 3.10e+00    -  9.96e-01 1.00e+00h  1\n",
      "   3  1.5030994e+01 3.09e+00 1.25e-02  -5.5 3.10e+00    -  1.00e+00 1.00e+00h  1\n",
      "   4  1.9978132e+01 3.09e+00 1.13e-02  -7.1 3.09e+00    -  1.00e+00 1.00e+00h  1\n",
      "   5  2.4899565e+01 3.09e+00 1.02e-02  -8.7 3.09e+00    -  1.00e+00 1.00e+00h  1\n",
      "   6  2.9839018e+01 3.09e+00 9.21e-03 -10.4 3.09e+00    -  1.00e+00 1.00e+00h  1\n",
      "   7  3.4715206e+01 3.09e+00 8.35e-03 -11.0 3.09e+00    -  1.00e+00 1.00e+00h  1\n",
      "   8  3.9629867e+01 3.08e+00 7.56e-03 -11.0 3.09e+00    -  1.00e+00 1.00e+00h  1\n",
      "   9  4.4544724e+01 3.08e+00 6.83e-03 -11.0 3.08e+00    -  1.00e+00 1.00e+00h  1\n",
      "iter    objective    inf_pr   inf_du lg(mu)  ||d||  lg(rg) alpha_du alpha_pr  ls\n",
      "  10  4.9406473e+01 3.11e+00 6.17e-03 -11.0 3.08e+00    -  1.00e+00 1.00e+00h  1\n",
      "  11  5.0612443e+01 1.57e+00 5.56e-03 -11.0 1.54e+00    -  1.00e+00 1.00e+00h  1\n",
      "  12  5.0614145e+01 1.57e+00 5.00e-03 -11.0 5.56e-03    -  1.00e+00 1.00e+00h  1\n",
      "  13r 5.0614145e+01 1.57e+00 9.99e+02   0.2 0.00e+00    -  0.00e+00 4.77e-07R 22\n",
      "  14r 5.0615144e+01 1.57e+00 6.43e+02  -1.8 1.21e-02    -  1.00e+00 3.57e-01f  1\n",
      "  15r 5.0616507e+01 1.57e+00 1.94e+01  -2.2 3.72e-03    -  1.00e+00 9.70e-01f  1\n",
      "  16r 5.0617608e+01 1.57e+00 4.10e-04  -3.1 3.42e-03    -  1.00e+00 1.00e+00f  1\n",
      "  17r 5.0618603e+01 1.57e+00 3.21e-03  -9.0 2.46e-03    -  9.66e-01 9.97e-01h  1\n",
      "  18r 5.0618658e+01 1.57e+00 2.28e-05  -6.5 1.78e-03    -  1.00e+00 1.00e+00f  1\n",
      "  19r 5.0620004e+01 1.57e+00 2.75e-05  -8.5 1.70e-03    -  1.00e+00 1.00e+00h  1\n",
      "iter    objective    inf_pr   inf_du lg(mu)  ||d||  lg(rg) alpha_du alpha_pr  ls\n",
      "  20r 5.0625201e+01 1.57e+00 2.28e-05  -9.0 3.06e-03    -  1.00e+00 1.00e+00h  1\n",
      "  21r 5.0623392e+01 1.57e+00 2.08e-07  -9.0 2.36e-03    -  1.00e+00 1.00e+00h  1\n",
      "  22r 5.0621494e+01 1.57e+00 1.08e-07  -9.0 1.57e-03    -  1.00e+00 1.00e+00f  1\n",
      "  23r 5.0620297e+01 1.57e+00 9.06e-08  -9.0 1.92e-03    -  1.00e+00 1.00e+00H  1\n",
      "  24r 5.0619873e+01 1.57e+00 9.45e-08  -9.0 1.15e-03    -  1.00e+00 1.00e+00h  1\n",
      "  25r 5.0620132e+01 1.57e+00 2.03e-09  -9.0 5.75e-04    -  1.00e+00 1.00e+00f  1\n",
      "  26r 5.0620280e+01 1.57e+00 1.24e-09  -9.0 6.17e-04    -  1.00e+00 1.00e+00h  1\n",
      "  27r 5.0620284e+01 1.57e+00 1.32e-09  -9.0 6.05e-04    -  1.00e+00 1.00e+00h  1\n",
      "  28r 5.0620337e+01 1.57e+00 5.73e-10  -9.0 5.90e-04    -  1.00e+00 1.00e+00f  1\n",
      "  29r 5.0620345e+01 1.57e+00 7.44e-10  -9.0 5.76e-04    -  1.00e+00 1.00e+00h  1\n",
      "iter    objective    inf_pr   inf_du lg(mu)  ||d||  lg(rg) alpha_du alpha_pr  ls\n",
      "  30r 5.0620466e+01 1.57e+00 7.08e-10  -9.0 5.58e-04    -  1.00e+00 1.00e+00h  1\n",
      "  31r 5.0620429e+01 1.57e+00 1.96e-10  -9.0 4.97e-04    -  1.00e+00 1.00e+00f  1\n",
      "  32r 5.0620451e+01 1.57e+00 9.13e-11  -9.0 1.97e-04    -  1.00e+00 1.00e+00h  1\n",
      "  33r 5.0620467e+01 1.57e+00 6.06e-11  -9.0 5.90e-05    -  1.00e+00 1.00e+00h  1\n",
      "  34r 5.0620465e+01 1.57e+00 4.00e-11  -9.0 5.25e-05    -  1.00e+00 1.00e+00f  1\n",
      "  35r 5.0620467e+01 1.57e+00 2.17e-11  -9.0 1.12e-05    -  1.00e+00 1.00e+00h  1\n",
      "  36r 5.0620468e+01 1.57e+00 1.38e-11  -9.0 3.55e-06    -  1.00e+00 1.00e+00h  1\n",
      "  37r 5.0620469e+01 1.57e+00 8.41e-12  -9.0 1.29e-06    -  1.00e+00 1.00e+00h  1\n",
      "\n",
      "Number of Iterations....: 37\n",
      "\n",
      "                                   (scaled)                 (unscaled)\n",
      "Objective...............:   5.0620469615413441e+01    5.0620469615413441e+01\n",
      "Dual infeasibility......:   3.1416155840414035e+00    3.1416155840414035e+00\n",
      "Constraint violation....:   1.5706105979514924e+00    1.5706105979514924e+00\n",
      "Variable bound violation:   0.0000000000000000e+00    0.0000000000000000e+00\n",
      "Complementarity.........:   1.0000000000000001e-09    1.0000000000000001e-09\n",
      "Overall NLP error.......:   2.6703732460939520e+00    3.1416155840414035e+00\n",
      "\n",
      "\n",
      "Number of objective function evaluations             = 63\n",
      "Number of objective gradient evaluations             = 15\n",
      "Number of equality constraint evaluations            = 63\n",
      "Number of inequality constraint evaluations          = 0\n",
      "Number of equality constraint Jacobian evaluations   = 40\n",
      "Number of inequality constraint Jacobian evaluations = 0\n",
      "Number of Lagrangian Hessian evaluations             = 0\n",
      "Total seconds in IPOPT                               = 1.902\n",
      "\n",
      "EXIT: Converged to a point of local infeasibility. Problem may be infeasible.\n"
     ]
    },
    {
     "data": {
      "text/plain": [
       "([[7.250099687521798e-33, 3.141592653589793, 0.1, 2.99726911936619e-33], [0.0010097766897686773, 3.141615584032979, 0.10097766897686772, 0.0022930443186029155], [0.0019461980378477468, 3.1414662333632917, 0.09364213480928658, -0.014935066965520938], [0.00292321628452711, 3.141413557976874, 0.09770182466126713, -0.005267538657400737], [0.003948861337958072, 3.1414757567641427, 0.10256450534991568, 0.00621987874254854], [0.004915784404944592, 3.1414000105225925, 0.09669230650636312, -0.007574624599742679], [0.005885454653861365, 3.1413317430098577, 0.09696702529618541, -0.00682675033767908], [0.006842099899399788, 3.1412340604444027, 0.0956645346808602, -0.009768233556156948], [0.007722244427380198, 3.140958540210369, 0.08801435168948257, -0.027552252080910236], [0.008641506061269061, 3.140778379841143, 0.09192665101616576, -0.01801494406631117], [0.004647799179279091, 1.569635171601618, 0.034609506214974516, -0.03439665837846497]], [[0.003323740278761459], [-0.024080061132405114], [0.013436202643971024], [0.016107062079321926], [-0.01925375226787472], [0.0009714802470668994], [-0.0042318473555771055], [-0.025177565716218493], [0.012880153502999437], [-0.050019648752522315]], 0.0:0.1:1.0, (Q = [1.0 0.0 0.0 0.0; 0.0 1.0 0.0 0.0; 0.0 0.0 1.0 0.0; 0.0 0.0 0.0 1.0], R = [0.1;;], Qf = [100.0 0.0 0.0 0.0; 0.0 100.0 0.0 0.0; 0.0 0.0 100.0 0.0; 0.0 0.0 0.0 100.0], xic = [0.0, 3.141592653589793, 0.1, 0.0], xg = [0, 0, 0, 0], dt = 0.1, N = 11, idx = (nx = 4, nu = 1, N = 11, nz = 54, nc = 40, x = UnitRange{Int64}[1:4, 6:9, 11:14, 16:19, 21:24, 26:29, 31:34, 36:39, 41:44, 46:49, 51:54], u = UnitRange{Int64}[5:5, 10:10, 15:15, 20:20, 25:25, 30:30, 35:35, 40:40, 45:45, 50:50], c = UnitRange{Int64}[1:4, 5:8, 9:12, 13:16, 17:20, 21:24, 25:28, 29:32, 33:36, 37:40]), model = MuJoCo Model, data = MuJoCo Data))"
      ]
     },
     "execution_count": 9,
     "metadata": {},
     "output_type": "execute_result"
    }
   ],
   "source": [
    "X, U, t_vec, params = cartpole_solve_moving(verbose=true)"
   ]
  },
  {
   "cell_type": "code",
   "execution_count": 10,
   "metadata": {},
   "outputs": [
    {
     "data": {
      "text/plain": [
       "11-element Vector{Vector{Float64}}:\n",
       " [7.250099687521798e-33, 3.141592653589793, 0.1, 2.99726911936619e-33]\n",
       " [0.0010097766897686773, 3.141615584032979, 0.10097766897686772, 0.0022930443186029155]\n",
       " [0.0019461980378477468, 3.1414662333632917, 0.09364213480928658, -0.014935066965520938]\n",
       " [0.00292321628452711, 3.141413557976874, 0.09770182466126713, -0.005267538657400737]\n",
       " [0.003948861337958072, 3.1414757567641427, 0.10256450534991568, 0.00621987874254854]\n",
       " [0.004915784404944592, 3.1414000105225925, 0.09669230650636312, -0.007574624599742679]\n",
       " [0.005885454653861365, 3.1413317430098577, 0.09696702529618541, -0.00682675033767908]\n",
       " [0.006842099899399788, 3.1412340604444027, 0.0956645346808602, -0.009768233556156948]\n",
       " [0.007722244427380198, 3.140958540210369, 0.08801435168948257, -0.027552252080910236]\n",
       " [0.008641506061269061, 3.140778379841143, 0.09192665101616576, -0.01801494406631117]\n",
       " [0.004647799179279091, 1.569635171601618, 0.034609506214974516, -0.03439665837846497]"
      ]
     },
     "execution_count": 10,
     "metadata": {},
     "output_type": "execute_result"
    }
   ],
   "source": [
    "X"
   ]
  },
  {
   "cell_type": "code",
   "execution_count": 10,
   "metadata": {},
   "outputs": [
    {
     "data": {
      "text/plain": [
       "10-element Vector{Vector{Float64}}:\n",
       " [0.03930258048384414]\n",
       " [-0.04275307734564491]\n",
       " [-0.05614929571147601]\n",
       " [-0.0345028438922688]\n",
       " [0.052669761311953195]\n",
       " [-0.023472412642881153]\n",
       " [0.007511136586286255]\n",
       " [0.03802489554687757]\n",
       " [-0.04443802566595274]\n",
       " [-0.021326490412473788]"
      ]
     },
     "execution_count": 10,
     "metadata": {},
     "output_type": "execute_result"
    }
   ],
   "source": [
    "U"
   ]
  },
  {
   "cell_type": "code",
   "execution_count": 11,
   "metadata": {},
   "outputs": [
    {
     "name": "stdout",
     "output_type": "stream",
     "text": [
      "[[0.003323740278761459], [-0.024080061132405114], [0.013436202643971024], [0.016107062079321926], [-0.01925375226787472], [0.0009714802470668994], [-0.0042318473555771055], [-0.025177565716218493], [0.012880153502999437], [-0.050019648752522315]]"
     ]
    }
   ],
   "source": [
    "# instantiate model and data\n",
    "model = load_model(\"cartpole.xml\")\n",
    "data = init_data(model)\n",
    "\n",
    "# reset the model and data\n",
    "reset!(model, data)\n",
    "\n",
    "nx = model.nq + model.nv + model.na # State vector dimension\n",
    "N = length(t_vec)\n",
    "states = zeros(nx, N)\n",
    "ctrl_states = zeros(model.nu, N)\n",
    "N = length(t_vec)\n",
    "reset!(model, data)\n",
    "states[:,1] = X[1][:]\n",
    "\n",
    "data.qpos .= X[1][1:2]\n",
    "data.qvel .= X[1][3:4]\n",
    "step!(model, data)\n",
    "\n",
    "for t in 1:(N-1)\n",
    "    data.ctrl .= U[t][:]\n",
    "    states[:,t+1] = X[1][:]\n",
    "end\n",
    "print(U)"
   ]
  },
  {
   "cell_type": "code",
   "execution_count": 12,
   "metadata": {},
   "outputs": [
    {
     "name": "stdout",
     "output_type": "stream",
     "text": [
      " __  __            _        _____       _ _ \n",
      "|  \\/  |          | |      / ____|     (_) |\n",
      "| \\  / |_   _     | | ___ | |     ___   _| |\n",
      "| |\\/| | | | |_   | |/ _ \\| |    / _ \\ | | |\n",
      "| |  | | |_| | |__| | (_) | |___| (_) || | |\n",
      "|_|  |_|\\__,_|\\____/ \\___/ \\_____\\___(_) |_|\n",
      "                                      _/ |  \n",
      "                                     |__/   \n",
      "\n",
      "Press \"F1\" to show the help message.\n"
     ]
    },
    {
     "name": "stderr",
     "output_type": "stream",
     "text": [
      "\u001b[33m\u001b[1m┌ \u001b[22m\u001b[39m\u001b[33m\u001b[1mWarning: \u001b[22m\u001b[39mThe visualiser for MuJoCo.jl is designed to run multi-threaded, but the current Julia session was started with only one thread. Degraded performance will occur. To enable multi-threading, set JULIA_NUM_THREADS to a value greater than 1 before starting Julia.\n",
      "\u001b[33m\u001b[1m└ \u001b[22m\u001b[39m\u001b[90m@ VisualiserExt C:\\Users\\conan0223\\.julia\\packages\\MuJoCo\\9JERS\\ext\\VisualiserExt\\VisualiserExt.jl:76\u001b[39m\n"
     ]
    }
   ],
   "source": [
    "init_visualiser()\n",
    "visualise!(model, data, trajectories = states)"
   ]
  },
  {
   "cell_type": "code",
   "execution_count": null,
   "metadata": {},
   "outputs": [],
   "source": []
  }
 ],
 "metadata": {
  "kernelspec": {
   "display_name": "Julia 1.10.2",
   "language": "julia",
   "name": "julia-1.10"
  },
  "language_info": {
   "file_extension": ".jl",
   "mimetype": "application/julia",
   "name": "julia",
   "version": "1.10.2"
  }
 },
 "nbformat": 4,
 "nbformat_minor": 4
}
