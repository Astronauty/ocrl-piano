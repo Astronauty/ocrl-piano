{
 "cells": [
  {
   "cell_type": "code",
   "execution_count": 1,
   "metadata": {},
   "outputs": [
    {
     "name": "stderr",
     "output_type": "stream",
     "text": [
      "\u001b[32m\u001b[1m  Activating\u001b[22m\u001b[39m project at `~/daniel/ocrl-piano/Julia_fmincon_tests`\n",
      "\u001b[32m\u001b[1m  No Changes\u001b[22m\u001b[39m to `~/daniel/ocrl-piano/Julia_fmincon_tests/Project.toml`\n",
      "\u001b[32m\u001b[1m  No Changes\u001b[22m\u001b[39m to `~/daniel/ocrl-piano/Julia_fmincon_tests/Manifest.toml`\n"
     ]
    }
   ],
   "source": [
    "import Pkg\n",
    "Pkg.activate(@__DIR__)\n",
    "Pkg.resolve()\n",
    "Pkg.instantiate()\n",
    "import FiniteDiff\n",
    "import ForwardDiff as FD\n",
    "import Convex as cvx \n",
    "import ECOS\n",
    "import MuJoCo\n",
    "using LinearAlgebra\n",
    "using Plots\n",
    "using Random\n",
    "using JLD2\n",
    "using Test\n",
    "using StaticArrays\n",
    "using Printf\n",
    "using MuJoCo"
   ]
  },
  {
   "cell_type": "code",
   "execution_count": 2,
   "metadata": {},
   "outputs": [
    {
     "data": {
      "text/plain": [
       "fmincon (generic function with 1 method)"
      ]
     },
     "metadata": {},
     "output_type": "display_data"
    }
   ],
   "source": [
    "# include fmincon for ipopt\n",
    "include(joinpath(@__DIR__, \"utils\",\"fmincon.jl\"))"
   ]
  },
  {
   "cell_type": "code",
   "execution_count": 3,
   "metadata": {},
   "outputs": [
    {
     "data": {
      "text/plain": [
       "MuJoCo Model with 117 bodies and 114 joints"
      ]
     },
     "metadata": {},
     "output_type": "display_data"
    }
   ],
   "source": [
    "# import piano model\n",
    "model = load_model(\"piano_with_one_shadow_hand/scene.xml\")\n"
   ]
  },
  {
   "cell_type": "markdown",
   "metadata": {},
   "source": [
    "Model info"
   ]
  },
  {
   "cell_type": "code",
   "execution_count": 4,
   "metadata": {},
   "outputs": [
    {
     "name": "stdout",
     "output_type": "stream",
     "text": [
      "number of geoms: 152\n"
     ]
    },
    {
     "ename": "UndefVarError",
     "evalue": "UndefVarError: `data` not defined",
     "output_type": "error",
     "traceback": [
      "UndefVarError: `data` not defined\n",
      "\n",
      "Stacktrace:\n",
      " [1] top-level scope\n",
      "   @ ~/daniel/ocrl-piano/Julia_fmincon_tests/test_mujoco_single_finger.ipynb:3"
     ]
    }
   ],
   "source": [
    "println(\"number of geoms: \",model.ngeom)\n",
    "finger_indices = [115,116,123,124,131,132,141,142,150,151]\n",
    "step!(model, data)\n",
    "println(\"Simulation timestep: \", model.opt.timestep)\n",
    "println(\"Positions of joints: \", data.qpos)\n",
    "println(\"Cartesion position of joints: \", data.geom_xpos)\n",
    "println(\"Size of Cartesion position of joints: \", size(data.geom_xpos))\n",
    "println(\"model \")\n",
    "finger_geom_indices = [116,124,132,142,151]\n",
    "\"\"\"\n",
    "index finger:\n",
    "    name:\n",
    "        rh_shadow_hand//unnamed_geom_25\n",
    "        rh_shadow_hand//unnamed_geom_26\n",
    "    index:\n",
    "        115\n",
    "        116\n",
    "    range:\n",
    "        x:\n",
    "        y:-0.6-0.5\n",
    "        z:0-0.3\n",
    "\n",
    "middle finger:\n",
    "    name:\n",
    "        rh_shadow_hand//unnamed_geom_33\n",
    "        rh_shadow_hand//unnamed_geom_34\n",
    "    index:\n",
    "        123\n",
    "        124\n",
    "ring finger:\n",
    "    name:\n",
    "        rh_shadow_hand//unnamed_geom_41\n",
    "        rh_shadow_hand//unnamed_geom_42\n",
    "    index:\n",
    "        131\n",
    "        132\n",
    "pinky finger:\n",
    "    name:\n",
    "        rh_shadow_hand//unnamed_geom_51\n",
    "        rh_shadow_hand//unnamed_geom_52\n",
    "    index:\n",
    "        141\n",
    "        142\n",
    "thumb:\n",
    "    name:\n",
    "        rh_shadow_hand//unnamed_geom_60\n",
    "        rh_shadow_hand//unnamed_geom_61\n",
    "    index:\n",
    "        150\n",
    "        151\n",
    "\"\"\";"
   ]
  },
  {
   "cell_type": "markdown",
   "metadata": {},
   "source": [
    "Visualize target finger position"
   ]
  },
  {
   "cell_type": "code",
   "execution_count": 40,
   "metadata": {},
   "outputs": [
    {
     "name": "stdout",
     "output_type": "stream",
     "text": [
      "model.nq = 114\n",
      "model.nv = 114\n",
      "model.nu = 22\n",
      "data.qpos = [1.8953692701879468; 1.8995641930659128; -8.82359534359623e-5; -8.82359534359623e-5; -0.0004997467505765748; -8.82359534359623e-5; -0.0004997467505765748; -8.82359534359623e-5; -8.82359534359623e-5; -0.0004997467505765748; -8.82359534359623e-5; -0.0004997467505765748; -8.82359534359623e-5; -0.0004997467505765748; -8.82359534359623e-5; -8.82359534359623e-5; -0.0004997467505765748; -8.82359534359623e-5; -0.0004997467505765748; -8.82359534359623e-5; -8.82359534359623e-5; -0.0004997467505765748; -8.82359534359623e-5; -0.0004997467505765748; -8.82359534359623e-5; -0.0004997467505765748; -8.82359534359623e-5; -8.82359534359623e-5; -0.0004997467505765748; -8.82359534359623e-5; -0.0004997467505765748; -8.82359534359623e-5; -8.82359534359623e-5; -0.0004997467505765748; -8.82359534359623e-5; -0.0004997467505765748; -8.82359534359623e-5; -0.0004997467505765748; -8.82359534359623e-5; -8.82359534359623e-5; -0.0004997467505765748; -8.82359534359623e-5; -0.0004997467505765748; -8.82359534359623e-5; -8.82359534359623e-5; -0.0004997467505765748; -8.82359534359623e-5; -0.0004997467505765748; -8.82359534359623e-5; -0.0004997467505765748; -8.82359534359623e-5; -8.82359534359623e-5; -0.0004997467505765748; -8.82359534359623e-5; -0.0004997467505765748; -8.82359534359623e-5; -8.82359534359623e-5; -0.0004997467505765748; -8.82359534359623e-5; -0.0004997467505765748; -8.82359534359623e-5; -0.0004997467505765748; -8.82359534359623e-5; -8.82359534359623e-5; -0.0004997467505765748; -8.82359534359623e-5; -0.0004997467505765748; -8.82359534359623e-5; -8.82359534359623e-5; -0.0004997467505765748; -8.82359534359623e-5; -0.0004997467505765748; -8.82359534359623e-5; -0.0004997467505765748; -8.82359534359623e-5; -8.82359534359623e-5; -0.0004997467505765748; -8.82359534359623e-5; -0.0004997467505765748; -8.82359534359623e-5; -8.82359534359623e-5; -0.0004997467505765748; -8.82359534359623e-5; -0.0004997467505765748; -8.82359534359623e-5; -0.0004997467505765748; -8.82359534359623e-5; -8.82359534359623e-5; 1.5290936613509214e-6; -1.015208077971251e-5; 7.125545274096164e-5; 0.0024147147900965373; -6.798425655411952e-5; 0.4817376763711145; 0.47620748784568157; 0.47373732912192973; -8.569918113386262e-5; -0.00027462618286851144; 0.0002773305485690597; 6.162558620997076e-5; 8.381877255716836e-5; -0.00023222205107554202; 0.0002757263082472088; 6.143881263400003e-5; -3.612668590210327e-5; 7.981181667243524e-5; -0.00011550200580511181; 0.00011924689693136568; 2.5359755810002914e-5; -2.085292690787593e-5; 0.0006675985820790628; 0.00028134604730153283; -7.579956826123142e-5; -1.6190050900194716e-5;;]\n",
      "data.qvel = [-20.92614596241065; -20.087161386817453; -0.01764719068719246; -0.01764719068719246; -0.09994935011531494; -0.01764719068719246; -0.09994935011531494; -0.01764719068719246; -0.01764719068719246; -0.09994935011531494; -0.01764719068719246; -0.09994935011531494; -0.01764719068719246; -0.09994935011531494; -0.01764719068719246; -0.01764719068719246; -0.09994935011531494; -0.01764719068719246; -0.09994935011531494; -0.01764719068719246; -0.01764719068719246; -0.09994935011531494; -0.01764719068719246; -0.09994935011531494; -0.01764719068719246; -0.09994935011531494; -0.01764719068719246; -0.01764719068719246; -0.09994935011531494; -0.01764719068719246; -0.09994935011531494; -0.01764719068719246; -0.01764719068719246; -0.09994935011531494; -0.01764719068719246; -0.09994935011531494; -0.01764719068719246; -0.09994935011531494; -0.01764719068719246; -0.01764719068719246; -0.09994935011531494; -0.01764719068719246; -0.09994935011531494; -0.01764719068719246; -0.01764719068719246; -0.09994935011531494; -0.01764719068719246; -0.09994935011531494; -0.01764719068719246; -0.09994935011531494; -0.01764719068719246; -0.01764719068719246; -0.09994935011531494; -0.01764719068719246; -0.09994935011531494; -0.01764719068719246; -0.01764719068719246; -0.09994935011531494; -0.01764719068719246; -0.09994935011531494; -0.01764719068719246; -0.09994935011531494; -0.01764719068719246; -0.01764719068719246; -0.09994935011531494; -0.01764719068719246; -0.09994935011531494; -0.01764719068719246; -0.01764719068719246; -0.09994935011531494; -0.01764719068719246; -0.09994935011531494; -0.01764719068719246; -0.09994935011531494; -0.01764719068719246; -0.01764719068719246; -0.09994935011531494; -0.01764719068719246; -0.09994935011531494; -0.01764719068719246; -0.01764719068719246; -0.09994935011531494; -0.01764719068719246; -0.09994935011531494; -0.01764719068719246; -0.09994935011531494; -0.01764719068719246; -0.01764719068719246; 0.0003058187322701843; -0.0020304161559425017; 0.014251090548192328; 0.4829429580193075; -0.013596851310823903; -3.652464725777108; -4.758502430863683; -5.252534175614057; -0.017139836226772523; -0.05492523657370228; 0.05546610971381194; 0.012325117241994152; 0.016763754511433672; -0.0464444102151084; 0.05514526164944176; 0.012287762526800004; -0.007225337180420653; 0.01596236333448705; -0.02310040116102236; 0.023849379386273135; 0.005071951162000583; -0.004170585381575186; 0.13351971641581256; 0.056269209460306564; -0.015159913652246282; -0.0032380101800389433;;]\n",
      "typeof(vec(vcat(data.qpos, data.qvel))) = Vector{Float64}\n",
      "data.ctrl = [0.0; 0.0; 0.0; 0.0; 0.0; 0.0; 0.0; 0.0; 0.0; 0.0; 0.0; 0.0; 0.0; 0.0; 0.0; 0.0; 0.0; 0.0; 0.0; 0.0; 0.0; 0.0;;]\n",
      " __  __            _        _____       _ _ \n",
      "|  \\/  |          | |      / ____|     (_) |\n",
      "| \\  / |_   _     | | ___ | |     ___   _| |\n",
      "| |\\/| | | | |_   | |/ _ \\| |    / _ \\ | | |\n",
      "| |  | | |_| | |__| | (_) | |___| (_) || | |\n",
      "|_|  |_|\\__,_|\\____/ \\___/ \\_____\\___(_) |_|\n",
      "                                      _/ |  \n",
      "                                     |__/   \n",
      "\n",
      "Press \"F1\" to show the help message.\n",
      "\n",
      "typeof(xic) = Vector{Float64}\n",
      "size(x[indices]) = (6,)\n"
     ]
    },
    {
     "data": {
      "text/plain": [
       "(6,)"
      ]
     },
     "metadata": {},
     "output_type": "display_data"
    }
   ],
   "source": [
    "reset!(model, data)\n",
    "@show model.nq\n",
    "@show model.nv\n",
    "@show model.nu\n",
    "\n",
    "\n",
    "qpos_target = copy(data.qpos)\n",
    "qpos_target[94] = 0.5\n",
    "qpos_target[95] = 0.5\n",
    "qpos_target[96] = 0.5\n",
    "\n",
    "data.qpos .= qpos_target\n",
    "data.qpos[1:2] = [2, 2]\n",
    "step!(model, data)\n",
    "@show data.qpos\n",
    "@show data.qvel\n",
    "@show typeof(vec(vcat(data.qpos, data.qvel)))\n",
    "@show data.ctrl\n",
    "init_visualiser()\n",
    "visualise!(model, data)\n",
    "println()\n",
    "\n",
    "xic = randn(model.nq + model.nv)\n",
    "@show typeof(xic)\n",
    "x = get_physics_state(model, data)\n",
    "\n",
    "indices = vcat(94:96, 114+94:114+96)\n",
    "@show size(x[indices])"
   ]
  },
  {
   "cell_type": "markdown",
   "metadata": {},
   "source": [
    "## Test DIRCOL: moving index finger left right"
   ]
  },
  {
   "cell_type": "code",
   "execution_count": 14,
   "metadata": {},
   "outputs": [
    {
     "data": {
      "text/plain": [
       "create_idx (generic function with 1 method)"
      ]
     },
     "metadata": {},
     "output_type": "display_data"
    }
   ],
   "source": [
    "function wrapped_mj_step(model, data, x, uk)\n",
    "    # given the current model and data. set the state and control to the model and perform a forward step\n",
    "    if typeof(x) == Vector{Float64}\n",
    "        # set control \n",
    "        data.ctrl[7:9] = uk\n",
    "        # set state\n",
    "        # data.qpos .= x[1:model.nq]\n",
    "        # data.qvel .= x[(model.nq + 1):end]\n",
    "        data.qpos[94:96] = x[1:3]\n",
    "        data.qvel[94:96] = x[4:6]\n",
    "    else\n",
    "        # if using diff types, we need to convert the dual numbers to floats\n",
    "        converted_uk = ForwardDiff.value.(uk)\n",
    "        converted_x = ForwardDiff.value.(x)\n",
    "        # set control\n",
    "        data.ctrl[:] .= converted_uk\n",
    "\n",
    "        # set state\n",
    "        data.qpos .= converted_x[1:model.nq]\n",
    "        data.qvel .= converted_x[(model.nq + 1):end]\n",
    "    end\n",
    "    \n",
    "    # take discrete dynamics step \n",
    "    step!(model, data) \n",
    "\n",
    "    # return updated state k + 1\n",
    "    xkp1 = zeros(model.nq + model.nv) \n",
    "    xkp1 .= get_physics_state(model, data)\n",
    "    # finger_coordinates = data.geom_xpos[finger_geom_indices,:]\n",
    "    \n",
    "    return xkp1\n",
    "end\n",
    "\n",
    "function robohand_cost(params::NamedTuple, Z::Vector)::Real\n",
    "    # TODO: implement cost function\n",
    "    idx, N, xg = params.idx, params.N, params.xg\n",
    "    model = params.model\n",
    "    data = params.data\n",
    "    Q, R, Qf = params.Q, params.R, params.Qf\n",
    "\n",
    "    # stage cost\n",
    "    cost = 0.0\n",
    "    for i = 1:(N-1)\n",
    "        xi = Z[idx.x[i]]\n",
    "        ui = Z[idx.u[i]]\n",
    "\n",
    "        # @show xi-xg\n",
    "        # cost += 0.5*(xi[94:96]-xg[94:96])'*Q*(xi[94:96]-xg[94:96])+0.5*ui'*R*ui\n",
    "        cost += 0.5*(xi-xg)'*Q*(xi-xg)+0.5*ui'*R*ui\n",
    "    end\n",
    "\n",
    "    # terminal cost \n",
    "    xf = Z[idx.x[N]]\n",
    "    # cost += 0.5*(xf[94:96]-xg[94:96])'*Qf*(xf[94:96]-xg[94:96])\n",
    "    cost += 0.5*(xf-xg)'*Qf*(xf-xg)\n",
    "\n",
    "    return cost\n",
    "end\n",
    "function robohand_dynamics_constraints(params::NamedTuple, Z::Vector)::Vector\n",
    "    idx, N, dt = params.idx, params.N, params.dt\n",
    "    model = params.model\n",
    "    data = params.data\n",
    "    # create c in a ForwardDiff friendly way (check HW0)\n",
    "    c = zeros(eltype(Z), idx.nc)\n",
    "    \n",
    "    for i = 1:(N-1)\n",
    "        xi = Z[idx.x[i]]\n",
    "        ui = Z[idx.u[i]] \n",
    "        xip1 = Z[idx.x[i+1]]\n",
    "        \n",
    "        data.qpos[94:96] = xi[1:3]\n",
    "        data.qvel[94:96] = xi[4:6]\n",
    "        xip1_mujoco = wrapped_mj_step(model, data, xi, ui)\n",
    "        # c[idx.c[i]] = xip1_mujoco[94:96] - xip1[94:96]\n",
    "\n",
    "        indices = vcat(94:96, 114+94:114+96)\n",
    "        c[idx.c[i]] = xip1_mujoco[indices] - xip1\n",
    "    end\n",
    "    # println(typeof(c))\n",
    "    return c \n",
    "end\n",
    "\n",
    "function robohand_equality_constraints(params::NamedTuple, Z::Vector)::Vector\n",
    "    # TODO: implement equality constraints\n",
    "    # return zeros(eltype(Z), 0)\n",
    "    N, idx, xic, xg = params.N, params.idx, params.xic, params.xg \n",
    "    model = params.model\n",
    "    data = params.data\n",
    "\n",
    "    con_1 = Z[idx.x[1]] - xic\n",
    "    con_2 = Z[idx.x[N]] - xg\n",
    "\n",
    "    return [con_1; con_2; robohand_dynamics_constraints(params, Z)]\n",
    "    # return [con_1; con_2]\n",
    "end\n",
    "function robohand_inequality_constraints(params::NamedTuple, Z::Vector)::Vector\n",
    "    # TODO: implement inequality constraints\n",
    "    # println(Z)\n",
    "    return zeros(eltype(Z), 0)\n",
    "    # return inequality_constraints\n",
    "end\n",
    "function create_idx(nx,nu,N)\n",
    "    # This function creates some useful indexing tools for Z \n",
    "    # x_i = Z[idx.x[i]]\n",
    "    # u_i = Z[idx.u[i]]\n",
    "    \n",
    "    # Feel free to use/not use anything here.\n",
    "    \n",
    "    \n",
    "    # our Z vector is [x0, u0, x1, u1, …, xN]\n",
    "    nz = (N-1) * nu + N * nx # length of Z \n",
    "    x = [(i - 1) * (nx + nu) .+ (1 : nx) for i = 1:N]\n",
    "    u = [(i - 1) * (nx + nu) .+ ((nx + 1):(nx + nu)) for i = 1:(N - 1)]\n",
    "    \n",
    "    # constraint indexing for the (N-1) dynamics constraints when stacked up\n",
    "    c = [(i - 1) * (nx) .+ (1 : nx) for i = 1:(N - 1)]\n",
    "    nc = (N - 1) * nx # (N-1)*nx \n",
    "    \n",
    "    return (nx=nx,nu=nu,N=N,nz=nz,nc=nc,x= x,u = u,c = c)\n",
    "end"
   ]
  },
  {
   "cell_type": "code",
   "execution_count": 51,
   "metadata": {},
   "outputs": [
    {
     "data": {
      "text/plain": [
       "solve_finger_moving (generic function with 1 method)"
      ]
     },
     "metadata": {},
     "output_type": "display_data"
    }
   ],
   "source": [
    "\n",
    "function solve_finger_moving(;verbose=true)\n",
    "    # instantiate model and data\n",
    "    model = load_model(\"piano_with_one_shadow_hand/scene.xml\")\n",
    "    data = init_data(model)\n",
    "\n",
    "    # reset the model and data\n",
    "    reset!(model, data)\n",
    "    \n",
    "    # initiate time and time steps\n",
    "    dt = 0.005\n",
    "    tf = 0.25\n",
    "    t_vec = 0:dt:tf\n",
    "    N = length(t_vec)\n",
    "\n",
    "    # LQR cost\n",
    "    # Q size of full states\n",
    "    # Q = diagm(ones(model.nq + model.nv))\n",
    "    # R = 0.1*diagm(ones(model.nu))\n",
    "    # Qf = 10*diagm(ones(model.nq + model.nv))\n",
    "\n",
    "    Q = 1*diagm(ones(6))\n",
    "    # R = 0.1*diagm(ones(model.nu))\n",
    "    R = 0.1*diagm(ones(3))\n",
    "    Qf = 10*diagm(ones(6))\n",
    "\n",
    "    # initial and goal states\n",
    "    xic = vec(vcat(copy(data.qpos[94:96]), copy(data.qvel[94:96])))\n",
    "\n",
    "    # xg = vec(vcat(copy(data.qpos), copy(data.qvel)))\n",
    "    # xg[94] = 0.5\n",
    "    # xg[95] = 0.5\n",
    "    # xg[96] = 0.5\n",
    "    xg = [0.5, 0.5, 0.5, 0, 0, 0]\n",
    "\n",
    "    # xic = randn(model.nq + model.nv)\n",
    "    # xg = xic\n",
    "\n",
    "    # indexing \n",
    "    # idx = create_idx(model.nq + model.nv, model.nu, N)\n",
    "    idx = create_idx(6, 3, N)\n",
    "    \n",
    "    params = (Q = Q, R = R, Qf = Qf, xic = xic, xg = xg, dt = dt, N = N, idx = idx, model=model, data=data)\n",
    "\n",
    "\n",
    "    # primal bounds\n",
    "    # x_l = -1 * Inf * ones(idx.nz)\n",
    "    x_l = -1*ones(idx.nz)\n",
    "    # x_u = Inf*ones(idx.nz)\n",
    "    x_u = ones(idx.nz)\n",
    "    \n",
    "\n",
    "    # inequality constraints\n",
    "    # c_l = -1 * Inf * ones(3*(idx.N-1))\n",
    "    # c_u = Inf * ones(3*(idx.N-1))\n",
    "    c_l = zeros(0)\n",
    "    c_u = zeros(0)\n",
    "\n",
    "    # initial guess \n",
    "    z0 = 0.001*randn(idx.nz)\n",
    "    z0[idx.x[1]] = xic\n",
    "\n",
    "    # diff type\n",
    "    # diff_type = :auto \n",
    "    diff_type = :finite\n",
    "    \n",
    "    \n",
    "    Z = fmincon(robohand_cost,robohand_equality_constraints,robohand_inequality_constraints,\n",
    "                x_l,x_u,c_l,c_u,z0,params, diff_type;\n",
    "                tol = 1e-3, c_tol = 1e-3, max_iters = 25, verbose = verbose)\n",
    "    \n",
    "    # pull the X and U solutions out of Z \n",
    "    X = [Z[idx.x[i]] for i = 1:N]\n",
    "    U = [Z[idx.u[i]] for i = 1:(N-1)]\n",
    "    return X, U, t_vec, params\n",
    "end"
   ]
  },
  {
   "cell_type": "code",
   "execution_count": 52,
   "metadata": {},
   "outputs": [
    {
     "name": "stdout",
     "output_type": "stream",
     "text": [
      "---------checking dimensions of everything----------\n",
      "---------all dimensions good------------------------\n",
      "---------diff type set to :finite (FiniteDiff.jl)---\n",
      "---------testing objective gradient-----------------\n",
      "---------testing constraint Jacobian----------------\n",
      "---------successfully compiled both derivatives-----\n",
      "---------IPOPT beginning solve----------------------\n",
      "This is Ipopt version 3.14.4, running with linear solver MUMPS 5.4.1.\n",
      "\n",
      "Number of nonzeros in equality constraint Jacobian...:   142272\n",
      "Number of nonzeros in inequality constraint Jacobian.:        0\n",
      "Number of nonzeros in Lagrangian Hessian.............:        0\n",
      "\n",
      "Total number of variables............................:      456\n",
      "                     variables with only lower bounds:        0\n",
      "                variables with lower and upper bounds:      456\n",
      "                     variables with only upper bounds:        0\n",
      "Total number of equality constraints.................:      312\n",
      "Total number of inequality constraints...............:        0\n",
      "        inequality constraints with only lower bounds:        0\n",
      "   inequality constraints with lower and upper bounds:        0\n",
      "        inequality constraints with only upper bounds:        0\n",
      "\n",
      "iter    objective    inf_pr   inf_du lg(mu)  ||d||  lg(rg) alpha_du alpha_pr  ls\n",
      "   0  2.2503510e+01 5.01e-01 5.13e-02   0.0 0.00e+00    -  0.00e+00 0.00e+00   0\n",
      "   1  2.2504325e+01 5.01e-01 6.26e+02  -6.0 2.44e+03    -  4.05e-04 2.53e-05h  5\n",
      "   2  2.2510886e+01 5.01e-01 9.61e+02   2.0 2.40e+03    -  7.26e-04 1.21e-05h  6\n",
      "   3  2.2513699e+01 5.01e-01 9.38e+02   2.0 1.25e+03    -  1.24e-03 1.18e-05h  7\n",
      "   4r 2.2513699e+01 5.01e-01 7.83e+02   2.1 0.00e+00    -  0.00e+00 3.67e-07R 13\n",
      "   5r 1.6961976e+01 2.30e+00 2.22e+05   0.5 2.49e+00    -  1.00e+00 3.26e-01f  1\n",
      "   6r 2.4895714e+01 7.20e+00 2.31e+07   1.5 3.30e+00    -  9.24e-01 3.99e-01f  1\n",
      "   7r 2.3926617e+01 6.20e+00 3.31e+07   1.1 5.73e-01    -  2.14e-01 1.58e-01f  1\n",
      "   8r 2.0769775e+01 4.14e+00 2.73e+06   2.4 1.77e+00    -  1.85e-01 4.60e-01f  1\n",
      "   9r 1.8820308e+01 2.13e+00 8.22e+05   1.9 1.34e+00    -  5.29e-01 5.36e-01f  1\n",
      "iter    objective    inf_pr   inf_du lg(mu)  ||d||  lg(rg) alpha_du alpha_pr  ls\n",
      "  10r 1.8661893e+01 2.07e+00 8.86e+05   2.5 2.29e+01    -  7.27e-01 2.53e-02f  1\n",
      "  11r 1.8601911e+01 5.10e-01 1.15e+06   2.0 1.33e+00    -  1.00e+00 7.84e-01f  1\n",
      "  12r 1.8402929e+01 5.63e-01 2.23e+06   1.2 1.45e-01    -  1.00e+00 8.23e-01f  1\n",
      "  13r 1.8523082e+01 3.41e-01 1.82e+07   2.6 4.52e-01    -  3.43e-01 1.00e+00f  1\n",
      "  14  1.8520957e+01 4.54e-01 1.34e+06  -3.9 1.23e+02    -  7.59e-03 1.05e-03h  4\n",
      "  15  1.8529881e+01 4.45e-01 7.94e+04   3.0 9.14e+01    -  1.69e-02 3.11e-04h  6\n",
      "  16  1.8533958e+01 4.46e-01 1.23e+05   2.0 2.83e+02    -  4.23e-03 2.03e-04h  5\n",
      "  17r 1.8533958e+01 4.46e-01 1.00e+03   2.0 0.00e+00    -  0.00e+00 3.20e-07R 15\n",
      "  18r 1.8396515e+01 3.78e-01 3.20e+04  -3.9 2.31e+00    -  7.40e-01 2.18e-01f  1\n",
      "  19  1.8396173e+01 3.80e-01 4.61e+03  -4.0 5.62e+02    -  1.96e-03 4.86e-05h  6\n",
      "iter    objective    inf_pr   inf_du lg(mu)  ||d||  lg(rg) alpha_du alpha_pr  ls\n",
      "  20  1.8396794e+01 3.79e-01 1.18e+05   3.0 3.35e+02    -  3.05e-03 9.18e-05h  6\n",
      "  21r 1.8396794e+01 3.78e-01 5.18e+02   3.0 0.00e+00    -  0.00e+00 2.94e-07R 15\n",
      "  22r 1.8080009e+01 6.05e-01 5.47e+03  -3.3 1.50e+00    -  8.96e-01 8.10e-01f  1\n",
      "  23r 1.7970153e+01 1.45e+00 3.79e+05   1.1 7.23e-01    -  1.00e+00 7.57e-01f  1\n",
      "  24r 1.7425925e+01 4.34e+00 1.08e+05   1.0 6.39e-01    -  1.00e+00 7.16e-01f  1\n",
      "  25r 2.4635688e+01 1.40e+00 2.86e+05   1.7 1.24e+00    -  1.00e+00 9.31e-01f  1\n",
      "\n",
      "Number of Iterations....: 25\n",
      "\n",
      "                                   (scaled)                 (unscaled)\n",
      "Objective...............:   2.4635688465821207e+01    2.4635688465821207e+01\n",
      "Dual infeasibility......:   2.8636838999428117e+05    2.8636838999428117e+05\n",
      "Constraint violation....:   1.3960185784091919e+00    1.3960185784091919e+00\n",
      "Variable bound violation:   0.0000000000000000e+00    0.0000000000000000e+00\n",
      "Complementarity.........:   1.1229765416796275e+02    1.1229765416796275e+02\n",
      "Overall NLP error.......:   2.8636838999428117e+05    2.8636838999428117e+05\n",
      "\n",
      "\n",
      "Number of objective function evaluations             = 118\n",
      "Number of objective gradient evaluations             = 15\n",
      "Number of equality constraint evaluations            = 118\n",
      "Number of inequality constraint evaluations          = 0\n",
      "Number of equality constraint Jacobian evaluations   = 29\n",
      "Number of inequality constraint Jacobian evaluations = 0\n",
      "Number of Lagrangian Hessian evaluations             = 0\n",
      "Total seconds in IPOPT                               = 75.297\n",
      "\n",
      "EXIT: Maximum Number of Iterations Exceeded.\n"
     ]
    },
    {
     "data": {
      "text/plain": [
       "([[-0.024690407683151238, -0.014141296248814574, 0.005603184127693126, 0.005905001158191563, 0.002788161461752901, 0.00165841790368812], [-0.031185873680188478, -0.014450410107794062, 0.007064856476908905, 0.19127144965869497, -0.03718881719906428, -0.05977566687330234], [-0.04143965608585348, -0.014302574890513852, 0.00932678797996845, -0.6210234294583701, -0.1035892385534599, -0.07905302668295651], [-0.048318235950185986, -0.014858366175886374, 0.011585337461464007, 0.1645654318769069, -0.2133970071768986, -0.08322517278177666], [-0.05624897689627302, -0.016413172051081223, 0.013208681697172275, -0.0778932459032603, -0.29053716876285446, -0.0869750985269777], [-0.06320178965422282, -0.015640327104328226, 0.015624116409790938, 0.0006059046220067699, 0.044962076082068606, -0.06449255331942047], [-0.0694450700110357, -0.015250308021308518, 0.017954604577731258, 0.08936185887915028, -0.0033320475564051766, -0.05460821528113044], [-0.07487461415952373, -0.014856511455255775, 0.02131847442310278, 0.05165834526946353, -0.13455756274279784, 0.012593879168848299], [-0.08080573453906983, -0.015095531937963834, 0.02411232985011863, -0.08885954113853585, -0.16975180634549616, -0.009662862065558598], [-0.08615290806999605, -0.015011557393230355, 0.027039066132311183, 0.04246090783701707, -0.12572827726667918, -0.011210211100664034]  …  [0.006789943697582623, -0.06677001541229532, 0.03353021498866672, -0.2768543056133209, 0.5936929812383551, -0.32512985435895614], [0.032093538168752905, -0.06635111206708766, 0.028917293888837674, -0.19062739673876902, 0.643648599908009, -0.4257146431773002], [0.062311871231242266, -0.058440949117481766, 0.028055187794508947, -0.09603500319565228, 0.6073101133746137, -0.4725326026807516], [0.09761034211851607, -0.041863183265374776, 0.028273947948177156, 0.04035519560890721, 0.6499138587630285, -0.5043216007550897], [0.13905115166740417, -0.014591418088951064, 0.029274535429725718, 0.1010515273509508, 0.5851205983928451, -0.5372130539021167], [0.18408263035180483, 0.0020323104142989656, 0.013796841507992874, 0.020383847812551387, 0.20369480881808885, -0.5396974144119067], [0.23498967023020545, 0.018301125886075797, -0.006956718555494561, -0.08172865092585765, 0.25623960291451675, -0.47112431299167584], [0.2919203139724361, 0.03963421510183168, -0.026772695767331565, 0.029104598112668432, -0.14491278399435387, -0.24959848671719942], [0.35525020414842073, 0.06539869897697012, -0.02765680702926206, -0.2210080472709354, 0.126139507764166, -0.03438928069968461], [0.4242166071443741, 0.2721672178864446, 0.16909484206930592, 0.00011796009291061113, 0.002195708340665474, -0.01652887646758019]], [[-0.1456015026603511, 0.4308728961516286, -0.16956991448859407], [-0.5087472837427149, -0.9883746582793315, -0.020249537738707343], [0.08631736159135203, 0.09371172685166342, -0.16888939924253976], [-0.059424882050121614, -0.04897675149956526, -0.18125869210533543], [0.041506146812584827, 0.0054630297843803535, -0.05965401249342148], [0.027160862484585817, 0.06551006153593497, -0.08117150506056822], [0.07806219989387338, 0.028139732253254002, 0.01908074814573034], [0.022258202314631846, 0.07586244958430298, -0.13383019689114758], [0.08003281245202194, 0.01938812708095193, -0.1967412677867405], [0.028001807042035476, 0.07552681317650531, -0.11009623375025805]  …  [0.08344346213220838, 0.025044602869918636, -0.5279349540819092], [0.030470197434394213, 0.07797201319716718, -0.04076438168688193], [0.07317048635766098, 0.02752768382542428, 0.038481608355049185], [0.02933424814201372, 0.06950281672320033, 0.026436853595647986], [0.07833617162256294, 0.026473095028550275, 0.08169883122044641], [0.033340185496238336, 0.07375552470420364, 0.15637356209762338], [0.08076522659985633, 0.030178677779749308, 0.1228771458636595], [0.022609248092358813, 0.07665632899890384, 0.30856207142711656], [0.07931843500580575, 0.0175950128897329, 0.21224360223739205], [0.02751111072226342, 0.07428069215852931, 0.3366306252699555]], 0.0:0.005:0.25, (Q = [1.0 0.0 … 0.0 0.0; 0.0 1.0 … 0.0 0.0; … ; 0.0 0.0 … 1.0 0.0; 0.0 0.0 … 0.0 1.0], R = [0.1 0.0 0.0; 0.0 0.1 0.0; 0.0 0.0 0.1], Qf = [10.0 0.0 … 0.0 0.0; 0.0 10.0 … 0.0 0.0; … ; 0.0 0.0 … 10.0 0.0; 0.0 0.0 … 0.0 10.0], xic = [0.0, 0.0, 0.0, 0.0, 0.0, 0.0], xg = [0.5, 0.5, 0.5, 0.0, 0.0, 0.0], dt = 0.005, N = 51, idx = (nx = 6, nu = 3, N = 51, nz = 456, nc = 300, x = UnitRange{Int64}[1:6, 10:15, 19:24, 28:33, 37:42, 46:51, 55:60, 64:69, 73:78, 82:87  …  370:375, 379:384, 388:393, 397:402, 406:411, 415:420, 424:429, 433:438, 442:447, 451:456], u = UnitRange{Int64}[7:9, 16:18, 25:27, 34:36, 43:45, 52:54, 61:63, 70:72, 79:81, 88:90  …  367:369, 376:378, 385:387, 394:396, 403:405, 412:414, 421:423, 430:432, 439:441, 448:450], c = UnitRange{Int64}[1:6, 7:12, 13:18, 19:24, 25:30, 31:36, 37:42, 43:48, 49:54, 55:60  …  241:246, 247:252, 253:258, 259:264, 265:270, 271:276, 277:282, 283:288, 289:294, 295:300]), model = MuJoCo Model, data = MuJoCo Data))"
      ]
     },
     "metadata": {},
     "output_type": "display_data"
    }
   ],
   "source": [
    "X, U, t_vec, params = solve_finger_moving(verbose=true)"
   ]
  },
  {
   "cell_type": "code",
   "execution_count": 55,
   "metadata": {},
   "outputs": [],
   "source": [
    "# instantiate model and data\n",
    "model = load_model(\"piano_with_one_shadow_hand/scene.xml\")\n",
    "data = init_data(model)\n",
    "\n",
    "# reset the model and data\n",
    "reset!(model, data)\n",
    "nx = model.nq + model.nv + model.na # State vector dimension\n",
    "N = length(t_vec)\n",
    "states = zeros(nx, N)\n",
    "ctrl_states = zeros(model.nu, N)\n",
    "\n",
    "states[:,1] = get_physics_state(model, data)\n",
    "\n",
    "# for t in 1:(N-1)\n",
    "#     data.ctrl .= zeros(model.nu)\n",
    "#     # data.ctrl[7:9] = U[t][:]\n",
    "#     step!(model, data)\n",
    "#     states[:,t+1] = get_physics_state(model, data)\n",
    "# end\n",
    "\n",
    "for t in 1:N\n",
    "    reset!(model, data)\n",
    "    data.qpos[94:96] = X[t][1:3]\n",
    "    data.qvel[94:96] = X[t][4:6]\n",
    "    states[:,t] = get_physics_state(model, data)\n",
    "end\n"
   ]
  },
  {
   "cell_type": "code",
   "execution_count": 56,
   "metadata": {},
   "outputs": [
    {
     "name": "stdout",
     "output_type": "stream",
     "text": [
      " __  __            _        _____       _ _ \n",
      "|  \\/  |          | |      / ____|     (_) |\n",
      "| \\  / |_   _     | | ___ | |     ___   _| |\n",
      "| |\\/| | | | |_   | |/ _ \\| |    / _ \\ | | |\n",
      "| |  | | |_| | |__| | (_) | |___| (_) || | |\n",
      "|_|  |_|\\__,_|\\____/ \\___/ \\_____\\___(_) |_|\n",
      "                                      _/ |  \n",
      "                                     |__/   \n",
      "\n",
      "Press \"F1\" to show the help message.\n"
     ]
    }
   ],
   "source": [
    "init_visualiser()\n",
    "visualise!(model, data, trajectories = states)"
   ]
  },
  {
   "cell_type": "code",
   "execution_count": 11,
   "metadata": {},
   "outputs": [
    {
     "name": "stdout",
     "output_type": "stream",
     "text": [
      "\n",
      "2886r 6.0283676e+00 4.07e+00 2.86e+04   0.4 2.43e-01    -  1.00e+00 1.00e+00h  1\n",
      "2887r 6.0572511e+00 2.85e+00 4.15e+04   0.4 4.97e-01    -  1.00e+00 1.00e+00h  1\n",
      "2888r 6.0628306e+00 2.72e+00 1.74e+05   0.4 1.85e-01    -  8.86e-01 6.13e-02h  4\n",
      "2889r 6.0703610e+00 2.57e+00 2.80e+05   0.4 2.05e-01    -  1.00e+00 5.62e-02h  5\n",
      "iter    objective    inf_pr   inf_du lg(mu)  ||d||  lg(rg) alpha_du alpha_pr  ls\n",
      "2890r 6.1306098e+00 1.53e+00 5.22e+05   0.4 1.86e-01    -  9.86e-01 5.00e-01h  2\n",
      "2891r 6.1415871e+00 1.37e+00 2.03e+04   0.4 1.53e-01    -  1.00e+00 9.88e-02h  4\n"
     ]
    }
   ],
   "source": []
  }
 ],
 "metadata": {
  "kernelspec": {
   "display_name": "Julia 1.10.2",
   "language": "julia",
   "name": "julia-1.10"
  },
  "language_info": {
   "file_extension": ".jl",
   "mimetype": "application/julia",
   "name": "julia",
   "version": "1.10.2"
  }
 },
 "nbformat": 4,
 "nbformat_minor": 4
}
