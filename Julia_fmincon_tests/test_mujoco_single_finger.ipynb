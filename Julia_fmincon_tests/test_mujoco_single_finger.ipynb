{
 "cells": [
  {
   "cell_type": "code",
   "execution_count": 1,
   "metadata": {},
   "outputs": [
    {
     "name": "stderr",
     "output_type": "stream",
     "text": [
      "\u001b[32m\u001b[1m  Activating\u001b[22m\u001b[39m project at `c:\\Users\\AiPEX-WS4\\Documents\\ocrl-piano\\Julia_fmincon_tests`\n",
      "\u001b[32m\u001b[1m    Updating\u001b[22m\u001b[39m `C:\\Users\\AiPEX-WS4\\Documents\\ocrl-piano\\Julia_fmincon_tests\\Project.toml`\n",
      "  \u001b[90m[05823500] \u001b[39m\u001b[93m~ OpenLibm_jll ⇒ v0.8.1+2\u001b[39m\n",
      "\u001b[32m\u001b[1m    Updating\u001b[22m\u001b[39m `C:\\Users\\AiPEX-WS4\\Documents\\ocrl-piano\\Julia_fmincon_tests\\Manifest.toml`\n",
      "  \u001b[90m[d360d2e6] \u001b[39m\u001b[91m- ChainRulesCore v1.24.0\u001b[39m\n",
      "  \u001b[90m[9e997f8a] \u001b[39m\u001b[91m- ChangesOfVariables v0.1.8\u001b[39m\n",
      "  \u001b[90m[8bb1440f] \u001b[39m\u001b[92m+ DelimitedFiles v1.9.1\u001b[39m\n",
      "  \u001b[90m[b429d917] \u001b[39m\u001b[91m- DensityInterface v0.4.0\u001b[39m\n",
      "  \u001b[90m[0dad84c5] \u001b[39m\u001b[93m~ ArgTools ⇒ v1.1.1\u001b[39m\n",
      "  \u001b[90m[f43a241f] \u001b[39m\u001b[93m~ Downloads ⇒ v1.6.0\u001b[39m\n",
      "  \u001b[90m[b27032c2] \u001b[39m\u001b[93m~ LibCURL ⇒ v0.6.4\u001b[39m\n",
      "  \u001b[90m[ca575930] \u001b[39m\u001b[93m~ NetworkOptions ⇒ v1.2.0\u001b[39m\n",
      "  \u001b[90m[44cfe95a] \u001b[39m\u001b[93m~ Pkg ⇒ v1.10.0\u001b[39m\n",
      "  \u001b[90m[ea8e919c] \u001b[39m\u001b[93m~ SHA ⇒ v0.7.0\u001b[39m\n",
      "  \u001b[90m[2f01184e] \u001b[39m\u001b[93m~ SparseArrays ⇒ v1.10.0\u001b[39m\n",
      "  \u001b[90m[10745b16] \u001b[39m\u001b[93m~ Statistics ⇒ v1.10.0\u001b[39m\n",
      "  \u001b[90m[fa267f1f] \u001b[39m\u001b[93m~ TOML ⇒ v1.0.3\u001b[39m\n",
      "  \u001b[90m[a4e569a6] \u001b[39m\u001b[93m~ Tar ⇒ v1.10.0\u001b[39m\n",
      "  \u001b[90m[e66e0078] \u001b[39m\u001b[93m~ CompilerSupportLibraries_jll ⇒ v1.1.1+0\u001b[39m\n",
      "  \u001b[90m[deac9b47] \u001b[39m\u001b[93m~ LibCURL_jll ⇒ v8.4.0+0\u001b[39m\n",
      "  \u001b[90m[e37daf67] \u001b[39m\u001b[92m+ LibGit2_jll v1.6.4+0\u001b[39m\n",
      "  \u001b[90m[29816b5a] \u001b[39m\u001b[93m~ LibSSH2_jll ⇒ v1.11.0+1\u001b[39m\n",
      "  \u001b[90m[c8ffd9c3] \u001b[39m\u001b[93m~ MbedTLS_jll ⇒ v2.28.2+1\u001b[39m\n",
      "  \u001b[90m[14a3606d] \u001b[39m\u001b[93m~ MozillaCACerts_jll ⇒ v2023.1.10\u001b[39m\n",
      "  \u001b[90m[4536629a] \u001b[39m\u001b[93m~ OpenBLAS_jll ⇒ v0.3.23+4\u001b[39m\n",
      "  \u001b[90m[05823500] \u001b[39m\u001b[93m~ OpenLibm_jll ⇒ v0.8.1+2\u001b[39m\n",
      "  \u001b[90m[efcefdf7] \u001b[39m\u001b[93m~ PCRE2_jll ⇒ v10.42.0+1\u001b[39m\n",
      "  \u001b[90m[bea87d4a] \u001b[39m\u001b[93m~ SuiteSparse_jll ⇒ v7.2.1+1\u001b[39m\n",
      "  \u001b[90m[83775a58] \u001b[39m\u001b[93m~ Zlib_jll ⇒ v1.2.13+1\u001b[39m\n",
      "  \u001b[90m[8e850b90] \u001b[39m\u001b[92m+ libblastrampoline_jll v5.8.0+1\u001b[39m\n",
      "  \u001b[90m[8e850ede] \u001b[39m\u001b[93m~ nghttp2_jll ⇒ v1.52.0+1\u001b[39m\n",
      "  \u001b[90m[3f19e933] \u001b[39m\u001b[93m~ p7zip_jll ⇒ v17.4.0+2\u001b[39m\n",
      "\u001b[32m\u001b[1mPrecompiling\u001b[22m\u001b[39m project...\n",
      "\u001b[32m  ✓ \u001b[39m\u001b[90mSoftGlobalScope\u001b[39m\n",
      "\u001b[32m  ✓ \u001b[39m\u001b[90mOpenBLAS32_jll\u001b[39m\n",
      "\u001b[32m  ✓ \u001b[39m\u001b[90mlibsodium_jll\u001b[39m\n",
      "\u001b[32m  ✓ \u001b[39m\u001b[90mZeroMQ_jll\u001b[39m\n",
      "\u001b[32m  ✓ \u001b[39m\u001b[90mMUMPS_seq_jll\u001b[39m\n",
      "\u001b[32m  ✓ \u001b[39m\u001b[90mIpopt_jll\u001b[39m\n",
      "\u001b[32m  ✓ \u001b[39m\u001b[90mZMQ\u001b[39m\n",
      "\u001b[32m  ✓ \u001b[39mIJulia\n",
      "\u001b[32m  ✓ \u001b[39m\u001b[90mPlots → IJuliaExt\u001b[39m\n",
      "\u001b[32m  ✓ \u001b[39mIpopt\n",
      "  10 dependencies successfully precompiled in 9 seconds. 232 already precompiled.\n"
     ]
    }
   ],
   "source": [
    "import Pkg\n",
    "Pkg.activate(@__DIR__)\n",
    "Pkg.resolve()\n",
    "Pkg.instantiate()\n",
    "import FiniteDiff\n",
    "import ForwardDiff as FD\n",
    "import Convex as cvx \n",
    "import ECOS\n",
    "import MuJoCo\n",
    "using LinearAlgebra\n",
    "using Plots\n",
    "using Random\n",
    "using JLD2\n",
    "using Test\n",
    "using StaticArrays\n",
    "using Printf\n",
    "using MuJoCo"
   ]
  },
  {
   "cell_type": "code",
   "execution_count": 2,
   "metadata": {},
   "outputs": [
    {
     "data": {
      "text/plain": [
       "fmincon (generic function with 1 method)"
      ]
     },
     "metadata": {},
     "output_type": "display_data"
    }
   ],
   "source": [
    "# include fmincon for ipopt\n",
    "include(joinpath(@__DIR__, \"utils\",\"fmincon.jl\"))"
   ]
  },
  {
   "cell_type": "code",
   "execution_count": 3,
   "metadata": {},
   "outputs": [
    {
     "data": {
      "text/plain": [
       "MuJoCo Model with 117 bodies and 114 joints"
      ]
     },
     "metadata": {},
     "output_type": "display_data"
    }
   ],
   "source": [
    "# import piano model\n",
    "model = load_model(\"piano_with_one_shadow_hand/scene.xml\")\n"
   ]
  },
  {
   "cell_type": "markdown",
   "metadata": {},
   "source": [
    "Model info"
   ]
  },
  {
   "cell_type": "code",
   "execution_count": 4,
   "metadata": {},
   "outputs": [
    {
     "name": "stdout",
     "output_type": "stream",
     "text": [
      "number of geoms: 152\n"
     ]
    },
    {
     "ename": "UndefVarError",
     "evalue": "UndefVarError: `data` not defined",
     "output_type": "error",
     "traceback": [
      "UndefVarError: `data` not defined\n",
      "\n",
      "Stacktrace:\n",
      " [1] top-level scope\n",
      "   @ c:\\Users\\AiPEX-WS4\\Documents\\ocrl-piano\\Julia_fmincon_tests\\test_mujoco_single_finger.ipynb:3"
     ]
    }
   ],
   "source": [
    "println(\"number of geoms: \",model.ngeom)\n",
    "finger_indices = [115,116,123,124,131,132,141,142,150,151]\n",
    "step!(model, data)\n",
    "println(\"Simulation timestep: \", model.opt.timestep)\n",
    "println(\"Positions of joints: \", data.qpos)\n",
    "println(\"Cartesion position of joints: \", data.geom_xpos)\n",
    "println(\"Size of Cartesion position of joints: \", size(data.geom_xpos))\n",
    "println(\"model \")\n",
    "finger_geom_indices = [116,124,132,142,151]\n",
    "\"\"\"\n",
    "index finger:\n",
    "    name:\n",
    "        rh_shadow_hand//unnamed_geom_25\n",
    "        rh_shadow_hand//unnamed_geom_26\n",
    "    index:\n",
    "        115\n",
    "        116\n",
    "    range:\n",
    "        x:\n",
    "        y:-0.6-0.5\n",
    "        z:0-0.3\n",
    "\n",
    "middle finger:\n",
    "    name:\n",
    "        rh_shadow_hand//unnamed_geom_33\n",
    "        rh_shadow_hand//unnamed_geom_34\n",
    "    index:\n",
    "        123\n",
    "        124\n",
    "ring finger:\n",
    "    name:\n",
    "        rh_shadow_hand//unnamed_geom_41\n",
    "        rh_shadow_hand//unnamed_geom_42\n",
    "    index:\n",
    "        131\n",
    "        132\n",
    "pinky finger:\n",
    "    name:\n",
    "        rh_shadow_hand//unnamed_geom_51\n",
    "        rh_shadow_hand//unnamed_geom_52\n",
    "    index:\n",
    "        141\n",
    "        142\n",
    "thumb:\n",
    "    name:\n",
    "        rh_shadow_hand//unnamed_geom_60\n",
    "        rh_shadow_hand//unnamed_geom_61\n",
    "    index:\n",
    "        150\n",
    "        151\n",
    "\"\"\";"
   ]
  },
  {
   "cell_type": "markdown",
   "metadata": {},
   "source": [
    "Visualize target finger position"
   ]
  },
  {
   "cell_type": "code",
   "execution_count": 5,
   "metadata": {},
   "outputs": [
    {
     "ename": "UndefVarError",
     "evalue": "UndefVarError: `data` not defined",
     "output_type": "error",
     "traceback": [
      "UndefVarError: `data` not defined\n",
      "\n",
      "Stacktrace:\n",
      " [1] top-level scope\n",
      "   @ c:\\Users\\AiPEX-WS4\\Documents\\ocrl-piano\\Julia_fmincon_tests\\test_mujoco_single_finger.ipynb:1"
     ]
    }
   ],
   "source": [
    "reset!(model, data)\n",
    "@show model.nq\n",
    "@show model.nv\n",
    "@show model.nu\n",
    "\n",
    "\n",
    "qpos_target = copy(data.qpos)\n",
    "qpos_target[94] = 0.5\n",
    "qpos_target[95] = 0.5\n",
    "qpos_target[96] = 0.5\n",
    "\n",
    "data.qpos .= qpos_target\n",
    "data.qpos[1:2] = [2, 2]\n",
    "step!(model, data)\n",
    "@show data.qpos\n",
    "@show data.qvel\n",
    "@show typeof(vec(vcat(data.qpos, data.qvel)))\n",
    "@show data.ctrl\n",
    "init_visualiser()\n",
    "visualise!(model, data)\n",
    "println()\n",
    "\n",
    "xic = randn(model.nq + model.nv)\n",
    "@show typeof(xic)\n",
    "x = get_physics_state(model, data)\n",
    "\n",
    "indices = vcat(94:96, 114+94:114+96)\n",
    "@show size(x[indices])"
   ]
  },
  {
   "cell_type": "markdown",
   "metadata": {},
   "source": [
    "## Test DIRCOL: moving index finger left right"
   ]
  },
  {
   "cell_type": "code",
   "execution_count": 6,
   "metadata": {},
   "outputs": [
    {
     "data": {
      "text/plain": [
       "create_idx (generic function with 1 method)"
      ]
     },
     "metadata": {},
     "output_type": "display_data"
    }
   ],
   "source": [
    "function wrapped_mj_step(model, data, x, uk)\n",
    "    # given the current model and data. set the state and control to the model and perform a forward step\n",
    "    if typeof(x) == Vector{Float64}\n",
    "        # set control \n",
    "        data.ctrl[7:9] = uk\n",
    "        # set state\n",
    "        # data.qpos .= x[1:model.nq]\n",
    "        # data.qvel .= x[(model.nq + 1):end]\n",
    "        data.qpos[94:96] = x[1:3]\n",
    "        data.qvel[94:96] = x[4:6]\n",
    "    else\n",
    "        # if using diff types, we need to convert the dual numbers to floats\n",
    "        converted_uk = ForwardDiff.value.(uk)\n",
    "        converted_x = ForwardDiff.value.(x)\n",
    "        # set control\n",
    "        data.ctrl[:] .= converted_uk\n",
    "\n",
    "        # set state\n",
    "        data.qpos .= converted_x[1:model.nq]\n",
    "        data.qvel .= converted_x[(model.nq + 1):end]\n",
    "    end\n",
    "    \n",
    "    # take discrete dynamics step \n",
    "    step!(model, data) \n",
    "\n",
    "    # return updated state k + 1\n",
    "    xkp1 = zeros(model.nq + model.nv) \n",
    "    xkp1 .= get_physics_state(model, data)\n",
    "    # finger_coordinates = data.geom_xpos[finger_geom_indices,:]\n",
    "    \n",
    "    return xkp1\n",
    "end\n",
    "\n",
    "function robohand_cost(params::NamedTuple, Z::Vector)::Real\n",
    "    # TODO: implement cost function\n",
    "    idx, N, xg = params.idx, params.N, params.xg\n",
    "    model = params.model\n",
    "    data = params.data\n",
    "    Q, R, Qf = params.Q, params.R, params.Qf\n",
    "\n",
    "    # stage cost\n",
    "    cost = 0.0\n",
    "    for i = 1:(N-1)\n",
    "        xi = Z[idx.x[i]]\n",
    "        ui = Z[idx.u[i]]\n",
    "\n",
    "        # @show xi-xg\n",
    "        # cost += 0.5*(xi[94:96]-xg[94:96])'*Q*(xi[94:96]-xg[94:96])+0.5*ui'*R*ui\n",
    "        cost += 0.5*(xi-xg)'*Q*(xi-xg)+0.5*ui'*R*ui\n",
    "    end\n",
    "\n",
    "    # terminal cost \n",
    "    xf = Z[idx.x[N]]\n",
    "    # cost += 0.5*(xf[94:96]-xg[94:96])'*Qf*(xf[94:96]-xg[94:96])\n",
    "    cost += 0.5*(xf-xg)'*Qf*(xf-xg)\n",
    "\n",
    "    return cost\n",
    "end\n",
    "function robohand_dynamics_constraints(params::NamedTuple, Z::Vector)::Vector\n",
    "    idx, N, dt = params.idx, params.N, params.dt\n",
    "    model = params.model\n",
    "    data = params.data\n",
    "    # create c in a ForwardDiff friendly way (check HW0)\n",
    "    c = zeros(eltype(Z), idx.nc)\n",
    "    \n",
    "    for i = 1:(N-1)\n",
    "        xi = Z[idx.x[i]]\n",
    "        ui = Z[idx.u[i]] \n",
    "        xip1 = Z[idx.x[i+1]]\n",
    "        \n",
    "        data.qpos[94:96] = xi[1:3]\n",
    "        data.qvel[94:96] = xi[4:6]\n",
    "        xip1_mujoco = wrapped_mj_step(model, data, xi, ui)\n",
    "        # c[idx.c[i]] = xip1_mujoco[94:96] - xip1[94:96]\n",
    "\n",
    "        indices = vcat(94:96, 114+94:114+96)\n",
    "        c[idx.c[i]] = xip1_mujoco[indices] - xip1\n",
    "    end\n",
    "    # println(typeof(c))\n",
    "    return c \n",
    "end\n",
    "\n",
    "function robohand_equality_constraints(params::NamedTuple, Z::Vector)::Vector\n",
    "    # TODO: implement equality constraints\n",
    "    # return zeros(eltype(Z), 0)\n",
    "    N, idx, xic, xg = params.N, params.idx, params.xic, params.xg \n",
    "    model = params.model\n",
    "    data = params.data\n",
    "\n",
    "    con_1 = Z[idx.x[1]] - xic\n",
    "    con_2 = Z[idx.x[N]] - xg\n",
    "\n",
    "    return [con_1; con_2; robohand_dynamics_constraints(params, Z)]\n",
    "    # return [con_1; con_2]\n",
    "end\n",
    "function robohand_inequality_constraints(params::NamedTuple, Z::Vector)::Vector\n",
    "    # TODO: implement inequality constraints\n",
    "    # println(Z)\n",
    "    return zeros(eltype(Z), 0)\n",
    "    # return inequality_constraints\n",
    "end\n",
    "function create_idx(nx,nu,N)\n",
    "    # This function creates some useful indexing tools for Z \n",
    "    # x_i = Z[idx.x[i]]\n",
    "    # u_i = Z[idx.u[i]]\n",
    "    \n",
    "    # Feel free to use/not use anything here.\n",
    "    \n",
    "    \n",
    "    # our Z vector is [x0, u0, x1, u1, …, xN]\n",
    "    nz = (N-1) * nu + N * nx # length of Z \n",
    "    x = [(i - 1) * (nx + nu) .+ (1 : nx) for i = 1:N]\n",
    "    u = [(i - 1) * (nx + nu) .+ ((nx + 1):(nx + nu)) for i = 1:(N - 1)]\n",
    "    \n",
    "    # constraint indexing for the (N-1) dynamics constraints when stacked up\n",
    "    c = [(i - 1) * (nx) .+ (1 : nx) for i = 1:(N - 1)]\n",
    "    nc = (N - 1) * nx # (N-1)*nx \n",
    "    \n",
    "    return (nx=nx,nu=nu,N=N,nz=nz,nc=nc,x= x,u = u,c = c)\n",
    "end"
   ]
  },
  {
   "cell_type": "code",
   "execution_count": 14,
   "metadata": {},
   "outputs": [
    {
     "data": {
      "text/plain": [
       "solve_finger_moving (generic function with 1 method)"
      ]
     },
     "metadata": {},
     "output_type": "display_data"
    }
   ],
   "source": [
    "\n",
    "function solve_finger_moving(;verbose=true)\n",
    "    # instantiate model and data\n",
    "    model = load_model(\"piano_with_one_shadow_hand/scene.xml\")\n",
    "    data = init_data(model)\n",
    "\n",
    "    # reset the model and data\n",
    "    reset!(model, data)\n",
    "    \n",
    "    # initiate time and time steps\n",
    "    dt = 0.005\n",
    "    tf = 0.25\n",
    "    t_vec = 0:dt:tf\n",
    "    N = length(t_vec)\n",
    "\n",
    "    # LQR cost\n",
    "    # Q size of full states\n",
    "    # Q = diagm(ones(model.nq + model.nv))\n",
    "    # R = 0.1*diagm(ones(model.nu))\n",
    "    # Qf = 10*diagm(ones(model.nq + model.nv))\n",
    "\n",
    "    Q = 1*diagm(ones(6))\n",
    "    # R = 0.1*diagm(ones(model.nu))\n",
    "    R = 0.1*diagm(ones(3))\n",
    "    Qf = 10*diagm(ones(6))\n",
    "\n",
    "    # initial and goal states\n",
    "    xic = vec(vcat(copy(data.qpos[94:96]), copy(data.qvel[94:96])))\n",
    "\n",
    "    # xg = vec(vcat(copy(data.qpos), copy(data.qvel)))\n",
    "    # xg[94] = 0.5\n",
    "    # xg[95] = 0.5\n",
    "    # xg[96] = 0.5\n",
    "    xg = [0.5, 0.5, 0.5, 0, 0, 0]\n",
    "\n",
    "    # xic = randn(model.nq + model.nv)\n",
    "    # xg = xic\n",
    "\n",
    "    # indexing \n",
    "    # idx = create_idx(model.nq + model.nv, model.nu, N)\n",
    "    idx = create_idx(6, 3, N)\n",
    "    \n",
    "    params = (Q = Q, R = R, Qf = Qf, xic = xic, xg = xg, dt = dt, N = N, idx = idx, model=model, data=data)\n",
    "\n",
    "\n",
    "    # primal bounds\n",
    "    # x_l = -1 * Inf * ones(idx.nz)\n",
    "    x_l = -1*ones(idx.nz)\n",
    "    # x_u = Inf*ones(idx.nz)\n",
    "    x_u = ones(idx.nz)\n",
    "    \n",
    "\n",
    "    # inequality constraints\n",
    "    # c_l = -1 * Inf * ones(3*(idx.N-1))\n",
    "    # c_u = Inf * ones(3*(idx.N-1))\n",
    "    c_l = zeros(0)\n",
    "    c_u = zeros(0)\n",
    "\n",
    "    # initial guess \n",
    "    z0 = 0.001*randn(idx.nz)\n",
    "    z0[idx.x[1]] = xic\n",
    "\n",
    "    # diff type\n",
    "    # diff_type = :auto \n",
    "    diff_type = :finite\n",
    "    \n",
    "    \n",
    "    Z = fmincon(robohand_cost,robohand_equality_constraints,robohand_inequality_constraints,\n",
    "                x_l,x_u,c_l,c_u,z0,params, diff_type;\n",
    "                tol = 1e-3, c_tol = 1e-3, max_iters = 25, verbose = verbose)\n",
    "    \n",
    "    # pull the X and U solutions out of Z \n",
    "    X = [Z[idx.x[i]] for i = 1:N]\n",
    "    U = [Z[idx.u[i]] for i = 1:(N-1)]\n",
    "    return X, U, t_vec, params\n",
    "end"
   ]
  },
  {
   "cell_type": "code",
   "execution_count": 15,
   "metadata": {},
   "outputs": [
    {
     "name": "stdout",
     "output_type": "stream",
     "text": [
      "---------checking dimensions of everything----------\n",
      "---------all dimensions good------------------------\n",
      "---------diff type set to :finite (FiniteDiff.jl)---\n",
      "---------testing objective gradient-----------------\n",
      "---------testing constraint Jacobian----------------\n",
      "---------successfully compiled both derivatives-----\n",
      "---------IPOPT beginning solve----------------------\n",
      "This is Ipopt version 3.14.4, running with linear solver MUMPS 5.4.1.\n",
      "\n",
      "Number of nonzeros in equality constraint Jacobian...:   142272\n",
      "Number of nonzeros in inequality constraint Jacobian.:        0\n",
      "Number of nonzeros in Lagrangian Hessian.............:        0\n",
      "\n",
      "Total number of variables............................:      456\n",
      "                     variables with only lower bounds:        0\n",
      "                variables with lower and upper bounds:      456\n",
      "                     variables with only upper bounds:        0\n",
      "Total number of equality constraints.................:      312\n",
      "Total number of inequality constraints...............:        0\n",
      "        inequality constraints with only lower bounds:        0\n",
      "   inequality constraints with lower and upper bounds:        0\n",
      "        inequality constraints with only upper bounds:        0\n",
      "\n",
      "iter    objective    inf_pr   inf_du lg(mu)  ||d||  lg(rg) alpha_du alpha_pr  ls\n",
      "   0  2.2519712e+01 5.02e-01 5.02e+00   0.0 0.00e+00    -  0.00e+00 0.00e+00   0\n",
      "   1  2.2504082e+01 5.02e-01 4.06e+02  -6.0 2.37e+03    -  4.17e-04 5.21e-05f  4\n",
      "   2r 2.2504082e+01 5.02e-01 8.21e+02   2.0 0.00e+00    -  0.00e+00 3.73e-07R 11\n",
      "   3r 1.7407202e+01 9.58e-01 7.58e+03   0.5 3.01e+00    -  1.00e+00 2.97e-01f  1\n",
      "   4r 1.6687449e+01 8.00e+00 7.00e+06   0.9 1.58e+00    -  1.00e+00 5.74e-01f  1\n",
      "   5r 1.8526663e+01 6.26e+00 1.06e+04   0.8 3.49e+00    -  2.17e-01 2.61e-01f  1\n",
      "   6r 1.8195881e+01 5.90e+00 4.71e+03   1.5 2.25e+00    -  4.87e-01 5.83e-02f  1\n",
      "   7r 2.1085325e+01 3.82e+00 4.41e+07   1.9 4.49e+00    -  1.00e+00 4.18e-01f  1\n",
      "   8r 2.0677153e+01 3.13e+00 2.35e+09   1.5 4.30e-01    -  1.00e+00 3.52e-01f  1\n",
      "   9r 2.0677009e+01 3.12e+00 2.18e+09  -4.4 1.53e+00    -  2.92e-02 2.77e-02f  1\n",
      "iter    objective    inf_pr   inf_du lg(mu)  ||d||  lg(rg) alpha_du alpha_pr  ls\n",
      "  10r 2.0707524e+01 3.12e+00 9.91e+10   2.9 3.36e+00    -  1.31e-01 1.00e+00f  1\n",
      "  11r 2.0708421e+01 3.12e+00 6.76e+10   2.5 4.39e+00    -  1.00e+00 3.25e-01f  1\n",
      "  12r 2.0709760e+01 3.13e+00 5.05e+10   2.5 1.79e+00    -  1.00e+00 6.80e-01f  1\n",
      "  13r 2.0714320e+01 3.13e+00 8.09e+09   2.5 1.40e+00    -  1.36e-01 2.91e-01f  1\n",
      "  14r 2.0591987e+01 2.97e+00 4.22e+08   2.5 2.57e+01    -  4.37e-01 1.12e-01f  1\n",
      "  15r 2.0289375e+01 1.10e+00 1.18e+06   2.5 3.69e+00    -  1.00e+00 5.89e-01f  1\n",
      "  16r 1.9701755e+01 6.51e-01 1.70e+04   2.5 1.13e+00    -  1.00e+00 1.00e+00f  1\n",
      "  17r 1.9620558e+01 5.75e-01 1.39e+04   2.5 4.59e-01    -  1.00e+00 1.00e+00f  1\n",
      "  18r 1.9007152e+01 4.73e-01 1.26e+05   1.8 2.97e-01    -  1.00e+00 9.91e-01f  1\n",
      "  19r 1.8759171e+01 5.59e-01 4.23e+04   0.9 8.98e-02    -  1.00e+00 7.89e-01f  1\n",
      "iter    objective    inf_pr   inf_du lg(mu)  ||d||  lg(rg) alpha_du alpha_pr  ls\n",
      "  20r 1.8193526e+01 2.88e-01 6.78e+05   0.4 1.86e-01    -  1.00e+00 7.22e-01f  1\n",
      "  21r 1.8193526e+01 2.88e-01 9.99e+02  -0.5 0.00e+00    -  0.00e+00 3.06e-07R 12\n",
      "  22r 1.8204815e+01 2.88e-01 2.94e+03   0.8 6.40e+01    -  1.99e-01 2.20e-03f  1\n",
      "  23r 1.8322413e+01 2.89e-01 7.36e+03   0.5 9.74e-01    -  5.88e-01 7.69e-02f  1\n",
      "  24r 1.8261171e+01 2.90e-01 5.87e+03   0.2 7.99e-02    -  9.35e-01 1.96e-01f  1\n",
      "  25r 1.8100377e+01 8.02e-01 2.05e+04  -0.2 7.96e-02    -  1.00e+00 6.81e-01f  1\n",
      "\n",
      "Number of Iterations....: 25\n",
      "\n",
      "                                   (scaled)                 (unscaled)\n",
      "Objective...............:   1.8100376732104856e+01    1.8100376732104856e+01\n",
      "Dual infeasibility......:   2.0466607063806550e+04    2.0466607063806550e+04\n",
      "Constraint violation....:   8.0210252732221743e-01    8.0210252732221743e-01\n",
      "Variable bound violation:   0.0000000000000000e+00    0.0000000000000000e+00\n",
      "Complementarity.........:   7.7846692282515917e-01    7.7846692282515917e-01\n",
      "Overall NLP error.......:   2.0466607063806550e+04    2.0466607063806550e+04\n",
      "\n",
      "\n",
      "Number of objective function evaluations             = 55\n",
      "Number of objective gradient evaluations             = 6\n",
      "Number of equality constraint evaluations            = 55\n",
      "Number of inequality constraint evaluations          = 0\n",
      "Number of equality constraint Jacobian evaluations   = 28\n",
      "Number of inequality constraint Jacobian evaluations = 0\n",
      "Number of Lagrangian Hessian evaluations             = 0\n",
      "Total seconds in IPOPT                               = 79.515\n",
      "\n",
      "EXIT: Maximum Number of Iterations Exceeded.\n"
     ]
    },
    {
     "data": {
      "text/plain": [
       "([[0.002673093988673624, 0.0021003302027969755, -9.796371869964598e-5, 0.0016219049669645557, 0.002177371397641038, 0.0002488660506303975], [0.003613414864867616, 0.003659102156949198, -8.058709534153395e-5, 0.028094607190744685, 0.01415962709376555, -0.0001301201953635532], [0.003711651777436133, 0.0037907121211537198, 0.0008880689118824746, -0.024050182954776338, -0.021672356269812287, -0.009816426027358488], [0.003918264243275025, 0.004786628026887047, 0.0016252005267851323, -0.011610287486066627, -0.007452396277833718, -0.007707089680336526], [0.004039616865397905, 0.0056405503647438526, 0.0022797970613381183, -0.02284464820995006, -0.004486486062535598, -0.008648353282966731], [0.0041891069200991745, 0.0064573985062690185, 0.0028477208497148477, -0.02153933879263035, -0.0009168527325184956, -0.00965926078627268], [0.004333690289466607, 0.0071640964215051025, 0.0033175519865224056, -0.033756167328626824, -0.0005367961676211138, -0.011559711885152141], [0.004694294125816708, 0.007821143467293156, 0.0037043404879012172, -0.03520623259908086, 0.00045663864611834165, -0.013188190483274465], [0.004833784720085901, 0.00844874538750668, 0.00401030083523892, -0.025546688991542606, 0.002245644286568031, -0.014401873835338405], [0.0050013110673582965, 0.009012522083216526, 0.004233589061235007, -0.024812206595763938, 0.0021866102557918598, -0.016028072791903943]  …  [0.10641841499562162, 0.0218913250162165, -0.001824434995576404, -0.028847669384554353, -0.008166852512572709, -0.029973589832366483], [0.12109442603184985, 0.022791122087153094, -0.0022836464783403836, -0.03333865085477216, -0.009579130460410402, -0.03339933623205681], [0.13836210888201184, 0.023642420074538817, -0.002778079051073702, -0.03620979120987547, -0.01077132105541945, -0.03556015248216159], [0.1578838124468722, 0.02480137017938954, -0.0028059653216989996, -0.030120981494702468, -0.011241940508507, -0.018752815837675886], [0.18188455303933884, 0.026084665064450514, -0.0033868764286031005, -0.036382299155192456, -0.012698541173987632, -0.008199635632002121], [0.21125694613052198, 0.02764049458303926, -0.004471667741687, -0.033438036508036284, -0.013791630980219662, 0.0018560262022878637], [0.24494257651024093, 0.029673666650186198, -0.0060527486311684735, -0.1199855980264498, -0.027353659215710247, 0.013637966932044315], [0.2954974208204368, 0.03326032636059015, -0.005054348200095656, -0.04578972293250046, -0.015560782439661438, 0.039686596276747796], [0.36648027152106305, 0.03941799862944989, 0.0003205706135122315, -0.003654631786699381, -0.014568821052540924, 0.048709111643097776], [0.4225394921158311, 0.23202873427221488, 0.20840092380597924, 0.00032643750070889845, -0.0010083245895467063, -0.00042222562642250396]], [[0.16173057599717613, 0.10235398016043226, -0.013944112773157732], [-0.0030981283096643266, -0.0071576505319288185, -0.0516002609938893], [-0.019769500044561704, -0.020126593550405754, -0.040733257871233094], [-0.025778186818464433, -0.025024088410698305, -0.017771429710314375], [-0.026615783029406734, -0.02981946858889306, -0.028056998604378443], [-0.028620243367945115, -0.027595972553557384, -0.033923634903051295], [-0.02842369988145992, -0.02717874420409449, -0.029915658710777168], [-0.02755370354457456, -0.028872582523174636, -0.02542386204101513], [-0.030413923866247933, -0.02965912105509672, -0.029247559892048244], [-0.029630987203070024, -0.03014207536749335, -0.029857062554651717]  …  [-0.028786507599137843, -0.029493301523066014, 0.05598467054098498], [-0.030352828852300635, -0.02854559605741185, 0.06789027113424508], [-0.028736743569384274, -0.028362596665477083, 0.0824025374130319], [-0.029814960949620273, -0.02883852565807259, 0.10394744510367934], [-0.02865021098339262, -0.031598065360743714, 0.11922013831694205], [-0.029677883570870558, -0.028603713424837657, 0.14437785135638023], [-0.029066578078035296, -0.02752327972641844, 0.15850149085961335], [-0.027917501996855987, -0.029189973048543576, 0.21913162635287348], [-0.030378339664049292, -0.029879042975315115, 0.27887422010213514], [-0.02955178121314917, -0.03007939767411808, 0.2621462704702775]], 0.0:0.005:0.25, (Q = [1.0 0.0 … 0.0 0.0; 0.0 1.0 … 0.0 0.0; … ; 0.0 0.0 … 1.0 0.0; 0.0 0.0 … 0.0 1.0], R = [0.1 0.0 0.0; 0.0 0.1 0.0; 0.0 0.0 0.1], Qf = [10.0 0.0 … 0.0 0.0; 0.0 10.0 … 0.0 0.0; … ; 0.0 0.0 … 10.0 0.0; 0.0 0.0 … 0.0 10.0], xic = [0.0, 0.0, 0.0, 0.0, 0.0, 0.0], xg = [0.5, 0.5, 0.5, 0.0, 0.0, 0.0], dt = 0.005, N = 51, idx = (nx = 6, nu = 3, N = 51, nz = 456, nc = 300, x = UnitRange{Int64}[1:6, 10:15, 19:24, 28:33, 37:42, 46:51, 55:60, 64:69, 73:78, 82:87  …  370:375, 379:384, 388:393, 397:402, 406:411, 415:420, 424:429, 433:438, 442:447, 451:456], u = UnitRange{Int64}[7:9, 16:18, 25:27, 34:36, 43:45, 52:54, 61:63, 70:72, 79:81, 88:90  …  367:369, 376:378, 385:387, 394:396, 403:405, 412:414, 421:423, 430:432, 439:441, 448:450], c = UnitRange{Int64}[1:6, 7:12, 13:18, 19:24, 25:30, 31:36, 37:42, 43:48, 49:54, 55:60  …  241:246, 247:252, 253:258, 259:264, 265:270, 271:276, 277:282, 283:288, 289:294, 295:300]), model = MuJoCo Model, data = MuJoCo Data))"
      ]
     },
     "metadata": {},
     "output_type": "display_data"
    }
   ],
   "source": [
    "X, U, t_vec, params = solve_finger_moving(verbose=true)"
   ]
  },
  {
   "cell_type": "code",
   "execution_count": 9,
   "metadata": {},
   "outputs": [],
   "source": [
    "# instantiate model and data\n",
    "model = load_model(\"piano_with_one_shadow_hand/scene.xml\")\n",
    "data = init_data(model)\n",
    "\n",
    "# reset the model and data\n",
    "reset!(model, data)\n",
    "nx = model.nq + model.nv + model.na # State vector dimension\n",
    "N = length(t_vec)\n",
    "states = zeros(nx, N)\n",
    "ctrl_states = zeros(model.nu, N)\n",
    "\n",
    "states[:,1] = get_physics_state(model, data)\n",
    "\n",
    "# for t in 1:(N-1)\n",
    "#     data.ctrl .= zeros(model.nu)\n",
    "#     # data.ctrl[7:9] = U[t][:]\n",
    "#     step!(model, data)\n",
    "#     states[:,t+1] = get_physics_state(model, data)\n",
    "# end\n",
    "\n",
    "for t in 1:N\n",
    "    reset!(model, data)\n",
    "    data.qpos[94:96] = X[t][1:3]\n",
    "    data.qvel[94:96] = X[t][4:6]\n",
    "    states[:,t] = get_physics_state(model, data)\n",
    "end\n"
   ]
  },
  {
   "cell_type": "code",
   "execution_count": 10,
   "metadata": {},
   "outputs": [
    {
     "name": "stdout",
     "output_type": "stream",
     "text": [
      " __  __            _        _____       _ _ \n",
      "|  \\/  |          | |      / ____|     (_) |\n",
      "| \\  / |_   _     | | ___ | |     ___   _| |\n",
      "| |\\/| | | | |_   | |/ _ \\| |    / _ \\ | | |\n",
      "| |  | | |_| | |__| | (_) | |___| (_) || | |\n",
      "|_|  |_|\\__,_|\\____/ \\___/ \\_____\\___(_) |_|\n",
      "                                      _/ |  \n",
      "                                     |__/   \n",
      "\n",
      "Press \"F1\" to show the help message.\n"
     ]
    }
   ],
   "source": [
    "init_visualiser()\n",
    "visualise!(model, data, trajectories = states)"
   ]
  },
  {
   "cell_type": "code",
   "execution_count": 11,
   "metadata": {},
   "outputs": [],
   "source": []
  }
 ],
 "metadata": {
  "kernelspec": {
   "display_name": "Julia 1.10.4",
   "language": "julia",
   "name": "julia-1.10"
  },
  "language_info": {
   "file_extension": ".jl",
   "mimetype": "application/julia",
   "name": "julia",
   "version": "1.10.4"
  }
 },
 "nbformat": 4,
 "nbformat_minor": 4
}
