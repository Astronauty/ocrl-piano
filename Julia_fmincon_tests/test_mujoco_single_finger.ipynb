{
 "cells": [
  {
   "cell_type": "code",
   "execution_count": 1,
   "metadata": {},
   "outputs": [
    {
     "name": "stderr",
     "output_type": "stream",
     "text": [
      "\u001b[32m\u001b[1m  Activating\u001b[22m\u001b[39m project at `~/daniel/ocrl-piano/Julia_fmincon_tests`\n",
      "\u001b[32m\u001b[1m  No Changes\u001b[22m\u001b[39m to `~/daniel/ocrl-piano/Julia_fmincon_tests/Project.toml`\n",
      "\u001b[32m\u001b[1m  No Changes\u001b[22m\u001b[39m to `~/daniel/ocrl-piano/Julia_fmincon_tests/Manifest.toml`\n"
     ]
    }
   ],
   "source": [
    "import Pkg\n",
    "Pkg.activate(@__DIR__)\n",
    "Pkg.resolve()\n",
    "Pkg.instantiate()\n",
    "import FiniteDiff\n",
    "import ForwardDiff as FD\n",
    "import Convex as cvx \n",
    "import ECOS\n",
    "import MuJoCo\n",
    "using LinearAlgebra\n",
    "using Plots\n",
    "using Random\n",
    "using JLD2\n",
    "using Test\n",
    "using StaticArrays\n",
    "using Printf\n",
    "using MuJoCo"
   ]
  },
  {
   "cell_type": "code",
   "execution_count": 2,
   "metadata": {},
   "outputs": [
    {
     "data": {
      "text/plain": [
       "fmincon (generic function with 1 method)"
      ]
     },
     "metadata": {},
     "output_type": "display_data"
    }
   ],
   "source": [
    "# include fmincon for ipopt\n",
    "include(joinpath(@__DIR__, \"utils\",\"fmincon.jl\"))"
   ]
  },
  {
   "cell_type": "code",
   "execution_count": 3,
   "metadata": {},
   "outputs": [
    {
     "data": {
      "text/plain": [
       "MuJoCo Model with 117 bodies and 114 joints"
      ]
     },
     "metadata": {},
     "output_type": "display_data"
    }
   ],
   "source": [
    "# import piano model\n",
    "model = load_model(\"piano_with_one_shadow_hand/scene.xml\")\n"
   ]
  },
  {
   "cell_type": "markdown",
   "metadata": {},
   "source": [
    "Model info"
   ]
  },
  {
   "cell_type": "code",
   "execution_count": 4,
   "metadata": {},
   "outputs": [
    {
     "name": "stdout",
     "output_type": "stream",
     "text": [
      "number of geoms: 152\n"
     ]
    },
    {
     "ename": "UndefVarError",
     "evalue": "UndefVarError: `data` not defined",
     "output_type": "error",
     "traceback": [
      "UndefVarError: `data` not defined\n",
      "\n",
      "Stacktrace:\n",
      " [1] top-level scope\n",
      "   @ ~/daniel/ocrl-piano/Julia_fmincon_tests/test_mujoco_single_finger.ipynb:3"
     ]
    }
   ],
   "source": [
    "println(\"number of geoms: \",model.ngeom)\n",
    "finger_indices = [115,116,123,124,131,132,141,142,150,151]\n",
    "step!(model, data)\n",
    "println(\"Simulation timestep: \", model.opt.timestep)\n",
    "println(\"Positions of joints: \", data.qpos)\n",
    "println(\"Cartesion position of joints: \", data.geom_xpos)\n",
    "println(\"Size of Cartesion position of joints: \", size(data.geom_xpos))\n",
    "println(\"model \")\n",
    "finger_geom_indices = [116,124,132,142,151]\n",
    "\"\"\"\n",
    "index finger:\n",
    "    name:\n",
    "        rh_shadow_hand//unnamed_geom_25\n",
    "        rh_shadow_hand//unnamed_geom_26\n",
    "    index:\n",
    "        115\n",
    "        116\n",
    "    range:\n",
    "        x:\n",
    "        y:-0.6-0.5\n",
    "        z:0-0.3\n",
    "\n",
    "middle finger:\n",
    "    name:\n",
    "        rh_shadow_hand//unnamed_geom_33\n",
    "        rh_shadow_hand//unnamed_geom_34\n",
    "    index:\n",
    "        123\n",
    "        124\n",
    "ring finger:\n",
    "    name:\n",
    "        rh_shadow_hand//unnamed_geom_41\n",
    "        rh_shadow_hand//unnamed_geom_42\n",
    "    index:\n",
    "        131\n",
    "        132\n",
    "pinky finger:\n",
    "    name:\n",
    "        rh_shadow_hand//unnamed_geom_51\n",
    "        rh_shadow_hand//unnamed_geom_52\n",
    "    index:\n",
    "        141\n",
    "        142\n",
    "thumb:\n",
    "    name:\n",
    "        rh_shadow_hand//unnamed_geom_60\n",
    "        rh_shadow_hand//unnamed_geom_61\n",
    "    index:\n",
    "        150\n",
    "        151\n",
    "\"\"\";"
   ]
  },
  {
   "cell_type": "markdown",
   "metadata": {},
   "source": [
    "Visualize target finger position"
   ]
  },
  {
   "cell_type": "code",
   "execution_count": 5,
   "metadata": {},
   "outputs": [
    {
     "ename": "UndefVarError",
     "evalue": "UndefVarError: `data` not defined",
     "output_type": "error",
     "traceback": [
      "UndefVarError: `data` not defined\n",
      "\n",
      "Stacktrace:\n",
      " [1] top-level scope\n",
      "   @ ~/daniel/ocrl-piano/Julia_fmincon_tests/test_mujoco_single_finger.ipynb:1"
     ]
    }
   ],
   "source": [
    "reset!(model, data)\n",
    "@show model.nq\n",
    "@show model.nv\n",
    "@show model.nu\n",
    "\n",
    "\n",
    "qpos_target = copy(data.qpos)\n",
    "qpos_target[94] = 0.5\n",
    "qpos_target[95] = 0.5\n",
    "qpos_target[96] = 0.5\n",
    "\n",
    "data.qpos .= qpos_target\n",
    "data.qpos[1:2] = [2, 2]\n",
    "step!(model, data)\n",
    "@show data.qpos\n",
    "@show data.qvel\n",
    "@show typeof(vec(vcat(data.qpos, data.qvel)))\n",
    "@show data.ctrl\n",
    "# init_visualiser()\n",
    "# visualise!(model, data)\n",
    "println()\n",
    "\n",
    "xic = randn(model.nq + model.nv)\n",
    "@show typeof(xic)\n",
    "x = get_physics_state(model, data)\n",
    "\n",
    "indices = vcat(94:96, 114+94:114+96)\n",
    "@show size(x[indices])"
   ]
  },
  {
   "cell_type": "markdown",
   "metadata": {},
   "source": [
    "## Test DIRCOL: moving index finger left right"
   ]
  },
  {
   "cell_type": "code",
   "execution_count": 14,
   "metadata": {},
   "outputs": [
    {
     "data": {
      "text/plain": [
       "create_idx (generic function with 1 method)"
      ]
     },
     "metadata": {},
     "output_type": "display_data"
    }
   ],
   "source": [
    "function wrapped_mj_step(model, data, x, uk)\n",
    "    # given the current model and data. set the state and control to the model and perform a forward step\n",
    "    if typeof(x) == Vector{Float64}\n",
    "        # set control \n",
    "        data.ctrl[7:9] = uk\n",
    "        # set state\n",
    "        # data.qpos .= x[1:model.nq]\n",
    "        # data.qvel .= x[(model.nq + 1):end]\n",
    "        data.qpos[94:96] = x[1:3]\n",
    "        data.qvel[94:96] = x[4:6]\n",
    "    else\n",
    "        # if using diff types, we need to convert the dual numbers to floats\n",
    "        converted_uk = ForwardDiff.value.(uk)\n",
    "        converted_x = ForwardDiff.value.(x)\n",
    "        # set control\n",
    "        data.ctrl[:] .= converted_uk\n",
    "\n",
    "        # set state\n",
    "        data.qpos .= converted_x[1:model.nq]\n",
    "        data.qvel .= converted_x[(model.nq + 1):end]\n",
    "    end\n",
    "    \n",
    "    # take discrete dynamics step \n",
    "    step!(model, data) \n",
    "\n",
    "    # return updated state k + 1\n",
    "    xkp1 = zeros(model.nq + model.nv) \n",
    "    xkp1 .= get_physics_state(model, data)\n",
    "    # finger_coordinates = data.geom_xpos[finger_geom_indices,:]\n",
    "    \n",
    "    return xkp1\n",
    "end\n",
    "\n",
    "function robohand_cost(params::NamedTuple, Z::Vector)::Real\n",
    "    # TODO: implement cost function\n",
    "    idx, N, xg = params.idx, params.N, params.xg\n",
    "    model = params.model\n",
    "    data = params.data\n",
    "    Q, R, Qf = params.Q, params.R, params.Qf\n",
    "\n",
    "    # stage cost\n",
    "    cost = 0.0\n",
    "    for i = 1:(N-1)\n",
    "        xi = Z[idx.x[i]]\n",
    "        ui = Z[idx.u[i]]\n",
    "\n",
    "        # @show xi-xg\n",
    "        # cost += 0.5*(xi[94:96]-xg[94:96])'*Q*(xi[94:96]-xg[94:96])+0.5*ui'*R*ui\n",
    "        cost += 0.5*(xi-xg)'*Q*(xi-xg)+0.5*ui'*R*ui\n",
    "    end\n",
    "\n",
    "    # terminal cost \n",
    "    xf = Z[idx.x[N]]\n",
    "    # cost += 0.5*(xf[94:96]-xg[94:96])'*Qf*(xf[94:96]-xg[94:96])\n",
    "    cost += 0.5*(xf-xg)'*Qf*(xf-xg)\n",
    "\n",
    "    return cost\n",
    "end\n",
    "function robohand_dynamics_constraints(params::NamedTuple, Z::Vector)::Vector\n",
    "    idx, N, dt = params.idx, params.N, params.dt\n",
    "    model = params.model\n",
    "    data = params.data\n",
    "    # create c in a ForwardDiff friendly way (check HW0)\n",
    "    c = zeros(eltype(Z), idx.nc)\n",
    "    \n",
    "    for i = 1:(N-1)\n",
    "        xi = Z[idx.x[i]]\n",
    "        ui = Z[idx.u[i]] \n",
    "        xip1 = Z[idx.x[i+1]]\n",
    "        \n",
    "        data.qpos[94:96] = xi[1:3]\n",
    "        data.qvel[94:96] = xi[4:6]\n",
    "        xip1_mujoco = wrapped_mj_step(model, data, xi, ui)\n",
    "        # c[idx.c[i]] = xip1_mujoco[94:96] - xip1[94:96]\n",
    "\n",
    "        indices = vcat(94:96, 114+94:114+96)\n",
    "        c[idx.c[i]] = xip1_mujoco[indices] - xip1\n",
    "    end\n",
    "    # println(typeof(c))\n",
    "    return c \n",
    "end\n",
    "\n",
    "function robohand_equality_constraints(params::NamedTuple, Z::Vector)::Vector\n",
    "    # TODO: implement equality constraints\n",
    "    # return zeros(eltype(Z), 0)\n",
    "    N, idx, xic, xg = params.N, params.idx, params.xic, params.xg \n",
    "    model = params.model\n",
    "    data = params.data\n",
    "\n",
    "    con_1 = Z[idx.x[1]] - xic\n",
    "    con_2 = Z[idx.x[N]] - xg\n",
    "\n",
    "    return [con_1; con_2; robohand_dynamics_constraints(params, Z)]\n",
    "    # return [con_1; con_2]\n",
    "end\n",
    "function robohand_inequality_constraints(params::NamedTuple, Z::Vector)::Vector\n",
    "    # TODO: implement inequality constraints\n",
    "    # println(Z)\n",
    "    return zeros(eltype(Z), 0)\n",
    "    # return inequality_constraints\n",
    "end\n",
    "function create_idx(nx,nu,N)\n",
    "    # This function creates some useful indexing tools for Z \n",
    "    # x_i = Z[idx.x[i]]\n",
    "    # u_i = Z[idx.u[i]]\n",
    "    \n",
    "    # Feel free to use/not use anything here.\n",
    "    \n",
    "    \n",
    "    # our Z vector is [x0, u0, x1, u1, …, xN]\n",
    "    nz = (N-1) * nu + N * nx # length of Z \n",
    "    x = [(i - 1) * (nx + nu) .+ (1 : nx) for i = 1:N]\n",
    "    u = [(i - 1) * (nx + nu) .+ ((nx + 1):(nx + nu)) for i = 1:(N - 1)]\n",
    "    \n",
    "    # constraint indexing for the (N-1) dynamics constraints when stacked up\n",
    "    c = [(i - 1) * (nx) .+ (1 : nx) for i = 1:(N - 1)]\n",
    "    nc = (N - 1) * nx # (N-1)*nx \n",
    "    \n",
    "    return (nx=nx,nu=nu,N=N,nz=nz,nc=nc,x= x,u = u,c = c)\n",
    "end"
   ]
  },
  {
   "cell_type": "code",
   "execution_count": 26,
   "metadata": {},
   "outputs": [
    {
     "data": {
      "text/plain": [
       "solve_finger_moving (generic function with 1 method)"
      ]
     },
     "metadata": {},
     "output_type": "display_data"
    }
   ],
   "source": [
    "\n",
    "function solve_finger_moving(;verbose=true)\n",
    "    # instantiate model and data\n",
    "    model = load_model(\"piano_with_one_shadow_hand/scene.xml\")\n",
    "    data = init_data(model)\n",
    "\n",
    "    # reset the model and data\n",
    "    reset!(model, data)\n",
    "    \n",
    "    # initiate time and time steps\n",
    "    dt = 0.005\n",
    "    tf = 0.5\n",
    "    t_vec = 0:dt:tf\n",
    "    N = length(t_vec)\n",
    "\n",
    "    # LQR cost\n",
    "    # Q size of full states\n",
    "    # Q = diagm(ones(model.nq + model.nv))\n",
    "    # R = 0.1*diagm(ones(model.nu))\n",
    "    # Qf = 10*diagm(ones(model.nq + model.nv))\n",
    "\n",
    "    Q = 1*diagm(ones(6))\n",
    "    # R = 0.1*diagm(ones(model.nu))\n",
    "    R = 0.1*diagm(ones(3))\n",
    "    Qf = 10*diagm(ones(6))\n",
    "\n",
    "    # initial and goal states\n",
    "    xic = vec(vcat(copy(data.qpos[94:96]), copy(data.qvel[94:96])))\n",
    "\n",
    "    # xg = vec(vcat(copy(data.qpos), copy(data.qvel)))\n",
    "    # xg[94] = 0.5\n",
    "    # xg[95] = 0.5\n",
    "    # xg[96] = 0.5\n",
    "    xg = [0.5, 0.5, 0.5, 0, 0, 0]\n",
    "\n",
    "    # xic = randn(model.nq + model.nv)\n",
    "    # xg = xic\n",
    "\n",
    "    # indexing \n",
    "    # idx = create_idx(model.nq + model.nv, model.nu, N)\n",
    "    idx = create_idx(6, 3, N)\n",
    "    \n",
    "    params = (Q = Q, R = R, Qf = Qf, xic = xic, xg = xg, dt = dt, N = N, idx = idx, model=model, data=data)\n",
    "\n",
    "\n",
    "    # primal bounds\n",
    "    # x_l = -1 * Inf * ones(idx.nz)\n",
    "    x_l = -1*ones(idx.nz)\n",
    "    # x_u = Inf*ones(idx.nz)\n",
    "    x_u = ones(idx.nz)\n",
    "    \n",
    "\n",
    "    # inequality constraints\n",
    "    # c_l = -1 * Inf * ones(3*(idx.N-1))\n",
    "    # c_u = Inf * ones(3*(idx.N-1))\n",
    "    c_l = zeros(0)\n",
    "    c_u = zeros(0)\n",
    "\n",
    "    # initial guess \n",
    "    z0 = 0.001*randn(idx.nz)\n",
    "    z0[idx.x[1]] = xic\n",
    "\n",
    "    # diff type\n",
    "    # diff_type = :auto \n",
    "    diff_type = :finite\n",
    "    \n",
    "    \n",
    "    Z = fmincon(robohand_cost,robohand_equality_constraints,robohand_inequality_constraints,\n",
    "                x_l,x_u,c_l,c_u,z0,params, diff_type;\n",
    "                tol = 1e-3, c_tol = 1e-3, max_iters = 1000, verbose = verbose)\n",
    "    \n",
    "    # pull the X and U solutions out of Z \n",
    "    X = [Z[idx.x[i]] for i = 1:N]\n",
    "    U = [Z[idx.u[i]] for i = 1:(N-1)]\n",
    "    return X, U, t_vec, params\n",
    "end"
   ]
  },
  {
   "cell_type": "code",
   "execution_count": 27,
   "metadata": {},
   "outputs": [
    {
     "name": "stdout",
     "output_type": "stream",
     "text": [
      "---------checking dimensions of everything----------\n",
      "---------all dimensions good------------------------\n",
      "---------diff type set to :finite (FiniteDiff.jl)---\n",
      "---------testing objective gradient-----------------\n",
      "---------testing constraint Jacobian----------------\n"
     ]
    }
   ],
   "source": [
    "X, U, t_vec, params = solve_finger_moving(verbose=true)"
   ]
  },
  {
   "cell_type": "code",
   "execution_count": 24,
   "metadata": {},
   "outputs": [],
   "source": [
    "# instantiate model and data\n",
    "model = load_model(\"piano_with_one_shadow_hand/scene.xml\")\n",
    "data = init_data(model)\n",
    "\n",
    "# reset the model and data\n",
    "reset!(model, data)\n",
    "nx = model.nq + model.nv + model.na # State vector dimension\n",
    "N = length(t_vec)\n",
    "states = zeros(nx, N)\n",
    "ctrl_states = zeros(model.nu, N)\n",
    "\n",
    "states[:,1] = get_physics_state(model, data)\n",
    "\n",
    "for t in 1:(N-1)\n",
    "    data.ctrl[7:9] = U[t][:]\n",
    "    step!(model, data)\n",
    "    states[:,t+1] = get_physics_state(model, data)\n",
    "end\n",
    "\n",
    "# for t in 1:N\n",
    "#     reset!(model, data)\n",
    "#     data.qpos[94:96] = X[t][1:3]\n",
    "#     data.qvel[94:96] = X[t][4:6]\n",
    "#     states[:,t] = get_physics_state(model, data)\n",
    "# end\n"
   ]
  },
  {
   "cell_type": "code",
   "execution_count": 25,
   "metadata": {},
   "outputs": [
    {
     "name": "stdout",
     "output_type": "stream",
     "text": [
      " __  __            _        _____       _ _ \n",
      "|  \\/  |          | |      / ____|     (_) |\n",
      "| \\  / |_   _     | | ___ | |     ___   _| |\n",
      "| |\\/| | | | |_   | |/ _ \\| |    / _ \\ | | |\n",
      "| |  | | |_| | |__| | (_) | |___| (_) || | |\n",
      "|_|  |_|\\__,_|\\____/ \\___/ \\_____\\___(_) |_|\n",
      "                                      _/ |  \n",
      "                                     |__/   \n",
      "\n",
      "Press \"F1\" to show the help message.\n"
     ]
    }
   ],
   "source": [
    "init_visualiser()\n",
    "visualise!(model, data, trajectories = states)"
   ]
  },
  {
   "cell_type": "code",
   "execution_count": 11,
   "metadata": {},
   "outputs": [
    {
     "name": "stdout",
     "output_type": "stream",
     "text": [
      "\n",
      "2886r 6.0283676e+00 4.07e+00 2.86e+04   0.4 2.43e-01    -  1.00e+00 1.00e+00h  1\n",
      "2887r 6.0572511e+00 2.85e+00 4.15e+04   0.4 4.97e-01    -  1.00e+00 1.00e+00h  1\n",
      "2888r 6.0628306e+00 2.72e+00 1.74e+05   0.4 1.85e-01    -  8.86e-01 6.13e-02h  4\n",
      "2889r 6.0703610e+00 2.57e+00 2.80e+05   0.4 2.05e-01    -  1.00e+00 5.62e-02h  5\n",
      "iter    objective    inf_pr   inf_du lg(mu)  ||d||  lg(rg) alpha_du alpha_pr  ls\n",
      "2890r 6.1306098e+00 1.53e+00 5.22e+05   0.4 1.86e-01    -  9.86e-01 5.00e-01h  2\n",
      "2891r 6.1415871e+00 1.37e+00 2.03e+04   0.4 1.53e-01    -  1.00e+00 9.88e-02h  4\n"
     ]
    }
   ],
   "source": []
  }
 ],
 "metadata": {
  "kernelspec": {
   "display_name": "Julia 1.10.2",
   "language": "julia",
   "name": "julia-1.10"
  },
  "language_info": {
   "file_extension": ".jl",
   "mimetype": "application/julia",
   "name": "julia",
   "version": "1.10.2"
  }
 },
 "nbformat": 4,
 "nbformat_minor": 4
}
