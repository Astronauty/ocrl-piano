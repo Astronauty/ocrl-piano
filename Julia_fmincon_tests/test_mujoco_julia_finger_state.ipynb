{
 "cells": [
  {
   "cell_type": "code",
   "execution_count": 1,
   "metadata": {},
   "outputs": [
    {
     "name": "stderr",
     "output_type": "stream",
     "text": [
      "\u001b[32m\u001b[1m  Activating\u001b[22m\u001b[39m project at `d:\\CMU\\2024_Spring_Course\\OCRL\\ocrl-piano\\conan_tests`\n",
      "\u001b[32m\u001b[1m  No Changes\u001b[22m\u001b[39m to `D:\\CMU\\2024_Spring_Course\\OCRL\\ocrl-piano\\conan_tests\\Project.toml`\n",
      "\u001b[32m\u001b[1m  No Changes\u001b[22m\u001b[39m to `D:\\CMU\\2024_Spring_Course\\OCRL\\ocrl-piano\\conan_tests\\Manifest.toml`\n"
     ]
    }
   ],
   "source": [
    "import Pkg\n",
    "Pkg.activate(@__DIR__)\n",
    "Pkg.resolve()\n",
    "Pkg.instantiate()\n",
    "import FiniteDiff\n",
    "import ForwardDiff as FD\n",
    "import Convex as cvx \n",
    "import ECOS\n",
    "import MuJoCo\n",
    "using LinearAlgebra\n",
    "using Plots\n",
    "using Random\n",
    "using JLD2\n",
    "using Test\n",
    "using StaticArrays\n",
    "using Printf\n",
    "using MuJoCo"
   ]
  },
  {
   "cell_type": "code",
   "execution_count": 2,
   "metadata": {},
   "outputs": [
    {
     "data": {
      "text/plain": [
       "fmincon (generic function with 1 method)"
      ]
     },
     "execution_count": 2,
     "metadata": {},
     "output_type": "execute_result"
    }
   ],
   "source": [
    "# include fmincon for ipopt\n",
    "include(joinpath(@__DIR__, \"utils\",\"fmincon.jl\"))"
   ]
  },
  {
   "cell_type": "code",
   "execution_count": 3,
   "metadata": {},
   "outputs": [],
   "source": [
    "\"\"\"\n",
    "x = fmincon(cost,equality_constraint,inequality_constraint,x_l,x_u,c_l,c_u,x0,params,diff_type)\n",
    "\n",
    "This function uses IPOPT to minimize an objective function \n",
    "\n",
    "`cost(params, x)` \n",
    "\n",
    "With the following three constraints: \n",
    "\n",
    "`equality_constraint(params, x) = 0`\n",
    "`c_l <= inequality_constraint(params, x) <= c_u` \n",
    "`x_l <= x <= x_u` \n",
    "\n",
    "Note that the constraint functions should return vectors. \n",
    "\n",
    "Problem specific parameters should be loaded into params::NamedTuple (things like \n",
    "cost weights, dynamics parameters, etc.). \n",
    "\n",
    "args:\n",
    "    cost::Function                    - objective function to be minimzed (returns scalar)\n",
    "    equality_constraint::Function     - c_eq(params, x) == 0 \n",
    "    inequality_constraint::Function   - c_l <= c_ineq(params, x) <= c_u \n",
    "    x_l::Vector                       - x_l <= x <= x_u \n",
    "    x_u::Vector                       - x_l <= x <= x_u \n",
    "    c_l::Vector                       - c_l <= c_ineq(params, x) <= x_u \n",
    "    c_u::Vector                       - c_l <= c_ineq(params, x) <= x_u \n",
    "    x0::Vector                        - initial guess \n",
    "    params::NamedTuple                - problem parameters for use in costs/constraints \n",
    "    diff_type::Symbol                 - :auto for ForwardDiff, :finite for FiniteDiff \n",
    "    verbose::Bool                     - true for IPOPT output, false for nothing \n",
    "\n",
    "optional args:\n",
    "    tol                               - optimality tolerance \n",
    "    c_tol                             - constraint violation tolerance \n",
    "    max_iters                         - max iterations \n",
    "    verbose                           - verbosity of IPOPT \n",
    "\n",
    "outputs:\n",
    "    x::Vector                         - solution \n",
    "\n",
    "You should try and use :auto for your `diff_type` first, and only use :finite if you \n",
    "absolutely cannot get ForwardDiff to work. \n",
    "\n",
    "This function will run a few basic checks before sending the problem off to IPOPT to \n",
    "solve. The outputs of these checks will be reported as the following:\n",
    "\n",
    "---------checking dimensions of everything----------\n",
    "---------all dimensions good------------------------\n",
    "---------diff type set to :auto (ForwardDiff.jl)----\n",
    "---------testing objective gradient-----------------\n",
    "---------testing constraint Jacobian----------------\n",
    "---------successfully compiled both derivatives-----\n",
    "---------IPOPT beginning solve----------------------\n",
    "\n",
    "If you're getting stuck during the testing of one of the derivatives, try switching \n",
    "to FiniteDiff.jl by setting diff_type = :finite. \n",
    "\"\"\";"
   ]
  },
  {
   "cell_type": "code",
   "execution_count": 4,
   "metadata": {},
   "outputs": [
    {
     "data": {
      "text/plain": [
       "MuJoCo Data object"
      ]
     },
     "execution_count": 4,
     "metadata": {},
     "output_type": "execute_result"
    }
   ],
   "source": [
    "# import piano model\n",
    "model = load_model(\"piano_with_one_shadow_hand/scene.xml\")\n",
    "data = init_data(model)"
   ]
  },
  {
   "cell_type": "code",
   "execution_count": 5,
   "metadata": {},
   "outputs": [
    {
     "name": "stdout",
     "output_type": "stream",
     "text": [
      "number of geoms: 152\n",
      "Simulation timestep: 0.005\n",
      "Positions of joints: [-8.82359534359623e-5; -0.0004997467505765748; -8.82359534359623e-5; -8.82359534359623e-5; -0.0004997467505765748; -8.82359534359623e-5; -0.0004997467505765748; -8.82359534359623e-5; -8.82359534359623e-5; -0.0004997467505765748; -8.82359534359623e-5; -0.0004997467505765748; -8.82359534359623e-5; -0.0004997467505765748; -8.82359534359623e-5; -8.82359534359623e-5; -0.0004997467505765748; -8.82359534359623e-5; -0.0004997467505765748; -8.82359534359623e-5; -8.82359534359623e-5; -0.0004997467505765748; -8.82359534359623e-5; -0.0004997467505765748; -8.82359534359623e-5; -0.0004997467505765748; -8.82359534359623e-5; -8.82359534359623e-5; -0.0004997467505765748; -8.82359534359623e-5; -0.0004997467505765748; -8.82359534359623e-5; -8.82359534359623e-5; -0.0004997467505765748; -8.82359534359623e-5; -0.0004997467505765748; -8.82359534359623e-5; -0.0004997467505765748; -8.82359534359623e-5; -8.82359534359623e-5; -0.0004997467505765748; -8.82359534359623e-5; -0.0004997467505765748; -8.82359534359623e-5; -8.82359534359623e-5; -0.0004997467505765748; -8.82359534359623e-5; -0.0004997467505765748; -8.82359534359623e-5; -0.0004997467505765748; -8.82359534359623e-5; -8.82359534359623e-5; -0.0004997467505765748; -8.82359534359623e-5; -0.0004997467505765748; -8.82359534359623e-5; -8.82359534359623e-5; -0.0004997467505765748; -8.82359534359623e-5; -0.0004997467505765748; -8.82359534359623e-5; -0.0004997467505765748; -8.82359534359623e-5; -8.82359534359623e-5; -0.0004997467505765748; -8.82359534359623e-5; -0.0004997467505765748; -8.82359534359623e-5; -8.82359534359623e-5; -0.0004997467505765748; -8.82359534359623e-5; -0.0004997467505765748; -8.82359534359623e-5; -0.0004997467505765748; -8.82359534359623e-5; -8.82359534359623e-5; -0.0004997467505765748; -8.82359534359623e-5; -0.0004997467505765748; -8.82359534359623e-5; -8.82359534359623e-5; -0.0004997467505765748; -8.82359534359623e-5; -0.0004997467505765748; -8.82359534359623e-5; -0.0004997467505765748; -8.82359534359623e-5; -8.82359534359623e-5; 5.002680267316607e-8; 1.9312498862640939e-7; 1.7597594330078816e-6; 0.0013117618860292114; 2.119578739284457e-6; 0.0004242514927960235; 0.00010386375165156711; 2.4210473647105e-5; 2.167910472606352e-6; 0.00043166833212168607; 0.0001050332928005855; 2.4416659004865517e-5; -2.119578739284456e-6; 0.0004242514927960235; 0.00010386375165156711; 2.4210473647105e-5; 0.00046027142113439244; -2.016809269498102e-6; 0.00025700595214848347; 6.074023553031633e-5; 1.3786940145729999e-5; -4.32739574502825e-6; 0.0003720337879574391; 0.00011305465278303735; -5.351812873052153e-6; -1.0047543419209986e-6;;]\n",
      "Cartesion position of joints: [0.0 0.0 0.0; -0.127 0.0 0.02; 0.0 -0.59925 0.01125; -0.03 -0.5875 0.026000000000000002; 0.0 -0.57575 0.01125; 0.0 -0.5522499999999999 0.01125; -0.03 -0.5399999999999999 0.026000000000000002; 0.0 -0.5287499999999999 0.01125; -0.03 -0.5164999999999998 0.026000000000000002; 0.0 -0.50525 0.01125; 0.0 -0.48174999999999996 0.01125; -0.03 -0.4695 0.026000000000000002; 0.0 -0.45824999999999994 0.01125; -0.03 -0.4459999999999999 0.026000000000000002; 0.0 -0.43474999999999997 0.01125; -0.03 -0.42249999999999993 0.026000000000000002; 0.0 -0.41124999999999995 0.01125; 0.0 -0.38774999999999993 0.01125; -0.03 -0.37549999999999994 0.026000000000000002; 0.0 -0.36424999999999996 0.01125; -0.03 -0.35199999999999987 0.026000000000000002; 0.0 -0.34074999999999994 0.01125; 0.0 -0.3172499999999999 0.01125; -0.03 -0.30499999999999994 0.026000000000000002; 0.0 -0.29374999999999996 0.01125; -0.03 -0.28149999999999986 0.026000000000000002; 0.0 -0.27024999999999993 0.01125; -0.03 -0.2579999999999999 0.026000000000000002; 0.0 -0.24674999999999997 0.01125; 0.0 -0.22324999999999995 0.01125; -0.03 -0.21099999999999997 0.026000000000000002; 0.0 -0.19974999999999993 0.01125; -0.03 -0.1874999999999999 0.026000000000000002; 0.0 -0.17624999999999996 0.01125; 0.0 -0.15274999999999994 0.01125; -0.03 -0.14049999999999996 0.026000000000000002; 0.0 -0.12924999999999998 0.01125; -0.03 -0.11699999999999988 0.026000000000000002; 0.0 -0.10574999999999996 0.01125; -0.03 -0.09349999999999992 0.026000000000000002; 0.0 -0.08224999999999993 0.01125; 0.0 -0.05874999999999997 0.01125; -0.03 -0.046499999999999986 0.026000000000000002; 0.0 -0.03524999999999989 0.01125; -0.03 -0.02299999999999991 0.026000000000000002; 0.0 -0.011749999999999927 0.01125; 0.0 0.011750000000000038 0.01125; -0.03 0.02400000000000002 0.026000000000000002; 0.0 0.035250000000000004 0.01125; -0.03 0.0475000000000001 0.026000000000000002; 0.0 0.05875000000000008 0.01125; -0.03 0.07100000000000006 0.026000000000000002; 0.0 0.08225000000000005 0.01125; 0.0 0.10575000000000001 0.01125; -0.03 0.118 0.026000000000000002; 0.0 0.1292500000000001 0.01125; -0.03 0.14150000000000007 0.026000000000000002; 0.0 0.15275000000000005 0.01125; 0.0 0.17625000000000002 0.01125; -0.03 0.1885 0.026000000000000002; 0.0 0.1997500000000001 0.01125; -0.03 0.21200000000000008 0.026000000000000002; 0.0 0.22325000000000006 0.01125; -0.03 0.23550000000000004 0.026000000000000002; 0.0 0.24675000000000002 0.01125; 0.0 0.2702500000000001 0.01125; -0.03 0.2825000000000001 0.026000000000000002; 0.0 0.29375000000000007 0.01125; -0.03 0.30600000000000016 0.026000000000000002; 0.0 0.31725000000000003 0.01125; 0.0 0.34075 0.01125; -0.03 0.353 0.026000000000000002; 0.0 0.3642500000000001 0.01125; -0.03 0.37650000000000006 0.026000000000000002; 0.0 0.38775000000000004 0.01125; -0.03 0.4 0.026000000000000002; 0.0 0.41125 0.01125; 0.0 0.4347500000000001 0.01125; -0.03 0.44700000000000006 0.026000000000000002; 0.0 0.45825000000000016 0.01125; -0.03 0.47050000000000014 0.026000000000000002; 0.0 0.48175 0.01125; 0.0 0.5052500000000001 0.01125; -0.03 0.5175000000000001 0.026000000000000002; 0.0 0.5287500000000002 0.01125; -0.03 0.5410000000000001 0.026000000000000002; 0.0 0.55225 0.01125; -0.03 0.5645000000000001 0.026000000000000002; 0.0 0.5757500000000001 0.01125; 0.0 0.59925 0.01125; 0.3938251578954367 0.14997497683550026 0.13062742818321735; 0.29337550270087137 0.15000084946805123 0.12910710828129915; 0.3072543776776233 0.15000002300031276 0.1299999783510228; 0.21900000000000003 0.15 0.12000000000000001; 0.17092568615014175 0.14735063215565455 0.12002261927474529; 0.18699000000000002 0.15 0.12000000000000001; 0.15299000000000001 0.176 0.12000000000000001; 0.15299000000000001 0.119 0.12000000000000001; 0.17599 0.17099999999999999 0.12000000000000001; 0.17699 0.124 0.12000000000000001; 0.1209770568796659 0.14462555482952272 0.11775570934409173; 0.11499000000000001 0.13899999999999998 0.1285; 0.11499000000000001 0.152 0.1165; 0.07099000000000001 0.121 0.1165; 0.08299000000000001 0.1235 0.11900000000000001; 0.15199000000000001 0.1185 0.11150000000000002; 0.14899 0.13749999999999998 0.10500000000000001; 0.06399000000000002 0.13899999999999998 0.12000000000000001; 0.14399 0.18 0.12000000000000001; 0.05767588551297593 0.11700801594394228 0.12028383334511583; 0.057990000000000014 0.11699999999999999 0.12000000000000001; 0.03510934665656868 0.11699878953269993 0.12000976175282389; 0.03299000000000001 0.11699999999999999 0.12000000000000001; 0.001478590055129481 0.11700271974070468 0.11996780716716976; 0.0004900000000000147 0.11699999999999999 0.12000000000000001; -0.02965647531732039 0.11702398434946391 0.12042073257364415; -0.02965647531732039 0.11702398434946391 0.12042073257364415; 0.053675885512975925 0.13900801594394227 0.12028383334511583; 0.05399000000000001 0.13899999999999998 0.12000000000000001; 0.031109346656568677 0.13899878953269992 0.12000976175282389; 0.02899000000000001 0.13899999999999998 0.12000000000000001; -0.0025214099448705226 0.1390027197407047 0.11996780716716976; -0.003509999999999989 0.13899999999999998 0.12000000000000001; -0.0336564753173204 0.13902398434946392 0.12042073257364415; -0.0336564753173204 0.13902398434946392 0.12042073257364415; 0.05767588551297593 0.1610080159439423 0.12028383334511583; 0.057990000000000014 0.161 0.12000000000000001; 0.03510934665656868 0.16099878953269994 0.12000976175282389; 0.03299000000000001 0.161 0.12000000000000001; 0.001478590055129481 0.1610027197407047 0.11996780716716976; 0.0004900000000000147 0.161 0.12000000000000001; -0.02965647531732039 0.16102398434946394 0.12042073257364415; -0.02965647531732039 0.16102398434946394 0.12042073257364415; 0.09580022547522016 0.18052225157929006 0.12066233573254898; 0.09928000000000001 0.181 0.12000000000000001; 0.06617588551297592 0.18300801594394228 0.12028383334511583; 0.06649000000000001 0.183 0.12000000000000001; 0.043609346656568675 0.18299878953269993 0.12000976175282389; 0.041490000000000006 0.183 0.12000000000000001; 0.009978590055129475 0.1830027197407047 0.11996780716716976; 0.008990000000000008 0.183 0.12000000000000001; -0.021156475317320397 0.18302398434946393 0.12042073257364415; -0.021156475317320397 0.18302398434946393 0.12042073257364415; 0.12399000000000002 0.11599999999999999 0.11142; 0.11216597491798719 0.1041850233798636 0.11139396871537276; 0.10984784801797724 0.10185788073457978 0.11142; 0.09711991123415675 0.0891299733957016 0.11142; 0.0863198310645951 0.07822414039365372 0.11137493022147131; 0.08863462004494309 0.08064470183644948 0.11142; 0.0759066832611226 0.06791679449757129 0.11142; 0.061233595125650964 0.0521088087060526 0.11142082545097531; 0.061233595125650964 0.0521088087060526 0.11142082545097531]\n",
      "Size of Cartesion position of joints: (152, 3)\n",
      "model \n"
     ]
    }
   ],
   "source": [
    "println(\"number of geoms: \",model.ngeom)\n",
    "finger_indices = [115,116,123,124,131,132,141,142,150,151]\n",
    "step!(model, data)\n",
    "println(\"Simulation timestep: \", model.opt.timestep)\n",
    "println(\"Positions of joints: \", data.qpos)\n",
    "println(\"Cartesion position of joints: \", data.geom_xpos)\n",
    "println(\"Size of Cartesion position of joints: \", size(data.geom_xpos))\n",
    "println(\"model \")\n",
    "\"\"\"\n",
    "index finger:\n",
    "    name:\n",
    "        rh_shadow_hand//unnamed_geom_25\n",
    "        rh_shadow_hand//unnamed_geom_26\n",
    "    index:\n",
    "        115\n",
    "        116\n",
    "    range:\n",
    "        x:\n",
    "        y:-0.6-0.5\n",
    "        z:0-0.3\n",
    "\n",
    "middle finger:\n",
    "    name:\n",
    "        rh_shadow_hand//unnamed_geom_33\n",
    "        rh_shadow_hand//unnamed_geom_34\n",
    "    index:\n",
    "        123\n",
    "        124\n",
    "ring finger:\n",
    "    name:\n",
    "        rh_shadow_hand//unnamed_geom_41\n",
    "        rh_shadow_hand//unnamed_geom_42\n",
    "    index:\n",
    "        131\n",
    "        132\n",
    "pinky finger:\n",
    "    name:\n",
    "        rh_shadow_hand//unnamed_geom_51\n",
    "        rh_shadow_hand//unnamed_geom_52\n",
    "    index:\n",
    "        141\n",
    "        142\n",
    "thumb:\n",
    "    name:\n",
    "        rh_shadow_hand//unnamed_geom_60\n",
    "        rh_shadow_hand//unnamed_geom_61\n",
    "    index:\n",
    "        150\n",
    "        151\n",
    "\"\"\";"
   ]
  },
  {
   "cell_type": "markdown",
   "metadata": {},
   "source": [
    "## Test DIRCOL: moving index finger left right"
   ]
  },
  {
   "cell_type": "code",
   "execution_count": 6,
   "metadata": {},
   "outputs": [],
   "source": [
    "tmax = 400\n",
    "nx = model.nq + model.nv + model.na # State vector dimension\n",
    "states = zeros(nx, tmax)\n",
    "for t in 1:tmax\n",
    "    states[:,t] = get_physics_state(model, data)\n",
    "    step!(model, data)\n",
    "end"
   ]
  },
  {
   "cell_type": "code",
   "execution_count": 7,
   "metadata": {},
   "outputs": [
    {
     "data": {
      "text/plain": [
       "create_idx (generic function with 1 method)"
      ]
     },
     "execution_count": 7,
     "metadata": {},
     "output_type": "execute_result"
    }
   ],
   "source": [
    "function wrapped_mj_step(model, data, x, uk)\n",
    "    # given the current model and data. set the state and control to the model and perform a forward step\n",
    "    if typeof(x) == Vector{Float64}\n",
    "        # set control \n",
    "        data.ctrl[:] = uk[:]\n",
    "        # println(\"hi33\")\n",
    "        # set state\n",
    "        data.qpos .= x[1:model.nq]\n",
    "        data.qvel .= x[(model.nq + 1):end]\n",
    "    else\n",
    "        # if using diff types, we need to convert the dual numbers to floats\n",
    "        converted_uk = ForwardDiff.value.(uk)\n",
    "        converted_x = ForwardDiff.value.(x)\n",
    "        # set control\n",
    "        data.ctrl[:] = converted_uk[:]\n",
    "        # println(\"hi33\")\n",
    "        # set state\n",
    "        data.qpos .= converted_x[1:model.nq]\n",
    "        data.qvel .= converted_x[(model.nq + 1):end]\n",
    "    end\n",
    "\n",
    "    # take discrete dynamics step \n",
    "    step!(model, data) \n",
    "\n",
    "    # return updated state k + 1\n",
    "    # xkp1 = zeros(model.nq + model.nv)\n",
    "    # xkp1 .= get_physics_state(model, data)\n",
    "    return data.geom_xpos[115,:], get_physics_state(model, data)\n",
    "end\n",
    "\n",
    "function robohand_cost(params::NamedTuple, Z::Vector)::Real\n",
    "    # TODO: implement cost function\n",
    "    idx, N, xg = params.idx, params.N, params.xg\n",
    "    model = params.model\n",
    "    data = params.data\n",
    "    Q, R, Qf = params.Q, params.R, params.Qf\n",
    "\n",
    "    cost = 0.0\n",
    "    for i = 1:(N-1)\n",
    "        xi = Z[idx.x[i]]\n",
    "        ui = Z[idx.u[i]]\n",
    "        cost += 0.5*(xi-xg)'*Q*(xi-xg)+0.5*ui'*R*ui\n",
    "    end\n",
    "\n",
    "    # terminal cost \n",
    "    xt = Z[idx.x[N]]\n",
    "    cost += 0.5*(xt-xg)'*Qf*(xt-xg)\n",
    "    return cost\n",
    "end\n",
    "function robohand_dynamics_constraints(params::NamedTuple, Z::Vector)::Vector\n",
    "    # get usual parameters from params\n",
    "    idx, N, dt = params.idx, params.N, params.dt\n",
    "    \n",
    "    # get mujoco simulation needed params\n",
    "    idx_full, xic_full = params.idx_full, params.xic_full\n",
    "    model = params.model\n",
    "    data = params.data\n",
    "\n",
    "\n",
    "    # create c in a ForwardDiff friendly way (check HW0)\n",
    "    c = zeros(eltype(Z), idx.nc)\n",
    "\n",
    "    # create the full state and initialize it\n",
    "    x_u_full_for_passing = zeros(idx_full.nz)\n",
    "    x_u_full_for_passing[1:(model.nq + model.nv + model.nu)] .= xic_full\n",
    "\n",
    "    for i = 1:(N-1)\n",
    "        xi = Z[idx.x[i]]\n",
    "        ui = Z[idx.u[i]]\n",
    "        xip1 = Z[idx.x[i+1]]\n",
    "        \n",
    "        # use Mujoco as integrater\n",
    "        xi_full = x_u_full_for_passing[idx_full.x[i]]\n",
    "        ui_full = x_u_full_for_passing[idx_full.u[i]]\n",
    "        xip1_mujoco, xi_1 = wrapped_mj_step(model, data, xi_full, ui_full)\n",
    "        x_u_full_for_passing[idx_full.x[i+1]] .= xi_1\n",
    "        # println(\"xip1_mujoco size:\", size(xip1_mujoco))\n",
    "        # println(\"xip1 size:\", size(xip1))\n",
    "        c[idx.c[i]] =  xip1_mujoco - xip1\n",
    "    end\n",
    "    # println(typeof(c))\n",
    "    return c \n",
    "end\n",
    "\n",
    "function robohand_equality_constraints(params::NamedTuple, Z::Vector)::Vector\n",
    "    # TODO: implement equality constraints\n",
    "    # return zeros(eltype(Z), 0)\n",
    "    N, idx, xic, xg = params.N, params.idx, params.xic, params.xg \n",
    "    con_1 = Z[idx.x[1]] - xic\n",
    "    con_2 = Z[idx.x[N]] - xg\n",
    "\n",
    "    return [con_1; con_2; robohand_dynamics_constraints(params,Z)]\n",
    "end\n",
    "function robohand_inequality_constraints(params::NamedTuple, Z::Vector)::Vector\n",
    "    # TODO: implement inequality constraints\n",
    "    # println(Z)\n",
    "    return zeros(eltype(Z), 0)\n",
    "    # return inequality_constraints\n",
    "end\n",
    "function create_idx(nx,nu,N)\n",
    "    # This function creates some useful indexing tools for Z \n",
    "    # x_i = Z[idx.x[i]]\n",
    "    # u_i = Z[idx.u[i]]\n",
    "    \n",
    "    # Feel free to use/not use anything here.\n",
    "    \n",
    "    \n",
    "    # our Z vector is [x0, u0, x1, u1, …, xN]\n",
    "    nz = (N-1) * nu + N * nx # length of Z \n",
    "    x = [(i - 1) * (nx + nu) .+ (1 : nx) for i = 1:N]\n",
    "    u = [(i - 1) * (nx + nu) .+ ((nx + 1):(nx + nu)) for i = 1:(N - 1)]\n",
    "    \n",
    "    # constraint indexing for the (N-1) dynamics constraints when stacked up\n",
    "    c = [(i - 1) * (nx) .+ (1 : nx) for i = 1:(N - 1)]\n",
    "    nc = (N - 1) * nx # (N-1)*nx \n",
    "    \n",
    "    return (nx=nx,nu=nu,N=N,nz=nz,nc=nc,x = x,u = u,c = c)\n",
    "end"
   ]
  },
  {
   "cell_type": "code",
   "execution_count": 8,
   "metadata": {},
   "outputs": [
    {
     "name": "stdout",
     "output_type": "stream",
     "text": [
      "(503,)\n"
     ]
    },
    {
     "data": {
      "text/plain": [
       "503-element Vector{Float64}:\n",
       " -0.04932203579754475\n",
       " -0.04986979245625313\n",
       " -0.0012349713696400025\n",
       "  6.697953092396053e-5\n",
       " -0.00013438560262886128\n",
       "  7.146950110023195e-5\n",
       " -0.00011525871527907015\n",
       " -8.550035827456707e-5\n",
       " -6.480911444413621e-5\n",
       " -0.00010721786538059044\n",
       "  7.588979901270098e-5\n",
       "  4.855172964340082e-6\n",
       "  2.357946127328083e-5\n",
       "  ⋮\n",
       "  1.976692484476048e-5\n",
       " -5.9103604049627476e-5\n",
       "  0.0001196042173015987\n",
       "  0.00013604246798091678\n",
       " -8.282239884898933e-5\n",
       " -9.13911164823079e-7\n",
       " -4.882232578283046e-5\n",
       "  2.605292963737015e-5\n",
       " -3.0228151277367585e-5\n",
       " -0.48294066369181887\n",
       " -0.49411107834722995\n",
       " -0.007333799996138405"
      ]
     },
     "execution_count": 8,
     "metadata": {},
     "output_type": "execute_result"
    }
   ],
   "source": [
    "function con(params, x)\n",
    "    [\n",
    "        robohand_equality_constraints(params, x);\n",
    "        robohand_inequality_constraints(params, x)\n",
    "    ]\n",
    "end\n",
    "\n",
    "# instantiate model and data\n",
    "model = load_model(\"piano_with_one_shadow_hand/scene.xml\")\n",
    "data = init_data(model)\n",
    "\n",
    "# reset the model and data\n",
    "reset!(model, data)\n",
    "\n",
    "# initiate time and time steps\n",
    "dt = 0.05\n",
    "tf = 1.0\n",
    "t_vec = 0:dt:tf\n",
    "N = length(t_vec)\n",
    "\n",
    "# LQR cost\n",
    "# Q size only one because we track one finger\n",
    "Q = 1\n",
    "R = 0.1*diagm(ones(model.nu))\n",
    "Qf = 10\n",
    "\n",
    "# indexing \n",
    "# initialize index for state that only has the cartesian as states [x,y,z]\n",
    "idx = create_idx(3, model.nu, N)\n",
    "# initialize full index for full states\n",
    "idx_full = create_idx(model.nq + model.nv, model.nu, N)\n",
    "\n",
    "# calculate final state\n",
    "start_pos = data.geom_xpos[115,:]\n",
    "end_pos = data.geom_xpos[115,:] +  [0.05, 0.05, 0.0]\n",
    "# initial and goal state\n",
    "xic = start_pos\n",
    "xg = end_pos\n",
    "\n",
    "# initial full_state\n",
    "xic_full = [data.qpos[:]; data.qvel[:]; data.ctrl[:]]\n",
    "\n",
    "# initialize the first full states \n",
    "x_u_full_for_passing = zeros(idx_full.nz)\n",
    "\n",
    "# x_u_full_for_passing[1:(model.nq + model.nv + model.nu)] .= [get_physics_state(model, data); data.ctrl[:]]\n",
    "\n",
    "\n",
    "params = (Q = Q, R = R, Qf = Qf, xic = xic, xg = xg, dt = dt, N = N, idx = idx, idx_full=idx_full, xic_full=xic_full, model=model, data=data)\n",
    "\n",
    "z0 = 0.001*randn(idx.nz)\n",
    "println(size(z0))\n",
    "ForwardDiff.gradient(_x -> robohand_cost(params, _x), z0)\n",
    "# ForwardDiff.jacobian(_x -> robohand_dynamics_constraints(params, _x), z0)"
   ]
  },
  {
   "cell_type": "code",
   "execution_count": 9,
   "metadata": {},
   "outputs": [
    {
     "name": "stdout",
     "output_type": "stream",
     "text": [
      "(250,)\n",
      "5228\n",
      "250\n",
      "(5228,)\n"
     ]
    }
   ],
   "source": [
    "\n",
    "dt = 0.05\n",
    "tf = 1.0\n",
    "t_vec = 0:dt:tf\n",
    "N = length(t_vec)\n",
    "nz = (N-1) * model.nu + N * (model.nq + model.nv)\n",
    "x_u_full_for_passing = zeros(nz)\n",
    "println(size([get_physics_state(model, data);data.ctrl[:]]))\n",
    "x_u_full_for_passing[1:250] .= [get_physics_state(model, data);data.ctrl[:]]\n",
    "println(nz)\n",
    "println(model.nq + model.nv+model.nu)\n",
    "println(size(x_u_full_for_passing))"
   ]
  },
  {
   "cell_type": "code",
   "execution_count": 10,
   "metadata": {},
   "outputs": [
    {
     "data": {
      "text/plain": [
       "(250,)"
      ]
     },
     "execution_count": 10,
     "metadata": {},
     "output_type": "execute_result"
    }
   ],
   "source": [
    "size([data.qpos[:]; data.qvel[:]; data.ctrl[:]])"
   ]
  },
  {
   "cell_type": "code",
   "execution_count": 35,
   "metadata": {},
   "outputs": [
    {
     "data": {
      "text/plain": [
       "solve_finger_moving (generic function with 1 method)"
      ]
     },
     "execution_count": 35,
     "metadata": {},
     "output_type": "execute_result"
    }
   ],
   "source": [
    "\n",
    "function solve_finger_moving(;verbose=true)\n",
    "    # instantiate model and data\n",
    "    model = load_model(\"piano_with_one_shadow_hand/scene.xml\")\n",
    "    data = init_data(model)\n",
    "\n",
    "    # reset the model and data\n",
    "    reset!(model, data)\n",
    "    \n",
    "    # initiate time and time steps\n",
    "    dt = 0.05\n",
    "    tf = 5.0\n",
    "    t_vec = 0:dt:tf\n",
    "    N = length(t_vec)\n",
    "\n",
    "    # LQR cost\n",
    "    # Q size only 3 because we track one finger cartesian coordinates\n",
    "    Q = 1*diagm(ones(3))\n",
    "    R = 0.1*diagm(ones(model.nu))\n",
    "    Qf = 100*diagm(ones(3))\n",
    "\n",
    "    # indexing \n",
    "    # initialize index for state that only has the cartesian as states [x,y,z]\n",
    "    idx = create_idx(3, model.nu, N)\n",
    "    # initialize full index for full states\n",
    "    idx_full = create_idx(model.nq + model.nv, model.nu, N)\n",
    "\n",
    "    # calculate final state\n",
    "    start_pos = data.geom_xpos[115,:]\n",
    "    end_data = data.geom_xpos[115,:] +  [0.2, 0.2, 0.0]\n",
    "    # initial and goal state\n",
    "    xic = start_pos\n",
    "    xg = end_data\n",
    "\n",
    "    # initial full_state\n",
    "    xic_full = [data.qpos[:]; data.qvel[:]; data.ctrl[:]]\n",
    "    \n",
    "    # initialize the first full states \n",
    "    x_u_full_for_passing = zeros(idx_full.nz)\n",
    "    \n",
    "    # x_u_full_for_passing[1:(model.nq + model.nv + model.nu)] .= [get_physics_state(model, data); data.ctrl[:]]\n",
    "\n",
    "\n",
    "    params = (Q = Q, R = R, Qf = Qf, xic = xic, xg = xg, dt = dt, N = N, idx = idx, idx_full=idx_full, xic_full=xic_full, model=model, data=data)\n",
    "\n",
    "\n",
    "    # primal bounds\n",
    "    x_l = -1 * Inf * ones(idx.nz)\n",
    "    x_u = Inf*ones(idx.nz)\n",
    "\n",
    "    for i =1:N-1\n",
    "        x_l[idx.u[i]] .= -1\n",
    "        x_u[idx.u[i]] .= 1\n",
    "    end\n",
    "\n",
    "    # inequality constraints\n",
    "    # c_l = -1 * Inf * ones(3*(idx.N-1))\n",
    "    # c_u = Inf * ones(3*(idx.N-1))\n",
    "    c_l = zeros(0)\n",
    "    c_u = zeros(0)\n",
    "    # initial guess \n",
    "    z0 = 0.001*randn(idx.nz)\n",
    "    z0[idx.x[1]] .= data.geom_xpos[115,:]\n",
    "    z0[idx.u[1]] .= data.ctrl[:]\n",
    "    # choose diff type (try :auto, then use :finite if :auto doesn't work)\n",
    "    diff_type = :auto \n",
    "    # diff_type = :finite\n",
    "    \n",
    "    \n",
    "    Z = fmincon(robohand_cost,robohand_equality_constraints,robohand_inequality_constraints,\n",
    "                x_l,x_u,c_l,c_u,z0,params, diff_type;\n",
    "                tol = 1e-6, c_tol = 1e-6, max_iters = 10_000, verbose = verbose)\n",
    "    \n",
    "    # pull the X and U solutions out of Z \n",
    "    X = [Z[idx.x[i]] for i = 1:N]\n",
    "    U = [Z[idx.u[i]] for i = 1:(N-1)]\n",
    "    return X, U, t_vec, params\n",
    "end"
   ]
  },
  {
   "cell_type": "code",
   "execution_count": 36,
   "metadata": {},
   "outputs": [
    {
     "name": "stdout",
     "output_type": "stream",
     "text": [
      "---------checking dimensions of everything----------\n",
      "---------all dimensions good------------------------\n",
      "---------diff type set to :auto (ForwardDiff.jl)----\n",
      "---------testing objective gradient-----------------\n",
      "---------testing constraint Jacobian----------------\n",
      "---------successfully compiled both derivatives-----\n",
      "---------IPOPT beginning solve----------------------\n",
      "This is Ipopt version 3.14.14, running with linear solver MUMPS 5.6.2.\n",
      "\n",
      "Number of nonzeros in equality constraint Jacobian...:   765918\n",
      "Number of nonzeros in inequality constraint Jacobian.:        0\n",
      "Number of nonzeros in Lagrangian Hessian.............:        0\n",
      "\n",
      "Total number of variables............................:     2503\n",
      "                     variables with only lower bounds:        0\n",
      "                variables with lower and upper bounds:     2200\n",
      "                     variables with only upper bounds:        0\n",
      "Total number of equality constraints.................:      306\n",
      "Total number of inequality constraints...............:        0\n",
      "        inequality constraints with only lower bounds:        0\n",
      "   inequality constraints with lower and upper bounds:        0\n",
      "        inequality constraints with only upper bounds:        0\n",
      "\n",
      "iter    objective    inf_pr   inf_du lg(mu)  ||d||  lg(rg) alpha_du alpha_pr  ls\n",
      "   0  7.9976125e+00 2.01e-01 2.01e+01   0.0 0.00e+00    -  0.00e+00 0.00e+00   0\n",
      "   1  3.6760384e+00 9.95e-02 1.58e+01  -2.1 1.59e-01    -  9.98e-01 1.00e+00f  1\n",
      "   2  3.6760320e+00 9.95e-02 3.42e-04  -3.9 1.46e-04    -  1.00e+00 1.00e+00h  1\n",
      "   3  3.6759393e+00 9.95e-02 1.53e-04  -5.8 3.43e-03    -  1.00e+00 1.00e+00h  1\n",
      "   4  3.6759393e+00 9.95e-02 2.72e-08  -7.6 8.91e-06    -  1.00e+00 1.00e+00s 22\n",
      "   5r 3.6759393e+00 9.95e-02 9.99e+02  -1.0 0.00e+00    -  0.00e+00 4.77e-07R 22\n",
      "   6r 3.6759393e+00 9.95e-02 1.02e-08  -3.0 9.85e-05    -  1.00e+00 9.99e-01f  1\n",
      "\n",
      "Number of Iterations....: 6\n",
      "\n",
      "                                   (scaled)                 (unscaled)\n",
      "Objective...............:   3.6759393195080543e+00    3.6759393195080543e+00\n",
      "Dual infeasibility......:   9.9538829930707884e+00    9.9538829930707884e+00\n",
      "Constraint violation....:   9.9538829930707881e-02    9.9538829930707881e-02\n",
      "Variable bound violation:   0.0000000000000000e+00    0.0000000000000000e+00\n",
      "Complementarity.........:   9.5775917951969178e-07    9.5775917951969178e-07\n",
      "Overall NLP error.......:   9.9538829930707884e+00    9.9538829930707884e+00\n",
      "\n",
      "\n",
      "Number of objective function evaluations             = 51\n",
      "Number of objective gradient evaluations             = 7\n",
      "Number of equality constraint evaluations            = 51\n",
      "Number of inequality constraint evaluations          = 0\n",
      "Number of equality constraint Jacobian evaluations   = 9\n",
      "Number of inequality constraint Jacobian evaluations = 0\n",
      "Number of Lagrangian Hessian evaluations             = 0\n",
      "Total seconds in IPOPT                               = 51.850\n",
      "\n",
      "EXIT: Converged to a point of local infeasibility. Problem may be infeasible.\n"
     ]
    },
    {
     "data": {
      "text/plain": [
       "([[1.4640634438596227e-20, 1.4640634438596227e-20, 0.0], [0.0004900000000000147, 0.11699999999999999, 0.12000000000000001], [0.0004900356477847839, 0.11699984370778511, 0.11977426364260266], [0.0004908516299502036, 0.11699962753590754, 0.11938676273150908], [0.0004932517200174503, 0.11699941862742246, 0.11889258967498958], [0.0004978115117948712, 0.11699925138306297, 0.11833186138152817], [0.0005049005369356391, 0.116999155071389, 0.117730056102121], [0.000514654836096114, 0.1169991246199062, 0.11710743614116581], [0.0005270074216779524, 0.11699914480450516, 0.11647986858512827], [0.0005417326740004263, 0.1169992002258474, 0.11585967597117894]  …  [0.0009185470716845182, 0.11700049378592955, 0.1086803626903352], [0.0009189886809466905, 0.11700049145415861, 0.10867532313207423], [0.000919425117747695, 0.11700048911597652, 0.10867034634105416], [0.0009198564399488796, 0.11700048677173439, 0.10866543151359516], [0.0009202827048665901, 0.11700048442177644, 0.10866057785663027], [0.0009207039692764769, 0.11700048206644001, 0.10865578458752594], [0.0009211202894172862, 0.11700047970605627, 0.10865105093390974], [0.0009215317209945451, 0.11700047734094987, 0.10864637613350589], [0.0009219383191847921, 0.11700047497143937, 0.10864175943397662], [0.10046117006929213, 0.15850023629889948, 0.054318600046392586]], [[0.0, 0.0, 0.0, 0.0, 0.0, 0.0, 0.0, 0.0, 0.0, 0.0  …  0.0, 0.0, 0.0, 0.0, 0.0, 0.0, 0.0, 0.0, 0.0, 0.0], [1.018339845993844e-10, 6.614911304844364e-11, 4.4431431019039345e-12, 4.921888426126251e-11, -1.225684636459423e-10, 6.637413332303828e-11, 3.396445528418886e-11, -4.976368321055065e-11, 1.2806021582529795e-10, -2.2409934562144332e-11  …  -1.749214876983838e-12, -9.863888149878428e-12, -3.688089763284693e-12, 6.009860987332069e-11, -4.199757838908249e-11, -1.6139859548362444e-11, -3.4646780616028837e-12, -5.22861819635506e-11, 8.656746182631272e-12, 8.297818108634115e-11], [2.4356869953140367e-11, -5.4548861194704884e-11, -8.176628065744107e-11, -2.3273675896031384e-11, -1.0748621965915904e-10, 8.540421595723055e-11, 4.187730927386231e-11, 9.337203034522264e-11, -4.1282124193040035e-11, 1.574834211349819e-10  …  1.59867937429159e-11, 6.829960955529993e-11, -2.2514188361727228e-11, -9.967413767331268e-11, -4.8162245087933915e-11, -1.2395150083127762e-10, 8.797033769962335e-11, 4.0856416342375426e-11, -5.776853870022586e-11, 9.898689703290034e-11], [-7.861730627951441e-11, -6.096344100592241e-11, 4.92831081637922e-11, 2.061804400090764e-11, -4.008870251846424e-11, 3.954330007233911e-11, 8.441073971826335e-11, 1.390878357525593e-10, 5.256231932301252e-11, 1.8062458686455368e-10  …  1.406149460755389e-10, -1.038156770344941e-11, 1.416336786548658e-10, -8.184533650205446e-11, 8.168723813489288e-12, 3.4642286883941543e-11, -6.762200638528604e-11, 1.2706209366876827e-10, 6.906851750111806e-11, 6.45255633460235e-11], [4.2181669538865147e-11, 7.614225407904401e-11, -4.4136322020939565e-11, 1.1586565165145367e-11, 7.34916477287194e-11, -1.1792425466000253e-10, -1.6384778672053117e-10, 1.3826314984691037e-10, -2.83664254686007e-11, 1.2708797602929315e-10  …  1.2872092725247142e-11, -7.018609823810985e-11, 1.462986352099269e-10, -5.321333349901135e-11, 8.510611062725537e-11, -1.2316456569006828e-10, 2.003529324965133e-11, -1.4463881077905907e-10, 7.381530331766722e-11, -2.2747213827130286e-11], [1.8101072968137737e-10, -9.867538688936297e-11, 1.1759249603947394e-10, -1.4360290994283302e-10, -5.1234201553407665e-11, -3.783869221697941e-11, 8.598380291993115e-11, 6.099274449414481e-11, 3.19346977011014e-11, -5.829229119392599e-11  …  8.710347801899913e-11, 7.051216528860857e-13, 9.824826849259512e-11, 8.574752988260123e-11, -2.1318393757193898e-11, 5.1581979072303763e-11, 1.8180260716343594e-10, -7.468275815195068e-11, 2.6211251099240174e-11, -2.953198743191557e-11], [-1.461956215315445e-10, 1.0730148276169298e-10, -7.619142331303513e-11, 4.220721035705591e-11, 5.0480475731680704e-11, 1.4653153737537628e-12, 1.2350159319771524e-10, -1.9164566621579736e-10, 5.889227208838194e-11, -3.395015071261513e-11  …  -3.724505695551441e-12, 4.117277201072494e-11, -1.563110166594481e-10, -4.938137856817437e-11, 3.356675657025246e-11, 6.425686554226408e-11, 3.5179841010353642e-12, -2.5330634994210488e-11, 4.773907646644192e-11, -7.753740044868596e-11], [-1.1117673653799605e-10, 2.2484940249165045e-11, -1.1837235697384895e-10, 7.573577777719194e-12, 5.062896856704993e-11, -2.108262906914352e-10, 6.815609569774507e-11, 1.841182409199568e-10, -7.194211793028932e-11, 1.2238248077853919e-12  …  8.189566111285688e-11, 2.3717778789545145e-11, 5.5620667769759965e-11, 2.673881212723222e-11, 5.937436445964694e-11, -1.1289648265641692e-11, -6.191168070791308e-11, -1.0691113984806094e-10, -2.7356120297748472e-11, -1.3190072699692528e-10], [3.218803327823922e-11, 1.4517904160315432e-10, -3.4265074154435365e-11, -7.881659774678102e-11, 1.9423608636799394e-10, -1.5381860985143818e-11, -7.002172793791621e-11, 8.698352379307406e-11, 3.653813431401486e-11, 8.178187676029503e-11  …  5.3106585567062635e-11, 6.141683242997356e-11, -1.1997079257693143e-11, 1.0755326009360678e-10, -6.483117624566326e-11, -1.3325187912449498e-10, -2.693315614239375e-11, -8.478283672537253e-11, 1.6812495623978884e-11, -7.69798982939692e-11], [1.0934555028729035e-10, -5.803814987018145e-11, -4.2222222846425416e-11, -1.169245101463486e-10, 6.348415493647452e-11, 1.356500516091242e-11, -7.17153990072328e-11, -2.326971024044915e-12, -2.802207467138047e-11, -8.89430082066843e-11  …  -7.537503798252745e-11, -5.032132542438261e-11, -6.590083683615266e-11, -1.4113302678903666e-10, -5.821029912550957e-11, 3.4731555901920645e-11, -1.164247482102301e-10, 9.833147967595856e-11, -7.169358114800692e-11, 4.27793874449449e-11]  …  [6.47169757654768e-11, -2.0322399493898285e-10, -1.1858675563120593e-10, -4.23411184832364e-11, -5.6461567287625754e-11, 2.089920575431402e-10, 1.0020129695763585e-10, -1.4442908722522943e-11, -1.1860773869550741e-11, -1.772224154360451e-10  …  7.845672823598834e-11, 6.05721035258926e-11, 4.39063772338454e-11, 1.6613033202391918e-10, -1.1276346918770586e-11, -1.3194337945637823e-11, -5.690275612107844e-11, -7.412992053446762e-11, -3.469498445746921e-11, -1.0075970995471456e-10], [-6.246741326240942e-11, 1.3677932141651153e-10, -7.197760020395958e-11, -1.3553222269296516e-10, 5.746714565138129e-12, 6.135046067477047e-12, 4.2788935082016225e-11, 8.448735051667342e-11, -3.104817125738897e-11, 8.103989938283395e-11  …  2.9230782397071306e-12, 1.369946426399006e-11, -1.7624138472449384e-10, 3.0479943214347864e-12, 3.706651904061019e-12, -2.0093476130627812e-11, 3.638292075269268e-11, -4.5187112324731076e-11, -6.2791316354431725e-12, 3.656639223725855e-12], [1.2705483438479372e-11, -5.7056730721221465e-11, 1.7299104323244515e-10, -9.35671323464608e-11, -1.8113841582962115e-11, 1.0642411327475436e-10, 1.2188907562829287e-11, -4.316226845559509e-11, -1.7779469390281842e-10, -4.1683733540468395e-11  …  -2.5741146388464365e-11, 1.0583455458825706e-10, -9.34115518806491e-12, 1.0088691019486443e-10, -5.7403275054369884e-11, 6.92115421706455e-11, -1.5053341574633625e-10, 3.613247871613987e-11, -2.495545344880131e-11, 1.0714304617349793e-11], [4.5823681912944717e-11, -1.7136231253539555e-10, 4.208186459199592e-11, 5.7327058288507536e-11, 1.3696674901435807e-10, 7.864245653611028e-11, 5.2330874263761454e-12, 1.537762099537356e-10, -1.150851697868195e-10, -1.4533941339187162e-10  …  -6.256626261697533e-11, 2.6054377473276835e-11, -1.975002609781085e-11, 1.7875594888024345e-11, -3.102952728804686e-11, -1.1666117536956916e-11, -2.8171834787859455e-11, -1.2384713208190087e-10, -1.7280986622643956e-10, -3.4418787619777004e-11], [-9.66736879993923e-11, -1.1247428644728936e-11, 2.1117918737084634e-11, -2.4929690129614032e-11, -2.9660738447640715e-11, 4.278132776516823e-11, 2.287983800510329e-11, -7.425397882541724e-11, 1.998029553255019e-11, -7.985087514925466e-11  …  -1.813646267672209e-10, -9.080559546677887e-13, 1.377208303895356e-11, -1.6313260551031539e-10, -1.3710601765433536e-10, 9.29172684693165e-11, 2.798004266415353e-11, 1.6936602347813934e-10, -2.8328514668820047e-11, -1.9492280072587771e-10], [3.540961221490941e-11, 4.4125617822568853e-13, 3.001960387537752e-11, -2.232269341120755e-10, 2.4605508976243378e-11, 5.377784899168522e-12, -7.464791737017988e-11, -5.27243555980096e-11, 6.109676354277852e-11, -4.560060543954504e-11  …  -9.631946995849443e-11, -1.4344474484284252e-10, 2.318964918951649e-11, 2.8215069575391055e-11, 2.3259596031277998e-11, -4.886209869390721e-11, 7.45532189305616e-11, -7.381583437389991e-11, -3.3006970858895997e-11, 1.791837482389169e-11], [-5.207688875266512e-11, 1.2592386942177972e-10, 1.1446756064423501e-10, 5.2466236814065624e-11, 2.3990438512338433e-11, -2.204092339361857e-11, 1.5407586553412382e-10, -2.703776383237273e-11, -2.8353314681175413e-11, 3.7754584939049504e-12  …  4.6540770737324984e-11, -9.444515592604838e-11, -2.5000838208685678e-11, -4.6151717914436114e-11, 6.43925115845747e-11, 1.8000248082641473e-11, 7.089535906142913e-11, -2.14804525143326e-11, -7.810287412088291e-13, 1.2970437492499542e-10], [2.1470103172687804e-11, 4.274068038203812e-11, -2.8726609338041595e-11, -8.222183771624806e-11, -1.25719854179882e-10, -5.488542925642824e-11, 1.1735653431474328e-10, -8.970460819505237e-12, -5.4991347708568074e-11, 1.162108036034959e-10  …  1.1984979148030651e-11, 8.27451821747654e-11, 9.324237786374973e-11, -1.3180183408564877e-10, -9.152456197733332e-11, -5.042797089992308e-11, 1.5098434709888847e-10, 7.934531750563375e-12, 1.6194531986320866e-11, -1.2360106655955424e-10], [4.487424351892618e-11, -1.3369985140228767e-10, 8.155971014143278e-11, -1.139082612519659e-10, -9.016554219198343e-11, -7.595770855044078e-11, 1.6780534505662344e-10, 2.5894722948216723e-11, -1.5634914502440738e-10, -1.014012576988509e-10  …  -9.920546667125674e-11, -1.6796236861861592e-11, 1.3151970863234471e-11, -2.5207662583059678e-11, 3.5926160792262216e-11, -4.1410017299889374e-11, 2.768477301168961e-11, 3.970305190422825e-11, 5.159814993219194e-11, -7.298189161265094e-11], [4.913150523259708e-11, 6.521212493123802e-11, -1.3879269366114082e-11, -1.343430304660777e-10, -4.321520104525961e-11, 8.891121718864975e-11, 6.676992285512078e-12, -1.2306668815901032e-10, -2.9385816259107197e-12, 1.1593327427006742e-10  …  5.206027772873621e-11, 2.5605312843607083e-11, -3.442190740718726e-11, -7.322500760991443e-11, -1.7186269653104442e-11, 4.8934876435875175e-11, -8.804375978254637e-11, -1.6254012771771908e-11, 2.2035622615962207e-13, -4.6704546079095396e-11]], 0.0:0.05:5.0, (Q = [1.0 0.0 0.0; 0.0 1.0 0.0; 0.0 0.0 1.0], R = [0.1 0.0 … 0.0 0.0; 0.0 0.1 … 0.0 0.0; … ; 0.0 0.0 … 0.1 0.0; 0.0 0.0 … 0.0 0.1], Qf = [100.0 0.0 0.0; 0.0 100.0 0.0; 0.0 0.0 100.0], xic = [0.0, 0.0, 0.0], xg = [0.2, 0.2, 0.0], dt = 0.05, N = 101, idx = (nx = 3, nu = 22, N = 101, nz = 2503, nc = 300, x = UnitRange{Int64}[1:3, 26:28, 51:53, 76:78, 101:103, 126:128, 151:153, 176:178, 201:203, 226:228  …  2276:2278, 2301:2303, 2326:2328, 2351:2353, 2376:2378, 2401:2403, 2426:2428, 2451:2453, 2476:2478, 2501:2503], u = UnitRange{Int64}[4:25, 29:50, 54:75, 79:100, 104:125, 129:150, 154:175, 179:200, 204:225, 229:250  …  2254:2275, 2279:2300, 2304:2325, 2329:2350, 2354:2375, 2379:2400, 2404:2425, 2429:2450, 2454:2475, 2479:2500], c = UnitRange{Int64}[1:3, 4:6, 7:9, 10:12, 13:15, 16:18, 19:21, 22:24, 25:27, 28:30  …  271:273, 274:276, 277:279, 280:282, 283:285, 286:288, 289:291, 292:294, 295:297, 298:300]), idx_full = (nx = 228, nu = 22, N = 101, nz = 25228, nc = 22800, x = UnitRange{Int64}[1:228, 251:478, 501:728, 751:978, 1001:1228, 1251:1478, 1501:1728, 1751:1978, 2001:2228, 2251:2478  …  22751:22978, 23001:23228, 23251:23478, 23501:23728, 23751:23978, 24001:24228, 24251:24478, 24501:24728, 24751:24978, 25001:25228], u = UnitRange{Int64}[229:250, 479:500, 729:750, 979:1000, 1229:1250, 1479:1500, 1729:1750, 1979:2000, 2229:2250, 2479:2500  …  22729:22750, 22979:23000, 23229:23250, 23479:23500, 23729:23750, 23979:24000, 24229:24250, 24479:24500, 24729:24750, 24979:25000], c = UnitRange{Int64}[1:228, 229:456, 457:684, 685:912, 913:1140, 1141:1368, 1369:1596, 1597:1824, 1825:2052, 2053:2280  …  20521:20748, 20749:20976, 20977:21204, 21205:21432, 21433:21660, 21661:21888, 21889:22116, 22117:22344, 22345:22572, 22573:22800]), xic_full = [0.0, 0.0, 0.0, 0.0, 0.0, 0.0, 0.0, 0.0, 0.0, 0.0  …  0.0, 0.0, 0.0, 0.0, 0.0, 0.0, 0.0, 0.0, 0.0, 0.0], model = MuJoCo Model, data = MuJoCo Data))"
      ]
     },
     "execution_count": 36,
     "metadata": {},
     "output_type": "execute_result"
    }
   ],
   "source": [
    "X, U, t_vec, params = solve_finger_moving(verbose=true)"
   ]
  },
  {
   "cell_type": "code",
   "execution_count": 37,
   "metadata": {},
   "outputs": [
    {
     "name": "stdout",
     "output_type": "stream",
     "text": [
      "[0.0004900000000000147, 0.11699999999999999, 0.12000000000000001]\n",
      "[0.20049000000000003, 0.317, 0.12000000000000001]\n",
      "[0.000922737216836382, 0.11700047022179254, 0.10863269737862886]\n"
     ]
    }
   ],
   "source": [
    "# instantiate model and data\n",
    "model = load_model(\"piano_with_one_shadow_hand/scene.xml\")\n",
    "data = init_data(model)\n",
    "\n",
    "# reset the model and data\n",
    "reset!(model, data)\n",
    "nx = model.nq + model.nv + model.na # State vector dimension\n",
    "N = length(t_vec)\n",
    "states = zeros(nx, N)\n",
    "ctrl_states = zeros(model.nu, N)\n",
    "N = length(t_vec)\n",
    "reset!(model, data)\n",
    "step!(model, data)\n",
    "println(data.geom_xpos[115,:])\n",
    "println(data.geom_xpos[115,:] +  [0.2, 0.2, 0.0])\n",
    "states[:,1] = get_physics_state(model, data)\n",
    "for t in 1:(N-1)\n",
    "    data.ctrl .= U[t][:]\n",
    "    step!(model, data)\n",
    "    states[:,t+1] = get_physics_state(model, data)\n",
    "end\n",
    "println(data.geom_xpos[115,:])"
   ]
  },
  {
   "cell_type": "code",
   "execution_count": 38,
   "metadata": {},
   "outputs": [
    {
     "name": "stdout",
     "output_type": "stream",
     "text": [
      " __  __            _        _____       _ _ \n",
      "|  \\/  |          | |      / ____|     (_) |\n",
      "| \\  / |_   _     | | ___ | |     ___   _| |\n",
      "| |\\/| | | | |_   | |/ _ \\| |    / _ \\ | | |\n",
      "| |  | | |_| | |__| | (_) | |___| (_) || | |\n",
      "|_|  |_|\\__,_|\\____/ \\___/ \\_____\\___(_) |_|\n",
      "                                      _/ |  \n",
      "                                     |__/   \n",
      "\n",
      "Press \"F1\" to show the help message.\n"
     ]
    }
   ],
   "source": [
    "init_visualiser()\n",
    "visualise!(model, data, trajectories = [states, ctrl_states])"
   ]
  },
  {
   "cell_type": "code",
   "execution_count": 72,
   "metadata": {},
   "outputs": [],
   "source": [
    "model, data = MuJoCo.sample_model_and_data()\n",
    "function random_controller!(m::Model, d::Data)\n",
    "    nu = m.nu\n",
    "    d.ctrl .= 2*rand(nu) .- 1\n",
    "    return nothing\n",
    "end\n",
    "reset!(model, data)\n",
    "data.qpos[3] = 2\n",
    "forward!(model, data) # Propagate the physics forward\n",
    "tmax = 400\n",
    "nx = model.nq + model.nv + model.na # State vector dimension\n",
    "states = zeros(nx, tmax)\n",
    "for t in 1:tmax\n",
    "    states[:,t] = get_physics_state(model, data)\n",
    "    step!(model, data)\n",
    "end\n",
    "reset!(model, data)\n",
    "ctrl_states = zeros(nx, tmax)\n",
    "for t in 1:tmax\n",
    "    ctrl_states[:,t] = get_physics_state(model, data)\n",
    "    random_controller!(model, data)\n",
    "    step!(model, data)\n",
    "end"
   ]
  },
  {
   "cell_type": "code",
   "execution_count": 75,
   "metadata": {},
   "outputs": [
    {
     "name": "stderr",
     "output_type": "stream",
     "text": [
      "\u001b[33m\u001b[1m┌ \u001b[22m\u001b[39m\u001b[33m\u001b[1mWarning: \u001b[22m\u001b[39mThe visualiser for MuJoCo.jl is designed to run multi-threaded, but the current Julia session was started with only one thread. Degraded performance will occur. To enable multi-threading, set JULIA_NUM_THREADS to a value greater than 1 before starting Julia.\n",
      "\u001b[33m\u001b[1m└ \u001b[22m\u001b[39m\u001b[90m@ VisualiserExt C:\\Users\\conan0223\\.julia\\packages\\MuJoCo\\9JERS\\ext\\VisualiserExt\\VisualiserExt.jl:76\u001b[39m\n"
     ]
    },
    {
     "name": "stdout",
     "output_type": "stream",
     "text": [
      " __  __            _        _____       _ _ \n",
      "|  \\/  |          | |      / ____|     (_) |\n",
      "| \\  / |_   _     | | ___ | |     ___   _| |\n",
      "| |\\/| | | | |_   | |/ _ \\| |    / _ \\ | | |\n",
      "| |  | | |_| | |__| | (_) | |___| (_) || | |\n",
      "|_|  |_|\\__,_|\\____/ \\___/ \\_____\\___(_) |_|\n",
      "                                      _/ |  \n",
      "                                     |__/   \n",
      "\n",
      "Press \"F1\" to show the help message.\n"
     ]
    }
   ],
   "source": [
    "init_visualiser()\n",
    "visualise!(model, data, trajectories = [states, ctrl_states])"
   ]
  },
  {
   "cell_type": "code",
   "execution_count": null,
   "metadata": {},
   "outputs": [],
   "source": []
  }
 ],
 "metadata": {
  "kernelspec": {
   "display_name": "Julia 1.10.2",
   "language": "julia",
   "name": "julia-1.10"
  },
  "language_info": {
   "file_extension": ".jl",
   "mimetype": "application/julia",
   "name": "julia",
   "version": "1.10.2"
  }
 },
 "nbformat": 4,
 "nbformat_minor": 4
}
