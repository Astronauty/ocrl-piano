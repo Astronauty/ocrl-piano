{
 "cells": [
  {
   "cell_type": "code",
   "execution_count": 11,
   "metadata": {},
   "outputs": [],
   "source": [
    "import cyipopt\n",
    "import numpy as np\n",
    "from scipy.sparse import coo_array\n",
    "from cyipopt import minimize_ipopt"
   ]
  },
  {
   "cell_type": "code",
   "execution_count": 12,
   "metadata": {},
   "outputs": [],
   "source": [
    "\n",
    "def con(x):\n",
    "    return np.array([ 10 -x[1]**2 - x[2], 100.0 - x[4]**2 ])\n",
    "\n",
    "def con_jac(x):\n",
    "    # Dense Jacobian:\n",
    "    # J = (0  -2*x[1]   -1   0     0     )\n",
    "    #         (0   0         0   0   -2*x[4] )\n",
    "    # Sparse Jacobian (COO)\n",
    "    rows = np.array([0, 0, 1])\n",
    "    cols = np.array(([1, 2, 4]))\n",
    "    data = np.array([-2*x[1], -1, -2*x[4]])\n",
    "    return coo_array((data, (rows, cols)))\n",
    "\n",
    "def con_hess(x, _lambda):\n",
    "    H1 = np.array([\n",
    "        [0,  0, 0, 0, 0],\n",
    "        [0, -2, 0, 0, 0 ],\n",
    "        [0,  0, 0, 0, 0 ],\n",
    "        [0,  0, 0, 0, 0 ],\n",
    "        [0,  0, 0, 0, 0 ]\n",
    "    ])\n",
    "\n",
    "    H2 = np.array([\n",
    "        [0, 0, 0, 0,  0],\n",
    "        [0, 0, 0, 0,  0],\n",
    "        [0, 0, 0, 0,  0],\n",
    "        [0, 0, 0, 0,  0],\n",
    "        [0, 0, 0, 0, -2]\n",
    "    ])\n",
    "    return _lambda[0] * H1 + _lambda[1] * H2"
   ]
  },
  {
   "cell_type": "code",
   "execution_count": 15,
   "metadata": {},
   "outputs": [
    {
     "name": "stdout",
     "output_type": "stream",
     "text": [
      " message: b'Algorithm terminated successfully at a locally optimal point, satisfying the convergence tolerances (can be specified by options).'\n",
      " success: True\n",
      "  status: 0\n",
      "     fun: 5.192731882361643e-25\n",
      "       x: [ 1.000e+00  1.000e+00  1.000e+00  1.000e+00  1.000e+00]\n",
      "     nit: 7\n",
      "    info:     status: 0\n",
      "                   x: [ 1.000e+00  1.000e+00  1.000e+00  1.000e+00\n",
      "                        1.000e+00]\n",
      "                   g: [ 8.000e+00  9.900e+01]\n",
      "             obj_val: 5.192731882361643e-25\n",
      "              mult_g: [-1.250e-12 -1.009e-13]\n",
      "            mult_x_L: [ 0.000e+00  0.000e+00  0.000e+00  0.000e+00\n",
      "                        0.000e+00]\n",
      "            mult_x_U: [ 0.000e+00  0.000e+00  0.000e+00  0.000e+00\n",
      "                        0.000e+00]\n",
      "          status_msg: b'Algorithm terminated successfully at a locally optimal point, satisfying the convergence tolerances (can be specified by options).'\n",
      "    nfev: 8\n",
      "    njev: 9\n"
     ]
    }
   ],
   "source": [
    "from scipy.optimize import rosen, rosen_der, rosen_hess\n",
    "\n",
    "constr = {'type': 'ineq', 'fun': con, 'jac': con_jac, 'hess': con_hess}\n",
    "\n",
    "# initial guess\n",
    "x0 = np.array([1.1, 1.1, 1.1, 1.1, 1.1])\n",
    "\n",
    "# solve the problem\n",
    "res = minimize_ipopt(rosen, jac=rosen_der, hess=rosen_hess, x0=x0, constraints=constr)\n",
    "print(res)"
   ]
  }
 ],
 "metadata": {
  "kernelspec": {
   "display_name": "mujoco",
   "language": "python",
   "name": "python3"
  },
  "language_info": {
   "codemirror_mode": {
    "name": "ipython",
    "version": 3
   },
   "file_extension": ".py",
   "mimetype": "text/x-python",
   "name": "python",
   "nbconvert_exporter": "python",
   "pygments_lexer": "ipython3",
   "version": "3.10.13"
  }
 },
 "nbformat": 4,
 "nbformat_minor": 2
}
