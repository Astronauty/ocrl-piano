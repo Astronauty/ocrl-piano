{
 "cells": [
  {
   "cell_type": "code",
   "execution_count": 23,
   "metadata": {},
   "outputs": [
    {
     "name": "stdout",
     "output_type": "stream",
     "text": [
      "C:\\Users\\Daniel\\Documents\\Python-Projects\\ocrl-piano\\single_finger_free_trajectories\\models\\scene_right_piano_hand.xml\n"
     ]
    }
   ],
   "source": [
    "import mujoco\n",
    "from pathlib import Path\n",
    "import numpy as np\n",
    "\n",
    "WIN_MODEL_PATH = r\"C:\\Users\\Daniel\\Documents\\Python-Projects\\ocrl-piano\\single_finger_free_trajectories\\models\\scene_right_piano_hand.xml\"\n",
    "UNIVERSAL_MODEL_PATH = Path(WIN_MODEL_PATH)\n",
    "\n",
    "print(str(UNIVERSAL_MODEL_PATH))\n",
    "model = mujoco.MjModel.from_xml_path(str(UNIVERSAL_MODEL_PATH))\n",
    "data = mujoco.MjData(model)\n",
    "\n"
   ]
  },
  {
   "cell_type": "code",
   "execution_count": 26,
   "metadata": {},
   "outputs": [
    {
     "name": "stdout",
     "output_type": "stream",
     "text": [
      "[1, 2]\n"
     ]
    },
    {
     "data": {
      "text/plain": [
       "(6, 27)"
      ]
     },
     "execution_count": 26,
     "metadata": {},
     "output_type": "execute_result"
    }
   ],
   "source": [
    "end_effector_site_names = [\"fingertip_index\", \"fingertip_middle\"]\n",
    "\n",
    "\n",
    "end_effector_site_ids = [mujoco.mj_name2id(model, mujoco.mjtObj.mjOBJ_SITE, name) for name in end_effector_site_names]\n",
    "print(end_effector_site_ids)\n",
    "\n",
    "len(end_effector_site_ids)\n",
    "jacp = np.zeros((model.nv, len(end_effector_site_names) * 3), dtype=float) # translational Jacobian\n",
    "jacr = np.zeros((model.nv, len(end_effector_site_names) * 3), dtype=float) # translational Jacobian\n",
    "\n",
    "\n",
    "\n",
    "# mujoco.mj_jac_site(model, data, end_effector_site_names, jacp, jacr)"
   ]
  }
 ],
 "metadata": {
  "kernelspec": {
   "display_name": "ocrl-piano",
   "language": "python",
   "name": "python3"
  },
  "language_info": {
   "codemirror_mode": {
    "name": "ipython",
    "version": 3
   },
   "file_extension": ".py",
   "mimetype": "text/x-python",
   "name": "python",
   "nbconvert_exporter": "python",
   "pygments_lexer": "ipython3",
   "version": "3.12.2"
  }
 },
 "nbformat": 4,
 "nbformat_minor": 2
}
