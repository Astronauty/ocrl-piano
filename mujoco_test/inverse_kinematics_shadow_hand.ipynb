{
 "cells": [
  {
   "cell_type": "code",
   "execution_count": 169,
   "metadata": {},
   "outputs": [
    {
     "name": "stdout",
     "output_type": "stream",
     "text": [
      "C:\\Users\\Daniel\\Documents\\Python-Projects\\ocrl-piano\\single_finger_free_trajectories\\models\\scene_right_piano_hand.xml\n"
     ]
    }
   ],
   "source": [
    "import mujoco\n",
    "import mujoco.viewer\n",
    "from pathlib import Path\n",
    "import numpy as np\n",
    "import time\n",
    "\n",
    "WIN_MODEL_PATH = r\"C:\\Users\\Daniel\\Documents\\Python-Projects\\ocrl-piano\\single_finger_free_trajectories\\models\\scene_right_piano_hand.xml\"\n",
    "UNIVERSAL_MODEL_PATH = Path(WIN_MODEL_PATH)\n",
    "\n",
    "print(str(UNIVERSAL_MODEL_PATH))\n",
    "model = mujoco.MjModel.from_xml_path(str(UNIVERSAL_MODEL_PATH))\n",
    "data = mujoco.MjData(model)\n",
    "mujoco.mj_forward(model, data)\n"
   ]
  },
  {
   "cell_type": "code",
   "execution_count": 17,
   "metadata": {},
   "outputs": [
    {
     "name": "stdout",
     "output_type": "stream",
     "text": [
      "[1, 2]\n",
      "Site: fingertip_index\n",
      "Translational Jacobian: \n",
      "[[-2.22044605e-16  0.00000000e+00  1.00000000e+00 -3.30000000e-02\n",
      "   0.00000000e+00  0.00000000e+00  0.00000000e+00  0.00000000e+00\n",
      "   0.00000000e+00  0.00000000e+00  0.00000000e+00  0.00000000e+00\n",
      "   0.00000000e+00  0.00000000e+00  0.00000000e+00  0.00000000e+00\n",
      "   0.00000000e+00  0.00000000e+00  0.00000000e+00  0.00000000e+00\n",
      "   0.00000000e+00  0.00000000e+00  0.00000000e+00  0.00000000e+00\n",
      "   0.00000000e+00  0.00000000e+00  0.00000000e+00]\n",
      " [ 0.00000000e+00  1.00000000e+00  0.00000000e+00  1.99000000e-01\n",
      "   0.00000000e+00 -7.00000000e-02  0.00000000e+00  0.00000000e+00\n",
      "   0.00000000e+00  0.00000000e+00  0.00000000e+00  0.00000000e+00\n",
      "   0.00000000e+00  0.00000000e+00  0.00000000e+00  0.00000000e+00\n",
      "   0.00000000e+00  0.00000000e+00  0.00000000e+00  0.00000000e+00\n",
      "   0.00000000e+00  0.00000000e+00  0.00000000e+00  0.00000000e+00\n",
      "   0.00000000e+00  0.00000000e+00  0.00000000e+00]\n",
      " [-1.00000000e+00  0.00000000e+00 -2.22044605e-16  0.00000000e+00\n",
      "  -1.65000000e-01  0.00000000e+00 -7.00000000e-02 -2.50000000e-02\n",
      "   0.00000000e+00  0.00000000e+00  0.00000000e+00  0.00000000e+00\n",
      "   0.00000000e+00  0.00000000e+00  0.00000000e+00  0.00000000e+00\n",
      "   0.00000000e+00  0.00000000e+00  0.00000000e+00  0.00000000e+00\n",
      "   0.00000000e+00  0.00000000e+00  0.00000000e+00  0.00000000e+00\n",
      "   0.00000000e+00  0.00000000e+00  0.00000000e+00]]\n",
      "(3, 27)\n",
      "\n",
      "Site: fingertip_middle\n",
      "Translational Jacobian: \n",
      "[[-2.22044605e-16  0.00000000e+00  1.00000000e+00 -1.10000000e-02\n",
      "   0.00000000e+00  0.00000000e+00  0.00000000e+00  0.00000000e+00\n",
      "   0.00000000e+00  0.00000000e+00  0.00000000e+00  0.00000000e+00\n",
      "   0.00000000e+00  0.00000000e+00  0.00000000e+00  0.00000000e+00\n",
      "   0.00000000e+00  0.00000000e+00  0.00000000e+00  0.00000000e+00\n",
      "   0.00000000e+00  0.00000000e+00  0.00000000e+00  0.00000000e+00\n",
      "   0.00000000e+00  0.00000000e+00  0.00000000e+00]\n",
      " [ 0.00000000e+00  1.00000000e+00  0.00000000e+00  2.03000000e-01\n",
      "   0.00000000e+00  0.00000000e+00  0.00000000e+00  0.00000000e+00\n",
      "   0.00000000e+00 -7.00000000e-02  0.00000000e+00  0.00000000e+00\n",
      "   0.00000000e+00  0.00000000e+00  0.00000000e+00  0.00000000e+00\n",
      "   0.00000000e+00  0.00000000e+00  0.00000000e+00  0.00000000e+00\n",
      "   0.00000000e+00  0.00000000e+00  0.00000000e+00  0.00000000e+00\n",
      "   0.00000000e+00  0.00000000e+00  0.00000000e+00]\n",
      " [-1.00000000e+00  0.00000000e+00 -2.22044605e-16  0.00000000e+00\n",
      "  -1.69000000e-01  0.00000000e+00  0.00000000e+00  0.00000000e+00\n",
      "   0.00000000e+00  0.00000000e+00 -7.00000000e-02 -2.50000000e-02\n",
      "   0.00000000e+00  0.00000000e+00  0.00000000e+00  0.00000000e+00\n",
      "   0.00000000e+00  0.00000000e+00  0.00000000e+00  0.00000000e+00\n",
      "   0.00000000e+00  0.00000000e+00  0.00000000e+00  0.00000000e+00\n",
      "   0.00000000e+00  0.00000000e+00  0.00000000e+00]]\n",
      "(3, 27)\n",
      "\n"
     ]
    }
   ],
   "source": [
    "end_effector_site_names = [\"fingertip_index\", \"fingertip_middle\"]\n",
    "\n",
    "\n",
    "end_effector_site_ids = [mujoco.mj_name2id(model, mujoco.mjtObj.mjOBJ_SITE, name) for name in end_effector_site_names]\n",
    "print(end_effector_site_ids)\n",
    "\n",
    "\n",
    "jacp = np.zeros((3, model.nv), dtype=float) # translational Jacobian\n",
    "jacr = np.zeros((3, model.nv), dtype=float) # translational Jacobian\n",
    "\n",
    "jacp_combined = np.zeros((3*len(end_effector_site_ids), model.nv), dtype=float)   \n",
    "\n",
    "for id in end_effector_site_ids:\n",
    "    print(\"Site:\", mujoco.mj_id2name(model, mujoco.mjtObj.mjOBJ_SITE, id))\n",
    "    \n",
    "    print(\"Translational Jacobian: \")\n",
    "    mujoco.mj_jacSite(model, data, jacp, jacr, id)\n",
    "    print(jacp)\n",
    "    print(jacp.shape)\n",
    "    print()\n",
    "\n",
    "\n",
    "\n"
   ]
  },
  {
   "cell_type": "code",
   "execution_count": 165,
   "metadata": {},
   "outputs": [],
   "source": [
    "def get_multifinger_jacobian(model, data, site_names):\n",
    "    jacp = np.zeros((3, model.nv))\n",
    "    jacr = np.zeros((3, model.nv))\n",
    "    \n",
    "    jac_combined = np.zeros((6*len(site_names), model.nv))\n",
    "    \n",
    "    for i, site_name in enumerate(site_names):\n",
    "        mujoco.mj_jacSite(model, data, jacp, jacr, mujoco.mj_name2id(model, mujoco.mjtObj.mjOBJ_SITE, site_name))\n",
    "        # jac_combined[6*i:6*(i+1), :] = np.vstack((jacp, jacr))\n",
    "        \n",
    "        jac_combined[6*i:6*(i+1), :] = np.vstack((jacp, jacr))\n",
    "    \n",
    "    return jac_combined\n",
    "\n",
    "def get_error(model, data, site_names, target_names):\n",
    "    \n",
    "    error = np.zeros(6*len(site_names)) # [site_1_pos_error, site_1_rot_error, ..., site_N_pos_error, site_N_rot_error]\n",
    "    \n",
    "    for i, site_name in enumerate(site_names):\n",
    "        site_id = mujoco.mj_name2id(model, mujoco.mjtObj.mjOBJ_SITE, site_name)\n",
    "        target_id = mujoco.mj_name2id(model, mujoco.mjtObj.mjOBJ_GEOM, target_names[i])\n",
    "        \n",
    "        # preallocate arrays for a single site computation\n",
    "        error_pos = error[6*i:6*i+3]\n",
    "        error_rot = error[6*i+3:6*(i+1)]\n",
    "\n",
    "        site_quat = np.zeros(4)\n",
    "        site_quat_conj = np.zeros(4)\n",
    "        \n",
    "        target_quat = np.zeros(4)\n",
    "        \n",
    "        error_quat = np.zeros(4)\n",
    "        \n",
    "        # positional error\n",
    "        error_pos[:] = data.geom(target_id).xpos - data.site(site_id).xpos\n",
    "\n",
    "        \n",
    "        # orientation error\n",
    "        mujoco.mju_mat2Quat(site_quat, data.site(site_id).xmat)\n",
    "        mujoco.mju_mat2Quat(target_quat, data.geom(target_id).xmat)\n",
    "        \n",
    "        mujoco.mju_negQuat(site_quat_conj, site_quat)\n",
    "        mujoco.mju_mulQuat(error_quat, target_quat, site_quat_conj)\n",
    "        mujoco.mju_quat2Vel(error_rot, error_quat, 1.0)\n",
    "        # print(np.hstack((error_pos, error_rot)))\n",
    "        # error[6*i:6*(i+1)] = np.hstack((error_pos, error_rot))\n",
    "        \n",
    "    return error\n",
    "\n",
    "def solve_multifinger_ik(model, data, site_names, target_names, step_size=0.5, tol=1e-3, max_iter=1000):\n",
    "    \"\"\"Returns the joint angles that place the fingertips (named by site_names) at the target poses.\n",
    "    Args:\n",
    "        model (_type_): _description_\n",
    "        data (_type_): _description_\n",
    "        site_names (_type_): _description_\n",
    "        target_poses (_type_): _description_\n",
    "\n",
    "    Returns:\n",
    "        _type_: _description_\n",
    "    \"\"\"\n",
    "    assert len(site_names) == len(target_names)\n",
    "    \n",
    "    jac = np.zeros((6, model.nv)) \n",
    "    \n",
    "    # compute error\n",
    "    error = get_error(model, data, site_names, target_names)\n",
    "    \n",
    "    # TODO: write function for error\n",
    "    # solution loop\n",
    "    iter = 0\n",
    "    while (np.linalg.norm(error) > tol and iter<=max_iter):\n",
    "\n",
    "        jac = get_multifinger_jacobian(model, data, site_names)\n",
    "        dq = np.linalg.pinv(jac) @ error\n",
    "        data.qpos += step_size*dq\n",
    "        mujoco.mj_forward(model, data)\n",
    "        iter+=1\n",
    "        \n",
    "       # compute error\n",
    "        error = get_error(model, data, site_names, target_names)\n",
    "        print(np.linalg.norm(error))\n",
    "        \n",
    "\n",
    "    \n",
    "    return data.qpos, np.linalg.norm(error), iter"
   ]
  },
  {
   "cell_type": "code",
   "execution_count": 173,
   "metadata": {},
   "outputs": [
    {
     "name": "stdout",
     "output_type": "stream",
     "text": [
      "1.0691328334811818\n",
      "0.5507225736565632\n",
      "0.2778456838690351\n",
      "0.1392628256768056\n",
      "0.06967221744754898\n",
      "0.0348400779299632\n",
      "0.017420211834964106\n",
      "0.0087100444689765\n",
      "0.0043549936609475004\n",
      "0.0021774880280530846\n",
      "0.001088741605579423\n",
      "0.0005443701746692196\n",
      "12\n"
     ]
    }
   ],
   "source": [
    "# end_effector_site_names = [\"fingertip_index\", \"fingertip_middle\"]\n",
    "# target_names = [\"keymarker_1\", \"keymarker_2\"]\n",
    "end_effector_site_names = [\"fingertip_index\"]\n",
    "target_names = [\"keymarker_1\"]\n",
    "\n",
    "# target_id = mujoco.mj_name2id(model, mujoco.mjtObj.mjOBJ_GEOM, target_names[0])\n",
    "# print(target_id)\n",
    "\n",
    "qpos, error, iter = solve_multifinger_ik(model, data, end_effector_site_names, target_names)\n",
    "data.qpos = qpos\n",
    "mujoco.mj_forward(model, data)\n",
    "mujoco.viewer.launch(model, data)\n",
    "print(iter)"
   ]
  },
  {
   "cell_type": "code",
   "execution_count": 71,
   "metadata": {},
   "outputs": [
    {
     "name": "stdout",
     "output_type": "stream",
     "text": [
      "[[ 0.4601 -0.43    0.12  ]\n",
      " [ 0.3701  0.3     0.14  ]]\n"
     ]
    },
    {
     "data": {
      "text/plain": [
       "<_MjDataGeomViews\n",
       "  id: 50\n",
       "  name: ''\n",
       "  xmat: array([-1.18936541e-02, -7.13205759e-06,  9.99929268e-01,  1.98278251e-04,\n",
       "       -9.99999980e-01, -4.77414220e-06,  9.99929248e-01,  1.98207445e-04,\n",
       "        1.18936553e-02])\n",
       "  xpos: array([ 0.35639065, -0.03299879,  0.24000976])\n",
       ">"
      ]
     },
     "execution_count": 71,
     "metadata": {},
     "output_type": "execute_result"
    }
   ],
   "source": [
    "model.geom(\"keymarker_1\").pos\n",
    "target_poses = np.array([model.geom(name).pos for name in target_names])\n",
    "print(target_poses)\n",
    "model.geom(\"keymarker_2\")\n",
    "# data.geom(\"keymarker_1\")\n"
   ]
  }
 ],
 "metadata": {
  "kernelspec": {
   "display_name": "ocrl-piano",
   "language": "python",
   "name": "python3"
  },
  "language_info": {
   "codemirror_mode": {
    "name": "ipython",
    "version": 3
   },
   "file_extension": ".py",
   "mimetype": "text/x-python",
   "name": "python",
   "nbconvert_exporter": "python",
   "pygments_lexer": "ipython3",
   "version": "3.12.2"
  }
 },
 "nbformat": 4,
 "nbformat_minor": 2
}
