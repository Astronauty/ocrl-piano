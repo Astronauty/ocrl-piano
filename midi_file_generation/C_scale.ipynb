{
 "cells": [
  {
   "cell_type": "code",
   "execution_count": 1,
   "metadata": {},
   "outputs": [],
   "source": [
    "using MIDI\n",
    "using MusicVisualizations, PyPlot, MusicManipulations\n"
   ]
  },
  {
   "cell_type": "code",
   "execution_count": 2,
   "metadata": {},
   "outputs": [
    {
     "name": "stdout",
     "output_type": "stream",
     "text": [
      "TrackEvent[MIDI.SetTempoEvent(0, 0x51, 545455), MIDI.TimeSignatureEvent(0, 0x58, 4, 4, 24, 8)]\n",
      "TrackEvent[MIDI.SetTempoEvent(0, 0x51, 545455), MIDI.TimeSignatureEvent(0, 0x58, 4, 4, 24, 8), MIDI.NoteOnEvent(0, 0x90, 60, 100), MIDI.NoteOffEvent(1000, 0x80, 60, 100), MIDI.NoteOnEvent(0, 0x90, 62, 100), MIDI.NoteOffEvent(1000, 0x80, 62, 100), MIDI.NoteOnEvent(0, 0x90, 64, 100), MIDI.NoteOffEvent(1000, 0x80, 64, 100), MIDI.NoteOnEvent(0, 0x90, 65, 100), MIDI.NoteOffEvent(1000, 0x80, 65, 100), MIDI.NoteOnEvent(0, 0x90, 67, 100), MIDI.NoteOffEvent(1000, 0x80, 67, 100), MIDI.NoteOnEvent(0, 0x90, 69, 100), MIDI.NoteOffEvent(1000, 0x80, 69, 100), MIDI.NoteOnEvent(0, 0x90, 71, 100), MIDI.NoteOffEvent(1000, 0x80, 71, 100), MIDI.NoteOnEvent(0, 0x90, 72, 100), MIDI.NoteOffEvent(1000, 0x80, 72, 100), MIDI.NoteOnEvent(0, 0x90, 60, 100), MIDI.NoteOffEvent(1000, 0x80, 60, 100)]\n"
     ]
    },
    {
     "data": {
      "text/plain": [
       "MIDIFile (format=1, tpq=960) with tracks:\n",
       " Piano\n"
      ]
     },
     "metadata": {},
     "output_type": "display_data"
    }
   ],
   "source": [
    "# Write a C scale to MIDI\n",
    "# MIDI.ms_per_tick(100, 10)\n",
    "C = Note(name_to_pitch(\"C4\"), 100, 0, 1000)\n",
    "D = Note(name_to_pitch(\"D4\"), 100, 1000, 1000)\n",
    "E = Note(name_to_pitch(\"E4\"), 100, 2000, 1000)\n",
    "F = Note(name_to_pitch(\"F4\"), 100, 3000, 1000)\n",
    "G = Note(name_to_pitch(\"G4\"), 100, 4000, 1000)\n",
    "A = Note(name_to_pitch(\"A4\"), 100, 5000, 1000)\n",
    "B = Note(name_to_pitch(\"B4\"), 100, 6000, 1000)\n",
    "C5 = Note(name_to_pitch(\"C5\"), 100, 7000, 1000)\n",
    "C_repeat = Note(name_to_pitch(\"C4\"), 100, 8000, 1000)\n",
    "\n",
    "file = MIDIFile()\n",
    "track = MIDITrack()\n",
    "notes = Notes()\n",
    "\n",
    "function bpm_to_microseconds(bpm)\n",
    "    return round(Int, 60000000/bpm)\n",
    "end\n",
    "\n",
    "push!(track.events, MIDI.SetTempoEvent(0, bpm_to_microseconds(110))) # dT, metatype\n",
    "push!(track.events, MIDI.TimeSignatureEvent(0, 4, 4, 24, 8))\n",
    "\n",
    "println(track.events)\n",
    "\n",
    "# add notes to the track\n",
    "push!(notes, C)\n",
    "push!(notes, D)\n",
    "push!(notes, E)\n",
    "push!(notes, F)\n",
    "push!(notes, G)\n",
    "push!(notes, A)\n",
    "push!(notes, B)\n",
    "push!(notes, C5)\n",
    "push!(notes, C_repeat)\n",
    "\n",
    "\n",
    "addnotes!(track,notes)\n",
    "println(track.events)\n",
    "\n",
    "\n",
    "addtrackname!(track, \"Piano\")\n",
    "push!(file.tracks, track)\n",
    "save(\"C_scale.mid\", file)\n"
   ]
  },
  {
   "cell_type": "code",
   "execution_count": 3,
   "metadata": {},
   "outputs": [
    {
     "name": "stdout",
     "output_type": "stream",
     "text": [
      "MIDI INFO\n",
      "midi.tpq = 960\n",
      "qpm(midi) = 109.99990833340972\n",
      "bpm(midi) = 109.99990833340972\n",
      "ms_per_tick(midi) = 0.5681822916666667\n",
      "midi.tracks = MIDITrack[21-event MIDITrack: 18 MIDI, 3 Meta, 0 Sysex]\n",
      "notes = Notes{Note} with 9 notes\n"
     ]
    }
   ],
   "source": [
    "# Read MIDI file\n",
    "midi = load(\"C_scale.mid\")\n",
    "piano = midi.tracks[1]\n",
    "notes = getnotes(piano, midi.tpq)\n",
    "\n",
    "println(\"MIDI INFO\")\n",
    "@show midi.tpq\n",
    "@show qpm(midi)\n",
    "@show bpm(midi)\n",
    "@show ms_per_tick(midi)\n",
    "\n",
    "@show midi.tracks\n",
    "@show notes\n",
    "\n",
    "total_ticks = 9001\n",
    "\n",
    "event_stack = []\n",
    "M1 = [] # free\n",
    "M2 = [] # falling key\n",
    "M3 = [] # bottom out\n",
    "\n",
    "unique_pitches = Set(pitch_to_name(note.pitch) for note in notes)\n",
    "\n",
    "# mode_dict = Dict{String, Vector{Int}}()\n",
    "mode_dict = Dict(pitch => zeros(total_ticks) for pitch in unique_pitches)\n",
    "\n",
    "\n",
    "for note in notes\n",
    "    # set the key to be in the key fall phase based on note velocity\n",
    "    key_fall_duration = 1 + \n",
    "\n",
    "    mode_dict[]\n",
    "\n",
    "    # Set the key to bottom out for the duration of the note\n",
    "    mode_dict[pitch_to_name(note.pitch)][1 .+ collect(note.position : (note.position+note.duration))] .= 3 \n",
    "end\n",
    "\n",
    "\n",
    "\n",
    "\n",
    "\n",
    "\n"
   ]
  },
  {
   "cell_type": "code",
   "execution_count": 4,
   "metadata": {},
   "outputs": [
    {
     "data": {
      "image/png": "[encoded data removed]",
      "text/plain": [
       "Figure(PyObject <Figure size 640x480 with 1 Axes>)"
      ]
     },
     "metadata": {},
     "output_type": "display_data"
    }
   ],
   "source": [
    "# println(event_stack)\n",
    "grid = 0:1//4:1\n",
    "noteplotter(notes; grid = grid)\n",
    "# matplotlib.pyplot.close()\n",
    "# x = range(0; stop=2*pi, length=1000); y = sin.(3 * x + 4 * cos.(2 * x));\n",
    "# plot(x, y, color=\"red\", linewidth=2.0, linestyle=\"--\")\n",
    "# title(\"A sinusoidally modulated sinusoid\")\n",
    "display(gcf())"
   ]
  }
 ],
 "metadata": {
  "kernelspec": {
   "display_name": "Julia 1.10.2",
   "language": "julia",
   "name": "julia-1.10"
  },
  "language_info": {
   "file_extension": ".jl",
   "mimetype": "application/julia",
   "name": "julia",
   "version": "1.10.2"
  }
 },
 "nbformat": 4,
 "nbformat_minor": 2
}
