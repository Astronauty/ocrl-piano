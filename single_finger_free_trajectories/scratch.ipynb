{
 "cells": [
  {
   "cell_type": "code",
   "execution_count": 2,
   "metadata": {},
   "outputs": [
    {
     "name": "stderr",
     "output_type": "stream",
     "text": [
      "\u001b[32m\u001b[1m  Activating\u001b[22m\u001b[39m project at `c:\\Users\\Daniel\\Documents\\Python-Projects\\ocrl-piano\\single_finger_free_trajectories`\n",
      "\u001b[32m\u001b[1m  No Changes\u001b[22m\u001b[39m to `C:\\Users\\Daniel\\Documents\\Python-Projects\\ocrl-piano\\single_finger_free_trajectories\\Project.toml`\n",
      "\u001b[32m\u001b[1m  No Changes\u001b[22m\u001b[39m to `C:\\Users\\Daniel\\Documents\\Python-Projects\\ocrl-piano\\single_finger_free_trajectories\\Manifest.toml`\n"
     ]
    }
   ],
   "source": [
    "import Pkg\n",
    "Pkg.activate(@__DIR__)\n",
    "# Pkg.upgrade_manifest()\n",
    "# Pkg.update()\n",
    "Pkg.resolve()\n",
    "Pkg.instantiate()\n",
    "\n",
    "import FiniteDiff\n",
    "import ForwardDiff as FD\n",
    "import Convex as cvx \n",
    "import ECOS\n",
    "import Plots\n",
    "import MuJoCo as MJ\n",
    "# import Combinatorics\n",
    "\n",
    "using LinearAlgebra\n",
    "using Random\n",
    "using JLD2\n",
    "using Test\n",
    "using StaticArrays\n",
    "using Printf\n",
    "using Distributions\n",
    "using MathOptInterface\n",
    "using Combinatorics\n"
   ]
  },
  {
   "cell_type": "code",
   "execution_count": 71,
   "metadata": {},
   "outputs": [
    {
     "name": "stderr",
     "output_type": "stream",
     "text": [
      "\u001b[32m\u001b[1m   Resolving\u001b[22m\u001b[39m package versions...\n",
      "\u001b[32m\u001b[1m  No Changes\u001b[22m\u001b[39m to `C:\\Users\\Daniel\\Documents\\Python-Projects\\ocrl-piano\\single_finger_free_trajectories\\Project.toml`\n",
      "\u001b[32m\u001b[1m  No Changes\u001b[22m\u001b[39m to `C:\\Users\\Daniel\\Documents\\Python-Projects\\ocrl-piano\\single_finger_free_trajectories\\Manifest.toml`\n",
      "┌ Warning: The visualiser for MuJoCo.jl is designed to run multi-threaded, but the current Julia session was started with only one thread. Degraded performance will occur. To enable multi-threading, set JULIA_NUM_THREADS to a value greater than 1 before starting Julia.\n",
      "└ @ VisualiserExt C:\\Users\\Daniel\\.julia\\packages\\MuJoCo\\9JERS\\ext\\VisualiserExt\\VisualiserExt.jl:76\n"
     ]
    }
   ],
   "source": [
    "Threads.nthreads()\n",
    "using MuJoCo\n",
    "using MuJoCo.LibMuJoCo\n",
    "install_visualiser()\n",
    "init_visualiser()"
   ]
  },
  {
   "cell_type": "code",
   "execution_count": 74,
   "metadata": {},
   "outputs": [
    {
     "name": "stdout",
     "output_type": "stream",
     "text": [
      " __  __            _        _____       _ _ \n",
      "|  \\/  |          | |      / ____|     (_) |\n",
      "| \\  / |_   _     | | ___ | |     ___   _| |\n",
      "| |\\/| | | | |_   | |/ _ \\| |    / _ \\ | | |\n",
      "| |  | | |_| | |__| | (_) | |___| (_) || | |\n",
      "|_|  |_|\\__,_|\\____/ \\___/ \\_____\\___(_) |_|\n",
      "                                      _/ |  \n",
      "                                     |__/   \n",
      "\n",
      "Press \"F1\" to show the help message.\n"
     ]
    }
   ],
   "source": [
    "model = load_model(\"models/scene_right_piano_hand.xml\")\n",
    "data= init_data(model)\n",
    "\n",
    "# MJ.geom_pos(data, \"piano\", [0.5, 0.5, 0.5])\n",
    "MJ.geom(data, \"keymarker_1\").xpos\n",
    "# index = MJ.geom_index(model, \"keymarker_1\")\n",
    "# data.geom_xpos\n",
    "\n",
    "model.geom_pos\n",
    "\n",
    "key_geom_id = mj_name2id(model, mju_str2Type(\"geom\"), \"keymarker_3\")\n",
    "\n",
    "model.geom_pos[key_geom_id + 1, :] = [0.5, 0.5, 0.5]\n",
    "\n",
    "model.geom_pos[key_geom_id + 1, :]\n",
    "\n",
    "visualise!(model, data)\n"
   ]
  },
  {
   "cell_type": "code",
   "execution_count": 129,
   "metadata": {},
   "outputs": [
    {
     "name": "stdout",
     "output_type": "stream",
     "text": [
      "Product{Continuous, Uniform{Float64}, Vector{Uniform{Float64}}}(v=Uniform{Float64}[Uniform{Float64}(a=0.41961621248325853, b=5.0), Uniform{Float64}(a=0.28420612946458124, b=5.0)])"
     ]
    }
   ],
   "source": [
    "\n",
    "# Which 3 notes to play\n",
    "notes = 1:12\n",
    "note_perm = permutations(notes, 3)\n",
    "\n",
    "\n",
    "# Mode timings (how long for each note)\n",
    "t_end = 5\n",
    "time_sample = Product(Uniform.(rand(2), t_end))\n",
    "print(time_sample)\n",
    "# mode_timings = rand(time_sample, 2) \n",
    "# sort!(mode_timings)\n",
    "\n",
    "# # Which fingers to use\n",
    "# fingers = 1:5\n",
    "# finger_perm = permutations(fingers, 3)\n",
    "\n",
    "# # Combined space\n",
    "# perms = Iterators.product(note_perm, mode_timings, finger_perm)\n",
    "# sampled_perm = rand(collect(perms), 10)\n",
    "\n",
    "\n",
    "# Uniform(0, t_end)\n"
   ]
  },
  {
   "cell_type": "code",
   "execution_count": null,
   "metadata": {},
   "outputs": [],
   "source": []
  }
 ],
 "metadata": {
  "kernelspec": {
   "display_name": "Julia 1.10.2",
   "language": "julia",
   "name": "julia-1.10"
  },
  "language_info": {
   "file_extension": ".jl",
   "mimetype": "application/julia",
   "name": "julia",
   "version": "1.10.2"
  }
 },
 "nbformat": 4,
 "nbformat_minor": 2
}
