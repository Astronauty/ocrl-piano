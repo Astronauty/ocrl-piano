{
 "cells": [
  {
   "cell_type": "code",
   "execution_count": 64,
   "metadata": {},
   "outputs": [
    {
     "name": "stderr",
     "output_type": "stream",
     "text": [
      "\u001b[32m\u001b[1m  Activating\u001b[22m\u001b[39m project at `c:\\Users\\Daniel\\Documents\\Python-Projects\\ocrl-piano\\single_finger_free_trajectories`\n",
      "\u001b[32m\u001b[1m  No Changes\u001b[22m\u001b[39m to `C:\\Users\\Daniel\\Documents\\Python-Projects\\ocrl-piano\\single_finger_free_trajectories\\Project.toml`\n",
      "\u001b[32m\u001b[1m  No Changes\u001b[22m\u001b[39m to `C:\\Users\\Daniel\\Documents\\Python-Projects\\ocrl-piano\\single_finger_free_trajectories\\Manifest.toml`\n"
     ]
    }
   ],
   "source": [
    "import Pkg \n",
    "Pkg.activate(@__DIR__)\n",
    "Pkg.resolve()\n",
    "Pkg.instantiate()\n",
    "\n",
    "import FiniteDiff\n",
    "import ForwardDiff as FD\n",
    "import Convex as cvx \n",
    "import ECOS\n",
    "import MuJoCo as MJ\n",
    "\n",
    "using LinearAlgebra\n",
    "import Plots\n",
    "using Random\n",
    "using JLD2\n",
    "using Test\n",
    "using StaticArrays\n",
    "using Printf\n",
    "using Distributions\n",
    "using MathOptInterface\n",
    "using MuJoCo"
   ]
  },
  {
   "cell_type": "code",
   "execution_count": 65,
   "metadata": {},
   "outputs": [
    {
     "name": "stderr",
     "output_type": "stream",
     "text": [
      "\u001b[32m\u001b[1m   Resolving\u001b[22m\u001b[39m package versions...\n",
      "\u001b[32m\u001b[1m  No Changes\u001b[22m\u001b[39m to `C:\\Users\\Daniel\\Documents\\Python-Projects\\ocrl-piano\\single_finger_free_trajectories\\Project.toml`\n",
      "\u001b[32m\u001b[1m  No Changes\u001b[22m\u001b[39m to `C:\\Users\\Daniel\\Documents\\Python-Projects\\ocrl-piano\\single_finger_free_trajectories\\Manifest.toml`\n"
     ]
    }
   ],
   "source": [
    "Threads.nthreads()\n",
    "install_visualiser()\n",
    "init_visualiser()"
   ]
  },
  {
   "cell_type": "code",
   "execution_count": 66,
   "metadata": {},
   "outputs": [
    {
     "data": {
      "text/plain": [
       "MuJoCo Data object"
      ]
     },
     "metadata": {},
     "output_type": "display_data"
    }
   ],
   "source": [
    "model = load_model(\"models/scene_right_piano_hand.xml\")\n",
    "data = init_data(model)\n",
    "# reset!(model, data)\n",
    "# visualise!(model, data)\n"
   ]
  },
  {
   "cell_type": "code",
   "execution_count": 67,
   "metadata": {},
   "outputs": [
    {
     "name": "stdout",
     "output_type": "stream",
     "text": [
      "[0.0, 0.0, 0.0]\n",
      "[0.0, 0.0, 0.0]\n"
     ]
    }
   ],
   "source": [
    "fingertip = MJ.site(data, \"fingertip_index\")\n",
    "fingertip.xpos\n",
    "\n",
    "target = MJ.geom(data, \"keymarker_1\")\n",
    "target.xpos\n",
    "\n",
    "error = zeros(3)\n",
    "println(error)\n",
    "error = fingertip.xpos - target.xpos\n",
    "println(error)"
   ]
  },
  {
   "cell_type": "code",
   "execution_count": 68,
   "metadata": {},
   "outputs": [
    {
     "data": {
      "text/plain": [
       "IK_inequality_constraints (generic function with 1 method)"
      ]
     },
     "metadata": {},
     "output_type": "display_data"
    }
   ],
   "source": [
    "# function multifinger_IK_cost(m::Model, d::Data, neutral_pose::Vector, fingertip_targets::Vector)\n",
    "\n",
    "# end\n",
    "\n",
    "function multifinger_IK_cost(params::NamedTuple, x::Vector)::Real\n",
    "    \"\"\"\n",
    "    Compute the cost of the IK problem for a given set of joint angles q and target names.\n",
    "    \"\"\"\n",
    "    model = params.model\n",
    "    data = params.data\n",
    "    neutral_joint_angles = params.neutral_joint_angles\n",
    "    fingertip_targets = params.fingertip_site_names\n",
    "    qpos = params.neutral_joint_angles\n",
    "    Q = params.Q\n",
    "\n",
    "    cost = 0.0\n",
    "    cost += 0.5*(x - neutral_joint_angles)'*Q*(x - neutral_joint_angles) # regularization cost\n",
    "\n",
    "    data.qpos .= x\n",
    "    # step!(model, data)\n",
    "\n",
    "    return cost\n",
    "end\n",
    "\n",
    "function IK_equality_constraints(params::NamedTuple, x::Vector)::Vector\n",
    "    \"\"\"\n",
    "    Compute the equality constraints for the IK problem for a given set of joint angles q and target names.\n",
    "    \"\"\"\n",
    "    model = params.model\n",
    "    data = params.data\n",
    "    neutral_joint_angles = params.neutral_joint_angles\n",
    "    fingertip_site_names = params.fingertip_site_names\n",
    "    target_site_names = params.target_site_names\n",
    "    neutral_joint_angles = params.neutral_joint_angles\n",
    "\n",
    "    data.qpos .= x\n",
    "    step!(model, data)\n",
    "\n",
    "    @assert length(x) == length(params.neutral_joint_angles)\n",
    "    @assert length(params.fingertip_site_names) == length(params.target_site_names)\n",
    "\n",
    "\n",
    "    error = zeros(length(fingertip_site_names)*3) # positional error for fingertips \n",
    "    \n",
    "    for i=1:length(fingertip_site_names)\n",
    "        fingertip = MJ.site(data, fingertip_site_names[i])\n",
    "        target = MJ.geom(data, target_site_names[i])\n",
    "        \n",
    "        # site_id = mj_name2id(model, mjOBJ_SITE, fingertip_site_names[i])\n",
    "        # target_id = mj_name2id(model, mjOBJ_SITE, target_site_names[i])\n",
    "        \n",
    "        # preallocate arrays for a single site computation\n",
    "        # error_pos = error[1+3*(i-1):3*i]\n",
    "        # error_rot = error[6*i+3:6*(i+1)]\n",
    "        \n",
    "        # positional error\n",
    "        error[1+3*(i-1):3*i] .= fingertip.xpos - target.xpos\n",
    "\n",
    "\n",
    "\n",
    "        # # orientation error\n",
    "        # site_quat = neros(4)\n",
    "        # site_quat_conj = zeros(4)\n",
    "        \n",
    "        # target_quat = zeros(4)\n",
    "        \n",
    "        # error_quat = zeros(4)\n",
    "        \n",
    "        # mujoco.mju_mat2Quat(site_quat, data.site(site_id).xmat)\n",
    "        # mujoco.mju_mat2Quat(target_quat, data.geom(target_id).xmat)\n",
    "        \n",
    "        # mujoco.mju_negQuat(site_quat_conj, site_quat)\n",
    "        # mujoco.mju_mulQuat(error_quat, target_quat, site_quat_conj)\n",
    "        # mujoco.mju_quat2Vel(error_rot, error_quat, 1.0)\n",
    "    end\n",
    "\n",
    "    return error\n",
    "end\n",
    "\n",
    "function IK_inequality_constraints(params::NamedTuple, x::Vector)::Vector\n",
    "    return zeros(eltype(x), 0)\n",
    "end\n"
   ]
  },
  {
   "cell_type": "code",
   "execution_count": 69,
   "metadata": {},
   "outputs": [
    {
     "data": {
      "text/plain": [
       "fmincon (generic function with 1 method)"
      ]
     },
     "metadata": {},
     "output_type": "display_data"
    }
   ],
   "source": [
    "include(joinpath(@__DIR__, \"utils\",\"fmincon.jl\"))"
   ]
  },
  {
   "cell_type": "code",
   "execution_count": 73,
   "metadata": {},
   "outputs": [
    {
     "data": {
      "text/plain": [
       "solve_multifinger_IK (generic function with 1 method)"
      ]
     },
     "metadata": {},
     "output_type": "display_data"
    }
   ],
   "source": [
    "function solve_multifinger_IK(;verbose=true)\n",
    "    # instantiate model and data\n",
    "    model = load_model(\"models/scene_right_piano_hand.xml\")\n",
    "    data = init_data(model)\n",
    "    reset!(model, data)\n",
    "\n",
    "    # set the neutral pose\n",
    "    neutral_joint_angles = vec(deepcopy(data.qpos))\n",
    "    # neutral_joint_angles = convert(Vector{Float64}, neutral_joint_angles)\n",
    "    \n",
    "    # neutral_joint_angles = zeros(model.nq)\n",
    "    @show typeof(neutral_joint_angles)\n",
    "\n",
    "    # reset the model and data\n",
    "    reset!(model, data)\n",
    "    @show size(neutral_joint_angles)\n",
    "\n",
    "    # LQR cost for neutral neutral_pose\n",
    "    Q = 1e-3*diagm(ones(model.nq))\n",
    "    @show size(Q)\n",
    "\n",
    "    # fingertip sites and targets\n",
    "    fingertip_site_names = [\"fingertip_index\", \"fingertip_middle\", \"fingertip_ring\"]\n",
    "    target_site_names = [\"keymarker_1\", \"keymarker_2\", \"keymarker_3\"]\n",
    "\n",
    "    params = (Q=Q, model=model, data=data, fingertip_site_names, target_site_names, neutral_joint_angles)\n",
    "\n",
    "    # primal bounds\n",
    "    x_l = model.jnt_range[:,1]\n",
    "    x_u = model.jnt_range[:,2]\n",
    "\n",
    "    # inequality constraints\n",
    "    c_l = zeros(0)\n",
    "    c_u = zeros(0)\n",
    "\n",
    "\n",
    "\n",
    "    # initial_guess \n",
    "    z0=0.001*rand(model.nq)\n",
    "\n",
    "    # multifinger_IK_cost(params, z0)\n",
    "    # IK_equality_constraints(params, z0)\n",
    "    diff_type = :finite\n",
    "    Z = fmincon(multifinger_IK_cost, IK_equality_constraints, IK_inequality_constraints, x_l, x_u, c_l, c_u, z0, params, diff_type; tol=1e-6, c_tol=1e-4, max_iters = 50, verbose=verbose)\n",
    "    return Z\n",
    "end"
   ]
  },
  {
   "cell_type": "code",
   "execution_count": 71,
   "metadata": {},
   "outputs": [
    {
     "name": "stdout",
     "output_type": "stream",
     "text": [
      "typeof(neutral_joint_angles) = Base.ReshapedArray{Float64, 1, Transpose{Float64, UnsafeArrays.UnsafeArray{Float64, 2}}, Tuple{Base.MultiplicativeInverses.SignedMultiplicativeInverse{Int64}}}\n",
      "size(neutral_joint_angles) = (27,)\n",
      "size(Q) = (27, 27)\n",
      "---------checking dimensions of everything----------\n",
      "---------all dimensions good------------------------\n",
      "---------diff type set to :finite (FiniteDiff.jl)---\n",
      "---------testing objective gradient-----------------\n",
      "---------testing constraint Jacobian----------------\n",
      "---------successfully compiled both derivatives-----\n",
      "---------IPOPT beginning solve----------------------\n",
      "This is Ipopt version 3.14.14, running with linear solver MUMPS 5.6.2.\n",
      "\n",
      "Number of nonzeros in equality constraint Jacobian...:      162\n",
      "Number of nonzeros in inequality constraint Jacobian.:        0\n",
      "Number of nonzeros in Lagrangian Hessian.............:        0\n",
      "\n",
      "Total number of variables............................:       27\n",
      "                     variables with only lower bounds:        0\n",
      "                variables with lower and upper bounds:       27\n",
      "                     variables with only upper bounds:        0\n",
      "Total number of equality constraints.................:        6\n",
      "Total number of inequality constraints...............:        0\n",
      "        inequality constraints with only lower bounds:        0\n",
      "   inequality constraints with lower and upper bounds:        0\n",
      "        inequality constraints with only upper bounds:        0\n",
      "\n",
      "iter    objective    inf_pr   inf_du lg(mu)  ||d||  lg(rg) alpha_du alpha_pr  ls\n",
      "   0  0.0000000e+00 4.72e-01 3.15e-09   0.0 0.00e+00    -  0.00e+00 0.00e+00   0\n",
      "   1  0.0000000e+00 8.89e-03 1.71e+00  -1.7 4.30e-01    -  5.39e-01 1.00e+00h  1\n",
      "   2  0.0000000e+00 1.18e-03 1.85e-01  -6.5 8.26e-02    -  8.28e-01 1.00e+00h  1\n",
      "   3  0.0000000e+00 4.87e-05 6.85e-02  -3.0 2.40e-02    -  9.94e-01 1.00e+00h  1\n",
      "   4  0.0000000e+00 7.51e-06 1.02e-03  -4.6 1.25e-02    -  1.00e+00 1.00e+00h  1\n",
      "   5  0.0000000e+00 9.73e-08 2.84e-06  -6.7 1.02e-03    -  1.00e+00 1.00e+00h  1\n",
      "   6  0.0000000e+00 1.76e-07 8.93e-09  -8.6 7.36e-03    -  9.98e-01 1.00e+00h  1\n",
      "\n",
      "Number of Iterations....: 6\n",
      "\n",
      "                                   (scaled)                 (unscaled)\n",
      "Objective...............:   0.0000000000000000e+00    0.0000000000000000e+00\n",
      "Dual infeasibility......:   8.9332966236615063e-09    8.9332966236615063e-09\n",
      "Constraint violation....:   1.7611293695596331e-07    1.7611293695596331e-07\n",
      "Variable bound violation:   0.0000000000000000e+00    0.0000000000000000e+00\n",
      "Complementarity.........:   4.6832350182930001e-09    4.6832350182930001e-09\n",
      "Overall NLP error.......:   1.7611293695596331e-07    1.7611293695596331e-07\n",
      "\n",
      "\n",
      "Number of objective function evaluations             = 7\n",
      "Number of objective gradient evaluations             = 7\n",
      "Number of equality constraint evaluations            = 7\n",
      "Number of inequality constraint evaluations          = 0\n",
      "Number of equality constraint Jacobian evaluations   = 7\n",
      "Number of inequality constraint Jacobian evaluations = 0\n",
      "Number of Lagrangian Hessian evaluations             = 0\n",
      "Total seconds in IPOPT                               = 0.174\n",
      "\n",
      "EXIT: Optimal Solution Found.\n"
     ]
    },
    {
     "data": {
      "text/plain": [
       "27×1 transpose(::UnsafeArrays.UnsafeArray{Float64, 2}) with eltype Float64:\n",
       "  0.14329295407205603\n",
       " -0.4403182872711473\n",
       "  0.027643055975507553\n",
       " -0.11789671389476032\n",
       " -0.041386534392815574\n",
       " -0.034542496534784826\n",
       " -0.20352860268532885\n",
       "  0.03531015397615159\n",
       "  0.046311948525791645\n",
       "  0.05473159558073913\n",
       "  ⋮\n",
       "  0.0012288399101613825\n",
       "  0.033945168053773234\n",
       "  0.05739165096736398\n",
       "  0.057391650967364025\n",
       "  0.008305259773519192\n",
       "  0.05504795033413831\n",
       "  0.0004037568897245432\n",
       "  0.003398173510081537\n",
       "  0.03418323766320522"
      ]
     },
     "metadata": {},
     "output_type": "display_data"
    }
   ],
   "source": [
    "qpos = solve_multifinger_IK()\n",
    "\n",
    "model = load_model(\"models/scene_right_piano_hand.xml\")\n",
    "data = init_data(model)\n",
    "reset!(model, data)\n",
    "data.qpos .= qpos\n"
   ]
  },
  {
   "cell_type": "code",
   "execution_count": 72,
   "metadata": {},
   "outputs": [
    {
     "name": "stdout",
     "output_type": "stream",
     "text": [
      " __  __            _        _____       _ _ \n",
      "|  \\/  |          | |      / ____|     (_) |\n",
      "| \\  / |_   _     | | ___ | |     ___   _| |\n",
      "| |\\/| | | | |_   | |/ _ \\| |    / _ \\ | | |\n",
      "| |  | | |_| | |__| | (_) | |___| (_) || | |\n",
      "|_|  |_|\\__,_|\\____/ \\___/ \\_____\\___(_) |_|\n",
      "                                      _/ |  \n",
      "                                     |__/   \n",
      "\n",
      "Press \"F1\" to show the help message.\n"
     ]
    }
   ],
   "source": [
    "visualise!(model, data)"
   ]
  }
 ],
 "metadata": {
  "kernelspec": {
   "display_name": "Julia 1.10.2",
   "language": "julia",
   "name": "julia-1.10"
  },
  "language_info": {
   "file_extension": ".jl",
   "mimetype": "application/julia",
   "name": "julia",
   "version": "1.10.2"
  }
 },
 "nbformat": 4,
 "nbformat_minor": 2
}
