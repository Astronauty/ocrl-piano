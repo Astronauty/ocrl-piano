{
 "cells": [
  {
   "cell_type": "code",
   "execution_count": 246,
   "metadata": {},
   "outputs": [
    {
     "name": "stderr",
     "output_type": "stream",
     "text": [
      "\u001b[32m\u001b[1m  Activating\u001b[22m\u001b[39m project at `~/daniel/ocrl-piano/single_finger_free_trajectories`\n",
      "\u001b[32m\u001b[1m  No Changes\u001b[22m\u001b[39m to `~/daniel/ocrl-piano/single_finger_free_trajectories/Project.toml`\n",
      "\u001b[32m\u001b[1m  No Changes\u001b[22m\u001b[39m to `~/daniel/ocrl-piano/single_finger_free_trajectories/Manifest.toml`\n"
     ]
    }
   ],
   "source": [
    "import Pkg \n",
    "Pkg.activate(@__DIR__)\n",
    "Pkg.resolve()\n",
    "Pkg.instantiate()\n",
    "\n",
    "import FiniteDiff\n",
    "import ForwardDiff as FD\n",
    "import Convex as cvx \n",
    "import ECOS\n",
    "import MuJoCo as MJ\n",
    "\n",
    "using LinearAlgebra\n",
    "import Plots\n",
    "using Random\n",
    "using JLD2\n",
    "using Test\n",
    "using StaticArrays\n",
    "using Printf\n",
    "using Distributions\n",
    "using MathOptInterface\n",
    "using MuJoCo"
   ]
  },
  {
   "cell_type": "code",
   "execution_count": 247,
   "metadata": {},
   "outputs": [
    {
     "name": "stderr",
     "output_type": "stream",
     "text": [
      "\u001b[32m\u001b[1m   Resolving\u001b[22m\u001b[39m package versions...\n",
      "\u001b[32m\u001b[1m  No Changes\u001b[22m\u001b[39m to `~/daniel/ocrl-piano/single_finger_free_trajectories/Project.toml`\n",
      "\u001b[32m\u001b[1m  No Changes\u001b[22m\u001b[39m to `~/daniel/ocrl-piano/single_finger_free_trajectories/Manifest.toml`\n"
     ]
    }
   ],
   "source": [
    "Threads.nthreads()\n",
    "install_visualiser()\n",
    "init_visualiser()"
   ]
  },
  {
   "cell_type": "code",
   "execution_count": 248,
   "metadata": {},
   "outputs": [
    {
     "data": {
      "text/plain": [
       "DataSite:\n",
       "id:    97\n",
       "name:  \"rh_shadow_hand/ffdistal_touch_site\"\n",
       "xpos:  (3 x  )\tFloat64\t[0.0, 0.0, 0.0] (4 s.f.)\n",
       "xmat:  (9 x  )\tFloat64\t[0.0, 0.0, 0.0, 0.0, 0.0, 0.0, 0.0, 0.0, 0.0] (4 s.f.)\n"
      ]
     },
     "metadata": {},
     "output_type": "display_data"
    }
   ],
   "source": [
    "# model = load_model(\"models/scene_right_piano_hand.xml\")\n",
    "model = load_model(\"/home/workstation4/daniel/ocrl-piano/Julia_fmincon_tests/piano_with_one_shadow_hand/scene.xml\")\n",
    "data = init_data(model)\n",
    "# reset!(model, data)\n",
    "# visualise!(model, data)\n",
    "\n",
    "# MJ.site(data, \"fingertip_index\")\n",
    "# MJ.site(data, \"fingertip_thumb\")\n",
    "\n",
    "MJ.site(data, \"rh_shadow_hand/ffdistal_touch_site\")\n",
    "# MJ.site(data, \"piano/white_key_site_71\")\n"
   ]
  },
  {
   "cell_type": "code",
   "execution_count": 249,
   "metadata": {},
   "outputs": [
    {
     "ename": "BoundsError",
     "evalue": "BoundsError: attempt to access 124×3 transpose(::UnsafeArrays.UnsafeArray{Float64, 2}) with eltype Float64 at index [0, 1:3]",
     "output_type": "error",
     "traceback": [
      "BoundsError: attempt to access 124×3 transpose(::UnsafeArrays.UnsafeArray{Float64, 2}) with eltype Float64 at index [0, 1:3]\n",
      "\n",
      "Stacktrace:\n",
      " [1] throw_boundserror(A::Transpose{Float64, UnsafeArrays.UnsafeArray{Float64, 2}}, I::Tuple{Int64, Base.OneTo{Int64}})\n",
      "   @ Base ./abstractarray.jl:737\n",
      " [2] checkbounds\n",
      "   @ ./abstractarray.jl:702 [inlined]\n",
      " [3] view\n",
      "   @ ./subarray.jl:184 [inlined]\n",
      " [4] getproperty(x::MuJoCo.Wrappers.NamedAccess.DataSite, f::Symbol)\n",
      "   @ MuJoCo.Wrappers.NamedAccess ~/.julia/packages/MuJoCo/9JERS/src/named_access.jl:675\n",
      " [5] top-level scope\n",
      "   @ ~/daniel/ocrl-piano/single_finger_free_trajectories/jl_inverse_kinematics_shadow_hand.ipynb:2"
     ]
    }
   ],
   "source": [
    "fingertip = MJ.site(data, \"fingertip_index\")\n",
    "fingertip.xpos\n",
    "\n",
    "target = MJ.geom(data, \"keymarker_1\")\n",
    "target.xpos\n",
    "\n",
    "error = zeros(3)\n",
    "println(error)\n",
    "error = fingertip.xpos - target.xpos\n",
    "println(error)"
   ]
  },
  {
   "cell_type": "code",
   "execution_count": 250,
   "metadata": {},
   "outputs": [
    {
     "data": {
      "text/plain": [
       "IK_inequality_constraints (generic function with 1 method)"
      ]
     },
     "metadata": {},
     "output_type": "display_data"
    }
   ],
   "source": [
    "# function multifinger_IK_cost(m::Model, d::Data, neutral_pose::Vector, fingertip_targets::Vector)\n",
    "\n",
    "# end\n",
    "\n",
    "function multifinger_IK_cost(params::NamedTuple, x::Vector)::Real\n",
    "    \"\"\"\n",
    "    Compute the cost of the IK problem for a given set of joint angles q and target names.\n",
    "    \"\"\"\n",
    "    model = params.model\n",
    "    data = params.data\n",
    "    neutral_joint_angles = params.neutral_joint_angles\n",
    "    fingertip_targets = params.fingertip_site_names\n",
    "    qpos = params.neutral_joint_angles\n",
    "    Q = params.Q\n",
    "\n",
    "    cost = 0.0\n",
    "    cost += 0.5*(x - neutral_joint_angles)'*Q*(x - neutral_joint_angles) # regularization cost\n",
    "\n",
    "    data.qpos .= x\n",
    "    # step!(model, data)\n",
    "\n",
    "    return cost\n",
    "end\n",
    "\n",
    "function IK_equality_constraints(params::NamedTuple, x::Vector)::Vector\n",
    "    \"\"\"\n",
    "    Compute the equality constraints for the IK problem for a given set of joint angles q and target names.\n",
    "    \"\"\"\n",
    "    model = params.model\n",
    "    data = params.data\n",
    "    neutral_joint_angles = params.neutral_joint_angles\n",
    "    fingertip_site_names = params.fingertip_site_names\n",
    "    target_site_names = params.target_site_names\n",
    "    neutral_joint_angles = params.neutral_joint_angles\n",
    "\n",
    "    data.qpos .= x\n",
    "    step!(model, data)\n",
    "\n",
    "    @assert length(x) == length(params.neutral_joint_angles)\n",
    "    @assert length(params.fingertip_site_names) == length(params.target_site_names)\n",
    "\n",
    "\n",
    "    error = zeros(length(fingertip_site_names)*3) # positional error for fingertips \n",
    "    \n",
    "    for i=1:length(fingertip_site_names)\n",
    "        fingertip = MJ.site(data, fingertip_site_names[i])\n",
    "        # target = MJ.geom(data, target_site_names[i])\n",
    "        target = MJ.site(data, target_site_names[i])\n",
    "\n",
    "        # site_id = mj_name2id(model, mjOBJ_SITE, fingertip_site_names[i])\n",
    "        # target_id = mj_name2id(model, mjOBJ_SITE, target_site_names[i])\n",
    "        \n",
    "        # preallocate arrays for a single site computation\n",
    "        # error_pos = error[1+3*(i-1):3*i]\n",
    "        # error_rot = error[6*i+3:6*(i+1)]\n",
    "        \n",
    "        # positional error\n",
    "        error[1+3*(i-1):3*i] .= fingertip.xpos - target.xpos\n",
    "\n",
    "\n",
    "\n",
    "        # # orientation error\n",
    "        # site_quat = neros(4)\n",
    "        # site_quat_conj = zeros(4)\n",
    "        \n",
    "        # target_quat = zeros(4)\n",
    "        \n",
    "        # error_quat = zeros(4)\n",
    "        \n",
    "        # mujoco.mju_mat2Quat(site_quat, data.site(site_id).xmat)\n",
    "        # mujoco.mju_mat2Quat(target_quat, data.geom(target_id).xmat)\n",
    "        \n",
    "        # mujoco.mju_negQuat(site_quat_conj, site_quat)\n",
    "        # mujoco.mju_mulQuat(error_quat, target_quat, site_quat_conj)\n",
    "        # mujoco.mju_quat2Vel(error_rot, error_quat, 1.0)\n",
    "    end\n",
    "\n",
    "    return error\n",
    "end\n",
    "\n",
    "function IK_inequality_constraints(params::NamedTuple, x::Vector)::Vector\n",
    "    return zeros(eltype(x), 0)\n",
    "end\n"
   ]
  },
  {
   "cell_type": "code",
   "execution_count": 251,
   "metadata": {},
   "outputs": [
    {
     "data": {
      "text/plain": [
       "fmincon (generic function with 1 method)"
      ]
     },
     "metadata": {},
     "output_type": "display_data"
    }
   ],
   "source": [
    "include(joinpath(@__DIR__, \"utils\",\"fmincon.jl\"))"
   ]
  },
  {
   "cell_type": "code",
   "execution_count": 252,
   "metadata": {},
   "outputs": [
    {
     "data": {
      "text/plain": [
       "solve_multifinger_IK (generic function with 1 method)"
      ]
     },
     "metadata": {},
     "output_type": "display_data"
    }
   ],
   "source": [
    "function solve_multifinger_IK(;verbose=true)\n",
    "    # instantiate model and data\n",
    "    # model = load_model(\"models/scene_right_piano_hand.xml\")\n",
    "    model = load_model(\"/home/workstation4/daniel/ocrl-piano/Julia_fmincon_tests/piano_with_one_shadow_hand/scene.xml\")\n",
    "    data = init_data(model)\n",
    "    reset!(model, data)\n",
    "\n",
    "    # set the neutral pose\n",
    "    neutral_joint_angles = vec(deepcopy(data.qpos))\n",
    "    # neutral_joint_angles = convert(Vector{Float64}, neutral_joint_angles)\n",
    "    \n",
    "    # neutral_joint_angles = zeros(model.nq)\n",
    "    @show typeof(neutral_joint_angles)\n",
    "\n",
    "    # reset the model and data\n",
    "    reset!(model, data)\n",
    "    @show size(neutral_joint_angles)\n",
    "\n",
    "    # LQR cost for neutral neutral_pose\n",
    "    Q = 1e-3*diagm(ones(model.nq))\n",
    "    @show size(Q)\n",
    "\n",
    "    # fingertip sites and targets\n",
    "    # fingertip_site_names = [\"fingertip_index\", \"fingertip_middle\", \"fingertip_little\"]\n",
    "    # target_site_names = [\"keymarker_1\", \"keymarker_2\", \"keymarker_3\"]\n",
    "    # fingertip_site_names = [\"rh_shadow_hand/ffdistal_touch_site\", \"rh_shadow_hand/mfdistal_touch_site\", \"rh_shadow_hand/rfdistal_touch_site\", \"rh_shadow_hand/lfdistal_touch_site\"]\n",
    "    fingertip_site_names = [\"rh_shadow_hand/ffdistal_touch_site\", \"rh_shadow_hand/mfdistal_touch_site\"]\n",
    "\n",
    "    target_site_names = [\"piano/white_key_site_70\", \"piano/white_key_site_72\"]\n",
    "    \n",
    "\n",
    "\n",
    "\n",
    "    params = (Q=Q, model=model, data=data, fingertip_site_names, target_site_names, neutral_joint_angles)\n",
    "\n",
    "    # primal bounds\n",
    "    x_l = model.jnt_range[:,1]\n",
    "    x_u = model.jnt_range[:,2]\n",
    "\n",
    "    # inequality constraints\n",
    "    c_l = zeros(0)\n",
    "    c_u = zeros(0)\n",
    "\n",
    "\n",
    "\n",
    "    # initial_guess \n",
    "    z0=0.001*rand(model.nq)\n",
    "\n",
    "    # multifinger_IK_cost(params, z0)\n",
    "    # IK_equality_constraints(params, z0)\n",
    "    diff_type = :finite\n",
    "    Z = fmincon(multifinger_IK_cost, IK_equality_constraints, IK_inequality_constraints, x_l, x_u, c_l, c_u, z0, params, diff_type; tol=1e-3, c_tol=1e-3, max_iters = 50, verbose=verbose)\n",
    "    return Z\n",
    "end"
   ]
  },
  {
   "cell_type": "code",
   "execution_count": 253,
   "metadata": {},
   "outputs": [
    {
     "name": "stdout",
     "output_type": "stream",
     "text": [
      "typeof(neutral_joint_angles) = Base.ReshapedArray{Float64, 1, Transpose{Float64, UnsafeArrays.UnsafeArray{Float64, 2}}, Tuple{Base.MultiplicativeInverses.SignedMultiplicativeInverse{Int64}}}\n",
      "size(neutral_joint_angles) = (114,)\n",
      "size(Q) = (114, 114)\n",
      "---------checking dimensions of everything----------\n",
      "---------all dimensions good------------------------\n",
      "---------diff type set to :finite (FiniteDiff.jl)---\n",
      "---------testing objective gradient-----------------\n",
      "---------testing constraint Jacobian----------------\n",
      "---------successfully compiled both derivatives-----\n",
      "---------IPOPT beginning solve----------------------\n",
      "This is Ipopt version 3.14.14, running with linear solver MUMPS 5.6.2.\n",
      "\n",
      "Number of nonzeros in equality constraint Jacobian...:      684\n",
      "Number of nonzeros in inequality constraint Jacobian.:        0\n",
      "Number of nonzeros in Lagrangian Hessian.............:        0\n",
      "\n",
      "Total number of variables............................:      114\n",
      "                     variables with only lower bounds:        0\n",
      "                variables with lower and upper bounds:      114\n",
      "                     variables with only upper bounds:        0\n",
      "Total number of equality constraints.................:        6\n",
      "Total number of inequality constraints...............:        0\n",
      "        inequality constraints with only lower bounds:        0\n",
      "   inequality constraints with lower and upper bounds:        0\n",
      "        inequality constraints with only upper bounds:        0\n",
      "\n",
      "iter    objective    inf_pr   inf_du lg(mu)  ||d||  lg(rg) alpha_du alpha_pr  ls\n",
      "   0  7.0410068e-07 2.48e-01 5.81e-02   0.0 0.00e+00    -  0.00e+00 0.00e+00   0\n",
      "   1  7.4097134e-07 2.45e-01 1.35e+02  -1.1 4.78e-01    -  6.35e-01 1.35e-02f  1\n",
      "   2  8.2230826e-07 2.45e-01 3.31e+02  -6.9 3.49e+01    -  1.19e-03 4.90e-04h  1\n",
      "   3  1.0671087e-05 2.37e-01 1.36e+02  -0.0 3.27e+01    -  1.25e-01 3.22e-02f  1\n",
      "   4  2.3920012e-05 1.90e-01 1.03e+02  -6.6 7.83e-01    -  3.03e-01 1.94e-01h  1\n",
      "   5  1.8053305e-05 3.45e-02 7.73e+01  -1.7 9.96e-01    -  6.49e-01 1.00e+00f  1\n",
      "   6  5.2121600e-05 3.43e-02 7.24e+00  -0.1 2.17e+00    -  8.01e-01 2.00e-01h  1\n",
      "   7  1.0018019e-04 1.98e-03 6.43e-01  -1.3 1.26e-01    -  9.20e-01 1.00e+00f  1\n",
      "   8  1.3166992e-04 3.54e-05 3.06e-02  -2.4 3.61e-02    -  1.00e+00 1.00e+00h  1\n",
      "   9  1.3743012e-04 1.31e-08 1.14e+01  -8.4 4.66e-04    -  9.89e-01 1.00e+00h  1\n",
      "iter    objective    inf_pr   inf_du lg(mu)  ||d||  lg(rg) alpha_du alpha_pr  ls\n",
      "  10  9.1056078e-05 2.62e-06 1.67e-03  -2.3 4.84e+01    -  1.60e-04 1.21e-03f  1\n",
      "  11  7.6059156e-05 8.04e-11 6.28e+00 -10.3 2.45e-05    -  9.98e-01 1.00e+00h  1\n",
      "  12  7.5869254e-05 3.28e-10 6.25e+00  -8.0 3.25e-02    -  1.00e+00 1.81e-02f  1\n",
      "  13  7.5703568e-05 3.28e-10 4.09e+00  -8.2 7.27e-02    -  8.22e-01 8.16e-05f  1\n",
      "  14  7.5703560e-05 1.57e-13 1.61e-06  -8.2 4.37e-06    -  1.00e+00 1.00e+00f  1\n",
      "\n",
      "Number of Iterations....: 14\n",
      "\n",
      "                                   (scaled)                 (unscaled)\n",
      "Objective...............:   7.5703560010188683e-05    7.5703560010188683e-05\n",
      "Dual infeasibility......:   1.6082476961579883e-06    1.6082476961579883e-06\n",
      "Constraint violation....:   1.5715900802959482e-13    1.5715900802959482e-13\n",
      "Variable bound violation:   6.7399007621868967e-09    6.7399007621868967e-09\n",
      "Complementarity.........:   2.0378388968425097e-08    2.0378388968425097e-08\n",
      "Overall NLP error.......:   1.6082476961579883e-06    1.6082476961579883e-06\n",
      "\n",
      "\n",
      "Number of objective function evaluations             = 15\n",
      "Number of objective gradient evaluations             = 15\n",
      "Number of equality constraint evaluations            = 15\n",
      "Number of inequality constraint evaluations          = 0\n",
      "Number of equality constraint Jacobian evaluations   = 15\n",
      "Number of inequality constraint Jacobian evaluations = 0\n",
      "Number of Lagrangian Hessian evaluations             = 0\n",
      "Total seconds in IPOPT                               = 0.396\n",
      "\n",
      "EXIT: Optimal Solution Found.\n"
     ]
    },
    {
     "data": {
      "text/plain": [
       "114×1 transpose(::UnsafeArrays.UnsafeArray{Float64, 2}) with eltype Float64:\n",
       " -6.739900762186897e-9\n",
       "  0.07506244436756752\n",
       "  0.05568938086229648\n",
       "  0.055786964144722506\n",
       "  0.07506244436756752\n",
       "  0.055786964144722506\n",
       "  0.07506244436756752\n",
       "  0.055786964144722506\n",
       "  0.055786964144722506\n",
       "  0.07506244436756752\n",
       "  ⋮\n",
       " -5.680906183684424e-6\n",
       "  0.2871279213672415\n",
       "  0.523378869191608\n",
       "  0.523378869191608\n",
       "  0.00033931888619638523\n",
       "  0.49243854290440897\n",
       " -0.0002891567587407091\n",
       "  0.00031787829691798137\n",
       "  0.28718514920886673"
      ]
     },
     "metadata": {},
     "output_type": "display_data"
    }
   ],
   "source": [
    "qpos = solve_multifinger_IK()\n",
    "\n",
    "# model = load_model(\"models/scene_right_piano_hand.xml\")\n",
    "model = load_model(\"/home/workstation4/daniel/ocrl-piano/Julia_fmincon_tests/piano_with_one_shadow_hand/scene.xml\")\n",
    "\n",
    "data = init_data(model)\n",
    "reset!(model, data)\n",
    "data.qpos .= qpos\n"
   ]
  },
  {
   "cell_type": "code",
   "execution_count": 254,
   "metadata": {},
   "outputs": [
    {
     "name": "stdout",
     "output_type": "stream",
     "text": [
      " __  __            _        _____       _ _ \n",
      "|  \\/  |          | |      / ____|     (_) |\n",
      "| \\  / |_   _     | | ___ | |     ___   _| |\n",
      "| |\\/| | | | |_   | |/ _ \\| |    / _ \\ | | |\n",
      "| |  | | |_| | |__| | (_) | |___| (_) || | |\n",
      "|_|  |_|\\__,_|\\____/ \\___/ \\_____\\___(_) |_|\n",
      "                                      _/ |  \n",
      "                                     |__/   \n",
      "\n",
      "Press \"F1\" to show the help message.\n"
     ]
    }
   ],
   "source": [
    "visualise!(model, data)"
   ]
  }
 ],
 "metadata": {
  "kernelspec": {
   "display_name": "Julia 1.10.2",
   "language": "julia",
   "name": "julia-1.10"
  },
  "language_info": {
   "file_extension": ".jl",
   "mimetype": "application/julia",
   "name": "julia",
   "version": "1.10.2"
  }
 },
 "nbformat": 4,
 "nbformat_minor": 2
}
