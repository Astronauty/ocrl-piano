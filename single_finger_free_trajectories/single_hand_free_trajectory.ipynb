{
 "cells": [
  {
   "cell_type": "code",
   "execution_count": 9,
   "metadata": {},
   "outputs": [
    {
     "name": "stderr",
     "output_type": "stream",
     "text": [
      "\u001b[32m\u001b[1m  Activating\u001b[22m\u001b[39m project at `c:\\Users\\AiPEX-WS4\\Documents\\ocrl-piano\\single_finger_free_trajectories`\n",
      "\u001b[32m\u001b[1m  No Changes\u001b[22m\u001b[39m to `C:\\Users\\AiPEX-WS4\\Documents\\ocrl-piano\\single_finger_free_trajectories\\Project.toml`\n",
      "\u001b[32m\u001b[1m  No Changes\u001b[22m\u001b[39m to `C:\\Users\\AiPEX-WS4\\Documents\\ocrl-piano\\single_finger_free_trajectories\\Manifest.toml`\n"
     ]
    }
   ],
   "source": [
    "import Pkg\n",
    "Pkg.activate(@__DIR__)\n",
    "# Pkg.upgrade_manifest()\n",
    "# Pkg.update()\n",
    "\n",
    "Pkg.resolve()\n",
    "\n",
    "Pkg.instantiate()\n",
    "import FiniteDiff\n",
    "import ForwardDiff as FD\n",
    "import Convex as cvx \n",
    "import ECOS\n",
    "import MuJoCo\n",
    "using LinearAlgebra\n",
    "import Plots\n",
    "using Random\n",
    "using JLD2\n",
    "using Test\n",
    "using StaticArrays\n",
    "using Printf\n",
    "using Distributions"
   ]
  },
  {
   "cell_type": "code",
   "execution_count": 10,
   "metadata": {},
   "outputs": [
    {
     "name": "stderr",
     "output_type": "stream",
     "text": [
      "\u001b[32m\u001b[1m   Resolving\u001b[22m\u001b[39m package versions...\n",
      "\u001b[32m\u001b[1m  No Changes\u001b[22m\u001b[39m to `C:\\Users\\AiPEX-WS4\\Documents\\ocrl-piano\\single_finger_free_trajectories\\Project.toml`\n",
      "\u001b[32m\u001b[1m  No Changes\u001b[22m\u001b[39m to `C:\\Users\\AiPEX-WS4\\Documents\\ocrl-piano\\single_finger_free_trajectories\\Manifest.toml`\n"
     ]
    }
   ],
   "source": [
    "Threads.nthreads()\n",
    "using MuJoCo\n",
    "install_visualiser()"
   ]
  },
  {
   "cell_type": "code",
   "execution_count": 15,
   "metadata": {},
   "outputs": [
    {
     "name": "stdout",
     "output_type": "stream",
     "text": [
      "data.qpos = [1.0; 0.0; 0.0; 0.0; 0.0; 0.0; 0.0; 0.0; 0.0; 0.0; 0.0; 0.0; 0.0; 0.0; 0.0; 0.0; 0.0; 0.0; 0.0; 0.0; 0.0; 0.0; 0.0; 0.0; 0.3; 0.0; 0.1; 1.0; 0.0; 0.0; 0.0;;]\n",
      "model.nu = 20\n",
      "Initial joint positions:[1.0; 0.0; 0.0; 0.0; 0.0; 0.0; 0.0; 0.0; 0.0; 0.0; 0.0; 0.0; 0.0; 0.0; 0.0; 0.0; 0.0; 0.0; 0.0; 0.0; 0.0; 0.0; 0.0; 0.0; 0.3; 0.0; 0.1; 1.0; 0.0; 0.0; 0.0;;]\n",
      "New joint positions:[-0.26334703421816874; -0.07856956574200098; 0.03966617559491675; 0.09964304706810141; 0.1155560595321025; 0.13369885671847476; -0.007285636530170871; 0.03025412747195818; 0.11043167707058378; 0.1471646249967138; 0.027081924284900794; 0.12938106002547797; 0.15001101232755648; 0.15961557152087513; 0.13003300646214017; 0.07121883495887749; 0.06965431373011534; 0.07655061636639551; 0.12753478126021478; 0.046141504904160725; 0.19819525366513324; -0.018970616961014722; -0.12668613573606327; 0.1744711677612055; 0.31164507647443107; 0.014923279117550892; 0.04637377571566125; 0.9702290578242955; -0.10450235368146855; 0.2047697745431476; 0.07618512231375661;;]\n",
      " __  __            _        _____       _ _ \n",
      "|  \\/  |          | |      / ____|     (_) |\n",
      "| \\  / |_   _     | | ___ | |     ___   _| |\n",
      "| |\\/| | | | |_   | |/ _ \\| |    / _ \\ | | |\n",
      "| |  | | |_| | |__| | (_) | |___| (_) || | |\n",
      "|_|  |_|\\__,_|\\____/ \\___/ \\_____\\___(_) |_|\n",
      "                                      _/ |  \n",
      "                                     |__/   \n",
      "\n",
      "Press \"F1\" to show the help message.\n"
     ]
    }
   ],
   "source": [
    "model = load_model(\"../mujoco_menagerie/shadow_hand/scene_right.xml\")\n",
    "data = init_data(model)\n",
    "\n",
    "# model, data = MuJoCo.sample_model_and_data()\n",
    "data.qpos[1] = 1.0\n",
    "@show data.qpos\n",
    "@show model.nu\n",
    "init_visualiser()\n",
    "\n",
    "function random_controller!(m::Model, d::Data)\n",
    "    nu = m.nu\n",
    "    d.ctrl .= 2*rand(nu) .- 1\n",
    "    return nothing\n",
    "end\n",
    "\n",
    "println(\"Initial joint positions:\", data.qpos)\n",
    "for t in 1:100\n",
    "    random_controller!(model, data)\n",
    "    step!(model, data)\n",
    "end\n",
    "println(\"New joint positions:\", data.qpos)\n",
    "\n",
    "mj_resetData(model, data)\n",
    "step!(model, data)\n",
    "visualise!(model, data, controller=random_controller!)\n",
    "\n"
   ]
  }
 ],
 "metadata": {
  "kernelspec": {
   "display_name": "Julia 1.10.4",
   "language": "julia",
   "name": "julia-1.10"
  },
  "language_info": {
   "file_extension": ".jl",
   "mimetype": "application/julia",
   "name": "julia",
   "version": "1.10.4"
  }
 },
 "nbformat": 4,
 "nbformat_minor": 2
}
