{
 "cells": [
  {
   "cell_type": "code",
   "execution_count": 206,
   "metadata": {},
   "outputs": [
    {
     "name": "stderr",
     "output_type": "stream",
     "text": [
      "\u001b[32m\u001b[1m  Activating\u001b[22m\u001b[39m project at `c:\\Users\\Daniel\\Documents\\Python-Projects\\ocrl-piano\\single_finger_free_trajectories`\n",
      "\u001b[32m\u001b[1m  No Changes\u001b[22m\u001b[39m to `C:\\Users\\Daniel\\Documents\\Python-Projects\\ocrl-piano\\single_finger_free_trajectories\\Project.toml`\n",
      "\u001b[32m\u001b[1m  No Changes\u001b[22m\u001b[39m to `C:\\Users\\Daniel\\Documents\\Python-Projects\\ocrl-piano\\single_finger_free_trajectories\\Manifest.toml`\n"
     ]
    }
   ],
   "source": [
    "import Pkg\n",
    "Pkg.activate(@__DIR__)\n",
    "# Pkg.upgrade_manifest()\n",
    "# Pkg.update()\n",
    "Pkg.resolve()\n",
    "Pkg.instantiate()\n",
    "\n",
    "import FiniteDiff\n",
    "import ForwardDiff as FD\n",
    "import Convex as cvx \n",
    "import ECOS\n",
    "import Plots\n",
    "import MuJoCo as MJ\n",
    "# import Combinatorics\n",
    "\n",
    "using LinearAlgebra\n",
    "using Random\n",
    "using JLD2\n",
    "using Test\n",
    "using StaticArrays\n",
    "using Printf\n",
    "using Distributions\n",
    "using MathOptInterface\n",
    "using Combinatorics"
   ]
  },
  {
   "cell_type": "code",
   "execution_count": 207,
   "metadata": {},
   "outputs": [
    {
     "name": "stderr",
     "output_type": "stream",
     "text": [
      "\u001b[32m\u001b[1m   Resolving\u001b[22m\u001b[39m package versions...\n",
      "\u001b[32m\u001b[1m  No Changes\u001b[22m\u001b[39m to `C:\\Users\\Daniel\\Documents\\Python-Projects\\ocrl-piano\\single_finger_free_trajectories\\Project.toml`\n",
      "\u001b[32m\u001b[1m  No Changes\u001b[22m\u001b[39m to `C:\\Users\\Daniel\\Documents\\Python-Projects\\ocrl-piano\\single_finger_free_trajectories\\Manifest.toml`\n"
     ]
    }
   ],
   "source": [
    "Threads.nthreads()\n",
    "using MuJoCo\n",
    "install_visualiser()"
   ]
  },
  {
   "cell_type": "markdown",
   "metadata": {},
   "source": [
    "### Load Model and Info"
   ]
  },
  {
   "cell_type": "code",
   "execution_count": 228,
   "metadata": {},
   "outputs": [
    {
     "name": "stdout",
     "output_type": "stream",
     "text": [
      "c:\\Users\\Daniel\\Documents\\Python-Projects\\ocrl-piano\\single_finger_free_trajectories\n",
      "States: 54\n",
      "Controls: 23\n",
      "Initial joint positions:[0.0; 0.0; 0.0; 0.0; 0.0; 0.0; 0.0; 0.0; 0.0; 0.0; 0.0; 0.0; 0.0; 0.0; 0.0; 0.0; 0.0; 0.0; 0.0; 0.0; 0.0; 0.0; 0.0; 0.0; 0.0; 0.0; 0.0;;]\n",
      "Initial joint velocities:[0.0; 0.0; 0.0; 0.0; 0.0; 0.0; 0.0; 0.0; 0.0; 0.0; 0.0; 0.0; 0.0; 0.0; 0.0; 0.0; 0.0; 0.0; 0.0; 0.0; 0.0; 0.0; 0.0; 0.0; 0.0; 0.0; 0.0;;]\n",
      "MuJoCo Data"
     ]
    }
   ],
   "source": [
    "# model = load_model(\"../mujoco_menagerie/shadow_hand/scene_right_piano_hand.xml\")\n",
    "println(pwd())\n",
    "model = load_model(\"models/scene_right_piano_hand.xml\")\n",
    "# model = load_model(\"scene_right_piano_hand.xml\")\n",
    "data = init_data(model)\n",
    "\n",
    "nx = 2*model.nv\n",
    "nu = model.nu\n",
    "\n",
    "println(\"States: \", nx)\n",
    "println(\"Controls: \", nu)\n",
    "ϵ = 1e-6\n",
    "\n",
    "init_visualiser()\n",
    "function random_controller!(m::Model, d::Data)\n",
    "    nu = m.nu\n",
    "    d.ctrl .= 2*rand(nu) .- 1\n",
    "    return nothing\n",
    "end\n",
    "\n",
    "println(\"Initial joint positions:\", data.qpos)\n",
    "println(\"Initial joint velocities:\", data.qvel)\n",
    "\n",
    "mj_resetData(model, data)\n",
    "\n",
    "print(data)"
   ]
  },
  {
   "cell_type": "code",
   "execution_count": 227,
   "metadata": {},
   "outputs": [
    {
     "name": "stdout",
     "output_type": "stream",
     "text": [
      "0.346720759910114\n",
      "0.44201\n",
      "0.44601\n",
      "0.44201\n",
      "0.43351000000000006\n",
      "fingers_vertical_pos = Any[0.17142, 0.18, 0.18, 0.18, 0.18]\n",
      "target_site_pos = (MJ.geom(data, \"keymarker_1\")).xpos = [0.4601, -0.1, 0.12]\n"
     ]
    },
    {
     "data": {
      "text/plain": [
       "3-element view(transpose(::UnsafeArrays.UnsafeArray{Float64, 2}), 2, Base.OneTo(3)) with eltype Float64:\n",
       "  0.4601\n",
       " -0.1\n",
       "  0.12"
      ]
     },
     "metadata": {},
     "output_type": "display_data"
    }
   ],
   "source": [
    "data = init_data(model)\n",
    "fingertip_site_names = [\"fingertip_thumb\", \"fingertip_index\", \"fingertip_middle\", \"fingertip_ring\", \"fingertip_little\"]\n",
    "data.qpos[1] = 0.06\n",
    "step!(model, data)\n",
    "\n",
    "fingers_vertical_pos = [] \n",
    "for fingertip_site_name in fingertip_site_names\n",
    "    println(MJ.site(data, fingertip_site_name).xpos[1])\n",
    "    push!(fingers_vertical_pos, MJ.site(data, fingertip_site_name).xpos[3])\n",
    "end\n",
    "@show fingers_vertical_pos\n",
    "\n",
    "@show target_site_pos = MJ.geom(data, \"keymarker_1\").xpos\n",
    "# visualise!(model, data)\n",
    "\n"
   ]
  },
  {
   "cell_type": "markdown",
   "metadata": {},
   "source": [
    "### Keyframe Visualization"
   ]
  },
  {
   "cell_type": "code",
   "execution_count": 230,
   "metadata": {},
   "outputs": [
    {
     "name": "stdout",
     "output_type": "stream",
     "text": [
      " __  __            _        _____       _ _ \n",
      "|  \\/  |          | |      / ____|     (_) |\n",
      "| \\  / |_   _     | | ___ | |     ___   _| |\n",
      "| |\\/| | | | |_   | |/ _ \\| |    / _ \\ | | |\n",
      "| |  | | |_| | |__| | (_) | |___| (_) || | |\n",
      "|_|  |_|\\__,_|\\____/ \\___/ \\_____\\___(_) |_|\n",
      "                                      _/ |  \n",
      "                                     |__/   \n",
      "\n",
      "Press \"F1\" to show the help message.\n"
     ]
    }
   ],
   "source": [
    "resetkey!(model, data, 1)\n",
    "visualise!(model, data)\n",
    "# data.qpos"
   ]
  },
  {
   "cell_type": "markdown",
   "metadata": {},
   "source": [
    "### Dynamics"
   ]
  },
  {
   "cell_type": "code",
   "execution_count": 283,
   "metadata": {},
   "outputs": [
    {
     "data": {
      "text/plain": [
       "create_idx (generic function with 1 method)"
      ]
     },
     "metadata": {},
     "output_type": "display_data"
    }
   ],
   "source": [
    "function wrapped_mj_step(model, data, xk, uk)\n",
    "    \"\"\"\n",
    "    wrapped_mj_step(model, data, xk, uk)\n",
    "\n",
    "    Computes the next state x_{k+1} given the current state x_k and control uk\n",
    "    \"\"\"\n",
    "    # given the current model and data. set the state and control to the model and perform a forward step\n",
    "    if typeof(xk) == Vector{Float64}\n",
    "    \n",
    "        data.qpos .= xk[1:model.nq]\n",
    "        data.qvel .= xk[(model.nq + 1):end]\n",
    "        data.ctrl .= uk\n",
    "\n",
    "    else\n",
    "        # if using diff types, we need to convert the dual numbers to floats\n",
    "        # uk = ForwardDiff.value.(uk)\n",
    "        # xk = ForwardDiff.value.(x)\n",
    "        # # set control\n",
    "        # data.ctrl[:] .= converted_uk\n",
    "\n",
    "        # # set state\n",
    "        # data.qpos .= converted_x[1:model.nq]\n",
    "        # data.qvel .= converted_x[(model.nq + 1):end]\n",
    "\n",
    "        xk = ForwardDiff.value(xk)\n",
    "        uk = ForwardDiff.value(uk)\n",
    "\n",
    "        data.qpos .= xk[1:model.nq]\n",
    "        data.qvel .= xk[(model.nq + 1):end]\n",
    "        data.ctrl .= uk\n",
    "    end\n",
    "    \n",
    "    # take discrete dynamics step \n",
    "    step!(model, data) \n",
    "\n",
    "    # return updated state k + 1\n",
    "    zkp1 = zeros(model.nq + model.nv + model.na) \n",
    "    zkp1 .= get_physics_state(model, data)\n",
    "\n",
    "    # finger_coordinates = data.geom_xpos[finger_geom_indices,:]\n",
    "    \n",
    "    return zkp1\n",
    "end\n",
    "\n",
    "function dynamics(params::NamedTuple, x::Vector, u::Vector)\n",
    "    model = params.model\n",
    "    if typeof(x) == Vector{Float64}\n",
    "    \n",
    "        data.qpos .= x[1:model.nq]\n",
    "        data.qvel .= x[(model.nq + 1):end]\n",
    "        data.ctrl .= u\n",
    "\n",
    "    else\n",
    "        # if using diff types, we need to convert the dual numbers to floats\n",
    "        x = ForwardDiff.value(x)\n",
    "        u = ForwardDiff.value(u)\n",
    "\n",
    "        data.qpos .= x[1:model.nq]\n",
    "        data.qvel .= x[(model.nq + 1):end]\n",
    "        data.ctrl .= u\n",
    "    end\n",
    "    forward!(model, data)\n",
    "    # @show typeof(data.qvel)\n",
    "    # @show size(data.qvel)\n",
    "    # @show typeof(data.qacc)\n",
    "    xdot = vec([data.qvel; data.qacc])\n",
    "    return xdot\n",
    "end\n",
    "\n",
    "\n",
    "\n",
    "function hermite_simpson(params::NamedTuple, x1::Vector, x2::Vector, u, dt::Real)::Vector\n",
    "    # TODO: input hermite simpson implicit integrator residual \n",
    "     x_mid = 0.5(x1 + x2) + (dt/8) * (dynamics(params, x1, u) - dynamics(params, x2, u))\n",
    "     res = x1 + (dt/6) * (dynamics(params, x1, u) + 4*dynamics(params, x_mid, u) + dynamics(params, x2, u)) - x2\n",
    "     return res\n",
    "end\n",
    "\n",
    "function robohand_cost(params::NamedTuple, Z::Vector)::Real\n",
    "    # TODO: implement cost function\n",
    "    idx, N, xg = params.idx, params.N, params.xg\n",
    "    model = params.model\n",
    "    data = params.data\n",
    "    Q, R, Qf = params.Q, params.R, params.Qf\n",
    "\n",
    "    # stage cost\n",
    "    cost = 0.0\n",
    "    for i = 1:(N-1)\n",
    "        xi = Z[idx.x[i]]\n",
    "        ui = Z[idx.u[i]]\n",
    "\n",
    "        # @show xi-xg\n",
    "        # cost += 0.5*(xi[94:96]-xg[94:96])'*Q*(xi[94:96]-xg[94:96])+0.5*ui'*R*ui\n",
    "        cost += 0.5*(xi-xg)'*Q*(xi-xg)+0.5*ui'*R*ui\n",
    "    end\n",
    "\n",
    "    # terminal cost \n",
    "    xf = Z[idx.x[N]]\n",
    "    # cost += 0.5*(xf[94:96]-xg[94:96])'*Qf*(xf[94:96]-xg[94:96])\n",
    "    cost += 0.5*(xf-xg)'*Qf*(xf-xg)\n",
    "    # @show typeof(cost)\n",
    "    return cost\n",
    "end\n",
    "\n",
    "function robohand_temporal_pose_cost(params::NamedTuple, Z::Vector)::Real\n",
    "    idx, N, xg= params.idx, params.N , params.xg\n",
    "    model = params.model\n",
    "    data = params.data\n",
    "    Q, R, Qf = params.Q, params.R, params.Qf\n",
    "\n",
    "    cost = 0.0\n",
    "    \n",
    "    # joint cost\n",
    "    for i = 1:(N-1)\n",
    "        xi = Z[idx.x[i]]\n",
    "        ui = Z[idx.u[i]]\n",
    "\n",
    "        if i < N/2\n",
    "            resetkey!(model, data, 2)\n",
    "        else\n",
    "            resetkey!(model, data, 3)\n",
    "        end\n",
    "        goal_pose = vec([data.qpos; data.qvel])\n",
    "\n",
    "        cost += 0.5*(xi-goal_pose)'*Qf*(xi-goal_pose)+0.5*ui'*R*ui\n",
    "    end\n",
    "\n",
    "    return cost\n",
    "end\n",
    "\n",
    "function robohand_end_effector_cost(params::NamedTuple, Z::Vector)::Real\n",
    "    idx, N, xg= params.idx, params.N , params.xg\n",
    "    xic = params.xic\n",
    "    model = params.model\n",
    "    data = params.data\n",
    "    t_vec = params.t_vec\n",
    "    Q, R, Qf = params.Q, params.R, params.Qf\n",
    "    finger_constraints, target_site_names, fingertip_site_names = params.finger_constraints, params.target_site_names, params.fingertip_site_names\n",
    "\n",
    "    cost = 0.0\n",
    "    \n",
    "    for i in 1:(N-1)\n",
    "        # find the active finger constraint and target site position\n",
    "        xi = Z[idx.x[i]]\n",
    "        ui = Z[idx.u[i]]\n",
    "\n",
    "        data.qpos .= xi[1:model.nq]\n",
    "        data.qvel .= xi[(model.nq + 1):end]\n",
    "        forward!(model, data)\n",
    "\n",
    "        for j = 1:length(finger_constraints)\n",
    "            if finger_constraints[j].t_start <= t_vec[i] && t_vec[i] < finger_constraints[j].t_end # check if the finger is active at this time step\n",
    "                # find position of the desired target site\n",
    "                target_site_name = target_site_names[finger_constraints[j].site_index] # the position to strike with a finger\n",
    "                # @show target_site_name\n",
    "                target_site_pos = MJ.geom(data, target_site_name).xpos\n",
    "                \n",
    "                # find position of the desired finger\n",
    "                fingertip_site_name = fingertip_site_names[finger_constraints[j].finger_index]\n",
    "                # @show fingertip_site_name\n",
    "                fingertip_site_pos = MJ.site(data, fingertip_site_name).xpos\n",
    "\n",
    "                # println(j)\n",
    "                \n",
    "                cost += 0.5*(fingertip_site_pos-target_site_pos)'*Q*(fingertip_site_pos-target_site_pos) + 0.5*ui'*R*ui\n",
    "            else\n",
    "                cost += 0.5*(xi - xic)'*Qf*(xi - xic) + 0.5*ui'*R*ui\n",
    "            end\n",
    "        end\n",
    "    end\n",
    "\n",
    "    return cost\n",
    "\n",
    "end\n",
    "\n",
    "function robohand_dynamics_constraints(params::NamedTuple, Z::Vector)::Vector\n",
    "    idx, N, dt = params.idx, params.N, params.dt\n",
    "    model = params.model\n",
    "    data = params.data\n",
    "    # create c in a ForwardDiff friendly way (check HW0)\n",
    "    c = zeros(eltype(Z), idx.nc)\n",
    "\n",
    "    \n",
    "    for i = 1:(N-1)\n",
    "        xi = Z[idx.x[i]]\n",
    "        ui = Z[idx.u[i]] \n",
    "        xip1 = Z[idx.x[i+1]]\n",
    "        \n",
    "        # data.qpos[94:96] = xi[1:3]\n",
    "        # data.qvel[94:96] = xi[4:6]\n",
    "\n",
    "        ## MuJoCo Integration\n",
    "        xip1_mujoco = wrapped_mj_step(model, data, xi, ui)\n",
    "        c[idx.c[i]] = xip1_mujoco - xip1\n",
    "\n",
    "        ## Hermite Simpson Integration\n",
    "        # c[idx.c[i]] = hermite_simpson(params, xi, xip1, ui, dt)\n",
    "    end\n",
    "    # println(typeof(c))\n",
    "    return c \n",
    "end\n",
    "\n",
    "\n",
    "function robohand_equality_constraints(params::NamedTuple, Z::Vector)::Vector\n",
    "    # TODO: implement equality constraints\n",
    "    # return zeros(eltype(Z), 0)\n",
    "    N, idx, xic, xg = params.N, params.idx, params.xic, params.xg \n",
    "    model = params.model\n",
    "    data = params.data\n",
    "\n",
    "    con_1 = Z[idx.x[1]] - xic\n",
    "    con_2 = Z[idx.x[N]] - xg\n",
    "\n",
    "    # return zeros(eltype(Z), 0)\n",
    "    # return [con_1; con_2]\n",
    "    # return [con_1; con_2; robohand_dynamics_constraints(params, Z)]\n",
    "    return [con_1; robohand_dynamics_constraints(params, Z)]\n",
    "\n",
    "\n",
    "end\n",
    "\n",
    "function robohand_inequality_constraints(params::NamedTuple, Z::Vector)::Vector\n",
    "    idx, N, dt = params.idx, params.N, params.dt\n",
    "    model = params.model\n",
    "    data = params.data\n",
    "    \n",
    "    N = params.N\n",
    "    finger_constraints, target_site_names, fingertip_site_names = params.finger_constraints, params.target_site_names, params.fingertip_site_names\n",
    "\n",
    "    c = zeros(eltype(Z), 5*N) # 5 finger constraints per timestep \n",
    "\n",
    "    # Cancel out the constraint if the finger is supposed to be playing a note at this timestep\n",
    "\n",
    "    for i in 1:N\n",
    "        # find the active finger constraint and target site position\n",
    "        xi = Z[idx.x[i]]\n",
    "        # ui = Z[idx.u[i]]\n",
    "\n",
    "        data.qpos .= xi[1:model.nq]\n",
    "        data.qvel .= xi[(model.nq + 1):end]\n",
    "        forward!(model, data)\n",
    "\n",
    "\n",
    "        fingers_vertical_pos = [] \n",
    "        for fingertip_site_name in fingertip_site_names\n",
    "            push!(fingers_vertical_pos, MJ.site(data, fingertip_site_name).xpos[3])\n",
    "        end\n",
    "\n",
    "\n",
    "        # for j = 1:length(finger_constraints)\n",
    "        #     if finger_constraints[j].t_start <= t_vec[i] && t_vec[i] < finger_constraints[j].t_end # check if the finger is active at this time step\n",
    "        #        fingers_vertical_pos[finger_constraints[j].finger_index] = 10 # Cancel the constraint if the finger is active\n",
    "        #     end\n",
    "        # end\n",
    "        c[i:i+4] = fingers_vertical_pos\n",
    "    end\n",
    "\n",
    "    return c # Scale relative to equality constraints\n",
    "    # return inequality_constraints\n",
    "end\n",
    "\n",
    "function create_idx(nx,nu,N)\n",
    "    # This function creates some useful indexing tools for Z \n",
    "    # x_i = Z[idx.x[i]]\n",
    "    # u_i = Z[idx.u[i]]\n",
    "    \n",
    "    # our Z vector is [x0, u0, x1, u1, …, xN]\n",
    "    nz = (N-1) * nu + N * nx # length of Z \n",
    "    x = [(i - 1) * (nx + nu) .+ (1 : nx) for i = 1:N]\n",
    "    u = [(i - 1) * (nx + nu) .+ ((nx + 1):(nx + nu)) for i = 1:(N - 1)]\n",
    "    \n",
    "    # constraint indexing for the (N-1) dynamics constraints when stacked up\n",
    "    c = [(i - 1) * (nx) .+ (1 : nx) for i = 1:(N - 1)]\n",
    "    nc = (N - 1) * nx # (N-1)*nx \n",
    "    \n",
    "    return (nx=nx,nu=nu,N=N,nz=nz,nc=nc,x= x,u = u,c = c)\n",
    "end\n"
   ]
  },
  {
   "cell_type": "markdown",
   "metadata": {},
   "source": [
    "### DIRCOL"
   ]
  },
  {
   "cell_type": "code",
   "execution_count": 212,
   "metadata": {},
   "outputs": [
    {
     "data": {
      "text/plain": [
       "fmincon (generic function with 1 method)"
      ]
     },
     "metadata": {},
     "output_type": "display_data"
    }
   ],
   "source": [
    "include(joinpath(@__DIR__, \"utils\",\"fmincon.jl\"))"
   ]
  },
  {
   "cell_type": "code",
   "execution_count": 213,
   "metadata": {},
   "outputs": [
    {
     "name": "stdout",
     "output_type": "stream",
     "text": [
      "Active mode: 1\n",
      "Site index: 1\n"
     ]
    }
   ],
   "source": [
    "struct FingerConstraint\n",
    "    t_start::Float64\n",
    "    t_end::Float64\n",
    "    site_index::Int\n",
    "    finger_index::Int\n",
    "end\n",
    "\n",
    "t = 0.25\n",
    "test = [FingerConstraint(0.0, 0.5, 1, 1), FingerConstraint(0.5, 1.0, 2, 1)]\n",
    "for i = 1:length(test)\n",
    "    if t >= test[i].t_start && t < test[i].t_end\n",
    "        println(\"Active mode: \", i)\n",
    "        println(\"Site index: \", test[i].site_index)\n",
    "    end\n",
    "end"
   ]
  },
  {
   "cell_type": "code",
   "execution_count": 310,
   "metadata": {},
   "outputs": [
    {
     "data": {
      "text/plain": [
       "solve_hand_dircol (generic function with 1 method)"
      ]
     },
     "metadata": {},
     "output_type": "display_data"
    }
   ],
   "source": [
    "function solve_hand_dircol(;verbose=true)\n",
    "    # instantiate model and data\n",
    "    model = load_model(\"models/scene_right_piano_hand.xml\")\n",
    "\n",
    "    data = init_data(model)\n",
    "\n",
    "    # reset the model and data\n",
    "    reset!(model, data)\n",
    "\n",
    "    nx = 2*model.nv\n",
    "    nu = model.nu\n",
    "\n",
    "    # initiate time and time steps\n",
    "    model.opt.timestep = 0.01\n",
    "    dt = model.opt.timestep\n",
    "    tf = 2.0\n",
    "    t_vec = 0:dt:tf\n",
    "    N = length(t_vec)\n",
    "\n",
    "    # LQR cost\n",
    "    q_diag = ones(model.nq + model.nv)\n",
    "    q_diag[1:3] .= 10 # prioritize the position of the hand \n",
    "    # Q = diagm(ones(model.nq + model.nv))\n",
    "    Q = diagm(q_diag)\n",
    "    Qf = 10*Q\n",
    "\n",
    "    # LQR cost for end-effector\n",
    "    Q_cartesian = 1000*diagm(ones(3))\n",
    "\n",
    "    R = 0.1*diagm(ones(model.nu))\n",
    "\n",
    "    Q_neutral = Q\n",
    "\n",
    "    # define mode constraints\n",
    "    # fingertip_site_names = [\"rh_shadow_hand/mfdistal_touch_site\", \"rh_shadow_hand/ffdistal_touch_site\", \"rh_shadow_hand/mfdistal_touch_site\", \"rh_shadow_hand/ffdistal_touch_site\"] \n",
    "    fingertip_site_names = [\"fingertip_thumb\", \"fingertip_index\", \"fingertip_middle\", \"fingertip_ring\", \"fingertip_little\"]\n",
    "    target_site_names = [\"keymarker_1\", \"keymarker_2\", \"keymarker_3\", \"keymarker_4\", \"keymarker_5\", \"keymarker_6\", \"keymarker_7\", \"keymarker_8\"]\n",
    "\n",
    "    \n",
    "    ### Mode constraints\n",
    "    # finger_constraints = [\n",
    "    #     FingerConstraint(0.1*tf, 0.5*tf, 1, 2),\n",
    "    #     FingerConstraint(0.5*tf, 0.7*tf, 2, 3),\n",
    "    #     FingerConstraint(0.7*tf, tf, 3, 4)\n",
    "    # ]\n",
    "\n",
    "    # finger_constraints = [FingerConstraint(0.1*tf, tf, 1, 1)]\n",
    "\n",
    "    ### Octave jump\n",
    "    finger_constraints = [\n",
    "        FingerConstraint(0.2*tf, 0.3*tf, 1, 1),\n",
    "        FingerConstraint(0.7*tf, 0.8*tf, 2, 4)\n",
    "    ]\n",
    "\n",
    "\n",
    "    # 5 finger scale\n",
    "    # finger_constraints = []\n",
    "    # start_delay = 0.1*tf\n",
    "    # t_increment = (tf-start_delay)/5\n",
    "    # for i = 1:5\n",
    "    #     push!(finger_constraints, FingerConstraint(start_delay+t_increment*(i-1), start_delay+t_increment*i, i, (i-1)%5+1))\n",
    "    # end \n",
    "\n",
    "    @show finger_constraints\n",
    "    # sample possible fingerings for 3 notes\n",
    "    finger_set = 1:5\n",
    "    mode_sequences = multiset_permutations(finger_set, 3)\n",
    "    \n",
    "    mode_sequences_array = collect(mode_sequences)\n",
    "    random_mode_sequence = rand(mode_sequences_array)\n",
    "\n",
    "    # mode_sequence = [1, 2, 3]\n",
    "\n",
    "\n",
    "    # initial and goal states\n",
    "    resetkey!(model, data, 1)\n",
    "    xic = vec(vcat(copy(data.qpos), copy(data.qvel)))\n",
    " \n",
    "    println(\"Initial state: \", xic)\n",
    "\n",
    "    # xg = vec(vcat(copy(data.qpos), copy(data.qvel)))\n",
    "    xg = vec(vcat(copy(data.qpos), copy(data.qvel)))\n",
    "    xg[2] = 0.1\n",
    "    xg[5] = deg2rad(5)\n",
    "    xg[21] = deg2rad(15)\n",
    "\n",
    "\n",
    "\n",
    "\n",
    "    ### Create Indexing \n",
    "    idx = create_idx(model.nq + model.nv, model.nu, N)\n",
    "    idx = create_idx(nx, nu, N)\n",
    "    params = (Q = Q_cartesian, R = R, Qf = Qf, xic = xic, xg = xg, t_vec=t_vec, finger_constraints=finger_constraints, target_site_names=target_site_names, fingertip_site_names= fingertip_site_names, dt = dt, N = N, idx = idx, model=model, data=data)\n",
    "\n",
    "\n",
    "    ### Primal bounds\n",
    "    # x_l = vcat(model.jnt_range[:,1], -Inf*ones(model.nv), model.actuator_ctrlrange[:,1]) # combine joint pos, vel, and control limits\n",
    "    # x_u = vcat(model.jnt_range[:,2], Inf*ones(model.nv), model.actuator_ctrlrange[:,2])\n",
    "    x_l = -100*ones(idx.nz)\n",
    "    x_u = 100*ones(idx.nz)\n",
    "\n",
    "    # x_l = zeros(idx.nz)\n",
    "    # x_u = zeros(idx.nz)\n",
    "    for i = 1:N\n",
    "        # x_l[idx.x[i]] = vcat(model.jnt_range[:,1], -Inf*ones(model.nv))\n",
    "        # x_u[idx.x[i]] = vcat(model.jnt_range[:,2], Inf*ones(model.nv))\n",
    "        x_l[idx.x[i]] = vcat(model.jnt_range[:,1], -deg2rad(10)*ones(model.nv))\n",
    "        x_u[idx.x[i]] = vcat(model.jnt_range[:,2], deg2rad(10)*ones(model.nv))\n",
    "\n",
    "        # if i < N\n",
    "        #     x_l[idx.u[i]] = model.actuator_ctrlrange[:,1]\n",
    "        #     x_u[idx.u[i]] = model.actuator_ctrlrange[:,2]\n",
    "        # end\n",
    "    end\n",
    "    x_u[1] = 0.08 # prevent the wrist from going under the keybed\n",
    "\n",
    "\n",
    "    ## Inequality constraints\n",
    "    # c_l = 0.12 * ones(5*idx.N)\n",
    "    # c_l = 0.16 * ones(5*idx.N)\n",
    "    c_l= -Inf * ones(5*idx.N)\n",
    "    c_u = Inf * ones(5*idx.N)\n",
    "    # c_l = zeros(0)\n",
    "    # c_u = zeros(0)\n",
    "\n",
    "    ### Initial guess\n",
    "    z0 = 0.0*randn(idx.nz)\n",
    "    for i = 1:N\n",
    "        z0[idx.x[i]] = xic\n",
    "    end\n",
    "    z0 += 0.001*randn(idx.nz)\n",
    "    # z0 = zeros(idx.nz)\n",
    "\n",
    "\n",
    "    # diff type\n",
    "    # diff_type = :auto \n",
    "    diff_type = :finite\n",
    "    \n",
    "    # @show xic'*Q*xic\n",
    "\n",
    "    \n",
    "    Z, objs = fmincon(robohand_end_effector_cost, robohand_equality_constraints, robohand_inequality_constraints,\n",
    "                x_l,x_u,c_l,c_u,z0,params, diff_type;\n",
    "                tol = 1e-3, c_tol = 1e-6, dual_inf_tol = 1e1, compl_inf_tol = 1e-3, max_wall_time=3*60.0, max_iters = 1000, verbose = verbose)\n",
    "\n",
    "    # Z = res[1]\n",
    "    # objs = res[2]\n",
    "    \n",
    "\n",
    "    # pull the X and U solutions out of Z \n",
    "    X = [Z[idx.x[i]] for i = 1:N]\n",
    "    U = [Z[idx.u[i]] for i = 1:(N-1)]\n",
    "    return X, U, t_vec, params, objs\n",
    "    # return\n",
    "end"
   ]
  },
  {
   "cell_type": "code",
   "execution_count": 311,
   "metadata": {},
   "outputs": [
    {
     "name": "stdout",
     "output_type": "stream",
     "text": [
      "finger_constraints = FingerConstraint[FingerConstraint(0.4, 0.6, 1, 1), FingerConstraint(1.4, 1.6, 2, 4)]\n",
      "Initial state: [0.00997183, -0.209972, 0.00990915, -1.49735e-10, 0.085188, 5.36454e-11, 2.23554e-11, 0.447411, 0.463769, 5.23797e-11, 1.82296e-11, 0.574483, 0.588057, -5.19199e-11, 0.003956, 0.591765, 0.602195, 0.184569, -0.066329, -0.060192, 0.662445, 0.672905, 0.36645, 0.69654, -0.2094, 0.621309, 0.187236, 0.0, 0.0, 0.0, 0.0, 0.0, 0.0, 0.0, 0.0, 0.0, 0.0, 0.0, 0.0, 0.0, 0.0, 0.0, 0.0, 0.0, 0.0, 0.0, 0.0, 0.0, 0.0, 0.0, 0.0, 0.0, 0.0, 0.0]\n",
      "---------checking dimensions of everything----------\n",
      "---------all dimensions good------------------------\n",
      "---------diff type set to :finite (FiniteDiff.jl)---\n",
      "---------testing objective gradient-----------------\n",
      "---------testing constraint Jacobian----------------\n"
     ]
    }
   ],
   "source": [
    "X, U, t_vec, params, objs = solve_hand_dircol(verbose=true)"
   ]
  },
  {
   "cell_type": "code",
   "execution_count": 264,
   "metadata": {},
   "outputs": [
    {
     "data": {
      "text/plain": [
       "0.332078342723921"
      ]
     },
     "metadata": {},
     "output_type": "display_data"
    }
   ],
   "source": [
    "maximum(hcat(U...))\n"
   ]
  },
  {
   "cell_type": "code",
   "execution_count": 309,
   "metadata": {},
   "outputs": [
    {
     "name": "stdout",
     "output_type": "stream",
     "text": [
      " __  __            _        _____       _ _ \n",
      "|  \\/  |          | |      / ____|     (_) |\n",
      "| \\  / |_   _     | | ___ | |     ___   _| |\n",
      "| |\\/| | | | |_   | |/ _ \\| |    / _ \\ | | |\n",
      "| |  | | |_| | |__| | (_) | |___| (_) || | |\n",
      "|_|  |_|\\__,_|\\____/ \\___/ \\_____\\___(_) |_|\n",
      "                                      _/ |  \n",
      "                                     |__/   \n",
      "\n",
      "Press \"F1\" to show the help message.\n"
     ]
    }
   ],
   "source": [
    "# instantiate model and data\n",
    "model = load_model(\"models/scene_right_piano_hand.xml\")\n",
    "data = init_data(model)\n",
    "\n",
    "# reset the model and data\n",
    "reset!(model, data)\n",
    "nx = model.nq + model.nv + model.na # State vector dimension\n",
    "N = length(t_vec)\n",
    "states = zeros(nx, N)\n",
    "ctrl_states = zeros(model.nu, N)\n",
    "\n",
    "states[:,1] = get_physics_state(model, data)\n",
    "\n",
    "\n",
    "for t in 1:N\n",
    "    # reset!(model, data)\n",
    "    data.qpos .= X[t][1:model.nq]\n",
    "    data.qvel .= X[t][model.nq+1:model.nq+model.nv]\n",
    "    states[:,t] = get_physics_state(model, data)\n",
    "end\n",
    "\n",
    "visualise!(model, data, trajectories = states)"
   ]
  },
  {
   "cell_type": "code",
   "execution_count": 218,
   "metadata": {},
   "outputs": [
    {
     "data": {
      "text/plain": [
       "7"
      ]
     },
     "metadata": {},
     "output_type": "display_data"
    }
   ],
   "source": [
    "mj_name2id(model, 1, \"rh_ffdistal\")"
   ]
  }
 ],
 "metadata": {
  "kernelspec": {
   "display_name": "Julia 1.10.2",
   "language": "julia",
   "name": "julia-1.10"
  },
  "language_info": {
   "file_extension": ".jl",
   "mimetype": "application/julia",
   "name": "julia",
   "version": "1.10.2"
  }
 },
 "nbformat": 4,
 "nbformat_minor": 2
}
