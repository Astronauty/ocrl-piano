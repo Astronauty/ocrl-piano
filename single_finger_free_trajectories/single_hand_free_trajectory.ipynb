{
 "cells": [
  {
   "cell_type": "code",
   "execution_count": 1,
   "metadata": {},
   "outputs": [
    {
     "name": "stderr",
     "output_type": "stream",
     "text": [
      "\u001b[32m\u001b[1m  Activating\u001b[22m\u001b[39m project at `c:\\Users\\AiPEX-WS4\\Documents\\ocrl-piano\\single_finger_free_trajectories`\n",
      "\u001b[32m\u001b[1m  No Changes\u001b[22m\u001b[39m to `C:\\Users\\AiPEX-WS4\\Documents\\ocrl-piano\\single_finger_free_trajectories\\Project.toml`\n",
      "\u001b[32m\u001b[1m  No Changes\u001b[22m\u001b[39m to `C:\\Users\\AiPEX-WS4\\Documents\\ocrl-piano\\single_finger_free_trajectories\\Manifest.toml`\n"
     ]
    }
   ],
   "source": [
    "import Pkg\n",
    "Pkg.activate(@__DIR__)\n",
    "# Pkg.upgrade_manifest()\n",
    "# Pkg.update()\n",
    "Pkg.resolve()\n",
    "Pkg.instantiate()\n",
    "\n",
    "import FiniteDiff\n",
    "import ForwardDiff as FD\n",
    "import Convex as cvx \n",
    "import ECOS\n",
    "import MuJoCo\n",
    "using LinearAlgebra\n",
    "import Plots\n",
    "using Random\n",
    "using JLD2\n",
    "using Test\n",
    "using StaticArrays\n",
    "using Printf\n",
    "using Distributions"
   ]
  },
  {
   "cell_type": "code",
   "execution_count": 2,
   "metadata": {},
   "outputs": [
    {
     "name": "stderr",
     "output_type": "stream",
     "text": [
      "\u001b[32m\u001b[1m   Resolving\u001b[22m\u001b[39m package versions...\n",
      "\u001b[32m\u001b[1m  No Changes\u001b[22m\u001b[39m to `C:\\Users\\AiPEX-WS4\\Documents\\ocrl-piano\\single_finger_free_trajectories\\Project.toml`\n",
      "\u001b[32m\u001b[1m  No Changes\u001b[22m\u001b[39m to `C:\\Users\\AiPEX-WS4\\Documents\\ocrl-piano\\single_finger_free_trajectories\\Manifest.toml`\n"
     ]
    }
   ],
   "source": [
    "Threads.nthreads()\n",
    "using MuJoCo\n",
    "install_visualiser()"
   ]
  },
  {
   "cell_type": "code",
   "execution_count": 8,
   "metadata": {},
   "outputs": [],
   "source": [
    "# model = load_model(\"../mujoco_menagerie/shadow_hand/scene_right_piano_hand.xml\")\n",
    "println(pwd())\n",
    "model = load_model(\"models/scene_right_piano_hand.xml\")\n",
    "# model = load_model(\"scene_right_piano_hand.xml\")\n",
    "data = init_data(model)\n",
    "\n",
    "nx = 2*model.nv\n",
    "nu = model.nu\n",
    "println(\"States: \", nx)\n",
    "println(\"Controls: \", nu)\n",
    "ϵ = 1e-6\n",
    "\n",
    "init_visualiser()\n",
    "function random_controller!(m::Model, d::Data)\n",
    "    nu = m.nu\n",
    "    d.ctrl .= 2*rand(nu) .- 1\n",
    "    return nothing\n",
    "end\n",
    "\n",
    "println(\"Initial joint positions:\", data.qpos)\n",
    "\n",
    "mj_resetData(model, data)\n",
    "data.qpos[2] = deg2rad(30)\n",
    "for t in 1:100\n",
    "    random_controller!(model, data)\n",
    "    step!(model, data)\n",
    "end\n",
    "println(\"New joint positions:\", data.qpos)\n",
    "\n",
    "\n",
    "visualise!(model, data, controller=random_controller!)\n"
   ]
  }
 ],
 "metadata": {
  "kernelspec": {
   "display_name": "Julia 1.10.4",
   "language": "julia",
   "name": "julia-1.10"
  },
  "language_info": {
   "file_extension": ".jl",
   "mimetype": "application/julia",
   "name": "julia",
   "version": "1.10.4"
  }
 },
 "nbformat": 4,
 "nbformat_minor": 2
}
