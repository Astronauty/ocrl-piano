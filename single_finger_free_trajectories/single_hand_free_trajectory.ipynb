{
 "cells": [
  {
   "cell_type": "code",
   "execution_count": 18,
   "metadata": {},
   "outputs": [
    {
     "name": "stderr",
     "output_type": "stream",
     "text": [
      "\u001b[32m\u001b[1m  Activating\u001b[22m\u001b[39m project at `c:\\Users\\Daniel\\Documents\\Python-Projects\\ocrl-piano\\single_finger_free_trajectories`\n",
      "\u001b[32m\u001b[1m  No Changes\u001b[22m\u001b[39m to `C:\\Users\\Daniel\\Documents\\Python-Projects\\ocrl-piano\\single_finger_free_trajectories\\Project.toml`\n",
      "\u001b[32m\u001b[1m  No Changes\u001b[22m\u001b[39m to `C:\\Users\\Daniel\\Documents\\Python-Projects\\ocrl-piano\\single_finger_free_trajectories\\Manifest.toml`\n"
     ]
    }
   ],
   "source": [
    "import Pkg\n",
    "Pkg.activate(@__DIR__)\n",
    "# Pkg.upgrade_manifest()\n",
    "# Pkg.update()\n",
    "Pkg.resolve()\n",
    "Pkg.instantiate()\n",
    "\n",
    "import FiniteDiff\n",
    "import ForwardDiff as FD\n",
    "import Convex as cvx \n",
    "import ECOS\n",
    "import MuJoCo\n",
    "using LinearAlgebra\n",
    "import Plots\n",
    "using Random\n",
    "using JLD2\n",
    "using Test\n",
    "using StaticArrays\n",
    "using Printf\n",
    "using Distributions\n",
    "using MathOptInterface"
   ]
  },
  {
   "cell_type": "code",
   "execution_count": 19,
   "metadata": {},
   "outputs": [
    {
     "name": "stderr",
     "output_type": "stream",
     "text": [
      "\u001b[32m\u001b[1m   Resolving\u001b[22m\u001b[39m package versions...\n",
      "\u001b[32m\u001b[1m  No Changes\u001b[22m\u001b[39m to `C:\\Users\\Daniel\\Documents\\Python-Projects\\ocrl-piano\\single_finger_free_trajectories\\Project.toml`\n",
      "\u001b[32m\u001b[1m  No Changes\u001b[22m\u001b[39m to `C:\\Users\\Daniel\\Documents\\Python-Projects\\ocrl-piano\\single_finger_free_trajectories\\Manifest.toml`\n"
     ]
    }
   ],
   "source": [
    "Threads.nthreads()\n",
    "using MuJoCo\n",
    "install_visualiser()"
   ]
  },
  {
   "cell_type": "markdown",
   "metadata": {},
   "source": [
    "### Load Model and Info"
   ]
  },
  {
   "cell_type": "code",
   "execution_count": 20,
   "metadata": {},
   "outputs": [
    {
     "name": "stdout",
     "output_type": "stream",
     "text": [
      "c:\\Users\\Daniel\\Documents\\Python-Projects\\ocrl-piano\\single_finger_free_trajectories\n",
      "States: 54\n",
      "Controls: 23\n",
      "Initial joint positions:[0.0; 0.0; 0.0; 0.0; 0.0; 0.0; 0.0; 0.0; 0.0; 0.0; 0.0; 0.0; 0.0; 0.0; 0.0; 0.0; 0.0; 0.0; 0.0; 0.0; 0.0; 0.0; 0.0; 0.0; 0.0; 0.0; 0.0;;]\n",
      "Initial joint velocities:[0.0; 0.0; 0.0; 0.0; 0.0; 0.0; 0.0; 0.0; 0.0; 0.0; 0.0; 0.0; 0.0; 0.0; 0.0; 0.0; 0.0; 0.0; 0.0; 0.0; 0.0; 0.0; 0.0; 0.0; 0.0; 0.0; 0.0;;]\n",
      "MuJoCo Data"
     ]
    }
   ],
   "source": [
    "# model = load_model(\"../mujoco_menagerie/shadow_hand/scene_right_piano_hand.xml\")\n",
    "println(pwd())\n",
    "model = load_model(\"models/scene_right_piano_hand.xml\")\n",
    "# model = load_model(\"scene_right_piano_hand.xml\")\n",
    "data = init_data(model)\n",
    "\n",
    "nx = 2*model.nv\n",
    "nu = model.nu\n",
    "\n",
    "println(\"States: \", nx)\n",
    "println(\"Controls: \", nu)\n",
    "ϵ = 1e-6\n",
    "\n",
    "init_visualiser()\n",
    "function random_controller!(m::Model, d::Data)\n",
    "    nu = m.nu\n",
    "    d.ctrl .= 2*rand(nu) .- 1\n",
    "    return nothing\n",
    "end\n",
    "\n",
    "println(\"Initial joint positions:\", data.qpos)\n",
    "println(\"Initial joint velocities:\", data.qvel)\n",
    "\n",
    "mj_resetData(model, data)\n",
    "\n",
    "## Random Controller\n",
    "# for t in 1:100\n",
    "#     random_controller!(model, data)\n",
    "#     step!(model, data)\n",
    "# end\n",
    "# println(\"New joint positions:\", data.qpos)\n",
    "\n",
    "# visualise!(model, data, controller=random_controller!)\n",
    "print(data)"
   ]
  },
  {
   "cell_type": "markdown",
   "metadata": {},
   "source": [
    "### Keyframe Visualization"
   ]
  },
  {
   "cell_type": "code",
   "execution_count": 21,
   "metadata": {},
   "outputs": [
    {
     "data": {
      "text/plain": [
       "27×1 transpose(::UnsafeArrays.UnsafeArray{Float64, 2}) with eltype Float64:\n",
       " -4.80347e-5\n",
       "  0.309999\n",
       "  8.98153e-5\n",
       " -1.02167e-11\n",
       "  0.275076\n",
       "  2.8028e-12\n",
       "  1.15348e-10\n",
       "  6.50327e-11\n",
       " -5.03929e-12\n",
       "  2.80119e-12\n",
       "  ⋮\n",
       " -2.80628e-12\n",
       "  1.15023e-10\n",
       "  6.49795e-11\n",
       " -5.03721e-12\n",
       " -5.36153e-14\n",
       "  1.45269e-10\n",
       "  9.38137e-11\n",
       " -1.74212e-11\n",
       " -5.83979e-12"
      ]
     },
     "metadata": {},
     "output_type": "display_data"
    }
   ],
   "source": [
    "resetkey!(model, data, 3)\n",
    "# visualise!(model, data)\n",
    "data.qpos"
   ]
  },
  {
   "cell_type": "markdown",
   "metadata": {},
   "source": [
    "### Dynamics"
   ]
  },
  {
   "cell_type": "code",
   "execution_count": 22,
   "metadata": {},
   "outputs": [
    {
     "data": {
      "text/plain": [
       "create_idx (generic function with 1 method)"
      ]
     },
     "metadata": {},
     "output_type": "display_data"
    }
   ],
   "source": [
    "function wrapped_mj_step(model, data, xk, uk)\n",
    "    \"\"\"\n",
    "    wrapped_mj_step(model, data, xk, uk)\n",
    "\n",
    "    Computes the next state x_{k+1} given the current state x_k and control uk\n",
    "    \"\"\"\n",
    "    # given the current model and data. set the state and control to the model and perform a forward step\n",
    "    if typeof(xk) == Vector{Float64}\n",
    "    \n",
    "        data.qpos .= xk[1:model.nq]\n",
    "        data.qvel .= xk[(model.nq + 1):end]\n",
    "        data.ctrl .= uk\n",
    "\n",
    "    else\n",
    "        # if using diff types, we need to convert the dual numbers to floats\n",
    "        # uk = ForwardDiff.value.(uk)\n",
    "        # xk = ForwardDiff.value.(x)\n",
    "        # # set control\n",
    "        # data.ctrl[:] .= converted_uk\n",
    "\n",
    "        # # set state\n",
    "        # data.qpos .= converted_x[1:model.nq]\n",
    "        # data.qvel .= converted_x[(model.nq + 1):end]\n",
    "\n",
    "        xk = ForwardDiff.value(xk)\n",
    "        uk = ForwardDiff.value(uk)\n",
    "\n",
    "        data.qpos .= xk[1:model.nq]\n",
    "        data.qvel .= xk[(model.nq + 1):end]\n",
    "        data.ctrl .= uk\n",
    "    end\n",
    "    \n",
    "    # take discrete dynamics step \n",
    "    step!(model, data) \n",
    "\n",
    "    # return updated state k + 1\n",
    "    zkp1 = zeros(model.nq + model.nv + model.na) \n",
    "    zkp1 .= get_physics_state(model, data)\n",
    "\n",
    "\n",
    "    # finger_coordinates = data.geom_xpos[finger_geom_indices,:]\n",
    "    \n",
    "    return zkp1\n",
    "end\n",
    "\n",
    "function robohand_cost(params::NamedTuple, Z::Vector)::Real\n",
    "    # TODO: implement cost function\n",
    "    idx, N, xg = params.idx, params.N, params.xg\n",
    "    model = params.model\n",
    "    data = params.data\n",
    "    Q, R, Qf = params.Q, params.R, params.Qf\n",
    "\n",
    "    # stage cost\n",
    "    cost = 0.0\n",
    "    for i = 1:(N-1)\n",
    "        xi = Z[idx.x[i]]\n",
    "        ui = Z[idx.u[i]]\n",
    "\n",
    "        # @show xi-xg\n",
    "        # cost += 0.5*(xi[94:96]-xg[94:96])'*Q*(xi[94:96]-xg[94:96])+0.5*ui'*R*ui\n",
    "        cost += 0.5*(xi-xg)'*Q*(xi-xg)+0.5*ui'*R*ui\n",
    "    end\n",
    "\n",
    "    # terminal cost \n",
    "    xf = Z[idx.x[N]]\n",
    "    # cost += 0.5*(xf[94:96]-xg[94:96])'*Qf*(xf[94:96]-xg[94:96])\n",
    "    cost += 0.5*(xf-xg)'*Qf*(xf-xg)\n",
    "    # @show typeof(cost)\n",
    "    return cost\n",
    "end\n",
    "\n",
    "function robohand_temporal_pose_cost(params::NamedTuple, Z::Vector)::Real\n",
    "    idx, N, xg= params.idx, params.N , params.xg\n",
    "    model = params.model\n",
    "    data = params.data\n",
    "    Q, R, Qf = params.Q, params.R, params.Qf\n",
    "\n",
    "    cost = 0.0\n",
    "    \n",
    "    for i = 1:(N-1)\n",
    "        xi = Z[idx.x[i]]\n",
    "        ui = Z[idx.u[i]]\n",
    "\n",
    "        if i < N/2\n",
    "            resetkey!(model, data, 2)\n",
    "        else\n",
    "            resetkey!(model, data, 3)\n",
    "        end\n",
    "        goal_pose = vec([data.qpos; data.qvel])\n",
    "\n",
    "        # @show typeof(goal_pose)\n",
    "        # @show goal_pose\n",
    "        # @show typeof(xi-goal_pose)\n",
    "        # @show xi-goal_pose\n",
    "\n",
    "        # println()\n",
    "        # @show xg\n",
    "        # @show typeof(xg)\n",
    "        # @show typeof(xi-xg)\n",
    "        # @show xi-xg\n",
    "\n",
    "        cost += 0.5*(xi-goal_pose)'*Q*(xi-goal_pose)+0.5*ui'*R*ui\n",
    "    end\n",
    "    # @show typeof(cost)\n",
    "    return cost\n",
    "end\n",
    "\n",
    "function robohand_dynamics_constraints(params::NamedTuple, Z::Vector)::Vector\n",
    "    idx, N, dt = params.idx, params.N, params.dt\n",
    "    model = params.model\n",
    "    data = params.data\n",
    "    # create c in a ForwardDiff friendly way (check HW0)\n",
    "    c = zeros(eltype(Z), idx.nc)\n",
    "    \n",
    "    for i = 1:(N-1)\n",
    "        xi = Z[idx.x[i]]\n",
    "        ui = Z[idx.u[i]] \n",
    "        xip1 = Z[idx.x[i+1]]\n",
    "        \n",
    "        # data.qpos[94:96] = xi[1:3]\n",
    "        # data.qvel[94:96] = xi[4:6]\n",
    "\n",
    "        xip1_mujoco = wrapped_mj_step(model, data, xi, ui)\n",
    "\n",
    "        c[idx.c[i]] = xip1_mujoco - xip1\n",
    "    end\n",
    "    # println(typeof(c))\n",
    "    return c \n",
    "end\n",
    "\n",
    "\n",
    "function robohand_equality_constraints(params::NamedTuple, Z::Vector)::Vector\n",
    "    # TODO: implement equality constraints\n",
    "    # return zeros(eltype(Z), 0)\n",
    "    N, idx, xic, xg = params.N, params.idx, params.xic, params.xg \n",
    "    model = params.model\n",
    "    data = params.data\n",
    "\n",
    "    con_1 = Z[idx.x[1]] - xic\n",
    "    con_2 = Z[idx.x[N]] - xg\n",
    "\n",
    "    # return zeros(eltype(Z), 0)\n",
    "    # return [con_1; con_2]\n",
    "    # return [con_1; con_2; robohand_dynamics_constraints(params, Z)]\n",
    "    return [con_1; robohand_dynamics_constraints(params, Z)]\n",
    "\n",
    "\n",
    "end\n",
    "\n",
    "function robohand_inequality_constraints(params::NamedTuple, Z::Vector)::Vector\n",
    "    # TODO: implement inequality constraints\n",
    "    # println(Z)\n",
    "    return zeros(eltype(Z), 0)\n",
    "    # return inequality_constraints\n",
    "end\n",
    "\n",
    "function create_idx(nx,nu,N)\n",
    "    # This function creates some useful indexing tools for Z \n",
    "    # x_i = Z[idx.x[i]]\n",
    "    # u_i = Z[idx.u[i]]\n",
    "    \n",
    "    # our Z vector is [x0, u0, x1, u1, …, xN]\n",
    "    nz = (N-1) * nu + N * nx # length of Z \n",
    "    x = [(i - 1) * (nx + nu) .+ (1 : nx) for i = 1:N]\n",
    "    u = [(i - 1) * (nx + nu) .+ ((nx + 1):(nx + nu)) for i = 1:(N - 1)]\n",
    "    \n",
    "    # constraint indexing for the (N-1) dynamics constraints when stacked up\n",
    "    c = [(i - 1) * (nx) .+ (1 : nx) for i = 1:(N - 1)]\n",
    "    nc = (N - 1) * nx # (N-1)*nx \n",
    "    \n",
    "    return (nx=nx,nu=nu,N=N,nz=nz,nc=nc,x= x,u = u,c = c)\n",
    "end\n"
   ]
  },
  {
   "cell_type": "markdown",
   "metadata": {},
   "source": [
    "### Test Equality Constraints"
   ]
  },
  {
   "cell_type": "code",
   "execution_count": 23,
   "metadata": {},
   "outputs": [],
   "source": [
    "# model = load_model(\"models/scene_right_piano_hand.xml\")\n",
    "# data = init_data(model)\n",
    "\n",
    "# # reset the model and data\n",
    "# reset!(model, data)\n",
    "\n",
    "# nx = 2*model.nv\n",
    "# nu = model.nu\n",
    "\n",
    "# # initiate time and time steps\n",
    "# dt = model.opt.timestep\n",
    "# tf = 5.0\n",
    "# t_vec = 0:dt:tf\n",
    "# N = length(t_vec)\n",
    "\n",
    "# # LQR cost\n",
    "# Q = diagm(ones(model.nq + model.nv))\n",
    "# R = 100*diagm(ones(model.nu))\n",
    "# Qf = Q\n",
    "\n",
    "# # initial and goal states\n",
    "# xic = vec(vcat(copy(data.qpos), copy(data.qvel)))\n",
    "# println(\"Initial state: \", xic)\n",
    "\n",
    "# # xg = vec(vcat(copy(data.qpos), copy(data.qvel)))\n",
    "# xg = vec(vcat(copy(data.qpos), copy(data.qvel)))\n",
    "# # xg[1] = deg2rad(2)\n",
    "# println(\"Goal state: \", xg)\n",
    "\n",
    "# # indexing \n",
    "# idx = create_idx(model.nq + model.nv, model.nu, N)\n",
    "# idx = create_idx(nx, nu, N)\n",
    "# params = (Q = Q, R = R, Qf = Qf, xic = xic, xg = xg, dt = dt, N = N, idx = idx, model=model, data=data)\n",
    "\n",
    "# z0 = zeros(idx.nz)\n",
    "# q0_array = -0.001:0.0001:0.001\n",
    "\n",
    "# # costs = zeros(length(q0_array))\n",
    "# # constraint_cost = zeros(length(q0_array))\n",
    "\n",
    "\n",
    "# costs = zeros(idx.nz, length(q0_array)) \n",
    "# constraint_cost = zeros(idx.nz, length(q0_array))\n",
    "# using Plots\n",
    "\n",
    "# p1 = plot()\n",
    "# p2 = plot()\n",
    "# for j in 1:idx.nz\n",
    "#     for i in eachindex(q0_array)\n",
    "#         z0[j] = q0_array[i]\n",
    "#         # z0[idx.x[i]] .= q0_array[i]\n",
    "#         costs[j, i] = robohand_cost(params, z0)\n",
    "#         constraint_cost[j, i] = norm(robohand_dynamics_constraints(params, z0), 2)\n",
    "#     end\n",
    "#     z0 = zeros(idx.nz)\n",
    "\n",
    "#     # p1 = plot!(q0_array, costs[j, :], label=\"$j\", xlabel=\"q0\", ylabel=\"Cost\", legend=false)\n",
    "#     # p2 = plot!(q0_array, constraint_cost[j, :], label=\"$j\", xlabel=\"q0\", ylabel=\"Constraint cost\")\n",
    "#     p2 = plot!(q0_array, constraint_cost[j, :], xlabel=\"q0\", ylabel=\"Constraint cost\", legend=false)\n",
    "\n",
    "# end\n",
    "\n",
    "# # display(p1)\n",
    "# display(p2)\n",
    "\n",
    "# # p1 = plot(q0_array, costs, label=\"Cost vs q0\", xlabel=\"q0\", ylabel=\"Cost\")\n",
    "# # p2 = plot(q0_array, constraint_cost, label=\"Constraint cost vs q0\", xlabel=\"q0\", ylabel=\"Constraint cost\")\n",
    "\n",
    "# # println()\n",
    "# # println(\"Constraint Cost: \", constraint_cost)\n",
    "\n",
    "# # plot(p1, p2, layout=(2, 1), size=(600, 400))"
   ]
  },
  {
   "cell_type": "markdown",
   "metadata": {},
   "source": [
    "### DIRCOL"
   ]
  },
  {
   "cell_type": "code",
   "execution_count": 24,
   "metadata": {},
   "outputs": [
    {
     "data": {
      "text/plain": [
       "fmincon (generic function with 1 method)"
      ]
     },
     "metadata": {},
     "output_type": "display_data"
    }
   ],
   "source": [
    "include(joinpath(@__DIR__, \"utils\",\"fmincon.jl\"))"
   ]
  },
  {
   "cell_type": "code",
   "execution_count": 31,
   "metadata": {},
   "outputs": [
    {
     "data": {
      "text/plain": [
       "solve_hand_ddp (generic function with 1 method)"
      ]
     },
     "metadata": {},
     "output_type": "display_data"
    }
   ],
   "source": [
    "function solve_hand_ddp(;verbose=true)\n",
    "    # instantiate model and data\n",
    "    model = load_model(\"models/scene_right_piano_hand.xml\")\n",
    "    data = init_data(model)\n",
    "\n",
    "    # reset the model and data\n",
    "    reset!(model, data)\n",
    "\n",
    "    nx = 2*model.nv\n",
    "    nu = model.nu\n",
    "\n",
    "    # initiate time and time steps\n",
    "    dt = model.opt.timestep\n",
    "    tf = 5.0\n",
    "    t_vec = 0:dt:tf\n",
    "    N = length(t_vec)\n",
    "\n",
    "    # LQR cost\n",
    "\n",
    "    q_diag = ones(model.nq + model.nv)\n",
    "    q_diag[1:3] .= 50 # prioritize the position of the hand \n",
    "    # Q = diagm(ones(model.nq + model.nv))\n",
    "    Q = diagm(q_diag)\n",
    "\n",
    "    \n",
    "    R = 0.05*diagm(ones(model.nu))\n",
    "    Qf = Q\n",
    "\n",
    "    # initial and goal states\n",
    "    xic = vec(vcat(copy(data.qpos), copy(data.qvel)))\n",
    " \n",
    "    println(\"Initial state: \", xic)\n",
    "\n",
    "    # xg = vec(vcat(copy(data.qpos), copy(data.qvel)))\n",
    "    xg = vec(vcat(copy(data.qpos), copy(data.qvel)))\n",
    "    xg[2] = 0.1\n",
    "    xg[5] = deg2rad(5)\n",
    "    xg[21] = deg2rad(15)\n",
    "\n",
    "    println(\"Goal state: \", xg)\n",
    "\n",
    "    # indexing \n",
    "    idx = create_idx(model.nq + model.nv, model.nu, N)\n",
    "    idx = create_idx(nx, nu, N)\n",
    "    params = (Q = Q, R = R, Qf = Qf, xic = xic, xg = xg, dt = dt, N = N, idx = idx, model=model, data=data)\n",
    "\n",
    "\n",
    "    # primal bounds\n",
    "    # x_l = vcat(model.jnt_range[:,1], -Inf*ones(model.nv), model.actuator_ctrlrange[:,1]) # combine joint pos, vel, and control limits\n",
    "    # x_u = vcat(model.jnt_range[:,2], Inf*ones(model.nv), model.actuator_ctrlrange[:,2])\n",
    "    x_l = -Inf*ones(idx.nz)\n",
    "    x_u = Inf*ones(idx.nz)\n",
    "\n",
    "    # x_l = zeros(idx.nz)\n",
    "    # x_u = zeros(idx.nz)\n",
    "    # for i = 1:N\n",
    "    #     # x_l[idx.x[i]] = vcat(model.jnt_range[:,1], -Inf*ones(model.nv))\n",
    "    #     # x_u[idx.x[i]] = vcat(model.jnt_range[:,2], Inf*ones(model.nv))\n",
    "    #     x_l[idx.x[i]] = vcat(model.jnt_range[:,1], -deg2rad(10)*ones(model.nv))\n",
    "    #     x_u[idx.x[i]] = vcat(model.jnt_range[:,2], deg2rad(10)*ones(model.nv))\n",
    "\n",
    "\n",
    "\n",
    "    #     if i < N\n",
    "    #         x_l[idx.u[i]] = model.actuator_ctrlrange[:,1]\n",
    "    #         x_u[idx.u[i]] = model.actuator_ctrlrange[:,2]\n",
    "    #     end\n",
    "    # end\n",
    "\n",
    "    # inequality constraints\n",
    "    # c_l = -1 * Inf * ones(3*(idx.N-1))\n",
    "    # c_u = Inf * ones(3*(idx.N-1))\n",
    "    c_l = zeros(0)\n",
    "    c_u = zeros(0)\n",
    "\n",
    "    # initial guess \n",
    "    z0 = 0.001*randn(idx.nz)\n",
    "    # z0[idx.x[1]] = xic\n",
    "    # z0 = zeros(idx.nz)\n",
    "\n",
    "\n",
    "    # diff type\n",
    "    # diff_type = :auto \n",
    "    diff_type = :finite\n",
    "    \n",
    "    \n",
    "    Z = fmincon(robohand_temporal_pose_cost, robohand_equality_constraints, robohand_inequality_constraints,\n",
    "                x_l,x_u,c_l,c_u,z0,params, diff_type;\n",
    "                tol = 1e-6, c_tol = 1e-4, max_iters = 20, verbose = verbose)\n",
    "    \n",
    "    # pull the X and U solutions out of Z \n",
    "    X = [Z[idx.x[i]] for i = 1:N]\n",
    "    U = [Z[idx.u[i]] for i = 1:(N-1)]\n",
    "    return X, U, t_vec, params\n",
    "    # return\n",
    "end"
   ]
  },
  {
   "cell_type": "code",
   "execution_count": 32,
   "metadata": {},
   "outputs": [
    {
     "name": "stdout",
     "output_type": "stream",
     "text": [
      "Initial state: [0.0, 0.0, 0.0, 0.0, 0.0, 0.0, 0.0, 0.0, 0.0, 0.0, 0.0, 0.0, 0.0, 0.0, 0.0, 0.0, 0.0, 0.0, 0.0, 0.0, 0.0, 0.0, 0.0, 0.0, 0.0, 0.0, 0.0, 0.0, 0.0, 0.0, 0.0, 0.0, 0.0, 0.0, 0.0, 0.0, 0.0, 0.0, 0.0, 0.0, 0.0, 0.0, 0.0, 0.0, 0.0, 0.0, 0.0, 0.0, 0.0, 0.0, 0.0, 0.0, 0.0, 0.0]\n",
      "Goal state: [0.0, 0.1, 0.0, 0.0, 0.08726646259971647, 0.0, 0.0, 0.0, 0.0, 0.0, 0.0, 0.0, 0.0, 0.0, 0.0, 0.0, 0.0, 0.0, 0.0, 0.0, 0.2617993877991494, 0.0, 0.0, 0.0, 0.0, 0.0, 0.0, 0.0, 0.0, 0.0, 0.0, 0.0, 0.0, 0.0, 0.0, 0.0, 0.0, 0.0, 0.0, 0.0, 0.0, 0.0, 0.0, 0.0, 0.0, 0.0, 0.0, 0.0, 0.0, 0.0, 0.0, 0.0, 0.0, 0.0]\n",
      "---------checking dimensions of everything----------\n",
      "---------all dimensions good------------------------\n",
      "---------diff type set to :finite (FiniteDiff.jl)---\n",
      "---------testing objective gradient-----------------\n",
      "---------testing constraint Jacobian----------------\n",
      "---------successfully compiled both derivatives-----\n",
      "---------IPOPT beginning solve----------------------\n",
      "This is Ipopt version 3.14.14, running with linear solver MUMPS 5.6.2.\n",
      "\n",
      "Number of nonzeros in equality constraint Jacobian...: 10751616\n",
      "Number of nonzeros in inequality constraint Jacobian.:        0\n",
      "Number of nonzeros in Lagrangian Hessian.............:        0\n",
      "\n",
      "Total number of variables............................:     3904\n",
      "                     variables with only lower bounds:        0\n",
      "                variables with lower and upper bounds:        0\n",
      "                     variables with only upper bounds:        0\n",
      "Total number of equality constraints.................:     2754\n",
      "Total number of inequality constraints...............:        0\n",
      "        inequality constraints with only lower bounds:        0\n",
      "   inequality constraints with lower and upper bounds:        0\n",
      "        inequality constraints with only upper bounds:        0\n",
      "\n",
      "iter    objective    inf_pr   inf_du lg(mu)  ||d||  lg(rg) alpha_du alpha_pr  ls\n",
      "   0  2.3566065e+02 8.25e-03 3.40e+00   0.0 0.00e+00    -  0.00e+00 0.00e+00   0\n",
      "   1  2.1610782e+02 3.50e+00 1.08e+02 -11.0 3.40e+00    -  1.00e+00 5.00e-01f  2\n",
      "   2  1.3501308e+02 6.20e-01 5.08e+01 -11.0 1.50e+00    -  1.00e+00 1.00e+00f  1\n",
      "   3  9.8856297e+01 5.31e+00 2.51e+03 -11.0 2.34e+00    -  1.00e+00 1.00e+00f  1\n",
      "   4  1.2413273e+02 2.96e+00 4.62e+04 -11.0 3.53e+00    -  1.00e+00 1.00e+00h  1\n",
      "   5  8.2734526e+01 4.64e+00 2.83e+04 -11.0 1.37e+00    -  1.00e+00 1.00e+00f  1\n",
      "   6  9.1884029e+01 2.92e+00 1.57e+03 -11.0 1.23e+00    -  1.00e+00 1.00e+00h  1\n",
      "   7  8.2378531e+01 4.16e+00 3.09e+03 -11.0 1.85e+00    -  1.00e+00 1.00e+00f  1\n",
      "   8  9.7201147e+01 2.08e+00 1.42e+03 -11.0 2.52e+00    -  1.00e+00 5.00e-01h  2\n",
      "   9  7.8583650e+01 3.41e+00 5.22e+03 -11.0 1.93e+00    -  1.00e+00 1.00e+00f  1\n",
      "iter    objective    inf_pr   inf_du lg(mu)  ||d||  lg(rg) alpha_du alpha_pr  ls\n",
      "  10  7.7986761e+01 3.17e+00 3.54e+02 -11.0 1.47e+00    -  1.00e+00 1.00e+00f  1\n",
      "  11  7.4569513e+01 2.80e+00 1.77e+02 -11.0 1.63e+00    -  1.00e+00 5.00e-01f  2\n",
      "  12  7.2820007e+01 1.99e+00 1.54e+01 -11.0 8.11e-01    -  1.00e+00 1.00e+00f  1\n",
      "  13  7.1288890e+01 1.75e+00 5.07e+05 -11.0 4.80e-01    -  1.00e+00 1.00e+00f  1\n",
      "  14  7.0174193e+01 1.83e+00 1.04e+05 -11.0 6.85e-01    -  1.00e+00 1.00e+00h  1\n",
      "  15  6.9211594e+01 1.03e+00 6.82e+03 -11.0 1.00e+00    -  1.00e+00 1.00e+00h  1\n",
      "  16  6.8784362e+01 1.53e+00 2.12e+04 -11.0 1.06e+00    -  1.00e+00 5.00e-01h  2\n",
      "  17  6.8258107e+01 7.67e-01 5.42e+04 -11.0 7.20e-01    -  1.00e+00 5.00e-01h  2\n",
      "  18  6.8034136e+01 5.83e-01 8.06e+03 -11.0 3.31e-01    -  1.00e+00 1.00e+00h  1\n",
      "  19  6.7437102e+01 1.35e+00 4.03e+04 -11.0 3.43e-01    -  1.00e+00 1.00e+00h  1\n",
      "iter    objective    inf_pr   inf_du lg(mu)  ||d||  lg(rg) alpha_du alpha_pr  ls\n",
      "  20  6.6962614e+01 4.29e-01 1.73e+03 -11.0 4.01e-01    -  1.00e+00 1.00e+00h  1\n",
      "\n",
      "Number of Iterations....: 20\n",
      "\n",
      "                                   (scaled)                 (unscaled)\n",
      "Objective...............:   6.6962613854886712e+01    6.6962613854886712e+01\n",
      "Dual infeasibility......:   1.7273622554774565e+03    1.7273622554774565e+03\n",
      "Constraint violation....:   4.2921667829001636e-01    4.2921667829001636e-01\n",
      "Variable bound violation:   0.0000000000000000e+00    0.0000000000000000e+00\n",
      "Complementarity.........:   0.0000000000000000e+00    0.0000000000000000e+00\n",
      "Overall NLP error.......:   1.7273622554774565e+03    1.7273622554774565e+03\n",
      "\n",
      "\n",
      "Number of objective function evaluations             = 31\n",
      "Number of objective gradient evaluations             = 21\n",
      "Number of equality constraint evaluations            = 31\n",
      "Number of inequality constraint evaluations          = 0\n",
      "Number of equality constraint Jacobian evaluations   = 21\n",
      "Number of inequality constraint Jacobian evaluations = 0\n",
      "Number of Lagrangian Hessian evaluations             = 0\n",
      "Total seconds in IPOPT                               = 1268.487\n",
      "\n",
      "EXIT: Maximum Number of Iterations Exceeded.\n"
     ]
    },
    {
     "data": {
      "text/plain": [
       "([[1.00153688507237e-25, 0.0, 0.0, 2.9856913775100587e-25, -6.616332869822483e-27, 0.0, 0.0, 0.0, 0.0, 0.0  …  0.0, 0.0, 0.0, 0.0, 0.0, 0.0, 0.0, 0.0, 0.0, 0.0], [0.004022962284709668, -0.023498479197531303, 0.002845485907036611, 0.012335410265122708, 0.00093397349101327, -0.0053250826399897176, -4.3331099771656596e-5, 0.05703795810304273, 0.057710688624485446, 0.0005245599249028443  …  -0.006673303107253863, 0.0038646996924245106, -0.0021784435410864764, -0.0016126901879245695, 6.873020772451457e-5, 0.00011440681998755771, 0.007941307591418447, 0.03427701110395154, -0.0023525920999202888, -0.0005064539777433426], [0.011243216988129606, -0.06371472520475786, 0.00752215817865133, 0.02056302289594472, 0.0019323449923430336, -0.009157689410379078, -0.0012193179601305728, 0.10837299217271497, 0.10935889565480866, -0.0007297700624769621  …  -0.0055281474480946245, 0.0018880406605732442, -0.001856768654541173, -0.00020779717983374508, 0.0013992357103230475, 6.69084526320977e-5, -0.0035662169867121682, 0.007630674162592924, -0.0012350853671706321, -0.00012861241782179909], [0.020313596339682993, -0.11345730383929593, 0.013249536648398355, 0.026048033410279774, 0.0031587141668048472, -0.01275787589467808, -0.0007437032606640735, 0.15424039408029286, 0.1554123427936673, -0.0006034887379256677  …  0.006746368693594554, 0.00207406217520421, -0.0010727346701987599, -0.00029975403440912274, 0.0007251964208484091, 6.400892074752677e-5, -0.002945010818926659, -0.0008014892002616717, -0.0009368543844403544, -4.953013285865013e-5], [0.030204425203692147, -0.16799419654752185, 0.019429103592743666, 0.028317651583408984, 0.004874419635616225, -0.01615049080235199, -0.00046988715291146246, 0.19474425115673996, 0.19598475651436026, -0.00069554453754505  …  -0.004117824645988411, 0.002124251327571853, 0.006074681692589465, 1.354771398774982e-5, 0.0007072414786053638, 6.807017315333484e-5, -0.00044866172897104904, -0.001974782699473288, 8.002945610850135e-5, -7.763974557601126e-5], [0.04013249957449978, -0.22343609093898723, 0.025623215933922975, 0.02883664964092686, 0.007951664601754095, -0.019293916133086512, -0.0002903971496693617, 0.23088907601815167, 0.23263760760705166, -0.0011613578825850042  …  -0.002485233639550083, 0.003060163001900241, 0.0010254454286186465, -0.0003424294583611674, -0.00019704315548767768, 0.00010504652081919545, 0.0027793547960403638, -0.0035088768975108844, -0.0016264393527124646, -0.0001153081589162885], [0.04954971163830882, -0.2771350523343969, 0.031518634960038955, 0.029248817380044825, 0.011438870683574598, -0.021812394365821587, -0.00023472852338912394, 0.26235461588960846, 0.2640616447438429, -0.001227009876104326  …  -0.009328445839446633, 0.00015365911094606527, 0.008067072395526374, 0.0011204792419568332, 0.0007305874762681643, 0.00013527454209262974, 0.004339869125721045, -0.002958766489757499, -0.001673261981110291, -0.00028918448134082424], [0.058070355788879806, -0.32740712316240017, 0.03689014038466083, 0.027067144945077806, 0.014556814824057105, -0.02471778078402574, 0.0001897091375317443, 0.2888062132804073, 0.29040472768895004, -0.0019707724928506912  …  -0.004040411961471832, 0.00737252022817295, 0.0024865792599445347, 0.0006804174920943119, 0.00043853746859214807, 0.00010413167543265827, 0.0035992904948216027, -0.003376251878764499, 0.0024802847485503473, 8.145265692093722e-5], [0.06539495560749671, -0.37347638658548027, 0.041600076893357825, 0.024726589176171748, 0.017887959978269925, -0.02596775602320878, -0.0001152354628704453, 0.31476063971751256, 0.3162462707526205, -0.0013205486426839958  …  0.0232167542375683, -0.006283165700991378, -0.019271968520791, -0.0009650873101043551, -0.0010271610232551547, 5.1436896015608254e-5, 0.0014356727902234048, -0.0007569978199820581, 0.002245941664166204, 0.0006201211956059365], [0.07161713033902643, -0.4135840587087791, 0.04554558289019582, 0.020395342536765008, 0.020494732683792618, -0.02716121292689244, -0.00016621874470307578, 0.3348469025745159, 0.3361990171069994, -0.0009346144387833965  …  -0.004872118187920294, -0.003972196085416756, 0.007135896113683633, 0.0012067524050412561, 0.0006612501784218594, 0.0001759592664613566, 0.0028706063782122475, -0.0005784692972670286, -0.0002692989316441293, -0.0002591643349846665]  …  [0.009367454660025615, 0.317567961542578, 0.008421555775210848, 0.0017297617933655727, 0.23747644296696435, -0.004435479384930021, -0.00012292857474077937, 0.061675009428666897, 0.06434392361188368, 0.00044666426387820113  …  -0.0034441926533333275, -0.0005277688294110538, -0.0006011038501974857, -0.0010506895957235415, 0.0008203139115149533, 8.572594680533128e-6, -0.0028914365635591584, -0.000687906012115529, 0.0004693137022042434, 2.277438235494787e-6], [0.009527880123451304, 0.3143927737708316, 0.008705892337125572, 0.0019365536641564687, 0.24067839447823042, -0.004106911423508031, 9.703015925680299e-5, 0.057671128194413765, 0.06031476289147721, 0.0004529094145239674  …  0.002650163082612629, 0.000758794605194586, 0.0008551142227075283, -0.0002565487572543919, 0.0002000810691918144, -1.4327678935389937e-5, 0.003243826945760373, 0.0003894761847750831, 0.0011962243140492212, -0.00016741109105945665], [0.009708147486150667, 0.3111347985059823, 0.009038278839518233, 0.0021638284454058633, 0.24329827143432142, -0.004021437504763005, 2.8267371421344018e-5, 0.05419463598829079, 0.0568745324264165, 0.00026374221242885247  …  -0.0005185197032913722, 0.002712291213820271, -0.0005081568769405806, -0.000613504479269264, 0.0002235997995168001, 3.034153314388291e-5, -6.92716607188803e-5, -0.00031617587095560313, -0.000615101021717785, 0.00041074498962356267], [0.009886594687843715, 0.3078434357354635, 0.00932513443579218, 0.0011848407358594072, 0.24552661414563998, -0.003713044596772889, -2.4361294115569362e-5, 0.05126537612178541, 0.054005307491644686, 0.00034476826282098515  …  -0.00035468282169410386, -0.002269392936369496, -0.0005282613958404502, -0.0006267879307036927, 0.00026584339624663813, 9.739301240263348e-8, -0.0001941100580342104, -0.0002868554872344191, 0.00023667488340711914, -0.0003728662205903598], [0.010058273699638673, 0.30482143683422264, 0.009538109273378564, 0.00036202813024259744, 0.24671495617189793, -0.003581539311166559, -5.3094758078582605e-5, 0.04884945786850666, 0.05173486170446424, 0.0002141008483534781  …  -0.00036730282170669717, -0.0014385938104019707, 0.00015691226910882674, -0.0005766398497925103, 0.0006463194786425841, 1.1214032919563835e-5, -0.0001687545707296913, -3.479182256164857e-6, -0.0017947001107045694, 0.00014390813568337815], [0.010203703962061252, 0.3020196891360163, 0.009766945742638044, -0.00033537536537077764, 0.2475898518466689, -0.0034994678973115437, -1.5868660405722788e-6, 0.04693281838492491, 0.049958646698050134, 0.00038051883766230794  …  0.0002128399153722066, 0.00048337485138778895, 2.476743768413865e-5, -0.0005374933090630675, 0.0006411299232415594, 4.147349474937581e-6, 0.0002399958436636052, -2.7227824280190926e-5, -0.00035433724335364033, 6.328711426453481e-5], [0.010314626922306093, 0.2996282807700889, 0.009932623179712817, -0.0008274930920177084, 0.2484330109954341, -0.003437767967137057, 1.5587183593656498e-5, 0.0454945459510906, 0.048640369863606446, 0.0001425700069014294  …  1.1967680523965632e-5, 0.0005748677088865625, 4.9960915215068976e-5, -0.0006164174325171191, 0.0004143933674084525, 1.2677180472102446e-5, 0.0002584267664309975, -2.5236398418826265e-5, -0.0004472463365810921, -7.87379464680953e-6], [0.010394491980242565, 0.29759335040966367, 0.010102341763100797, -0.0013510917712803525, 0.24907714221756144, -0.0032958219058653745, 1.609586063944666e-6, 0.04453591229414601, 0.047801983284371616, 0.0002541553299498631  …  0.00013557619719308255, -0.0006081479497859741, -0.00010629356035053536, -0.0005581601788627866, 0.0004220841359025652, 3.651769251604583e-5, -0.0003326669730547931, -4.6257904719120354e-5, 0.00033647055650857675, 6.260086802140926e-5], [0.010447529521304438, 0.2958410609696696, 0.010138327591306659, -0.001748183636789245, 0.24948487884227077, -0.003274382233778904, -1.3067340341468917e-6, 0.044031282609722916, 0.047419388542256684, 0.0002589441830349598  …  1.8471483784118397e-5, 0.0002364933077313975, -6.776801169677466e-5, -0.0004536738469658474, 0.000504649589824376, 1.0882044512445672e-5, -5.845679770636105e-5, 4.160443323440864e-5, 3.847141310509266e-7, 6.432887208637241e-6], [0.010477859902218205, 0.2943381414749882, 0.010187297791767648, -0.0032153450335897426, 0.24953195334221742, -0.003385734724234004, -0.0002666761869977544, 0.043529883038232464, 0.04705030501851806, 0.0002597235510368462  …  -0.0013933680399330394, -0.0006167464482810021, -0.0010610113356122391, -0.00014549613800449672, 0.0008141805631607622, 0.0005775779326299019, -0.0005677501340202146, 0.000519040658870841, 5.931708898949874e-5, 0.0006780928942909203]], [[1.7487681925879932, -9.634548210260743, 1.226153639961037, -0.1035688820331627, 0.017848807144678104, -2.6927339585305075e-5, 0.002958946681478756, 0.012263341347055423, 0.011702761383814762, 0.0023666442751225526  …  0.016038321031412194, 0.011135826231955095, -0.00023394305853542176, -0.015569089037265286, 0.006816750248844414, 0.013491688497773493, 0.004838461300527224, -0.015590743002113477, 0.00400928859856143, 0.00031920900280036626], [1.583076406465649, -8.397013120562688, 0.9392576504578394, -0.08955959319783091, 0.031128114728104627, -1.712716712869096e-5, -0.006453474549770309, -0.010193326894913927, -0.0007837020529701849, -1.0623618840616294e-5  …  -0.005898486470381881, -0.004153464977121737, 0.0008295607191017271, 0.0026661470346358374, -0.001846192898338395, 0.016480342817354804, -0.0040384509879504305, 0.0025565362485743177, 2.4221187857055945e-5, 0.0007168640805676225], [1.1675053586228068, -6.134128381850812, 0.6959277391130948, -0.050383491843704956, 0.012246161592114176, -8.156620859186878e-6, 0.004790530999511101, -0.0036942118783895466, -0.000780543939314019, -8.973767921629117e-5  …  0.012871517032415614, 0.0036460502588363947, -2.3975581981465054e-5, 0.0025905550171074565, 0.006834093929759498, 0.0013110459904766315, 0.006512085085974277, 0.002519194770394995, -0.0010976632132531812, -0.0003044263236960398], [0.8177955727520376, -4.581750455251035, 0.49224838310096697, -0.04124628211243193, 0.023159376948195927, 2.6463823948088462e-5, -0.0011542859726958025, -0.0011384385572130885, -0.0015581343902611165, -0.0004053937644230346  …  -0.007181010266246978, -0.0011355215699254393, -0.00043247482323468086, 0.006260406183929085, 0.000863346524878787, 0.004240036381684866, -0.008682360919638156, 0.006048660559073091, 0.004530969151499531, -3.3609736334043634e-6], [0.5273489357853836, -3.1394361046258035, 0.3261044382481677, -0.016728915050018316, 0.026370602429658465, 8.8838599501297e-5, -0.005650227398126311, -0.0019702565182421706, -0.0021663432720118916, -0.0002259839251220334  …  -0.00990530582587329, -0.007938408576926136, -0.00045945053984503855, 0.009815607173134816, -0.00585582801112834, 0.006282639746888323, -0.004511194285123499, 0.009821022643926043, -0.005123725797918092, -0.0004717052813650944], [0.28867952258363583, -2.034954567802045, 0.1913342222802654, 0.009957949756344944, 0.024897682104045568, 5.482001093941451e-5, -0.0016490125280626887, -0.000446716609855736, -0.00021874803692789374, -0.00012233435401081335  …  0.001170621107264797, -0.0032729712858403292, 0.0003492816255888336, -0.0007989836356771312, -0.001559857732015751, 0.007626816710834594, -0.007761719886244563, -0.0008080420134459901, 0.0035625689254181804, 0.0003608016635827598], [0.09337768298095805, -1.2435215259959507, 0.08161827653525999, 0.003968276869688679, 0.017008773377673352, -2.497140031711932e-5, 0.00029892158779571743, -0.0003728309159868688, -0.0009070534785870168, -0.0005036542420687654  …  -0.012363200857836074, -0.0012815677867046935, -0.0005542433572244946, 0.01241116849139353, -0.0005796976430857286, 0.009001708332997599, 0.003257510565698491, 0.01202300608390906, -0.003171244613461542, -7.365100790563469e-5], [-0.07519083969513475, -0.7216838078429143, -0.005517369277339514, 0.03195439968368804, 0.0006248201641442363, -1.7706983302116403e-5, -0.0022090114906023074, 0.001289166132654069, 1.966624526840888e-5, 0.0002660760285575813  …  0.0062014882882650835, 0.00546343369212069, -0.0009916942359688087, -0.00619280667624614, 0.01160023875136899, 0.007145683616299557, 0.018087082249496636, -0.0061450390755318175, -0.01570055201494416, -0.0006499046981330275], [-0.1022364100084844, 0.23080913858369975, -0.08131321992916916, 0.014311340760982172, 0.002681236340558186, 2.197471072538805e-5, 0.0014866421022978749, -4.6212107866653446e-5, -0.003707974072980545, -0.0008739186465853523  …  -0.011343595545886678, -0.0010133612654988798, 0.0015210879817053348, 0.011342312136342101, 0.0016308822611049627, 0.010514885583933618, -0.010898923099488042, 0.011343522114871704, 0.010072460492989661, 0.0006488526983146985], [-0.21838536861392346, 0.5419801008815429, -0.1478130792801131, 0.026557064602430548, 0.026570091620339808, 4.96316516791287e-5, -0.008656351178478619, -0.0010688793783456734, -0.0014389322508858377, -0.00010792329153493495  …  0.008592159074323778, -0.011092443384591451, -0.0009519861800954245, -0.008638405208051815, -0.009459978639782651, 0.00993016076120694, -0.008249096447960718, -0.00873842501890254, -0.004803888766505604, -0.0007255065406957114]  …  [0.005387436246377559, -0.2931137929247301, 0.02661060880991592, 0.009306698567975826, 0.002826294292980785, -1.4514635703189064e-6, -0.0022261424191696816, -0.00031089806961429837, 0.0011819839694903155, 0.0001738704527321852  …  0.003161750216191837, -0.00037439772498257923, -0.0005058362894610419, -0.004832858061702231, 0.0006810152384646444, 0.0006957295511668325, -0.0007705838775758709, -0.0026150693691837324, 0.00019356780715904139, -7.603992000763452e-5], [0.016779733806329886, -0.23923012530420934, 0.04468365227993896, -0.011100660697311361, 0.027365355743034184, 7.516373130424838e-5, -0.002605783366450308, -0.0008208212230609325, 0.00031701823947450345, -0.0001264992509347623  …  -0.0014110577277895342, -0.005107734608371031, -0.0013464575768728487, 0.0023418274952834253, -0.003113113078468676, -0.00011077134297835786, -0.004033046401559714, 0.0012717115945270244, -0.003258320361916766, -0.0004488231769219855], [0.022982678842922554, -0.2038480499512266, 0.045850761999405694, -0.009462496270572544, 0.002679903006840235, 4.6152319414204553e-7, -0.000399270233100868, 0.0001741211837910235, -0.0010011071862689994, 0.0003100748032842543  …  -0.001277796128965766, 0.0004646484035780116, 0.0005457677078137567, 0.010170313613374882, 0.0013630010878155495, 8.910899560882757e-5, 0.0005362463231567342, 0.0013389465908960356, 0.0006394435592531034, 9.812621930524709e-5], [0.016210620474444503, -0.1970942269645557, 0.008304612603580747, -0.016566522028569886, 0.0020171119835168576, -2.726580491793858e-5, 0.0010820013469486321, 0.0002315335905222751, -0.0004424026965883078, -0.0005639746129478937  …  -0.0013681947542983266, 0.0018234276244119272, -0.0005203147394724142, -0.001592380458894896, 0.002061149823070088, -0.0004437976589198871, 0.0013339676379770771, 0.0001236014738164257, 0.0005425321975374603, 6.246900572983731e-5], [0.010691770397514387, -0.05745523195728616, -0.005986226119148828, -0.006531207036295915, -0.00464285638665071, -4.763053412807178e-5, 0.002344722252741358, 0.0006049842743908966, -0.001114319225210051, 0.0002814559511387792  …  -0.0009319552929811604, 0.004376365396441324, 0.0008022753001173992, 0.0015999734157059618, 0.003902206947155399, 0.004126382459284348, 0.0038959838193916444, 0.00017690877093889208, 0.002146380967320696, 0.0002792135928927352], [0.005660896440142392, -0.06558430782745292, 0.008009980930821345, -0.011653995948091661, -0.006011549287691929, -1.877832183236192e-5, 0.0008218758072665777, 6.990409898298197e-5, 0.0006973748784001441, -5.310430904074533e-5  …  0.0016689787789513156, 0.0015580285632330122, 0.00024126372397770203, -0.00040940354511355556, 0.0047048417132336574, -0.008848197945404814, 0.0014345229251828012, 0.0005663146661122739, 0.0003505662843002687, 5.8494358693568675e-5], [0.0022560603960495055, 0.027874508732937175, -0.00565531681282136, 4.375634500327074e-5, 0.006851458490360758, 4.231900695294668e-6, 1.1946208959107149e-5, -6.646791462289455e-6, -2.1397256170215125e-5, -2.2790392582628207e-5  …  -0.001734570263663947, 2.450071519925583e-5, -0.0005614020746531456, 0.0007761293532506626, -0.0015869105581437656, 0.01117251208027896, -7.067041491834786e-5, -4.8892591614813175e-5, 5.898353986727746e-5, -7.192274449537004e-5], [0.0011393157935839684, 0.023063984111473236, 0.0003879593501720573, -0.003536052341242226, -0.0027736503201997767, 4.288005453898052e-6, 0.00026688669336817346, 0.00012255493260316492, 0.0003738263148274552, 1.5766874750296217e-5  …  0.0015860481175820475, 0.0004809303675067985, 0.00031554372303314025, -0.0010457984333243514, 0.0009547813977018355, -0.00905160705491516, 0.0007704064048539143, -0.000589127457542857, 0.00019957706840933466, 4.4713346903304406e-5], [0.001258319134927789, 0.010711689303983455, 0.0008156500882422402, -0.0012185204837712612, -0.006484623772414482, -2.2171665693384522e-5, 0.0005933596959933307, 0.00011526437039170086, -0.00013716981477675597, -1.6026028150524364e-5  …  -0.0003732778627541873, 0.0010096940209389975, -1.5294775692926158e-5, 0.000317339453917013, 0.000859609162807989, -0.004201213421841471, 0.0007978309190404979, 0.0003107556521228685, 0.00041002094790880297, 8.659427626790264e-5], [0.00041998747326598334, 0.0011493012836773068, -0.0005823000333648235, -0.01658281249444919, -0.0004708992848749541, 0.0003024114065022119, -1.0945507309080945e-5, 0.0003642298693595985, -0.0009547066109721348, 0.00016314669839299396  …  -0.0030541718085084907, -0.001098298831182411, -0.0008086418493024013, 0.002656604337787342, -0.003435417749921372, -0.013687607702215087, -0.000738040833267589, 0.0024472679891371953, -0.00036134245044758723, 0.00021505645324648647]], 0.0:0.1:5.0, (Q = [50.0 0.0 … 0.0 0.0; 0.0 50.0 … 0.0 0.0; … ; 0.0 0.0 … 1.0 0.0; 0.0 0.0 … 0.0 1.0], R = [0.05 0.0 … 0.0 0.0; 0.0 0.05 … 0.0 0.0; … ; 0.0 0.0 … 0.05 0.0; 0.0 0.0 … 0.0 0.05], Qf = [50.0 0.0 … 0.0 0.0; 0.0 50.0 … 0.0 0.0; … ; 0.0 0.0 … 1.0 0.0; 0.0 0.0 … 0.0 1.0], xic = [0.0, 0.0, 0.0, 0.0, 0.0, 0.0, 0.0, 0.0, 0.0, 0.0  …  0.0, 0.0, 0.0, 0.0, 0.0, 0.0, 0.0, 0.0, 0.0, 0.0], xg = [0.0, 0.1, 0.0, 0.0, 0.08726646259971647, 0.0, 0.0, 0.0, 0.0, 0.0  …  0.0, 0.0, 0.0, 0.0, 0.0, 0.0, 0.0, 0.0, 0.0, 0.0], dt = 0.1, N = 51, idx = (nx = 54, nu = 23, N = 51, nz = 3904, nc = 2700, x = UnitRange{Int64}[1:54, 78:131, 155:208, 232:285, 309:362, 386:439, 463:516, 540:593, 617:670, 694:747  …  3158:3211, 3235:3288, 3312:3365, 3389:3442, 3466:3519, 3543:3596, 3620:3673, 3697:3750, 3774:3827, 3851:3904], u = UnitRange{Int64}[55:77, 132:154, 209:231, 286:308, 363:385, 440:462, 517:539, 594:616, 671:693, 748:770  …  3135:3157, 3212:3234, 3289:3311, 3366:3388, 3443:3465, 3520:3542, 3597:3619, 3674:3696, 3751:3773, 3828:3850], c = UnitRange{Int64}[1:54, 55:108, 109:162, 163:216, 217:270, 271:324, 325:378, 379:432, 433:486, 487:540  …  2161:2214, 2215:2268, 2269:2322, 2323:2376, 2377:2430, 2431:2484, 2485:2538, 2539:2592, 2593:2646, 2647:2700]), model = MuJoCo Model, data = MuJoCo Data))"
      ]
     },
     "metadata": {},
     "output_type": "display_data"
    }
   ],
   "source": [
    "X, U, t_vec, params = solve_hand_ddp(verbose=true)"
   ]
  },
  {
   "cell_type": "code",
   "execution_count": 41,
   "metadata": {},
   "outputs": [],
   "source": [
    "using JLD2\n",
    "# save_object(\"data/traj_01x.jld2\", X)\n",
    "# jldsave\n",
    "jldsave(\"data/traj_01.jld2\"; X, U, t_vec, params)"
   ]
  },
  {
   "cell_type": "code",
   "execution_count": 50,
   "metadata": {},
   "outputs": [
    {
     "data": {
      "text/plain": [
       "(Q = [50.0 0.0 … 0.0 0.0; 0.0 50.0 … 0.0 0.0; … ; 0.0 0.0 … 1.0 0.0; 0.0 0.0 … 0.0 1.0], R = [0.05 0.0 … 0.0 0.0; 0.0 0.05 … 0.0 0.0; … ; 0.0 0.0 … 0.05 0.0; 0.0 0.0 … 0.0 0.05], Qf = [50.0 0.0 … 0.0 0.0; 0.0 50.0 … 0.0 0.0; … ; 0.0 0.0 … 1.0 0.0; 0.0 0.0 … 0.0 1.0], xic = [0.0, 0.0, 0.0, 0.0, 0.0, 0.0, 0.0, 0.0, 0.0, 0.0  …  0.0, 0.0, 0.0, 0.0, 0.0, 0.0, 0.0, 0.0, 0.0, 0.0], xg = [0.0, 0.1, 0.0, 0.0, 0.08726646259971647, 0.0, 0.0, 0.0, 0.0, 0.0  …  0.0, 0.0, 0.0, 0.0, 0.0, 0.0, 0.0, 0.0, 0.0, 0.0], dt = 0.1, N = 51, idx = (nx = 54, nu = 23, N = 51, nz = 3904, nc = 2700, x = UnitRange{Int64}[1:54, 78:131, 155:208, 232:285, 309:362, 386:439, 463:516, 540:593, 617:670, 694:747  …  3158:3211, 3235:3288, 3312:3365, 3389:3442, 3466:3519, 3543:3596, 3620:3673, 3697:3750, 3774:3827, 3851:3904], u = UnitRange{Int64}[55:77, 132:154, 209:231, 286:308, 363:385, 440:462, 517:539, 594:616, 671:693, 748:770  …  3135:3157, 3212:3234, 3289:3311, 3366:3388, 3443:3465, 3520:3542, 3597:3619, 3674:3696, 3751:3773, 3828:3850], c = UnitRange{Int64}[1:54, 55:108, 109:162, 163:216, 217:270, 271:324, 325:378, 379:432, 433:486, 487:540  …  2161:2214, 2215:2268, 2269:2322, 2323:2376, 2377:2430, 2431:2484, 2485:2538, 2539:2592, 2593:2646, 2647:2700]), model = MuJoCo Model, data = MuJoCo Data)"
      ]
     },
     "metadata": {},
     "output_type": "display_data"
    }
   ],
   "source": [
    "f = jldopen(\"data/traj_01.jld2\")\n",
    "f[\"params\"]\n",
    "\n"
   ]
  },
  {
   "cell_type": "code",
   "execution_count": 33,
   "metadata": {},
   "outputs": [
    {
     "name": "stdout",
     "output_type": "stream",
     "text": [
      " __  __            _        _____       _ _ \n",
      "|  \\/  |          | |      / ____|     (_) |\n",
      "| \\  / |_   _     | | ___ | |     ___   _| |\n",
      "| |\\/| | | | |_   | |/ _ \\| |    / _ \\ | | |\n",
      "| |  | | |_| | |__| | (_) | |___| (_) || | |\n",
      "|_|  |_|\\__,_|\\____/ \\___/ \\_____\\___(_) |_|\n",
      "                                      _/ |  \n",
      "                                     |__/   \n",
      "\n",
      "Press \"F1\" to show the help message.\n"
     ]
    }
   ],
   "source": [
    "# instantiate model and data\n",
    "model = load_model(\"models/scene_right_piano_hand.xml\")\n",
    "data = init_data(model)\n",
    "\n",
    "# reset the model and data\n",
    "reset!(model, data)\n",
    "nx = model.nq + model.nv + model.na # State vector dimension\n",
    "N = length(t_vec)\n",
    "states = zeros(nx, N)\n",
    "ctrl_states = zeros(model.nu, N)\n",
    "\n",
    "states[:,1] = get_physics_state(model, data)\n",
    "\n",
    "\n",
    "for t in 1:N\n",
    "    reset!(model, data)\n",
    "    data.qpos .= X[t][1:model.nq]\n",
    "    data.qvel .= X[t][model.nq+1:model.nq+model.nv]\n",
    "    states[:,t] = get_physics_state(model, data)\n",
    "end\n",
    "\n",
    "visualise!(model, data, trajectories = states)"
   ]
  },
  {
   "cell_type": "code",
   "execution_count": 28,
   "metadata": {},
   "outputs": [
    {
     "data": {
      "text/plain": [
       "7"
      ]
     },
     "metadata": {},
     "output_type": "display_data"
    }
   ],
   "source": [
    "mj_name2id(model, 1, \"rh_ffdistal\")"
   ]
  },
  {
   "cell_type": "markdown",
   "metadata": {},
   "source": [
    "### MuJoCo Integrator Test\n",
    "Compare manually calling wrapped_mj_step versus the actual simulator trajectories on the different MuJoCo integrators"
   ]
  },
  {
   "cell_type": "code",
   "execution_count": 29,
   "metadata": {},
   "outputs": [],
   "source": [
    "# # instantiate model and data\n",
    "# model = load_model(\"models/scene_right_piano_hand.xml\")\n",
    "# data = init_data(model)\n",
    "\n",
    "# # reset the model and data\n",
    "# reset!(model, data)\n",
    "\n",
    "# nx = model.nq + model.nv\n",
    "# nu = model.nu\n",
    "\n",
    "# # timesteps\n",
    "# dt = model.opt.timestep\n",
    "# tf = 3.0\n",
    "# t_vec = 0:dt:tf\n",
    "# N = length(t_vec)\n",
    "\n",
    "# # indexing \n",
    "# idx = create_idx(model.nq + model.nv, model.nu, N)\n",
    "# idx = create_idx(nx, nu, N)\n",
    "\n",
    "# # xkp1 = wrapped_mj_step(model, data, z0[idx.x[1]], z0[idx.u[1]])\n",
    "\n",
    "# x_ic = vec(vcat(copy(data.qpos), copy(data.qvel)))\n",
    "# z = zeros(nx, N)\n",
    "# z[:,1] = xic\n",
    "\n",
    "# for k in 1:(N-1)\n",
    "#     # xk = z[idx.x[k]]\n",
    "#     # uk = zeros(nu)\n",
    "#     xk = z[:,k]\n",
    "#     uk = zeros(nu)\n",
    "#     # uk[1] = 0.2\n",
    "#     # uk[10] = 0.2\n",
    "#     # uk[15] = 0.3\n",
    "\n",
    "#     zkp1 = wrapped_mj_step(model, data, xk, uk)\n",
    "#     xkp1 = zkp1[1:nx]\n",
    "\n",
    "#     # z[idx.x[k+1]] = xkp1\n",
    "#     z[:,k+1] = xkp1\n",
    "# end\n",
    "\n",
    "# reset!(model, data)\n",
    "# visualise!(model, data, trajectories=[z])\n"
   ]
  },
  {
   "cell_type": "code",
   "execution_count": 30,
   "metadata": {},
   "outputs": [],
   "source": [
    "# "
   ]
  }
 ],
 "metadata": {
  "kernelspec": {
   "display_name": "Julia 1.10.2",
   "language": "julia",
   "name": "julia-1.10"
  },
  "language_info": {
   "file_extension": ".jl",
   "mimetype": "application/julia",
   "name": "julia",
   "version": "1.10.2"
  }
 },
 "nbformat": 4,
 "nbformat_minor": 2
}
